{
 "cells": [
  {
   "cell_type": "code",
   "execution_count": 45,
   "id": "9ef5d53e",
   "metadata": {},
   "outputs": [],
   "source": [
    "import numpy as np"
   ]
  },
  {
   "cell_type": "code",
   "execution_count": 46,
   "id": "6d1af8ef",
   "metadata": {},
   "outputs": [],
   "source": [
    "limit = 10  # range of integers to be generated\n",
    "tolerance = 1e-06   # teolrance of error"
   ]
  },
  {
   "cell_type": "markdown",
   "id": "7560b5db",
   "metadata": {},
   "source": [
    "# Generate a Random Invertible Matrix of integers\n",
    "In mathematics, a square matrix is said to be diagonally dominant if, for every row of the matrix, the magnitude of the diagonal entry in a row is larger than or equal to the sum of the magnitudes of all the other (non-diagonal) entries in that row. A diagonally dominant matrix is invertible.\n",
    "\n",
    "In the following function, the diagonal entry of each row is replaced by the sum of that row. So that entry is always greater than all ither entries of the row"
   ]
  },
  {
   "cell_type": "code",
   "execution_count": 47,
   "id": "ef4709ec",
   "metadata": {},
   "outputs": [],
   "source": [
    "def generate_invertible_matrix(n):\n",
    "    matrix = np.random.randint(limit, size = (n, n))\n",
    "    row_sums = np.sum(np.abs(matrix), axis = 1)\n",
    "    np.fill_diagonal(matrix, row_sums)\n",
    "    return matrix"
   ]
  },
  {
   "cell_type": "code",
   "execution_count": 48,
   "id": "00b68ba2",
   "metadata": {},
   "outputs": [
    {
     "data": {
      "text/plain": [
       "array([[14,  5,  2],\n",
       "       [ 8, 17,  6],\n",
       "       [ 3,  7, 10]])"
      ]
     },
     "execution_count": 48,
     "metadata": {},
     "output_type": "execute_result"
    }
   ],
   "source": [
    "M = generate_invertible_matrix(3)\n",
    "M"
   ]
  },
  {
   "cell_type": "code",
   "execution_count": 49,
   "id": "51ca9ad4",
   "metadata": {},
   "outputs": [
    {
     "name": "stdout",
     "output_type": "stream",
     "text": [
      "Eigen Values [24.97183527 10.13025946  5.89790527]\n",
      "Eigen Vectors [[-0.43686342 -0.72975377  0.12958187]\n",
      " [-0.77810447  0.3239556  -0.54208572]\n",
      " [-0.45133555  0.60208987  0.83027201]]\n"
     ]
    }
   ],
   "source": [
    "eigen_values, eigen_vectors = np.linalg.eig(M)\n",
    "print(f'Eigen Values {eigen_values}')\n",
    "print(f'Eigen Vectors {eigen_vectors}')"
   ]
  },
  {
   "cell_type": "code",
   "execution_count": 50,
   "id": "8f288cc6",
   "metadata": {},
   "outputs": [],
   "source": [
    "def check_reconstruction(M, eigen_values, eigen_vectors):\n",
    "    lambda_matrix = np.diag(eigen_values)\n",
    "    inv_eigenvector = np.linalg.inv(eigen_vectors)\n",
    "    reconstructed_matrix = np.matmul(lambda_matrix, inv_eigenvector)\n",
    "    reconstructed_matrix = np.matmul(eigen_vectors, reconstructed_matrix)\n",
    "    \n",
    "    print(f'Given Matrix {M}')\n",
    "    print(f'Reconstructed Matrix {reconstructed_matrix}')\n",
    "    print(f'Is Reconstruction Perfect? : {np.allclose(M, reconstructed_matrix, tolerance)}')"
   ]
  },
  {
   "cell_type": "code",
   "execution_count": 51,
   "id": "aa07060a",
   "metadata": {},
   "outputs": [
    {
     "name": "stdout",
     "output_type": "stream",
     "text": [
      "Given Matrix [[14  5  2]\n",
      " [ 8 17  6]\n",
      " [ 3  7 10]]\n",
      "Reconstructed Matrix [[14.  5.  2.]\n",
      " [ 8. 17.  6.]\n",
      " [ 3.  7. 10.]]\n",
      "Is Reconstruction Perfect? : True\n"
     ]
    }
   ],
   "source": [
    "check_reconstruction(M, eigen_values, eigen_vectors)"
   ]
  },
  {
   "cell_type": "code",
   "execution_count": null,
   "id": "bc257344",
   "metadata": {},
   "outputs": [],
   "source": []
  },
  {
   "cell_type": "code",
   "execution_count": null,
   "id": "88b94859",
   "metadata": {},
   "outputs": [],
   "source": []
  },
  {
   "cell_type": "code",
   "execution_count": null,
   "id": "506a4ee9",
   "metadata": {},
   "outputs": [],
   "source": []
  },
  {
   "cell_type": "code",
   "execution_count": null,
   "id": "5d1fe67b",
   "metadata": {},
   "outputs": [],
   "source": []
  },
  {
   "cell_type": "code",
   "execution_count": null,
   "id": "497f6d87",
   "metadata": {},
   "outputs": [],
   "source": []
  }
 ],
 "metadata": {
  "kernelspec": {
   "display_name": "Python 3",
   "language": "python",
   "name": "python3"
  },
  "language_info": {
   "codemirror_mode": {
    "name": "ipython",
    "version": 3
   },
   "file_extension": ".py",
   "mimetype": "text/x-python",
   "name": "python",
   "nbconvert_exporter": "python",
   "pygments_lexer": "ipython3",
   "version": "3.7.4"
  }
 },
 "nbformat": 4,
 "nbformat_minor": 5
}
