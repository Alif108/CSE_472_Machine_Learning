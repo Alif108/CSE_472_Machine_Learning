{
 "cells": [
  {
   "cell_type": "code",
   "execution_count": 1,
   "metadata": {},
   "outputs": [],
   "source": [
    "import numpy as np\n",
    "import matplotlib.pyplot as plt\n",
    "from scipy.stats import multivariate_normal as mvn\n",
    "import os, shutil\n",
    "import glob\n",
    "from PIL import Image"
   ]
  },
  {
   "cell_type": "markdown",
   "metadata": {},
   "source": [
    "# Gaussian density function\n",
    "\n",
    "The Gaussian density function given the distribution's mean $\\mu$ and covariance $\\sigma$ "
   ]
  },
  {
   "cell_type": "code",
   "execution_count": 312,
   "metadata": {},
   "outputs": [],
   "source": [
    "def multivariate_normal_pdf(X, mu, sigma):\n",
    "    \"\"\"\n",
    "    Computes the multivariate normal pdf\n",
    "    \"\"\"\n",
    "    d = X.shape[1]\n",
    "    X_mu = X - mu\n",
    "    inv_sigma = np.linalg.inv(sigma)\n",
    "    det_sigma = np.linalg.det(sigma)\n",
    "    return (np.exp(-0.5 * np.sum(np.dot(X_mu, inv_sigma) * X_mu, axis=1)) / np.sqrt((2 * np.pi) ** d * det_sigma)).reshape(-1, 1)"
   ]
  },
  {
   "cell_type": "code",
   "execution_count": 313,
   "metadata": {},
   "outputs": [
    {
     "data": {
      "text/plain": [
       "array([[0.00159853],\n",
       "       [0.00481869],\n",
       "       [0.00276259],\n",
       "       [0.0014309 ],\n",
       "       [0.00143998]])"
      ]
     },
     "execution_count": 313,
     "metadata": {},
     "output_type": "execute_result"
    }
   ],
   "source": [
    "# Test multivariate_normal_pdf\n",
    "\n",
    "x0 = np.array([[0.05, 1.413, 0.212], [0.85, -0.3, 1.11], [11.1, 0.4, 1.5], [0.27, 0.12, 1.44], [88, 12.33, 1.44]])\n",
    "mu = np.mean(x0, axis=0)\n",
    "cov = np.dot((x0 - mu).T, x0 - mu) / (x0.shape[0] - 1)\n",
    "\n",
    "y = multivariate_normal_pdf(x0, mu, cov)\n",
    "y"
   ]
  },
  {
   "cell_type": "code",
   "execution_count": 314,
   "metadata": {},
   "outputs": [],
   "source": [
    "def initialize_params(X, n_clusters):\n",
    "    \"\"\"\n",
    "    Initializes the parameters for the EM algorithm\n",
    "    \"\"\"\n",
    "    clusters = []\n",
    "\n",
    "    # Initialize the parameters for each cluster\n",
    "    for i in range(n_clusters):\n",
    "        temp = np.eye(X.shape[1])\n",
    "        temp[np.diag_indices_from(temp)] += 1e-6        # Add a small value to the diagonal to make the matrix invertible\n",
    "        \n",
    "        clusters.append({\n",
    "            \"mu\": np.random.rand(X.shape[1]),\n",
    "            \"sigma\": temp,\n",
    "            \"pi\": 1 / n_clusters\n",
    "        })\n",
    "    \n",
    "    return clusters"
   ]
  },
  {
   "cell_type": "code",
   "execution_count": null,
   "metadata": {},
   "outputs": [],
   "source": [
    "def visualize(X, clusters):\n",
    "    global dir\n",
    "    global fig_count\n",
    "\n",
    "    if not os.path.exists(dir):\n",
    "        os.mkdir(\"Plots\")\n",
    "\n",
    "    fig = plt.figure(figsize=(5, 5), num=1)\n",
    "    ax = fig.add_subplot(111)\n",
    "    ax.scatter(X[:, 0], X[:, 1], c='b', marker='o', s=40, alpha=0.5)\n",
    "    ax.set_title('clusters = %d' % len(clusters))\n",
    "\n",
    "    x, y = np.mgrid[np.min(X[:, 0]):np.max(X[:, 0]):.01, np.min(X[:, 1]):np.max(X[:, 1]):.01]\n",
    "    pos = np.dstack((x, y))\n",
    "\n",
    "    for i in range(len(clusters)):\n",
    "        ax.contour(x, y, mvn.pdf(pos, clusters[i][\"mu\"], clusters[i][\"sigma\"]), alpha=0.3)\n",
    "        ax.scatter(clusters[i][\"mu\"][0], clusters[i][\"mu\"][1], c='r', marker='x', s=40, alpha=0.5)\n",
    "\n",
    "    # plt.pause(0.005)\n",
    "    # plt.show()\n",
    "    plt.savefig(dir + \"/%d.png\" % fig_count)\n",
    "    fig.clf()\n",
    "    fig_count += 1"
   ]
  },
  {
   "cell_type": "code",
   "execution_count": null,
   "metadata": {},
   "outputs": [],
   "source": [
    "def make_gif(frame_folder):\n",
    "    frames = [Image.open(image) for image in glob.glob(f\"{frame_folder}/*.png\")]\n",
    "    frame_one = frames[0]\n",
    "    frame_one.save(\"EM.gif\", format=\"GIF\", append_images=frames,\n",
    "               save_all=True, duration=100, loop=0)"
   ]
  },
  {
   "cell_type": "code",
   "execution_count": 315,
   "metadata": {},
   "outputs": [],
   "source": [
    "def expectation_step(X, clusters):\n",
    "    \"\"\"\n",
    "    Performs the expectation step of the EM algorithm\n",
    "    \"\"\"\n",
    "    # Compute the responsibilities\n",
    "    global cluster_prob, prob_sum\n",
    "    cluster_prob = np.zeros((X.shape[0], len(clusters)))\n",
    "    for k, cluster in enumerate(clusters):\n",
    "        cluster_prob[:, k] = cluster[\"pi\"] * mvn.pdf(X, cluster[\"mu\"], cluster[\"sigma\"]).reshape(-1)\n",
    "    \n",
    "    prob_sum = np.sum(cluster_prob, axis=1)\n",
    "    cluster_prob /= prob_sum.reshape(-1, 1)"
   ]
  },
  {
   "cell_type": "code",
   "execution_count": 333,
   "metadata": {},
   "outputs": [],
   "source": [
    "def maximization_step(X, clusters, k_star=False):\n",
    "    \"\"\"\n",
    "    Performs the maximization step of the EM algorithm\n",
    "    \"\"\"\n",
    "    global cluster_prob\n",
    "    N = X.shape[0]      # number of data points\n",
    "\n",
    "    for k, cluster in enumerate(clusters):\n",
    "        # Update the parameters\n",
    "        N_k = np.sum(cluster_prob[:, k])\n",
    "        cluster[\"pi\"] = N_k / N\n",
    "        cluster[\"mu\"] = np.sum(cluster_prob[:, k].reshape(-1, 1) * X, axis=0) / N_k\n",
    "        cluster[\"sigma\"] = (cluster_prob[:, k].reshape(-1, 1) * (X - cluster[\"mu\"])).T @ (X - cluster[\"mu\"]) / N_k\n",
    "        cluster[\"sigma\"][np.diag_indices_from(cluster[\"sigma\"])] += 1e-6        # Add a small value to the diagonal to make the matrix invertible\n",
    "\n",
    "        if k_star:\n",
    "            visualize(X, clusters)"
   ]
  },
  {
   "cell_type": "code",
   "execution_count": 317,
   "metadata": {},
   "outputs": [],
   "source": [
    "def log_likelihood(X, clusters):\n",
    "    \"\"\"\n",
    "    Computes the log likelihood of the data given the clusters\n",
    "    \"\"\"\n",
    "    global cluster_prob, prob_sum\n",
    "    return np.sum(np.log(prob_sum))"
   ]
  },
  {
   "cell_type": "code",
   "execution_count": 318,
   "metadata": {},
   "outputs": [],
   "source": [
    "def train(X, n_clusters=3, n_epochs=100):\n",
    "    \"\"\"\n",
    "    Trains the EM algorithm\n",
    "    \"\"\"\n",
    "    clusters = initialize_params(X, n_clusters)\n",
    "    log_likelihoods = []\n",
    "\n",
    "    for i in range(n_epochs):\n",
    "        expectation_step(X, clusters)\n",
    "        maximization_step(X, clusters)\n",
    "        likelihood = log_likelihood(X, clusters)\n",
    "        log_likelihoods.append(likelihood)\n",
    "\n",
    "        # print('Epoch: ', i + 1, 'Likelihood: ', likelihood)\n",
    "\n",
    "    return clusters, log_likelihoods"
   ]
  },
  {
   "cell_type": "code",
   "execution_count": 319,
   "metadata": {},
   "outputs": [],
   "source": [
    "def find_k_star(log_likelihoods):\n",
    "    \"\"\"\n",
    "    Finds the optimal number of clusters\n",
    "    \"\"\"\n",
    "    k_star = -1\n",
    "    max_diff = 0\n",
    "\n",
    "    for i in range(1, len(log_likelihoods) - 1):\n",
    "        diff = log_likelihoods[i] - log_likelihoods[i + 1]\n",
    "        if diff > max_diff:\n",
    "            max_diff = diff\n",
    "            k_star = i + 1\n",
    "\n",
    "    if k_star == -1:\n",
    "        k_star = len(log_likelihoods) - 1\n",
    "        \n",
    "    return k_star"
   ]
  },
  {
   "cell_type": "code",
   "execution_count": 320,
   "metadata": {},
   "outputs": [],
   "source": [
    "def run_EM_algorithm(X, n_clusters, n_epochs):\n",
    "    \"\"\"\n",
    "    Runs the EM algorithm\n",
    "    \"\"\"\n",
    "    converged_log_likelihood = []\n",
    "    \n",
    "    # Train the model for each k\n",
    "    for i in range(n_clusters):\n",
    "        clusters, log_likelihoods = train(X, i+1, n_epochs)\n",
    "        converged_log_likelihood.append(log_likelihoods[-1])\n",
    "\n",
    "        # # plot the log likelihoods for a given k (epoch vs log likelihood)\n",
    "        # print(\"----------Number of clusters: %d ----------\" % (i+1))\n",
    "        # plt.figure(figsize=(3, 3))\n",
    "        # plt.title('k = %d' % (i + 1))\n",
    "        # plt.xlabel('Epoch')\n",
    "        # plt.ylabel('Log likelihood')\n",
    "        # plt.plot(np.arange(1, n_epochs + 1), log_likelihoods)\n",
    "        # plt.show()\n",
    "\n",
    "\n",
    "    # Print the converged log likelihoods for each k\n",
    "    # for i in range(len(converged_log_likelihood)):\n",
    "    #     print(\"Log likelihood for k = %d: %.2f\" % (i + 1, converged_log_likelihood[i]))\n",
    "\n",
    "    # Plot the log likelihoods for each k\n",
    "    plt.figure(figsize=(5, 5))\n",
    "    plt.title('Converged log likelihood')\n",
    "    plt.xlabel('k')\n",
    "    plt.ylabel('Log likelihood')\n",
    "    plt.plot(np.arange(1, n_clusters + 1), converged_log_likelihood)\n",
    "    plt.show()\n",
    "\n",
    "    # Find the optimal number of clusters\n",
    "    k_star = find_k_star(converged_log_likelihood)\n",
    "    print(\"Optimal number of clusters: %d\" % k_star)\n",
    "    \n",
    "    return k_star"
   ]
  },
  {
   "cell_type": "code",
   "execution_count": 322,
   "metadata": {},
   "outputs": [],
   "source": [
    "def train_with_kstar(X, k_star, n_epochs=100):\n",
    "    \"\"\"\n",
    "    Trains the EM algorithm\n",
    "    params:\n",
    "        X: data points\n",
    "        k_star: optimal number of clusters\n",
    "        n_epochs: number of epochs\n",
    "    \"\"\"\n",
    "    clusters = initialize_params(X, k_star)\n",
    "    visualize(X, clusters)\n",
    "\n",
    "    # log_likelihoods = []\n",
    "\n",
    "    for i in range(n_epochs):\n",
    "        expectation(X, clusters)\n",
    "        maximization(X, clusters, k_star=True)\n",
    "        # likelihood = log_likelihood(X, clusters)\n",
    "        # log_likelihoods.append(likelihood)\n",
    "\n",
    "    # return clusters, log_likelihoods"
   ]
  },
  {
   "cell_type": "code",
   "execution_count": 350,
   "metadata": {},
   "outputs": [],
   "source": []
  },
  {
   "cell_type": "code",
   "execution_count": 352,
   "metadata": {},
   "outputs": [
    {
     "data": {
      "image/png": "[encoded data removed]",
      "text/plain": [
       "<Figure size 360x360 with 1 Axes>"
      ]
     },
     "metadata": {
      "needs_background": "light"
     },
     "output_type": "display_data"
    },
    {
     "name": "stdout",
     "output_type": "stream",
     "text": [
      "Optimal number of clusters: 8\n"
     ]
    },
    {
     "ename": "PermissionError",
     "evalue": "[WinError 32] The process cannot access the file because it is being used by another process: 'Plots\\\\0.png'",
     "output_type": "error",
     "traceback": [
      "\u001b[1;31m---------------------------------------------------------------------------\u001b[0m",
      "\u001b[1;31mPermissionError\u001b[0m                           Traceback (most recent call last)",
      "\u001b[1;32m<ipython-input-352-8f8355d9b468>\u001b[0m in \u001b[0;36m<module>\u001b[1;34m\u001b[0m\n\u001b[0;32m     12\u001b[0m \u001b[1;33m\u001b[0m\u001b[0m\n\u001b[0;32m     13\u001b[0m     \u001b[1;32mif\u001b[0m \u001b[0mos\u001b[0m\u001b[1;33m.\u001b[0m\u001b[0mpath\u001b[0m\u001b[1;33m.\u001b[0m\u001b[0mexists\u001b[0m\u001b[1;33m(\u001b[0m\u001b[0mdir\u001b[0m\u001b[1;33m)\u001b[0m\u001b[1;33m:\u001b[0m\u001b[1;33m\u001b[0m\u001b[1;33m\u001b[0m\u001b[0m\n\u001b[1;32m---> 14\u001b[1;33m         \u001b[0mshutil\u001b[0m\u001b[1;33m.\u001b[0m\u001b[0mrmtree\u001b[0m\u001b[1;33m(\u001b[0m\u001b[0mdir\u001b[0m\u001b[1;33m)\u001b[0m\u001b[1;33m\u001b[0m\u001b[1;33m\u001b[0m\u001b[0m\n\u001b[0m\u001b[0;32m     15\u001b[0m \u001b[1;33m\u001b[0m\u001b[0m\n\u001b[0;32m     16\u001b[0m     \u001b[1;32mglobal\u001b[0m \u001b[0mfig_count\u001b[0m\u001b[1;33m\u001b[0m\u001b[1;33m\u001b[0m\u001b[0m\n",
      "\u001b[1;32mc:\\Users\\Asus\\AppData\\Local\\Programs\\Python\\Python37\\lib\\shutil.py\u001b[0m in \u001b[0;36mrmtree\u001b[1;34m(path, ignore_errors, onerror)\u001b[0m\n\u001b[0;32m    514\u001b[0m             \u001b[1;31m# can't continue even if onerror hook returns\u001b[0m\u001b[1;33m\u001b[0m\u001b[1;33m\u001b[0m\u001b[1;33m\u001b[0m\u001b[0m\n\u001b[0;32m    515\u001b[0m             \u001b[1;32mreturn\u001b[0m\u001b[1;33m\u001b[0m\u001b[1;33m\u001b[0m\u001b[0m\n\u001b[1;32m--> 516\u001b[1;33m         \u001b[1;32mreturn\u001b[0m \u001b[0m_rmtree_unsafe\u001b[0m\u001b[1;33m(\u001b[0m\u001b[0mpath\u001b[0m\u001b[1;33m,\u001b[0m \u001b[0monerror\u001b[0m\u001b[1;33m)\u001b[0m\u001b[1;33m\u001b[0m\u001b[1;33m\u001b[0m\u001b[0m\n\u001b[0m\u001b[0;32m    517\u001b[0m \u001b[1;33m\u001b[0m\u001b[0m\n\u001b[0;32m    518\u001b[0m \u001b[1;31m# Allow introspection of whether or not the hardening against symlink\u001b[0m\u001b[1;33m\u001b[0m\u001b[1;33m\u001b[0m\u001b[1;33m\u001b[0m\u001b[0m\n",
      "\u001b[1;32mc:\\Users\\Asus\\AppData\\Local\\Programs\\Python\\Python37\\lib\\shutil.py\u001b[0m in \u001b[0;36m_rmtree_unsafe\u001b[1;34m(path, onerror)\u001b[0m\n\u001b[0;32m    398\u001b[0m                 \u001b[0mos\u001b[0m\u001b[1;33m.\u001b[0m\u001b[0munlink\u001b[0m\u001b[1;33m(\u001b[0m\u001b[0mfullname\u001b[0m\u001b[1;33m)\u001b[0m\u001b[1;33m\u001b[0m\u001b[1;33m\u001b[0m\u001b[0m\n\u001b[0;32m    399\u001b[0m             \u001b[1;32mexcept\u001b[0m \u001b[0mOSError\u001b[0m\u001b[1;33m:\u001b[0m\u001b[1;33m\u001b[0m\u001b[1;33m\u001b[0m\u001b[0m\n\u001b[1;32m--> 400\u001b[1;33m                 \u001b[0monerror\u001b[0m\u001b[1;33m(\u001b[0m\u001b[0mos\u001b[0m\u001b[1;33m.\u001b[0m\u001b[0munlink\u001b[0m\u001b[1;33m,\u001b[0m \u001b[0mfullname\u001b[0m\u001b[1;33m,\u001b[0m \u001b[0msys\u001b[0m\u001b[1;33m.\u001b[0m\u001b[0mexc_info\u001b[0m\u001b[1;33m(\u001b[0m\u001b[1;33m)\u001b[0m\u001b[1;33m)\u001b[0m\u001b[1;33m\u001b[0m\u001b[1;33m\u001b[0m\u001b[0m\n\u001b[0m\u001b[0;32m    401\u001b[0m     \u001b[1;32mtry\u001b[0m\u001b[1;33m:\u001b[0m\u001b[1;33m\u001b[0m\u001b[1;33m\u001b[0m\u001b[0m\n\u001b[0;32m    402\u001b[0m         \u001b[0mos\u001b[0m\u001b[1;33m.\u001b[0m\u001b[0mrmdir\u001b[0m\u001b[1;33m(\u001b[0m\u001b[0mpath\u001b[0m\u001b[1;33m)\u001b[0m\u001b[1;33m\u001b[0m\u001b[1;33m\u001b[0m\u001b[0m\n",
      "\u001b[1;32mc:\\Users\\Asus\\AppData\\Local\\Programs\\Python\\Python37\\lib\\shutil.py\u001b[0m in \u001b[0;36m_rmtree_unsafe\u001b[1;34m(path, onerror)\u001b[0m\n\u001b[0;32m    396\u001b[0m         \u001b[1;32melse\u001b[0m\u001b[1;33m:\u001b[0m\u001b[1;33m\u001b[0m\u001b[1;33m\u001b[0m\u001b[0m\n\u001b[0;32m    397\u001b[0m             \u001b[1;32mtry\u001b[0m\u001b[1;33m:\u001b[0m\u001b[1;33m\u001b[0m\u001b[1;33m\u001b[0m\u001b[0m\n\u001b[1;32m--> 398\u001b[1;33m                 \u001b[0mos\u001b[0m\u001b[1;33m.\u001b[0m\u001b[0munlink\u001b[0m\u001b[1;33m(\u001b[0m\u001b[0mfullname\u001b[0m\u001b[1;33m)\u001b[0m\u001b[1;33m\u001b[0m\u001b[1;33m\u001b[0m\u001b[0m\n\u001b[0m\u001b[0;32m    399\u001b[0m             \u001b[1;32mexcept\u001b[0m \u001b[0mOSError\u001b[0m\u001b[1;33m:\u001b[0m\u001b[1;33m\u001b[0m\u001b[1;33m\u001b[0m\u001b[0m\n\u001b[0;32m    400\u001b[0m                 \u001b[0monerror\u001b[0m\u001b[1;33m(\u001b[0m\u001b[0mos\u001b[0m\u001b[1;33m.\u001b[0m\u001b[0munlink\u001b[0m\u001b[1;33m,\u001b[0m \u001b[0mfullname\u001b[0m\u001b[1;33m,\u001b[0m \u001b[0msys\u001b[0m\u001b[1;33m.\u001b[0m\u001b[0mexc_info\u001b[0m\u001b[1;33m(\u001b[0m\u001b[1;33m)\u001b[0m\u001b[1;33m)\u001b[0m\u001b[1;33m\u001b[0m\u001b[1;33m\u001b[0m\u001b[0m\n",
      "\u001b[1;31mPermissionError\u001b[0m: [WinError 32] The process cannot access the file because it is being used by another process: 'Plots\\\\0.png'"
     ]
    }
   ],
   "source": [
    "#### ----------------- Main ----------------- ####\n",
    "\n",
    "data_path = \"data6D.txt\"\n",
    "X = np.loadtxt(data_path)\n",
    "\n",
    "n_clusters = 10\n",
    "n_epochs = 50\n",
    "k_star = run_EM_algorithm(X, n_clusters, n_epochs)\n",
    "\n",
    "# ----------- Training with k* ----------- #\n",
    "if X.shape[1] == 2:\n",
    "    global dir\n",
    "    dir = \"Plots\"\n",
    "\n",
    "    global fig_count\n",
    "    fig_count = 0\n",
    "\n",
    "    train_with_kstar(X, k_star, n_epochs)\n",
    "    make_gif(dir)"
   ]
  },
  {
   "cell_type": "code",
   "execution_count": 349,
   "metadata": {},
   "outputs": [
    {
     "name": "stdout",
     "output_type": "stream",
     "text": [
      "401\n"
     ]
    }
   ],
   "source": []
  },
  {
   "cell_type": "code",
   "execution_count": null,
   "metadata": {},
   "outputs": [],
   "source": []
  }
 ],
 "metadata": {
  "kernelspec": {
   "display_name": "Python 3",
   "language": "python",
   "name": "python3"
  },
  "language_info": {
   "codemirror_mode": {
    "name": "ipython",
    "version": 3
   },
   "file_extension": ".py",
   "mimetype": "text/x-python",
   "name": "python",
   "nbconvert_exporter": "python",
   "pygments_lexer": "ipython3",
   "version": "3.7.4"
  },
  "vscode": {
   "interpreter": {
    "hash": "ebe23dee3a652b1a649a1db8e2566ad6fae31353a6f524cb5d85b294e04ea6a1"
   }
  }
 },
 "nbformat": 4,
 "nbformat_minor": 2
}
