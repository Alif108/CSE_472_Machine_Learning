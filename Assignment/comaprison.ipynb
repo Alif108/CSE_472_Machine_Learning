{
 "cells": [
  {
   "cell_type": "code",
   "execution_count": 1,
   "metadata": {},
   "outputs": [],
   "source": [
    "import numpy as np\n",
    "import torch\n",
    "import torch.nn as nn\n",
    "import torch.optim as optim\n",
    "import pandas as pd\n",
    "import pickle\n",
    "import matplotlib.pyplot as plt"
   ]
  },
  {
   "cell_type": "code",
   "execution_count": 4,
   "metadata": {},
   "outputs": [
    {
     "name": "stdout",
     "output_type": "stream",
     "text": [
      "Percentage of 1s in the training set:  0.8054711246200608\n",
      "Percentage of 1s in the test set:  0.8072289156626506\n",
      "Percentage of 1s in the whole dataset:  0.8058252427184466\n"
     ]
    }
   ],
   "source": [
    "y_train = pickle.load(open('Data/y_train.pkl', 'rb'))\n",
    "y_test = pickle.load(open('Data/y_test.pkl', 'rb'))\n",
    "y = pickle.load(open('Data/y.pkl', 'rb'))\n",
    "\n",
    "# find the percentage of 1s in the training set\n",
    "print('Percentage of 1s in the training set: ', y_train.sum()/len(y_train))\n",
    "\n",
    "# find the percentage of 1s in the test set\n",
    "print('Percentage of 1s in the test set: ', y_test.sum()/len(y_test))\n",
    "\n",
    "# find the percentage of 1s in the whole dataset\n",
    "print('Percentage of 1s in the whole dataset: ', y.sum()/len(y))"
   ]
  },
  {
   "cell_type": "markdown",
   "metadata": {},
   "source": [
    "## Random Forest"
   ]
  },
  {
   "cell_type": "code",
   "execution_count": 21,
   "metadata": {},
   "outputs": [
    {
     "data": {
      "text/plain": [
       "{'Model': RandomForestClassifier(min_samples_leaf=5, n_estimators=200, random_state=42),\n",
       " 'Best Parameters': {'max_depth': None,\n",
       "  'min_samples_leaf': 5,\n",
       "  'min_samples_split': 2,\n",
       "  'n_estimators': 200},\n",
       " 'Training Set Accuracy': 0.9331943286071726,\n",
       " 'Test Set Accuracy': 0.9036144578313253,\n",
       " 'AUC Score': 0.7975746268656716}"
      ]
     },
     "execution_count": 21,
     "metadata": {},
     "output_type": "execute_result"
    }
   ],
   "source": [
    "all_dim_dict = pickle.load(open('Random Forest/rf_all_dim.pkl', 'rb'))\n",
    "all_dim_dict"
   ]
  },
  {
   "cell_type": "code",
   "execution_count": 22,
   "metadata": {},
   "outputs": [
    {
     "data": {
      "text/html": [
       "<div>\n",
       "<style scoped>\n",
       "    .dataframe tbody tr th:only-of-type {\n",
       "        vertical-align: middle;\n",
       "    }\n",
       "\n",
       "    .dataframe tbody tr th {\n",
       "        vertical-align: top;\n",
       "    }\n",
       "\n",
       "    .dataframe thead th {\n",
       "        text-align: right;\n",
       "    }\n",
       "</style>\n",
       "<table border=\"1\" class=\"dataframe\">\n",
       "  <thead>\n",
       "    <tr style=\"text-align: right;\">\n",
       "      <th></th>\n",
       "      <th>n_components</th>\n",
       "      <th>train_accuracy</th>\n",
       "      <th>test_accuracy</th>\n",
       "      <th>auc_score</th>\n",
       "    </tr>\n",
       "  </thead>\n",
       "  <tbody>\n",
       "    <tr>\n",
       "      <th>0</th>\n",
       "      <td>10</td>\n",
       "      <td>0.936225</td>\n",
       "      <td>0.939759</td>\n",
       "      <td>0.891325</td>\n",
       "    </tr>\n",
       "    <tr>\n",
       "      <th>1</th>\n",
       "      <td>11</td>\n",
       "      <td>0.930136</td>\n",
       "      <td>0.927711</td>\n",
       "      <td>0.860075</td>\n",
       "    </tr>\n",
       "    <tr>\n",
       "      <th>2</th>\n",
       "      <td>12</td>\n",
       "      <td>0.936225</td>\n",
       "      <td>0.939759</td>\n",
       "      <td>0.891325</td>\n",
       "    </tr>\n",
       "    <tr>\n",
       "      <th>3</th>\n",
       "      <td>13</td>\n",
       "      <td>0.936225</td>\n",
       "      <td>0.915663</td>\n",
       "      <td>0.828825</td>\n",
       "    </tr>\n",
       "    <tr>\n",
       "      <th>4</th>\n",
       "      <td>14</td>\n",
       "      <td>0.939227</td>\n",
       "      <td>0.915663</td>\n",
       "      <td>0.852612</td>\n",
       "    </tr>\n",
       "  </tbody>\n",
       "</table>\n",
       "</div>"
      ],
      "text/plain": [
       "   n_components  train_accuracy  test_accuracy  auc_score\n",
       "0            10        0.936225       0.939759   0.891325\n",
       "1            11        0.930136       0.927711   0.860075\n",
       "2            12        0.936225       0.939759   0.891325\n",
       "3            13        0.936225       0.915663   0.828825\n",
       "4            14        0.939227       0.915663   0.852612"
      ]
     },
     "execution_count": 22,
     "metadata": {},
     "output_type": "execute_result"
    }
   ],
   "source": [
    "pca_res = pd.read_csv('Random Forest/pca_rf_results.csv')\n",
    "pca_res.head()"
   ]
  },
  {
   "cell_type": "code",
   "execution_count": 23,
   "metadata": {},
   "outputs": [
    {
     "data": {
      "text/plain": [
       "n_components      10.000000\n",
       "train_accuracy     0.936225\n",
       "test_accuracy      0.939759\n",
       "auc_score          0.891325\n",
       "Name: 0, dtype: float64"
      ]
     },
     "execution_count": 23,
     "metadata": {},
     "output_type": "execute_result"
    }
   ],
   "source": [
    "best_auc = pca_res.loc[pca_res['auc_score'].idxmax()]\n",
    "best_auc"
   ]
  },
  {
   "cell_type": "code",
   "execution_count": 24,
   "metadata": {},
   "outputs": [
    {
     "name": "stderr",
     "output_type": "stream",
     "text": [
      "c:\\Users\\Asus\\AppData\\Local\\Programs\\Python\\Python37\\lib\\site-packages\\ipykernel_launcher.py:11: MatplotlibDeprecationWarning: savefig() got unexpected keyword argument \"bounding_box_inches\" which is no longer supported as of 3.3 and will become an error in 3.6\n",
      "  # This is added back by InteractiveShellApp.init_path()\n"
     ]
    },
    {
     "data": {
      "image/png": "[encoded data removed]",
      "text/plain": [
       "<Figure size 360x360 with 1 Axes>"
      ]
     },
     "metadata": {
      "needs_background": "light"
     },
     "output_type": "display_data"
    }
   ],
   "source": [
    "all_dim_auc = all_dim_dict['AUC Score']\n",
    "pca_auc = best_auc['auc_score']\n",
    "\n",
    "# plot these in a bar chart\n",
    "plt.figure(figsize=(5, 5))\n",
    "plt.bar(['All Dimensions', 'PCA'], [all_dim_auc, pca_auc])\n",
    "plt.text(0, all_dim_auc + 0.01, str(round(all_dim_auc, 3)))\n",
    "plt.text(1, pca_auc + 0.01, str(round(pca_auc, 3)))\n",
    "plt.ylabel('AUC Score')\n",
    "plt.title('AUC Scores for Random Forest Models')\n",
    "plt.savefig('Random Forest/rf_auc_scores.jpg', bounding_box_inches='tight')\n",
    "plt.show()"
   ]
  },
  {
   "cell_type": "code",
   "execution_count": 25,
   "metadata": {},
   "outputs": [
    {
     "name": "stderr",
     "output_type": "stream",
     "text": [
      "c:\\Users\\Asus\\AppData\\Local\\Programs\\Python\\Python37\\lib\\site-packages\\ipykernel_launcher.py:10: MatplotlibDeprecationWarning: savefig() got unexpected keyword argument \"bounding_box_inches\" which is no longer supported as of 3.3 and will become an error in 3.6\n",
      "  # Remove the CWD from sys.path while we load stuff.\n"
     ]
    },
    {
     "data": {
      "image/png": "[encoded data removed]",
      "text/plain": [
       "<Figure size 360x360 with 1 Axes>"
      ]
     },
     "metadata": {
      "needs_background": "light"
     },
     "output_type": "display_data"
    }
   ],
   "source": [
    "all_dim_acc = all_dim_dict['Test Set Accuracy']\n",
    "pca_acc = best_auc['test_accuracy']\n",
    "\n",
    "plt.figure(figsize=(5, 5))\n",
    "plt.bar(['All Dimensions', 'PCA'], [all_dim_acc, pca_acc])\n",
    "plt.text(0, all_dim_acc + 0.01, str(round(all_dim_acc, 3)))\n",
    "plt.text(1, pca_acc + 0.01, str(round(pca_acc, 3)))\n",
    "plt.ylabel('Test Accuracy')\n",
    "plt.title('Test Accuracy for Random Forest Models')\n",
    "plt.savefig('Random Forest/rf_test_acc.jpg', bounding_box_inches='tight')\n",
    "plt.show()"
   ]
  },
  {
   "cell_type": "markdown",
   "metadata": {},
   "source": [
    "## SVM"
   ]
  },
  {
   "cell_type": "code",
   "execution_count": 26,
   "metadata": {},
   "outputs": [
    {
     "name": "stderr",
     "output_type": "stream",
     "text": [
      "c:\\Users\\Asus\\AppData\\Local\\Programs\\Python\\Python37\\lib\\site-packages\\sklearn\\base.py:338: UserWarning: Trying to unpickle estimator SVC from version 1.3.1 when using version 1.0.2. This might lead to breaking code or invalid results. Use at your own risk. For more info please refer to:\n",
      "https://scikit-learn.org/stable/modules/model_persistence.html#security-maintainability-limitations\n",
      "  UserWarning,\n"
     ]
    },
    {
     "data": {
      "text/plain": [
       "{'Model': SVC(C=0.1, kernel='linear', probability=True),\n",
       " 'Best Parameters': {'C': 0.1, 'kernel': 'linear'},\n",
       " 'Training Set Accuracy': 0.9392549346677788,\n",
       " 'Test Set Accuracy': 0.927710843373494,\n",
       " 'AUC Score': 0.8600746268656717}"
      ]
     },
     "execution_count": 26,
     "metadata": {},
     "output_type": "execute_result"
    }
   ],
   "source": [
    "svm_all_dim = pickle.load(open('SVM/svm_all_dim.pkl', 'rb'))\n",
    "svm_all_dim"
   ]
  },
  {
   "cell_type": "code",
   "execution_count": 27,
   "metadata": {},
   "outputs": [
    {
     "data": {
      "text/plain": [
       "{'Model': SVC(C=0.1, kernel='linear', probability=True),\n",
       " 'n_components': 10,\n",
       " 'x_train': array([[116.53524568,  66.57877678,   4.0396317 , ..., -35.06401713,\n",
       "           2.58651888, -29.28104064],\n",
       "        [ 39.71820548,  27.67998357,  46.0255223 , ...,  -2.43456483,\n",
       "           0.32915606, -16.75231861],\n",
       "        [-63.78854907, -18.16156415, -49.86556805, ..., -13.69656203,\n",
       "         -17.84698321,   7.05768881],\n",
       "        ...,\n",
       "        [ 50.99864502, -74.38551038,  31.94927654, ...,   1.37731404,\n",
       "          -3.9919928 ,  -1.36908049],\n",
       "        [ 33.44141763,  28.01431284,  47.27643285, ..., -31.85363024,\n",
       "          -8.8192729 , -10.19399496],\n",
       "        [  7.01885766, -35.9333745 ,  10.9327366 , ..., -18.7638029 ,\n",
       "           2.93958801, -29.49426766]]),\n",
       " 'x_test': array([[-3.20073618e+01,  5.66934113e+00, -4.41900676e+01,\n",
       "         -2.36503004e+01,  9.76436005e+00, -1.87623195e+01,\n",
       "          4.25219582e+00, -4.27556064e+00,  1.09529987e+01,\n",
       "          9.35176731e+00],\n",
       "        [-4.78802804e+01,  1.81247569e+01, -1.51705882e+01,\n",
       "          4.45508682e+00, -5.00524027e+00, -1.92364003e+00,\n",
       "          1.35617210e+00,  1.18738700e+01, -1.61920741e+01,\n",
       "          2.32709215e+01],\n",
       "        [-5.71714988e+01,  2.59041592e+01, -2.66646293e+01,\n",
       "          4.04699478e+01, -1.73499764e+01,  9.34373237e-01,\n",
       "          2.20333127e+01, -7.79169839e+00, -1.57405476e+01,\n",
       "         -2.19951928e+01],\n",
       "        [-2.65272563e+01, -2.46689986e+01,  1.65305919e+01,\n",
       "         -2.39712870e+01, -1.34973952e+00, -3.47661543e+01,\n",
       "         -3.02405779e-01, -7.53621714e+00,  1.22711976e+01,\n",
       "         -4.10324627e-02],\n",
       "        [-4.24311050e+01,  4.50688106e+01, -3.46961457e+01,\n",
       "          4.64171720e+01, -3.40483405e+01,  3.77170914e+01,\n",
       "         -5.23691790e+01, -3.77913581e+01, -1.01083915e+01,\n",
       "          1.84703741e+01],\n",
       "        [ 1.52894641e+00, -1.04755098e+00, -5.27380566e+01,\n",
       "         -8.06115106e+00,  3.53853577e+00,  3.95347835e+01,\n",
       "          2.18013277e+01, -1.38674034e+01, -6.29387748e+00,\n",
       "         -2.03899119e+01],\n",
       "        [-2.56006545e+01, -1.03633872e+01, -6.06025183e+01,\n",
       "         -1.86037474e+01, -1.20545233e+01,  3.00618331e+01,\n",
       "         -2.88683236e+00, -6.56697093e+00,  1.05848635e+01,\n",
       "         -1.36073126e+01],\n",
       "        [-4.86180362e+01, -1.02525984e+02, -3.28069075e+01,\n",
       "         -4.01659478e+00, -1.85889219e+01,  2.25600692e+01,\n",
       "         -1.02728924e+01,  1.07188951e+01,  3.44416670e+00,\n",
       "          3.83142512e+00],\n",
       "        [ 2.23664496e+01, -3.85638773e+01,  9.26691322e+01,\n",
       "         -1.50453277e+01,  3.71986165e+01,  1.74305965e+00,\n",
       "         -1.68036680e+01,  2.82244211e-01,  3.12474745e+00,\n",
       "          2.11739913e+00],\n",
       "        [-5.72130042e+01,  4.85314027e+01, -4.17906325e+01,\n",
       "          2.63796165e+01, -2.09013414e+00, -4.00781514e+01,\n",
       "         -1.32451155e+01, -3.82605605e+00,  1.49285381e+01,\n",
       "          8.82493467e+00],\n",
       "        [-1.60574773e+01, -5.21836310e+01, -8.00834447e+01,\n",
       "          4.11433075e+01, -1.53783280e+01, -4.23832381e+00,\n",
       "         -3.30205050e+00, -2.68147760e+00,  7.22209253e+00,\n",
       "         -2.46230009e+01],\n",
       "        [-3.22977076e+01, -1.93405872e+01,  7.76297502e+01,\n",
       "          5.13102065e+00,  1.98636110e+01, -7.58556677e+00,\n",
       "          9.29109542e+00,  1.12511221e+01,  9.89309386e+00,\n",
       "         -1.12320047e+01],\n",
       "        [-5.59965264e+01, -1.95229353e+01,  2.05906685e+00,\n",
       "         -1.11425325e+01, -1.14130889e+01, -2.58174810e+01,\n",
       "         -7.35092288e+00, -8.39264162e+00,  1.59614455e+01,\n",
       "          2.11465644e+00],\n",
       "        [-2.84664962e+01,  4.21915154e+01, -1.94326018e+01,\n",
       "          6.69139859e+00,  3.02759241e+01,  2.59318017e+01,\n",
       "         -1.57331874e+00, -5.43691380e+00,  8.78643535e+00,\n",
       "         -1.59177001e+01],\n",
       "        [-4.78667385e+01,  9.39781467e+00, -4.42026989e+01,\n",
       "          8.12710946e+00,  1.05175566e+01, -1.61386511e+01,\n",
       "         -5.10941738e+00, -1.04427709e+01, -2.16184469e+01,\n",
       "         -1.10571254e+01],\n",
       "        [ 1.81771134e+01, -8.42655968e+01, -4.51218296e+01,\n",
       "          4.03205142e+01,  4.45537851e-01,  2.34605804e+01,\n",
       "         -1.17143415e+01, -4.37867394e+00, -7.27189733e+00,\n",
       "          1.03967766e+01],\n",
       "        [-2.45343941e+01, -4.32899544e+01, -1.78395243e+01,\n",
       "          1.00586007e+01,  3.75261138e+01,  3.32731675e+00,\n",
       "         -4.23573190e+00, -2.63156704e+01, -1.68455184e+00,\n",
       "         -9.00105485e+00],\n",
       "        [ 6.68827333e+01,  2.19278791e+01, -3.60148971e+01,\n",
       "          1.86020890e+01,  6.42362021e+00, -1.69020433e+01,\n",
       "          1.92598454e+01, -5.12513484e+01,  2.05635180e+01,\n",
       "         -1.67485655e+01],\n",
       "        [-1.83768864e-01, -3.59516222e+01, -1.06401952e+01,\n",
       "         -5.29854185e+01,  7.34602582e+00,  1.39464147e+01,\n",
       "          2.01883401e+01, -1.84935270e+01,  2.24684908e+01,\n",
       "         -2.39688091e+01],\n",
       "        [ 5.70585460e+01,  2.37064973e+01,  5.24355632e+01,\n",
       "          3.78398456e+01, -2.23800954e+01,  4.19081402e+00,\n",
       "         -8.91332994e+00,  1.57523553e+00,  3.34309004e+01,\n",
       "         -5.19607314e+00],\n",
       "        [-1.27919283e+01,  1.42449055e+01, -4.55969467e+01,\n",
       "         -5.21605500e+01,  1.37990179e+01, -1.02481783e+01,\n",
       "          6.32031685e+00,  1.67954471e+01,  9.15028029e+00,\n",
       "         -1.32944244e+00],\n",
       "        [-6.35021355e+01,  7.00559484e+00,  3.56669401e+01,\n",
       "          2.13741120e+01,  7.06076651e+00, -3.70521405e+00,\n",
       "         -1.53545449e+01,  9.94010343e+00,  1.23194659e+01,\n",
       "         -8.04366385e+00],\n",
       "        [ 1.15905188e+02,  8.35678920e+00,  8.38909973e+01,\n",
       "         -1.99992119e+01,  2.63398537e+01,  8.59784980e+00,\n",
       "         -2.38405302e+01,  4.57794665e+00,  7.36651469e+00,\n",
       "         -1.26834401e+01],\n",
       "        [ 4.34460542e+00, -6.02925558e+01, -1.14686448e+01,\n",
       "          4.67208730e+01,  3.57517491e+01, -1.76803959e-01,\n",
       "          1.63449884e+01,  6.68341401e+00, -1.07448052e+01,\n",
       "          3.24725838e+00],\n",
       "        [-4.81395290e+01,  1.11724153e+00,  2.41674586e+01,\n",
       "         -1.59993922e+01,  1.45087363e+01,  1.65476548e+01,\n",
       "          7.36141841e+00,  1.66911165e+01, -1.12022456e+01,\n",
       "         -9.54735243e+00],\n",
       "        [-5.02468996e+01,  3.52475578e+01, -2.72510515e+01,\n",
       "         -1.67891748e+01, -3.58969445e+01,  3.45820340e+01,\n",
       "          2.45539429e+01,  3.89524315e+01,  1.66660168e+01,\n",
       "         -2.52268681e+00],\n",
       "        [-4.70762975e+01, -1.52286203e+01,  1.61069760e+01,\n",
       "         -2.14235932e+01, -3.25874527e+01,  9.44491327e+00,\n",
       "          7.50623354e+00,  6.93004002e+00, -7.34848896e+00,\n",
       "          5.35762546e+00],\n",
       "        [ 1.13887944e+01, -6.01882280e+00, -1.97309950e+01,\n",
       "         -2.04789819e+01,  1.02785711e+01, -2.98211357e+01,\n",
       "         -2.24593054e+01, -1.18879490e+01, -1.66284523e+00,\n",
       "          8.89628708e+00],\n",
       "        [-5.80913224e+01, -3.24310928e+00, -1.21708312e+01,\n",
       "          6.97894225e+00, -6.91667663e+00,  7.15490861e+00,\n",
       "          2.20625899e+01, -7.92755737e+00, -2.82692488e+00,\n",
       "         -1.21147776e+01],\n",
       "        [-5.23455252e+01,  4.43022336e+01, -3.89598637e+01,\n",
       "          1.67360799e+01,  2.55470277e+01,  1.75571408e+01,\n",
       "         -2.38777731e+01,  2.01694545e+01,  5.49429763e+00,\n",
       "          5.65910104e+00],\n",
       "        [-2.18787299e+01,  2.89158224e+00,  5.65189433e+01,\n",
       "          1.49590077e+01, -6.04427167e-01, -4.45758982e+00,\n",
       "          1.70585715e+01,  4.88955639e+00,  1.30207619e+00,\n",
       "         -7.83776932e+00],\n",
       "        [-3.05400614e+00,  3.37779520e+01,  2.63795305e+00,\n",
       "          2.73348256e+01,  1.66768907e+01,  3.01026700e-01,\n",
       "          3.57973968e+01, -2.88820666e+01,  1.31731066e+01,\n",
       "         -4.51098458e+00],\n",
       "        [-1.71414280e+01, -6.46469660e+01, -2.85736729e+00,\n",
       "          4.83868052e+01,  1.20921745e+01,  1.33024762e+00,\n",
       "         -3.42287975e+00,  5.40477594e+00,  1.25262671e+01,\n",
       "         -1.31186448e+00],\n",
       "        [-4.73193851e+01,  5.94181187e+01, -3.81932876e+01,\n",
       "          3.06503446e+01,  3.63079385e+01,  3.03126023e+01,\n",
       "          1.94102453e+01,  8.68719497e+00,  1.57068343e+01,\n",
       "         -9.53155245e+00],\n",
       "        [-1.65939128e+01, -3.16909934e+00,  1.12156017e+01,\n",
       "         -5.63264869e+00,  1.14810823e+01, -6.85732168e+00,\n",
       "          2.25423976e+01,  7.64764720e+00, -1.08455958e+01,\n",
       "          5.47193002e+00],\n",
       "        [-6.25057195e+01,  1.84853902e+01, -5.05010356e+01,\n",
       "          3.32583927e+01, -2.02304188e+01,  3.12008632e+01,\n",
       "          2.80823065e+00,  3.06352726e+00, -2.05819794e+01,\n",
       "         -2.04015509e+01],\n",
       "        [ 7.44871583e+01, -2.38262794e+01, -8.19007950e+00,\n",
       "         -1.86425488e+01,  3.23879142e+00,  3.33846164e+01,\n",
       "         -1.37062186e+00, -5.17773671e+01,  2.64334879e+01,\n",
       "          3.20545229e+01],\n",
       "        [ 6.99571063e+01,  2.27568289e+01,  5.38519516e+01,\n",
       "         -1.05548702e+01, -1.27837702e+01,  1.18676195e+01,\n",
       "         -1.10848006e+01,  5.82336393e+00,  9.58467678e-01,\n",
       "         -1.72897353e+01],\n",
       "        [-6.28888352e+01, -3.75429681e+00,  1.22364198e+01,\n",
       "         -1.98773545e-01,  8.33205035e-01,  1.14961930e+01,\n",
       "          3.77043679e+00, -6.21336108e-01, -1.94136319e+01,\n",
       "          8.41706123e+00],\n",
       "        [ 5.21333038e+01,  6.14529334e+01, -4.13161413e+01,\n",
       "         -3.05926110e+01, -1.26971926e+01,  2.10738393e+01,\n",
       "         -7.65855733e+00, -5.45390718e+00, -2.95805690e+01,\n",
       "          1.08516013e+01],\n",
       "        [ 6.80752032e+00, -7.80695661e+01, -7.30109838e+01,\n",
       "          1.14949605e+01, -5.64277558e+00, -6.72300004e+00,\n",
       "          9.24925389e+00,  2.99881914e+01, -7.75666464e+00,\n",
       "         -1.20244907e+01],\n",
       "        [-1.36848818e+01, -1.01304083e+01,  6.32961652e+01,\n",
       "         -4.66249416e+00, -8.12064387e+00,  4.47902883e+00,\n",
       "          2.32392662e+00, -9.87071947e-01, -1.45161625e+01,\n",
       "          6.83034015e+00],\n",
       "        [ 1.02845892e+01, -3.25186505e+01, -1.36275865e+01,\n",
       "         -2.21562905e+01,  3.13832399e+01,  5.53114250e+00,\n",
       "         -1.74453134e+01, -2.08404815e+01,  1.08358606e+01,\n",
       "         -2.48658697e+01],\n",
       "        [ 6.07575790e+01,  3.09890909e+01,  5.92387589e+01,\n",
       "          1.22658423e+01,  3.33534759e+01, -1.20599837e+01,\n",
       "          2.67054653e+01, -9.13152815e+00, -3.78108292e+00,\n",
       "          5.21644629e+00],\n",
       "        [ 5.43686758e+01, -5.94063639e+01, -3.35611942e+01,\n",
       "          2.45156267e+01, -1.20944306e+01, -1.45907360e+01,\n",
       "          3.01306783e+01,  2.61304905e+01, -4.57186174e+00,\n",
       "          5.71918532e+00],\n",
       "        [ 7.45250304e+01, -6.24982481e+01,  6.65016728e+00,\n",
       "          1.25809955e+01,  3.37133054e+01,  3.73661054e+01,\n",
       "         -5.34980279e+01, -1.21514342e+01,  8.44769851e+00,\n",
       "          7.07631539e+00],\n",
       "        [ 9.79916369e+00, -1.87191390e+01,  5.36113675e+01,\n",
       "          2.87874963e+01, -6.93947133e-01, -3.10054033e+01,\n",
       "          6.59265367e+00, -7.77544839e-01,  8.06200864e+00,\n",
       "          1.62106498e+00],\n",
       "        [ 9.76941215e+00, -5.71548712e+01, -2.76695448e+01,\n",
       "          3.33951210e+01, -1.83062314e+01, -2.90294909e+00,\n",
       "          4.05980171e+00,  1.26412235e+01, -5.83695389e-01,\n",
       "          9.84968273e-01],\n",
       "        [-4.95068869e+01, -2.18860541e+01,  2.76447734e+01,\n",
       "          2.33226486e+00, -6.81078180e+00,  2.73943669e+00,\n",
       "          8.84408951e+00,  1.96549635e+00, -3.35557952e+01,\n",
       "         -1.57289140e+00],\n",
       "        [-3.66241490e+01,  2.82582352e+01, -2.42068028e+01,\n",
       "         -1.56766743e+01,  5.01524519e+00,  8.57821068e-01,\n",
       "         -3.82255064e+00, -2.93844595e+00, -1.01682879e+01,\n",
       "         -5.83969631e-01],\n",
       "        [-1.23062688e+01,  3.42745794e+01, -1.93145993e+01,\n",
       "          2.36760967e+01,  2.62325266e+01, -1.92431739e+01,\n",
       "         -8.67293490e+00, -2.10821875e+01, -5.91321066e+00,\n",
       "          1.21112499e+00],\n",
       "        [-3.70764793e+01, -1.43744498e+01,  9.96504542e+00,\n",
       "          2.32982674e+00, -1.45512342e+01, -4.19485674e+01,\n",
       "         -1.38678999e+00, -8.86864113e+00,  8.68938852e+00,\n",
       "         -1.72223800e+00],\n",
       "        [ 1.33514079e+01, -2.10800382e+00,  3.94581620e+01,\n",
       "         -5.19833196e+00,  1.43372075e+01,  1.74991504e+01,\n",
       "         -1.67495182e+01, -8.83182067e+00, -2.11833976e+01,\n",
       "         -1.25654517e+01],\n",
       "        [-6.14246042e+01, -1.34587048e+01,  4.56022313e+00,\n",
       "         -1.55493687e+00,  3.46740592e+00,  2.39165096e+01,\n",
       "          4.93891355e+00, -2.13974234e+01,  1.23424403e+00,\n",
       "          1.64034856e+01],\n",
       "        [-6.55237401e+00,  5.32663828e+01, -2.07201209e+01,\n",
       "         -1.42438879e-01, -7.60460493e+00, -2.12762486e+01,\n",
       "          1.19052715e+01,  3.04886763e+00,  1.32082068e+01,\n",
       "          2.26411228e+01],\n",
       "        [-5.30111073e+01, -3.68720394e+01,  2.50496226e+01,\n",
       "          9.81029671e+00, -4.93544377e+01,  9.88370905e+00,\n",
       "         -1.32814074e+00,  1.34775500e+01,  1.58283616e+01,\n",
       "         -9.71157998e+00],\n",
       "        [-3.07016688e+00, -9.01063426e+01, -5.31164723e+00,\n",
       "         -1.32394079e+01,  3.03433916e+01,  8.32398131e+00,\n",
       "         -1.52721786e+00,  1.74257365e+01,  5.29978896e-01,\n",
       "          3.73143924e+00],\n",
       "        [ 1.40824978e+01, -3.46131849e+01,  4.17082359e+01,\n",
       "         -1.57800644e+01,  1.47306476e+01,  8.85977148e+00,\n",
       "          3.94914693e+00,  4.51846961e+00,  2.44840251e+01,\n",
       "         -4.64494445e+00],\n",
       "        [ 7.52615669e+00, -1.96756956e+01, -3.77513696e+00,\n",
       "         -2.02219257e+01, -9.84773211e+00,  1.30075944e+00,\n",
       "         -3.21584739e+00, -3.07643391e+01, -1.67782276e+00,\n",
       "          1.25463829e+01],\n",
       "        [-2.02075357e+01,  2.23137967e+01, -9.12966167e+00,\n",
       "         -1.18410393e+00,  1.34150913e+01, -1.94236779e+01,\n",
       "         -2.37121251e+01,  8.86988433e+00,  1.80994016e+00,\n",
       "         -1.64719352e-01],\n",
       "        [-3.90640036e+01, -2.92631247e+01,  6.33658667e+01,\n",
       "          1.54718965e+01, -1.18838590e+01,  9.30416000e+00,\n",
       "         -1.82965632e+01, -3.61795828e+00,  8.19648367e+00,\n",
       "         -6.40932563e+00],\n",
       "        [-2.48666454e+01, -5.41969513e+01,  2.98515551e+01,\n",
       "         -1.75802440e+01,  4.48434787e+01, -4.74853393e+00,\n",
       "         -2.51068054e+01, -3.64550646e+00,  3.76107425e+00,\n",
       "          5.72155464e-01],\n",
       "        [ 5.40038163e+01,  5.61033206e+01, -6.14258518e+01,\n",
       "          2.86565255e+00,  8.87006466e+00, -7.18070524e+00,\n",
       "          6.56410355e+00,  1.27781074e+01,  1.41007447e+01,\n",
       "         -2.36658996e+00],\n",
       "        [-1.09357821e+01,  2.07419556e+01, -2.67941511e+01,\n",
       "         -2.30100635e+01, -1.94079734e+01, -1.52463723e+01,\n",
       "         -5.84451710e-01,  2.33006819e+01, -8.70966161e+00,\n",
       "          9.46224042e+00],\n",
       "        [-2.10623724e+00, -2.48295382e+01,  7.46139832e+01,\n",
       "         -1.50571045e+01,  4.89373685e+01,  1.27946608e+01,\n",
       "          9.52786723e+00,  2.07613166e-01, -9.69968533e+00,\n",
       "          1.04130908e+01],\n",
       "        [-2.62357039e+01, -3.18905283e+00,  5.32926207e+00,\n",
       "         -1.18502005e+01, -2.26683793e+01, -2.90012109e+01,\n",
       "         -1.63246224e+01,  7.42509331e+00,  1.89639049e+01,\n",
       "          1.41316215e+01],\n",
       "        [ 1.06422310e+02,  1.84180350e+01, -2.92177898e+01,\n",
       "         -1.97441709e+01, -2.15407240e+01,  6.54558496e-01,\n",
       "         -3.23143161e+00, -1.10765246e+01, -1.10994074e+01,\n",
       "         -1.29875150e+01],\n",
       "        [-4.38471827e+01,  9.64204650e+00, -1.61864591e+01,\n",
       "         -1.45354671e+01,  6.44569515e+00, -3.23878984e+00,\n",
       "         -2.46883089e+00,  2.57660292e+01, -2.00663469e+01,\n",
       "          1.03270038e+01],\n",
       "        [-5.01673931e+01, -1.14905073e+00, -4.29674132e+00,\n",
       "         -1.71244393e+01,  9.71258230e+00, -2.53068211e+01,\n",
       "          4.29055729e+00,  8.17727620e+00, -1.53127348e+01,\n",
       "          2.90444611e+01],\n",
       "        [-1.20991055e+01,  2.90843565e+01, -1.70772261e+01,\n",
       "          1.20109817e+00,  7.50502051e+00, -2.33248519e+01,\n",
       "         -1.05069924e+01, -5.19285937e+00,  7.81733988e+00,\n",
       "          3.10976492e+01],\n",
       "        [ 1.72598964e+01,  3.45202328e+01,  4.77071587e+01,\n",
       "          4.77245811e+01,  9.39155613e+00, -1.38513453e+00,\n",
       "          1.03116102e+01,  2.72418404e+00,  3.49491754e+01,\n",
       "         -1.01314641e+01],\n",
       "        [ 2.26241967e+01,  5.83743762e+01,  6.19144060e+00,\n",
       "          2.98425859e+01,  7.54414358e+00, -1.23023379e+01,\n",
       "         -5.78850905e+00,  8.32682035e+00,  2.77012669e+01,\n",
       "         -1.30462548e+01],\n",
       "        [-4.85154075e+01,  1.43238517e+01, -2.49940494e+01,\n",
       "         -3.34003830e+00,  2.18502393e+00, -1.19588507e+01,\n",
       "         -9.17308534e+00, -4.75994992e+00, -2.82348158e+01,\n",
       "         -9.31039139e+00],\n",
       "        [-3.56208444e+01,  2.65282553e-01,  4.55245356e+01,\n",
       "         -2.60248956e+01, -9.60393071e+00,  7.74736360e-02,\n",
       "         -2.89033980e-01,  2.74874757e+01, -7.61659355e+00,\n",
       "         -1.38034080e+00],\n",
       "        [ 4.61463898e+01,  1.34651666e+01, -5.84553324e+00,\n",
       "         -5.96611023e+00, -5.95049083e-01,  9.89318141e+00,\n",
       "         -3.89652680e+01, -4.09161379e+00,  1.28250007e+01,\n",
       "         -1.72253511e+01],\n",
       "        [ 2.05208228e+01, -7.78362240e-01,  5.52968222e+01,\n",
       "          7.10187469e+00,  7.53952328e+00,  1.80763661e+01,\n",
       "         -2.24549513e+01, -4.13751632e+01,  2.58137336e+00,\n",
       "          8.81460547e+00],\n",
       "        [ 2.81455722e+01,  5.20169991e+01, -1.28096987e+01,\n",
       "         -1.62864853e+00,  5.18635128e+00,  3.85383174e+00,\n",
       "          2.11761747e+01, -8.06617288e+00, -7.24562431e+00,\n",
       "         -4.65126358e+00],\n",
       "        [ 1.66378971e+01, -8.23495429e+01, -4.31661013e+01,\n",
       "          3.32386573e+01,  5.41599665e+00, -1.86837433e+00,\n",
       "         -5.06274938e+00,  7.22422895e+00,  2.60888283e-01,\n",
       "         -1.07818127e+01],\n",
       "        [-2.44402225e+01,  2.92593878e+01, -1.70084229e+01,\n",
       "         -1.17295840e+01, -2.71077003e+01,  1.28282067e+01,\n",
       "          1.36310125e+00,  1.95144117e+01, -1.39730269e+01,\n",
       "         -7.76398352e+00],\n",
       "        [-1.92743223e+01, -2.35899540e+00,  5.37581471e+01,\n",
       "          2.13235502e+01,  6.87267314e+00, -1.73603069e+01,\n",
       "          6.81318741e+00, -6.18501285e+00, -8.04174964e+00,\n",
       "         -2.61160368e+00],\n",
       "        [-3.56400137e+00,  6.50354218e+00,  1.22858837e+01,\n",
       "          1.62336782e+01, -2.51807371e+01,  8.69922058e+00,\n",
       "          1.51417041e+01,  6.15763878e+00, -1.92343514e+01,\n",
       "         -1.82503300e+01],\n",
       "        [-3.43181295e+01,  3.13470831e+01, -8.49365724e+00,\n",
       "          1.86460659e+01,  3.43263518e+00,  4.18555155e+01,\n",
       "          2.33468829e+01,  2.50023991e+00, -1.45742391e+01,\n",
       "         -1.93258339e+01],\n",
       "        [-2.70088752e+01, -4.93939009e+01,  9.11645175e+00,\n",
       "         -1.91376956e+01,  4.76813398e+00,  1.93029224e+01,\n",
       "          2.58107368e+01, -1.77767563e+01,  1.30827877e+01,\n",
       "          1.46279779e+01]]),\n",
       " 'predictions': array([1, 1, 1, 1, 1, 1, 1, 0, 1, 1, 0, 1, 1, 1, 1, 0, 1, 1, 0, 1, 1, 1,\n",
       "        1, 0, 1, 1, 1, 1, 1, 1, 1, 1, 0, 1, 1, 1, 0, 1, 1, 1, 0, 1, 1, 1,\n",
       "        0, 0, 1, 0, 1, 1, 1, 1, 1, 1, 1, 1, 0, 0, 1, 1, 1, 1, 1, 1, 1, 1,\n",
       "        1, 1, 1, 1, 1, 1, 1, 1, 1, 1, 1, 0, 1, 1, 1, 1, 0], dtype=int64),\n",
       " 'Test Accuracy': 0.9397590361445783,\n",
       " 'AUC_score': 0.8376865671641791}"
      ]
     },
     "execution_count": 27,
     "metadata": {},
     "output_type": "execute_result"
    }
   ],
   "source": [
    "svm_pca = pickle.load(open('SVM/SVM_PCA.pkl', 'rb'))\n",
    "svm_pca"
   ]
  },
  {
   "cell_type": "code",
   "execution_count": 28,
   "metadata": {},
   "outputs": [
    {
     "name": "stderr",
     "output_type": "stream",
     "text": [
      "c:\\Users\\Asus\\AppData\\Local\\Programs\\Python\\Python37\\lib\\site-packages\\ipykernel_launcher.py:10: MatplotlibDeprecationWarning: savefig() got unexpected keyword argument \"bounding_box_inches\" which is no longer supported as of 3.3 and will become an error in 3.6\n",
      "  # Remove the CWD from sys.path while we load stuff.\n"
     ]
    },
    {
     "data": {
      "image/png": "[encoded data removed]",
      "text/plain": [
       "<Figure size 360x360 with 1 Axes>"
      ]
     },
     "metadata": {
      "needs_background": "light"
     },
     "output_type": "display_data"
    }
   ],
   "source": [
    "all_dim_auc = svm_all_dim['AUC Score']\n",
    "pca_auc = 0.891325\n",
    "\n",
    "plt.figure(figsize=(5, 5))\n",
    "plt.bar(['All Dimensions', 'PCA'], [all_dim_auc, pca_auc])\n",
    "plt.text(0, all_dim_auc + 0.01, str(round(all_dim_auc, 3)))\n",
    "plt.text(1, pca_auc + 0.01, str(round(pca_auc, 3)))\n",
    "plt.ylabel('AUC Score')\n",
    "plt.title('AUC Scores for SVM Models')\n",
    "plt.savefig('SVM/svm_auc_scores.jpg', bounding_box_inches='tight')\n",
    "plt.show()"
   ]
  },
  {
   "cell_type": "code",
   "execution_count": 29,
   "metadata": {},
   "outputs": [
    {
     "name": "stderr",
     "output_type": "stream",
     "text": [
      "c:\\Users\\Asus\\AppData\\Local\\Programs\\Python\\Python37\\lib\\site-packages\\ipykernel_launcher.py:10: MatplotlibDeprecationWarning: savefig() got unexpected keyword argument \"bounding_box_inches\" which is no longer supported as of 3.3 and will become an error in 3.6\n",
      "  # Remove the CWD from sys.path while we load stuff.\n"
     ]
    },
    {
     "data": {
      "image/png": "[encoded data removed]",
      "text/plain": [
       "<Figure size 360x360 with 1 Axes>"
      ]
     },
     "metadata": {
      "needs_background": "light"
     },
     "output_type": "display_data"
    }
   ],
   "source": [
    "all_dim_acc = svm_all_dim['Test Set Accuracy']\n",
    "pca_acc = 0.939759\n",
    "\n",
    "plt.figure(figsize=(5, 5))\n",
    "plt.bar(['All Dimensions', 'PCA'], [all_dim_acc, pca_acc])\n",
    "plt.text(0, all_dim_acc + 0.01, str(round(all_dim_acc, 3)))\n",
    "plt.text(1, pca_acc + 0.01, str(round(pca_acc, 3)))\n",
    "plt.ylabel('Test Accurace')\n",
    "plt.title('Test Accuracy for SVM Models')\n",
    "plt.savefig('SVM/svm_acc_scores.jpg', bounding_box_inches='tight')\n",
    "plt.show()"
   ]
  },
  {
   "cell_type": "markdown",
   "metadata": {},
   "source": [
    "## AdaBoost"
   ]
  },
  {
   "cell_type": "code",
   "execution_count": 30,
   "metadata": {},
   "outputs": [
    {
     "data": {
      "text/plain": [
       "{'Model': AdaBoostClassifier(n_estimators=200, random_state=42),\n",
       " 'Best Parameters': {'learning_rate': 1.0, 'n_estimators': 200},\n",
       " 'Training Set Accuracy': 0.9453433416736169,\n",
       " 'Test Set Accuracy': 0.927710843373494,\n",
       " 'AUC Score': 0.8838619402985075}"
      ]
     },
     "execution_count": 30,
     "metadata": {},
     "output_type": "execute_result"
    }
   ],
   "source": [
    "all_dim_dict = pickle.load(open('Adaboost/adaboost_all_dim.pkl', 'rb'))\n",
    "all_dim_dict"
   ]
  },
  {
   "cell_type": "code",
   "execution_count": 31,
   "metadata": {},
   "outputs": [
    {
     "data": {
      "text/plain": [
       "{'Model': AdaBoostClassifier(learning_rate=0.1, n_estimators=100, random_state=42),\n",
       " 'n_components': 11,\n",
       " 'x_train': array([[ -1.60164246,  80.26061605,  92.53210386, ..., -25.93685497,\n",
       "         -29.01502619, -17.94426104],\n",
       "        [ -1.44790999, -10.00248372,  76.51764749, ..., -11.75492592,\n",
       "          -5.45182645, -19.23885749],\n",
       "        [-36.65433714,   1.39282575, -81.05119127, ...,  -6.21478364,\n",
       "          -8.81749871, -11.88653957],\n",
       "        ...,\n",
       "        [118.13111884, -30.35089492,  15.40632602, ..., -20.1321586 ,\n",
       "          35.31445158, -11.45783272],\n",
       "        [-19.68740623,  -8.70935296,  56.1425256 , ..., -34.68590438,\n",
       "          24.02407216, -34.82947235],\n",
       "        [ 41.91168263, -21.76418395, -15.20395106, ..., -30.49528776,\n",
       "          -1.48308213, -10.19036445]]),\n",
       " 'x_test': array([[-2.27972020e+01,  2.01085187e+01, -4.20448762e+01,\n",
       "          1.58326911e+01, -1.38904966e+00, -1.55327479e+01,\n",
       "          2.61392186e+01, -7.65621129e+00,  1.81276461e+01,\n",
       "          1.82919775e+00, -1.67381088e+01],\n",
       "        [-6.06073140e+01,  9.35673039e+00, -3.35992056e+01,\n",
       "         -1.18887803e+01,  5.41494576e+00, -5.45443776e+00,\n",
       "         -2.70750805e+01, -3.18665955e+00,  2.03865402e+01,\n",
       "          2.00077051e+01,  1.92223013e+00],\n",
       "        [-5.85941662e+01,  4.55499916e+00, -2.91837470e+01,\n",
       "         -4.87787978e+01,  1.36135169e+01,  2.40281240e+01,\n",
       "          2.04734745e+00, -1.34869713e+01, -2.98134109e+01,\n",
       "         -1.84617445e+01, -8.17578368e+00],\n",
       "        [-2.98352612e+00, -3.64355536e+01, -1.64169394e+01,\n",
       "          1.48588848e+01,  7.88181709e+00, -4.72345316e+01,\n",
       "          1.69280943e+01,  1.80087082e+00, -1.29867310e+01,\n",
       "          2.59004637e+01, -2.34099340e+01],\n",
       "        [-5.95090201e+01,  2.86378373e+01, -1.57274027e+01,\n",
       "         -4.89500343e+01, -2.23299096e+00, -3.04653505e-01,\n",
       "          6.12028262e+00, -1.77389390e+01, -1.54342782e+01,\n",
       "         -4.37518224e+01,  2.39290433e+01],\n",
       "        [ 3.50399945e+00,  4.44369590e+01, -2.98430743e+01,\n",
       "          2.44966018e+01,  1.46054412e+01,  4.60213794e+01,\n",
       "          7.43870282e+00, -3.15382005e+01,  6.53575974e+00,\n",
       "         -3.04266673e+01, -1.18808169e+01],\n",
       "        [-1.41156595e+00,  1.55751137e+01, -5.11349640e+01,\n",
       "          5.83828117e+00,  3.88584911e+00,  2.61349371e+01,\n",
       "          2.19283426e+01,  7.48857177e+00,  3.51455153e+01,\n",
       "         -4.89688942e+01, -1.47150460e+01],\n",
       "        [ 8.68031803e+01, -3.65600204e+01, -9.93562839e+01,\n",
       "         -8.59943517e+00,  4.54113432e+00,  4.99003775e+00,\n",
       "         -2.10383947e+01,  1.81959412e+01,  7.51091565e+00,\n",
       "         -1.03271562e+01,  8.86577678e+00],\n",
       "        [ 4.05747932e+01, -7.66885161e+01,  5.92580471e+01,\n",
       "          5.66357565e+01, -2.87195959e+01, -9.45566984e+00,\n",
       "         -7.68125277e+00,  8.41670435e+00, -1.95773840e+01,\n",
       "          3.36523592e+01, -1.66904584e+01],\n",
       "        [-7.59378348e+01,  2.75062204e+01, -3.34144689e+01,\n",
       "         -4.85307673e+01, -1.88327914e+01, -3.65854159e+01,\n",
       "          3.73231292e+01, -1.30723617e+01, -2.28969537e+00,\n",
       "          9.23008041e+00,  1.70817626e+01],\n",
       "        [ 5.54432159e+01,  4.32702339e+01, -9.02901133e+01,\n",
       "         -5.12406592e+01, -1.43266285e+01,  7.63778457e+00,\n",
       "          1.60625821e+01,  1.25174553e+01, -2.76887635e+01,\n",
       "         -7.65953024e+00, -2.10149155e+01],\n",
       "        [-6.12379996e-01, -9.58988778e+01,  3.31026134e+01,\n",
       "          1.52822443e+01, -1.58358945e+01,  1.12155529e+01,\n",
       "          4.92260909e+00,  3.81967000e+00, -1.19683702e+01,\n",
       "          1.92328708e+01,  6.10766911e+00],\n",
       "        [-1.13292491e+01, -5.05208546e+01, -3.09789722e+01,\n",
       "         -9.81222208e+00,  2.07126332e+00, -3.02010456e+01,\n",
       "          3.01348561e+01,  9.83245717e+00,  4.74877833e+00,\n",
       "         -1.10346374e+01, -5.22588971e+00],\n",
       "        [-5.96868246e+01,  2.32306192e+01, -1.23159545e+01,\n",
       "          2.21068788e+01, -3.39861971e+01,  3.50984997e+01,\n",
       "          9.72648981e+00, -6.37588293e+00,  3.04541558e-01,\n",
       "         -2.13047277e+01,  5.32611321e+00],\n",
       "        [-5.27965172e+01,  1.89100805e+01, -5.27126562e+01,\n",
       "         -8.29767277e-01, -9.81814309e+00, -1.20576238e+01,\n",
       "         -1.80627107e+01, -2.21831760e+01,  2.00657689e+00,\n",
       "         -2.19536196e+01, -2.53479690e+00],\n",
       "        [ 1.14467590e+02,  1.90832238e+01, -5.51912045e+01,\n",
       "         -2.63211881e+01, -2.70732506e+01,  1.97753907e+01,\n",
       "         -8.35521458e+00, -7.85980799e+00, -1.29519787e+01,\n",
       "          2.39029064e+00, -1.04091034e+00],\n",
       "        [ 2.74534004e+01, -1.94805918e+01, -4.02814669e+01,\n",
       "          2.80416636e+01, -2.63677489e+01,  6.84309831e+00,\n",
       "          2.67920410e+01, -3.48942970e+01, -6.57298144e+00,\n",
       "         -7.03108975e+00, -3.88907215e+00],\n",
       "        [ 1.99359262e+01,  7.42440515e+01,  9.67205602e+00,\n",
       "         -5.03652827e-02,  1.85654913e+01,  1.57977172e+00,\n",
       "          5.68392670e+01, -1.46220026e+01, -3.89927040e+01,\n",
       "          2.63768541e+00, -9.53132637e+00],\n",
       "        [ 3.21110589e+01, -1.21664898e+01, -3.53104337e+01,\n",
       "          7.11798243e+01,  3.66223977e+01,  1.28822214e+01,\n",
       "          2.92837366e+01,  1.90533868e+01, -2.75656402e+01,\n",
       "          3.88799187e+00,  2.47559813e+00],\n",
       "        [ 2.41094097e+01, -1.18230398e+01,  9.46224432e+01,\n",
       "         -5.57349051e+01, -5.44822369e+00,  2.21926534e+01,\n",
       "          3.84648757e+01,  1.26322859e+01,  2.27033233e+01,\n",
       "         -1.70662222e+01,  1.62631142e+01],\n",
       "        [-2.46313607e+01,  3.93441457e+01, -5.10794106e+01,\n",
       "          5.14697668e+01,  6.43736040e-01, -1.77314775e+01,\n",
       "         -4.23397058e+00,  1.71784597e+01,  4.51378486e+00,\n",
       "         -5.71330729e+00,  1.27057540e+00],\n",
       "        [-3.79782157e+01, -6.89337122e+01,  7.07412944e+00,\n",
       "         -2.40741759e+01, -3.63417355e+01,  2.08287619e+00,\n",
       "          5.86853252e+00,  1.38235542e+01,  7.67756642e-01,\n",
       "         -8.08366042e+00,  1.38778588e+01],\n",
       "        [ 6.24346410e+01, -1.27561729e+01,  1.29391211e+02,\n",
       "          4.74441564e+01, -2.90785290e+01, -2.89207207e+00,\n",
       "          3.09687350e+00,  7.68218900e+00,  1.57686410e+01,\n",
       "         -1.13834677e+01, -3.18896823e+00],\n",
       "        [ 8.41898771e+01, -8.36374364e-01, -4.06547017e+01,\n",
       "         -1.62603106e+01, -3.21101966e+01,  2.83041964e+01,\n",
       "         -3.27611907e+00, -7.08595032e+00, -4.06343151e+00,\n",
       "          2.26878051e+01, -8.97803822e+00],\n",
       "        [-3.94103707e+01, -4.62228753e+01, -6.18410381e+00,\n",
       "          2.68470270e+01, -5.25752553e+00,  1.59469713e+01,\n",
       "         -3.01723316e+01,  9.67907257e+00, -7.35309515e+00,\n",
       "          9.20427415e+00, -2.30707003e+01],\n",
       "        [-6.81361131e+01,  1.39557806e+01, -2.59108797e+01,\n",
       "         -2.10074330e+01,  2.30526189e+01,  5.43386496e+01,\n",
       "         -8.40287118e+00,  4.59810847e+01,  1.88607052e+01,\n",
       "          9.14999854e-01, -2.00631336e+01],\n",
       "        [-1.11005188e+01, -5.75584390e+01, -1.29951211e+01,\n",
       "         -6.60902427e+00,  3.99856340e+01,  1.21854087e+01,\n",
       "         -1.69555352e+01, -3.37581913e+00,  1.04124284e+01,\n",
       "         -1.30471762e+01,  8.70428949e+00],\n",
       "        [ 8.59481943e+00,  1.07909249e+01,  4.02526465e-01,\n",
       "          1.66644135e+01, -1.40500656e+01, -4.46308420e+01,\n",
       "          1.82890269e+01, -2.53481475e+01,  2.16097434e+01,\n",
       "         -6.31300205e+00, -1.05796193e+01],\n",
       "        [-2.82976825e+01, -1.92236224e+01, -4.18039500e+01,\n",
       "         -1.08978324e+00,  2.03000390e+01,  1.74000203e+01,\n",
       "          6.19720494e+00, -4.00845280e+00, -1.93867143e+01,\n",
       "          5.40040784e+00, -1.77405802e+01],\n",
       "        [-8.02078745e+01,  3.66291808e+01, -4.20809845e+01,\n",
       "          2.50616208e+00, -5.16714180e+01,  1.97491690e+01,\n",
       "         -6.18774659e+00,  3.32231257e+01,  5.84500653e+00,\n",
       "          8.10936924e+00, -5.11509936e+00],\n",
       "        [-1.32588430e+01, -6.41581639e+01,  4.24731570e+01,\n",
       "         -1.78059888e+01, -5.43699829e+00,  1.15076165e+01,\n",
       "          6.17131137e+00,  5.16459681e-02,  2.21826760e+00,\n",
       "         -1.72058181e+00, -1.09474270e+01],\n",
       "        [-3.36237225e+01,  1.53073952e+01,  1.86392375e+01,\n",
       "         -1.14383533e+01,  3.91455125e+00,  3.13984173e+01,\n",
       "          3.70111360e+01, -9.74565977e+00, -2.52591721e+01,\n",
       "          3.39122662e+01, -4.73659302e+01],\n",
       "        [ 7.65944820e+01, -4.08106140e+01, -2.67593244e+01,\n",
       "         -4.52267139e+01, -3.51839349e+01,  2.70281520e+01,\n",
       "          1.52701796e+01,  1.69668978e+00,  5.79519525e+00,\n",
       "          1.96059514e+00, -8.08042278e+00],\n",
       "        [-8.74202318e+01,  4.62285769e+01, -2.45322671e+01,\n",
       "          2.64908846e+00, -4.93582500e+01,  6.35549707e+01,\n",
       "          9.06800869e+00,  8.11688067e+00,  1.66903462e+00,\n",
       "          1.03508711e+01, -1.75522241e+01],\n",
       "        [-8.02435453e+00, -2.35900563e+01, -2.63816112e+00,\n",
       "          4.77008254e+00,  3.95817834e+00,  9.03233756e+00,\n",
       "         -9.67682132e+00, -2.38429983e+01,  1.60383206e+01,\n",
       "          8.07573600e+00, -5.59312137e+00],\n",
       "        [-6.19326462e+01,  2.64172406e+01, -5.60094182e+01,\n",
       "         -3.28895517e+01,  1.32717253e+01,  3.25653542e+01,\n",
       "         -3.12445798e+01, -1.29440127e+01, -2.18269363e+01,\n",
       "         -2.69452686e+01,  1.48523860e+01],\n",
       "        [ 7.72080255e+01,  2.77500262e+01,  2.32163500e+01,\n",
       "          4.07252949e+01,  2.64460933e+01,  2.67769979e+01,\n",
       "          4.71770080e+01, -2.05140195e+01,  1.86701563e+01,\n",
       "         -5.27062877e+00,  2.07634684e+01],\n",
       "        [ 1.92610329e+01, -6.53008434e+00,  8.96497959e+01,\n",
       "          3.40882322e+00,  9.60160974e+00,  7.85713716e+00,\n",
       "         -8.74919688e+00,  1.85286008e+01, -6.03069663e+00,\n",
       "         -1.95369775e+01,  1.13271319e+01],\n",
       "        [-3.31870619e+01, -4.85592708e+01, -1.54736199e+01,\n",
       "          3.59390385e+00,  5.24646346e+00,  7.65988168e+00,\n",
       "         -2.16984491e+01, -2.25258599e+01, -2.42894669e-01,\n",
       "          5.98813818e+00, -2.49239948e+00],\n",
       "        [-3.85354246e+01,  8.42864436e+01,  2.20835005e+01,\n",
       "          2.49671987e+01,  1.90420762e+01, -4.87876112e+00,\n",
       "         -2.55225679e+01, -3.67057677e+00,  1.29855782e+01,\n",
       "         -2.27503824e+01, -1.32044242e+01],\n",
       "        [ 8.39835624e+01,  3.87652282e+01, -8.73373458e+01,\n",
       "         -2.03403259e+01, -7.01389207e+00,  2.95171435e+00,\n",
       "         -2.13207551e+01,  5.87775296e+00, -8.53047292e-01,\n",
       "          3.07001537e+00, -3.80908105e+00],\n",
       "        [ 4.46128800e+00, -7.08038671e+01,  3.87058421e+01,\n",
       "          1.42723124e+00,  1.70233469e+01,  7.16919659e+00,\n",
       "         -1.80833256e+01, -6.36448071e+00,  4.52389465e-01,\n",
       "          3.53067914e+00,  3.51338446e+00],\n",
       "        [ 2.85361085e+01, -5.38838972e-01, -2.88621998e+01,\n",
       "          6.26438778e+01, -2.48781922e+01, -8.04998300e+00,\n",
       "          2.22693935e+01, -8.08696438e-01, -2.73764035e+01,\n",
       "         -1.34743791e+01,  1.29155612e+00],\n",
       "        [ 1.23527540e+01, -1.04282241e+01,  9.09560421e+01,\n",
       "          5.70326981e+00, -9.09611529e+00,  1.61291925e+01,\n",
       "          1.62181215e+01, -8.85667319e+00,  3.85256445e+00,\n",
       "          2.89786882e+01, -2.49925881e+01],\n",
       "        [ 1.06410773e+02,  4.53988728e+01, -3.20077335e+01,\n",
       "         -3.68916029e+01,  1.53302537e+01,  8.12115744e+00,\n",
       "         -1.24974726e+01,  3.32319326e+00,  1.61371193e+01,\n",
       "          1.41021341e+01, -3.03848574e+00],\n",
       "        [ 1.27098629e+02,  6.94666442e+00,  1.92371627e+01,\n",
       "          2.64176631e+01, -5.69374441e+01,  9.36345085e+00,\n",
       "          1.28435930e+00,  8.69922498e+00,  6.59047641e+00,\n",
       "         -1.84120045e+01,  7.13788037e+00],\n",
       "        [ 1.86896910e+01, -3.93920252e+01,  3.03942719e+01,\n",
       "         -3.18250396e+01, -1.18853509e+01, -1.72105361e+01,\n",
       "          9.84774555e+00, -1.50848385e+01, -1.73482068e+00,\n",
       "          2.43224278e+01,  1.71100287e+01],\n",
       "        [ 7.95446506e+01, -6.72425577e-01, -3.01689352e+01,\n",
       "         -5.29730214e+01, -7.21090949e+00,  3.29326256e+00,\n",
       "          5.42966792e+00,  1.02678372e+00,  1.49986828e+01,\n",
       "          1.72155426e-01, -1.13983335e+01],\n",
       "        [-1.69997774e+01, -4.68821472e+01, -2.23882275e+01,\n",
       "         -4.92258345e-01,  1.77030989e+01, -4.63697426e+00,\n",
       "         -4.69447217e+01, -2.73158163e+01, -2.46891729e+01,\n",
       "          1.40602609e-01,  1.54692076e+01],\n",
       "        [-4.63669927e+01,  1.25813687e+01, -2.72764648e+01,\n",
       "          1.29329821e+01,  8.84187460e+00,  5.71763940e+00,\n",
       "         -8.18170454e+00, -1.52177039e+01,  1.14441765e+01,\n",
       "         -5.88058158e+00, -2.24307921e+00],\n",
       "        [-3.29285196e+01,  2.41996551e+01, -2.44308429e-01,\n",
       "         -1.14681250e+01, -2.89159652e+01, -1.04736709e+01,\n",
       "          2.00472873e+01, -3.24769651e+01,  1.23110084e+01,\n",
       "         -6.50217716e+00, -2.05348630e+00],\n",
       "        [-2.05405669e+01, -3.60600869e+01, -1.46786966e+01,\n",
       "         -2.64505331e+01,  1.07913107e+01, -3.42252725e+01,\n",
       "          1.32368189e+01,  2.00419471e+01, -5.43290074e+00,\n",
       "          1.62498179e+01, -2.02428830e+01],\n",
       "        [ 6.97165001e+00, -3.95043908e+01,  4.14055306e+01,\n",
       "          2.28255249e+01, -2.28415824e+01,  2.52066792e+00,\n",
       "         -1.33518090e+01, -3.00807724e+01, -1.29573630e+00,\n",
       "         -3.38493931e+01,  1.07754334e+01],\n",
       "        [-2.16515343e+01, -5.11088335e+01, -2.23588353e+01,\n",
       "          1.11215106e+01,  8.65224160e+00,  2.27457098e+01,\n",
       "          1.14579940e+01, -2.49087594e+01,  7.47971992e+00,\n",
       "          2.84717987e+00, -9.90681073e+00],\n",
       "        [-5.68175177e+01,  4.05213693e+01,  7.40732102e+00,\n",
       "         -2.59989950e+01,  4.62409198e+00, -5.82386857e+00,\n",
       "          2.69514955e+01,  3.66096102e+00,  4.19624109e+01,\n",
       "          2.37007740e+01, -1.52353127e+01],\n",
       "        [ 8.84861071e+00, -7.54675943e+01, -8.32088212e+00,\n",
       "         -4.85594226e+01,  2.95775313e+01,  1.87311317e+01,\n",
       "          4.85336207e+00,  2.68428111e+01,  1.48088448e+01,\n",
       "         -2.33086163e+01,  1.57793698e+01],\n",
       "        [ 9.44406608e+01, -3.88486424e+01, -4.69958249e+01,\n",
       "          3.63924699e+01, -2.69192889e+01,  6.74944437e+00,\n",
       "         -9.11334683e+00,  1.08139754e+01,  8.97632390e+00,\n",
       "          6.81351086e+00, -7.91144869e+00],\n",
       "        [ 5.25400627e+01, -5.49536870e+01,  2.51877888e+01,\n",
       "          2.65298146e+01, -7.06481093e+00,  2.28757855e+01,\n",
       "          3.01719989e+01,  1.29317895e+01,  2.40489085e+01,\n",
       "         -5.63180627e+00,  1.24289900e+00],\n",
       "        [ 1.49203029e+01,  3.62077908e+00, -2.12002708e+01,\n",
       "          2.69156881e+01,  3.08526163e+01, -1.79951623e+01,\n",
       "          3.27902969e+00, -1.30455502e+01, -4.01524615e+00,\n",
       "          1.52537744e+00,  6.27074390e+00],\n",
       "        [-4.17800268e+01,  8.28464856e+00, -1.21343916e+01,\n",
       "         -6.50194691e-01, -2.88743570e+01, -3.82749072e+01,\n",
       "         -6.01607654e-01,  1.33520423e+01, -7.43117248e-01,\n",
       "          9.88076171e+00,  6.92690195e+00],\n",
       "        [ 1.04934856e+01, -9.30078141e+01,  2.58420654e+01,\n",
       "         -2.34109204e+01, -1.34820091e+01,  8.55318016e+00,\n",
       "          6.85214026e+00,  1.04884737e+01,  7.86303867e+00,\n",
       "         -1.03461108e+01, -8.75929983e+00],\n",
       "        [ 3.31649454e+01, -5.79266440e+01, -1.52947215e+01,\n",
       "          5.13518050e+01, -4.62952288e+01, -2.27218658e+01,\n",
       "          3.37447210e+00,  7.82149297e-01, -3.23023318e+00,\n",
       "          8.70194575e+00, -6.88109783e+00],\n",
       "        [-3.30124836e+01,  1.22597181e+02, -2.33762125e+00,\n",
       "         -9.64064454e-01, -3.28328000e+00, -5.80274234e+00,\n",
       "          2.26927969e+01,  1.43425631e+01,  3.60464379e+00,\n",
       "          1.30306516e+01, -1.70203109e-01],\n",
       "        [-4.18564026e+01,  2.39129876e+01, -1.48215217e+01,\n",
       "         -1.19687749e+01,  1.26132470e+01, -2.20043122e+01,\n",
       "         -1.10123285e+01,  1.74614877e+01,  3.10431880e+01,\n",
       "          4.11284048e+00, -9.34267464e+00],\n",
       "        [ 1.64925983e+01, -6.48622924e+01,  3.38113380e+01,\n",
       "          6.14795579e+01, -1.59484845e+01,  1.75193904e+01,\n",
       "         -1.93303328e+01, -2.11101728e+01,  2.25712702e+00,\n",
       "          3.31548667e+01,  8.71989242e+00],\n",
       "        [-1.11522873e+01, -3.17828075e+01,  4.20610007e-01,\n",
       "         -2.17596211e+01, -3.16434587e+00, -3.83282041e+01,\n",
       "          2.65492743e+01,  1.78432184e+01,  2.78397519e+01,\n",
       "         -2.97885804e-01, -1.04994718e+01],\n",
       "        [ 2.75344379e+01,  8.81914512e+01,  3.97058572e+01,\n",
       "          1.92281495e+01,  3.98310329e+01, -1.61288069e+01,\n",
       "         -1.37551321e+01, -1.67213194e+01, -1.07010336e+01,\n",
       "         -2.01130644e+01,  5.30683391e+00],\n",
       "        [-3.47084212e+01, -6.88816302e-01, -3.32482842e+01,\n",
       "          6.83613121e+00, -8.06060082e+00, -1.12544156e+01,\n",
       "         -3.85418524e+01,  6.17814041e+00,  6.71850872e+00,\n",
       "          6.80457488e+00, -3.74648732e+00],\n",
       "        [-3.27308345e+01, -1.93594638e+01, -3.79181843e+01,\n",
       "          8.72447921e+00,  4.14636712e+00, -3.25582603e+01,\n",
       "         -7.53428277e+00, -2.76120587e+01,  3.11694321e+01,\n",
       "          3.29315042e+01,  1.36674962e+01],\n",
       "        [-3.22885619e+01,  1.77855346e+01, -1.56638338e+00,\n",
       "         -1.11796321e+01, -1.69069468e+01, -3.00818396e+01,\n",
       "          2.75600076e+01, -1.72604860e+01,  3.18042771e+01,\n",
       "          1.62537906e+01, -1.21607399e+01],\n",
       "        [-7.62488194e+00, -2.11007028e+01,  7.40064040e+01,\n",
       "         -4.87645914e+01, -2.39668412e+01,  3.91613308e+01,\n",
       "          4.37598634e+01,  3.59595130e+00,  1.49306174e+01,\n",
       "         -7.79997512e+00,  2.10758011e+01],\n",
       "        [-4.05080785e+01,  2.59008478e+01,  5.07619151e+01,\n",
       "         -3.66089035e+01, -2.67407463e+01,  8.24036914e+00,\n",
       "          3.47627857e+01,  6.65303467e-01,  1.57960266e+01,\n",
       "         -1.79880884e+01,  3.13847422e+01],\n",
       "        [-4.99246176e+01,  3.68935133e-01, -3.72772408e+01,\n",
       "         -2.69720258e+00, -6.39072124e-01, -1.76979559e+01,\n",
       "         -2.07353535e+01, -1.60758794e+01, -9.72650738e+00,\n",
       "         -2.02431843e+01, -4.04277560e+00],\n",
       "        [-3.13433118e+01, -5.15558918e+01,  1.14740506e+01,\n",
       "          1.11915657e+01,  5.40985087e+00, -1.58296832e+01,\n",
       "         -3.48135519e+01,  3.06807222e+01, -1.79480272e+01,\n",
       "          1.59334783e+01, -4.15745866e+00],\n",
       "        [ 1.34259519e+01,  1.47720587e+01,  3.49087923e+01,\n",
       "          8.22816606e+00, -3.26065524e+01, -3.87308709e+00,\n",
       "          1.24708754e+01,  3.09484086e+01,  8.75705478e+00,\n",
       "         -2.63429157e+01, -1.58151609e+01],\n",
       "        [ 9.51340154e+00, -3.87688559e+01,  5.30168002e+01,\n",
       "          2.28613213e+01, -5.51738873e+00, -5.88863575e+00,\n",
       "          1.37194040e+01, -3.19748913e+00, -1.72713670e+01,\n",
       "          7.92909402e-01, -1.94273794e+01],\n",
       "        [-3.05003369e+01,  4.03141825e+01,  3.05533268e+01,\n",
       "          2.90158167e+00,  5.60314404e+00,  2.26507511e+01,\n",
       "          1.98362261e+01, -5.23234576e+00,  8.03314056e+00,\n",
       "         -1.07366458e+01, -3.52371494e+01],\n",
       "        [ 1.12874593e+02,  6.31536098e+00, -5.99559052e+01,\n",
       "         -3.11147007e+01, -3.13521500e+01,  1.04579325e+00,\n",
       "         -3.01947739e+00,  8.86702393e-01, -1.28906947e+01,\n",
       "          2.11687765e+00, -9.33695531e+00],\n",
       "        [-4.99978843e+01,  1.80296026e+01, -1.37175005e+01,\n",
       "         -1.65755252e+01,  3.05333123e+01,  7.01364793e+00,\n",
       "         -3.59981752e+01,  4.20578886e+00,  5.42666808e+00,\n",
       "         -2.43831800e+01,  2.07605401e+01],\n",
       "        [-6.80361628e+00, -5.82843454e+01,  3.12621810e+01,\n",
       "         -1.82420522e+01, -9.03386314e+00, -3.08407813e+00,\n",
       "          9.51172840e+00, -9.81455372e+00, -8.06045429e-02,\n",
       "          1.49410782e+01, -1.89781891e+01],\n",
       "        [-7.04870969e+00, -1.94308289e+01,  1.92274808e+01,\n",
       "         -3.48829693e+01,  1.67059213e+01,  2.01151829e+01,\n",
       "         -1.00914696e+01, -2.18849455e+01,  1.58138852e+01,\n",
       "         -2.00350806e+01,  8.14433336e+00],\n",
       "        [-4.18029180e+01,  2.44226429e+00, -5.32529646e+00,\n",
       "         -3.58448956e-01, -1.15316921e+00,  6.05131690e+01,\n",
       "         -1.07535347e+01, -2.19474746e+01, -8.23529180e+00,\n",
       "         -1.92805378e+01,  6.72479158e+00],\n",
       "        [ 4.39448141e+01, -4.39370669e+01, -3.45128170e+01,\n",
       "          3.83809562e+01,  3.80905078e+01,  3.01801572e+01,\n",
       "          2.22972755e+01, -1.77205642e+01,  4.32059127e+00,\n",
       "          1.30994028e+01,  2.36794932e+01]]),\n",
       " 'predictions': array([1, 1, 1, 1, 1, 1, 1, 0, 1, 1, 0, 1, 1, 1, 1, 0, 1, 1, 0, 1, 1, 1,\n",
       "        1, 0, 1, 1, 1, 1, 1, 1, 1, 1, 0, 1, 1, 1, 0, 1, 1, 1, 0, 1, 1, 1,\n",
       "        0, 0, 1, 0, 1, 1, 1, 1, 1, 1, 1, 1, 0, 0, 1, 1, 1, 1, 1, 1, 1, 1,\n",
       "        1, 1, 1, 1, 1, 1, 1, 1, 1, 1, 1, 0, 1, 1, 1, 1, 0], dtype=int64),\n",
       " 'Test Accuracy': 0.9397590361445783,\n",
       " 'AUC_score': 0.8913246268656716}"
      ]
     },
     "execution_count": 31,
     "metadata": {},
     "output_type": "execute_result"
    }
   ],
   "source": [
    "adaboost_pca = pickle.load(open('Adaboost/adaboost_PCA.pkl', 'rb'))\n",
    "adaboost_pca"
   ]
  },
  {
   "cell_type": "code",
   "execution_count": 32,
   "metadata": {},
   "outputs": [
    {
     "name": "stderr",
     "output_type": "stream",
     "text": [
      "c:\\Users\\Asus\\AppData\\Local\\Programs\\Python\\Python37\\lib\\site-packages\\ipykernel_launcher.py:10: MatplotlibDeprecationWarning: savefig() got unexpected keyword argument \"bounding_box_inches\" which is no longer supported as of 3.3 and will become an error in 3.6\n",
      "  # Remove the CWD from sys.path while we load stuff.\n"
     ]
    },
    {
     "data": {
      "image/png": "[encoded data removed]",
      "text/plain": [
       "<Figure size 360x360 with 1 Axes>"
      ]
     },
     "metadata": {
      "needs_background": "light"
     },
     "output_type": "display_data"
    }
   ],
   "source": [
    "all_dim_acc = all_dim_dict['Test Set Accuracy']\n",
    "pca_acc = adaboost_pca['Test Accuracy']\n",
    "\n",
    "plt.figure(figsize=(5, 5))\n",
    "plt.bar(['All Dimensions', 'PCA'], [all_dim_acc, pca_acc])\n",
    "plt.text(0, all_dim_acc + 0.01, str(round(all_dim_acc, 3)))\n",
    "plt.text(1, pca_acc + 0.01, str(round(pca_acc, 3)))\n",
    "plt.ylabel('Test Accuracy')\n",
    "plt.title('Test Accuracy for Adaboost Models')\n",
    "plt.savefig('Adaboost/adaboost_acc_scores.jpg', bounding_box_inches='tight')\n",
    "plt.show()"
   ]
  },
  {
   "cell_type": "code",
   "execution_count": 34,
   "metadata": {},
   "outputs": [
    {
     "name": "stderr",
     "output_type": "stream",
     "text": [
      "c:\\Users\\Asus\\AppData\\Local\\Programs\\Python\\Python37\\lib\\site-packages\\ipykernel_launcher.py:10: MatplotlibDeprecationWarning: savefig() got unexpected keyword argument \"bounding_box_inches\" which is no longer supported as of 3.3 and will become an error in 3.6\n",
      "  # Remove the CWD from sys.path while we load stuff.\n"
     ]
    },
    {
     "data": {
      "image/png": "[encoded data removed]",
      "text/plain": [
       "<Figure size 360x360 with 1 Axes>"
      ]
     },
     "metadata": {
      "needs_background": "light"
     },
     "output_type": "display_data"
    }
   ],
   "source": [
    "all_dim_auc = all_dim_dict['AUC Score']\n",
    "pca_auc = adaboost_pca['AUC_score']\n",
    "\n",
    "plt.figure(figsize=(5, 5))\n",
    "plt.bar(['All Dimensions', 'PCA'], [all_dim_auc, pca_auc])\n",
    "plt.text(0, all_dim_auc + 0.01, str(round(all_dim_auc, 3)))\n",
    "plt.text(1, pca_auc + 0.01, str(round(pca_auc, 3)))\n",
    "plt.ylabel('AUC Score')\n",
    "plt.title('AUC Scores for Adaboost Models')\n",
    "plt.savefig('Adaboost/adaboost_auc_scores.jpg', bounding_box_inches='tight')\n",
    "plt.show()"
   ]
  },
  {
   "cell_type": "markdown",
   "metadata": {},
   "source": [
    "## Deep Learning Model"
   ]
  },
  {
   "cell_type": "code",
   "execution_count": 36,
   "metadata": {},
   "outputs": [
    {
     "data": {
      "text/html": [
       "<div>\n",
       "<style scoped>\n",
       "    .dataframe tbody tr th:only-of-type {\n",
       "        vertical-align: middle;\n",
       "    }\n",
       "\n",
       "    .dataframe tbody tr th {\n",
       "        vertical-align: top;\n",
       "    }\n",
       "\n",
       "    .dataframe thead th {\n",
       "        text-align: right;\n",
       "    }\n",
       "</style>\n",
       "<table border=\"1\" class=\"dataframe\">\n",
       "  <thead>\n",
       "    <tr style=\"text-align: right;\">\n",
       "      <th></th>\n",
       "      <th>epochs</th>\n",
       "      <th>lr</th>\n",
       "      <th>batch_size</th>\n",
       "      <th>acc</th>\n",
       "      <th>auc</th>\n",
       "    </tr>\n",
       "  </thead>\n",
       "  <tbody>\n",
       "    <tr>\n",
       "      <th>0</th>\n",
       "      <td>5</td>\n",
       "      <td>0.001</td>\n",
       "      <td>16</td>\n",
       "      <td>0.903614</td>\n",
       "      <td>0.845149</td>\n",
       "    </tr>\n",
       "    <tr>\n",
       "      <th>1</th>\n",
       "      <td>5</td>\n",
       "      <td>0.001</td>\n",
       "      <td>32</td>\n",
       "      <td>0.915663</td>\n",
       "      <td>0.876399</td>\n",
       "    </tr>\n",
       "    <tr>\n",
       "      <th>2</th>\n",
       "      <td>5</td>\n",
       "      <td>0.001</td>\n",
       "      <td>64</td>\n",
       "      <td>0.927711</td>\n",
       "      <td>0.931437</td>\n",
       "    </tr>\n",
       "    <tr>\n",
       "      <th>3</th>\n",
       "      <td>5</td>\n",
       "      <td>0.001</td>\n",
       "      <td>128</td>\n",
       "      <td>0.903614</td>\n",
       "      <td>0.892724</td>\n",
       "    </tr>\n",
       "    <tr>\n",
       "      <th>4</th>\n",
       "      <td>5</td>\n",
       "      <td>0.010</td>\n",
       "      <td>16</td>\n",
       "      <td>0.903614</td>\n",
       "      <td>0.892724</td>\n",
       "    </tr>\n",
       "  </tbody>\n",
       "</table>\n",
       "</div>"
      ],
      "text/plain": [
       "   epochs     lr  batch_size       acc       auc\n",
       "0       5  0.001          16  0.903614  0.845149\n",
       "1       5  0.001          32  0.915663  0.876399\n",
       "2       5  0.001          64  0.927711  0.931437\n",
       "3       5  0.001         128  0.903614  0.892724\n",
       "4       5  0.010          16  0.903614  0.892724"
      ]
     },
     "execution_count": 36,
     "metadata": {},
     "output_type": "execute_result"
    }
   ],
   "source": [
    "dl_all_dim = pd.read_csv('DL model/all_dim_results.csv')\n",
    "dl_all_dim.head()"
   ]
  },
  {
   "cell_type": "code",
   "execution_count": 38,
   "metadata": {},
   "outputs": [
    {
     "data": {
      "text/html": [
       "<div>\n",
       "<style scoped>\n",
       "    .dataframe tbody tr th:only-of-type {\n",
       "        vertical-align: middle;\n",
       "    }\n",
       "\n",
       "    .dataframe tbody tr th {\n",
       "        vertical-align: top;\n",
       "    }\n",
       "\n",
       "    .dataframe thead th {\n",
       "        text-align: right;\n",
       "    }\n",
       "</style>\n",
       "<table border=\"1\" class=\"dataframe\">\n",
       "  <thead>\n",
       "    <tr style=\"text-align: right;\">\n",
       "      <th></th>\n",
       "      <th>n_components</th>\n",
       "      <th>train_accuracy</th>\n",
       "      <th>test_accuracy</th>\n",
       "      <th>auc_score</th>\n",
       "    </tr>\n",
       "  </thead>\n",
       "  <tbody>\n",
       "    <tr>\n",
       "      <th>0</th>\n",
       "      <td>5</td>\n",
       "      <td>0.981763</td>\n",
       "      <td>0.891566</td>\n",
       "      <td>0.837687</td>\n",
       "    </tr>\n",
       "    <tr>\n",
       "      <th>1</th>\n",
       "      <td>10</td>\n",
       "      <td>0.996960</td>\n",
       "      <td>0.891566</td>\n",
       "      <td>0.837687</td>\n",
       "    </tr>\n",
       "    <tr>\n",
       "      <th>2</th>\n",
       "      <td>20</td>\n",
       "      <td>0.996960</td>\n",
       "      <td>0.903614</td>\n",
       "      <td>0.868937</td>\n",
       "    </tr>\n",
       "    <tr>\n",
       "      <th>3</th>\n",
       "      <td>50</td>\n",
       "      <td>1.000000</td>\n",
       "      <td>0.903614</td>\n",
       "      <td>0.892724</td>\n",
       "    </tr>\n",
       "    <tr>\n",
       "      <th>4</th>\n",
       "      <td>100</td>\n",
       "      <td>1.000000</td>\n",
       "      <td>0.927711</td>\n",
       "      <td>0.931437</td>\n",
       "    </tr>\n",
       "  </tbody>\n",
       "</table>\n",
       "</div>"
      ],
      "text/plain": [
       "   n_components  train_accuracy  test_accuracy  auc_score\n",
       "0             5        0.981763       0.891566   0.837687\n",
       "1            10        0.996960       0.891566   0.837687\n",
       "2            20        0.996960       0.903614   0.868937\n",
       "3            50        1.000000       0.903614   0.892724\n",
       "4           100        1.000000       0.927711   0.931437"
      ]
     },
     "execution_count": 38,
     "metadata": {},
     "output_type": "execute_result"
    }
   ],
   "source": [
    "dl_pca = pd.read_csv('DL model/PCA_DL_results.csv')\n",
    "dl_pca.head()"
   ]
  },
  {
   "cell_type": "code",
   "execution_count": 40,
   "metadata": {},
   "outputs": [
    {
     "data": {
      "text/plain": [
       "epochs        10.000000\n",
       "lr             0.100000\n",
       "batch_size    16.000000\n",
       "acc            0.927711\n",
       "auc            0.955224\n",
       "Name: 20, dtype: float64"
      ]
     },
     "execution_count": 40,
     "metadata": {},
     "output_type": "execute_result"
    }
   ],
   "source": [
    "all_dim_best_auc = dl_all_dim.loc[dl_all_dim['auc'].idxmax()]\n",
    "all_dim_best_auc"
   ]
  },
  {
   "cell_type": "code",
   "execution_count": 41,
   "metadata": {},
   "outputs": [
    {
     "data": {
      "text/plain": [
       "n_components      300.000000\n",
       "train_accuracy      1.000000\n",
       "test_accuracy       0.963855\n",
       "auc_score           0.977612\n",
       "Name: 6, dtype: float64"
      ]
     },
     "execution_count": 41,
     "metadata": {},
     "output_type": "execute_result"
    }
   ],
   "source": [
    "pca_best_auc = dl_pca.loc[dl_pca['auc_score'].idxmax()]\n",
    "pca_best_auc"
   ]
  },
  {
   "cell_type": "code",
   "execution_count": 42,
   "metadata": {},
   "outputs": [
    {
     "name": "stderr",
     "output_type": "stream",
     "text": [
      "c:\\Users\\Asus\\AppData\\Local\\Programs\\Python\\Python37\\lib\\site-packages\\ipykernel_launcher.py:10: MatplotlibDeprecationWarning: savefig() got unexpected keyword argument \"bounding_box_inches\" which is no longer supported as of 3.3 and will become an error in 3.6\n",
      "  # Remove the CWD from sys.path while we load stuff.\n"
     ]
    },
    {
     "data": {
      "image/png": "[encoded data removed]",
      "text/plain": [
       "<Figure size 360x360 with 1 Axes>"
      ]
     },
     "metadata": {
      "needs_background": "light"
     },
     "output_type": "display_data"
    }
   ],
   "source": [
    "all_dim_auc = all_dim_best_auc['auc']\n",
    "pca_auc = pca_best_auc['auc_score']\n",
    "\n",
    "plt.figure(figsize=(5, 5))\n",
    "plt.bar(['All Dimensions', 'PCA'], [all_dim_auc, pca_auc])\n",
    "plt.text(0, all_dim_auc + 0.01, str(round(all_dim_auc, 3)))\n",
    "plt.text(1, pca_auc + 0.01, str(round(pca_auc, 3)))\n",
    "plt.ylabel('AUC Score')\n",
    "plt.title('AUC Scores for Deep Learning Models')\n",
    "plt.savefig('DL model/dl_auc_scores.jpg', bounding_box_inches='tight')\n",
    "plt.show()"
   ]
  },
  {
   "cell_type": "code",
   "execution_count": 43,
   "metadata": {},
   "outputs": [
    {
     "name": "stderr",
     "output_type": "stream",
     "text": [
      "c:\\Users\\Asus\\AppData\\Local\\Programs\\Python\\Python37\\lib\\site-packages\\ipykernel_launcher.py:10: MatplotlibDeprecationWarning: savefig() got unexpected keyword argument \"bounding_box_inches\" which is no longer supported as of 3.3 and will become an error in 3.6\n",
      "  # Remove the CWD from sys.path while we load stuff.\n"
     ]
    },
    {
     "data": {
      "image/png": "[encoded data removed]",
      "text/plain": [
       "<Figure size 360x360 with 1 Axes>"
      ]
     },
     "metadata": {
      "needs_background": "light"
     },
     "output_type": "display_data"
    }
   ],
   "source": [
    "all_dim_acc = all_dim_best_auc['acc']\n",
    "pca_acc = pca_best_auc['test_accuracy']\n",
    "\n",
    "plt.figure(figsize=(5, 5))\n",
    "plt.bar(['All Dimensions', 'PCA'], [all_dim_acc, pca_acc])\n",
    "plt.text(0, all_dim_acc + 0.01, str(round(all_dim_acc, 3)))\n",
    "plt.text(1, pca_acc + 0.01, str(round(pca_acc, 3)))\n",
    "plt.ylabel('Test Accuracy')\n",
    "plt.title('Test Accuracy for Deep Learning Models')\n",
    "plt.savefig('DL model/dl_acc_scores.jpg', bounding_box_inches='tight')\n",
    "plt.show()"
   ]
  },
  {
   "cell_type": "code",
   "execution_count": null,
   "metadata": {},
   "outputs": [],
   "source": []
  }
 ],
 "metadata": {
  "kernelspec": {
   "display_name": "Python 3",
   "language": "python",
   "name": "python3"
  },
  "language_info": {
   "codemirror_mode": {
    "name": "ipython",
    "version": 3
   },
   "file_extension": ".py",
   "mimetype": "text/x-python",
   "name": "python",
   "nbconvert_exporter": "python",
   "pygments_lexer": "ipython3",
   "version": "3.11.6"
  }
 },
 "nbformat": 4,
 "nbformat_minor": 2
}
