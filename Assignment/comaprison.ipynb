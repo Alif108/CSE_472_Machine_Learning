{
 "cells": [
  {
   "cell_type": "code",
   "execution_count": 1,
   "metadata": {},
   "outputs": [],
   "source": [
    "import numpy as np\n",
    "import torch\n",
    "import torch.nn as nn\n",
    "import torch.optim as optim\n",
    "import pandas as pd\n",
    "import pickle\n",
    "import matplotlib.pyplot as plt"
   ]
  },
  {
   "cell_type": "code",
   "execution_count": 4,
   "metadata": {},
   "outputs": [
    {
     "name": "stdout",
     "output_type": "stream",
     "text": [
      "Percentage of 1s in the training set:  0.8054711246200608\n",
      "Percentage of 1s in the test set:  0.8072289156626506\n",
      "Percentage of 1s in the whole dataset:  0.8058252427184466\n"
     ]
    }
   ],
   "source": [
    "y_train = pickle.load(open('Data/y_train.pkl', 'rb'))\n",
    "y_test = pickle.load(open('Data/y_test.pkl', 'rb'))\n",
    "y = pickle.load(open('Data/y.pkl', 'rb'))\n",
    "\n",
    "# find the percentage of 1s in the training set\n",
    "print('Percentage of 1s in the training set: ', y_train.sum()/len(y_train))\n",
    "\n",
    "# find the percentage of 1s in the test set\n",
    "print('Percentage of 1s in the test set: ', y_test.sum()/len(y_test))\n",
    "\n",
    "# find the percentage of 1s in the whole dataset\n",
    "print('Percentage of 1s in the whole dataset: ', y.sum()/len(y))"
   ]
  },
  {
   "cell_type": "markdown",
   "metadata": {},
   "source": [
    "## Random Forest"
   ]
  },
  {
   "cell_type": "code",
   "execution_count": 17,
   "metadata": {},
   "outputs": [
    {
     "data": {
      "text/plain": [
       "{'Model': RandomForestClassifier(min_samples_leaf=5, n_estimators=200, random_state=42),\n",
       " 'Best Parameters': {'max_depth': None,\n",
       "  'min_samples_leaf': 5,\n",
       "  'min_samples_split': 2,\n",
       "  'n_estimators': 200},\n",
       " 'Training Set Accuracy': 0.9331943286071726,\n",
       " 'Test Set Accuracy': 0.9036144578313253,\n",
       " 'AUC Score': 0.7975746268656716}"
      ]
     },
     "execution_count": 17,
     "metadata": {},
     "output_type": "execute_result"
    }
   ],
   "source": [
    "all_dim_dict = pickle.load(open('Random Forest/rf_all_dim.pkl', 'rb'))\n",
    "all_dim_dict"
   ]
  },
  {
   "cell_type": "code",
   "execution_count": 18,
   "metadata": {},
   "outputs": [
    {
     "data": {
      "text/html": [
       "<div>\n",
       "<style scoped>\n",
       "    .dataframe tbody tr th:only-of-type {\n",
       "        vertical-align: middle;\n",
       "    }\n",
       "\n",
       "    .dataframe tbody tr th {\n",
       "        vertical-align: top;\n",
       "    }\n",
       "\n",
       "    .dataframe thead th {\n",
       "        text-align: right;\n",
       "    }\n",
       "</style>\n",
       "<table border=\"1\" class=\"dataframe\">\n",
       "  <thead>\n",
       "    <tr style=\"text-align: right;\">\n",
       "      <th></th>\n",
       "      <th>n_components</th>\n",
       "      <th>train_accuracy</th>\n",
       "      <th>test_accuracy</th>\n",
       "      <th>auc_score</th>\n",
       "    </tr>\n",
       "  </thead>\n",
       "  <tbody>\n",
       "    <tr>\n",
       "      <th>0</th>\n",
       "      <td>10</td>\n",
       "      <td>0.936225</td>\n",
       "      <td>0.939759</td>\n",
       "      <td>0.891325</td>\n",
       "    </tr>\n",
       "    <tr>\n",
       "      <th>1</th>\n",
       "      <td>11</td>\n",
       "      <td>0.930136</td>\n",
       "      <td>0.927711</td>\n",
       "      <td>0.860075</td>\n",
       "    </tr>\n",
       "    <tr>\n",
       "      <th>2</th>\n",
       "      <td>12</td>\n",
       "      <td>0.936225</td>\n",
       "      <td>0.939759</td>\n",
       "      <td>0.891325</td>\n",
       "    </tr>\n",
       "    <tr>\n",
       "      <th>3</th>\n",
       "      <td>13</td>\n",
       "      <td>0.936225</td>\n",
       "      <td>0.915663</td>\n",
       "      <td>0.828825</td>\n",
       "    </tr>\n",
       "    <tr>\n",
       "      <th>4</th>\n",
       "      <td>14</td>\n",
       "      <td>0.939227</td>\n",
       "      <td>0.915663</td>\n",
       "      <td>0.852612</td>\n",
       "    </tr>\n",
       "  </tbody>\n",
       "</table>\n",
       "</div>"
      ],
      "text/plain": [
       "   n_components  train_accuracy  test_accuracy  auc_score\n",
       "0            10        0.936225       0.939759   0.891325\n",
       "1            11        0.930136       0.927711   0.860075\n",
       "2            12        0.936225       0.939759   0.891325\n",
       "3            13        0.936225       0.915663   0.828825\n",
       "4            14        0.939227       0.915663   0.852612"
      ]
     },
     "execution_count": 18,
     "metadata": {},
     "output_type": "execute_result"
    }
   ],
   "source": [
    "pca_res = pd.read_csv('Random Forest/pca_rf_results.csv')\n",
    "pca_res.head()"
   ]
  },
  {
   "cell_type": "code",
   "execution_count": 19,
   "metadata": {},
   "outputs": [
    {
     "data": {
      "text/plain": [
       "n_components      10.000000\n",
       "train_accuracy     0.936225\n",
       "test_accuracy      0.939759\n",
       "auc_score          0.891325\n",
       "Name: 0, dtype: float64"
      ]
     },
     "execution_count": 19,
     "metadata": {},
     "output_type": "execute_result"
    }
   ],
   "source": [
    "pca_dict = pca_res.loc[pca_res['auc_score'].idxmax()]\n",
    "pca_dict"
   ]
  },
  {
   "cell_type": "code",
   "execution_count": 20,
   "metadata": {},
   "outputs": [
    {
     "data": {
      "text/plain": [
       "{'model': RandomForestClassifier(min_samples_leaf=2, n_estimators=50, random_state=42),\n",
       " 'train_acc': 0.9332221295524047,\n",
       " 'test_acc': 0.9156626506024096,\n",
       " 'auc_score': 0.8288246268656716,\n",
       " 'confusion_matrix': array([[11,  5],\n",
       "        [ 2, 65]], dtype=int64),\n",
       " 'classification_report':               precision    recall  f1-score    support\n",
       " 0              0.846154  0.687500  0.758621  16.000000\n",
       " 1              0.928571  0.970149  0.948905  67.000000\n",
       " accuracy       0.915663  0.915663  0.915663   0.915663\n",
       " macro avg      0.887363  0.828825  0.853763  83.000000\n",
       " weighted avg   0.912684  0.915663  0.912224  83.000000}"
      ]
     },
     "execution_count": 20,
     "metadata": {},
     "output_type": "execute_result"
    }
   ],
   "source": [
    "rf_ae_dict = pickle.load(open('Random Forest/RF_AE.pkl', 'rb'))\n",
    "rf_ae_dict"
   ]
  },
  {
   "cell_type": "code",
   "execution_count": 27,
   "metadata": {},
   "outputs": [
    {
     "data": {
      "image/png": "[encoded data removed]",
      "text/plain": [
       "<Figure size 360x360 with 1 Axes>"
      ]
     },
     "metadata": {
      "needs_background": "light"
     },
     "output_type": "display_data"
    }
   ],
   "source": [
    "all_dim_auc = all_dim_dict['AUC Score']\n",
    "pca_auc = pca_dict['auc_score']\n",
    "rf_ae_auc = rf_ae_dict['auc_score']\n",
    "\n",
    "plt.figure(figsize=(5, 5))\n",
    "plt.bar(['All Dimensions', 'PCA', 'Autoencoder'], [all_dim_auc, pca_auc, rf_ae_auc])\n",
    "plt.xlabel('Dimension Reduction Method')\n",
    "plt.ylabel('AUC Score')\n",
    "plt.title('AUC Score of Random Forest')\n",
    "plt.text(-0.05, 0.65, round(all_dim_auc, 3), color='white')\n",
    "plt.text(0.95, 0.65, round(pca_auc, 3), color='white')\n",
    "plt.text(1.95, 0.65, round(rf_ae_auc, 3), color='white')\n",
    "plt.savefig('Random Forest/rf_auc_scores.jpg', dpi=300, bbox_inches='tight')\n",
    "plt.show()"
   ]
  },
  {
   "cell_type": "code",
   "execution_count": 26,
   "metadata": {},
   "outputs": [
    {
     "data": {
      "image/png": "[encoded data removed]",
      "text/plain": [
       "<Figure size 360x360 with 1 Axes>"
      ]
     },
     "metadata": {
      "needs_background": "light"
     },
     "output_type": "display_data"
    }
   ],
   "source": [
    "all_dim_acc = all_dim_dict['Test Set Accuracy']\n",
    "pca_acc = pca_dict['test_accuracy']\n",
    "rf_ae_acc = rf_ae_dict['test_acc']\n",
    "\n",
    "plt.figure(figsize=(5, 5))\n",
    "plt.bar(['All Dimensions', 'PCA', 'Autoencoder'], [all_dim_acc, pca_acc, rf_ae_acc])\n",
    "plt.xlabel('Dimension Reduction Method')\n",
    "plt.ylabel('Test Set Accuracy')\n",
    "plt.title('Test Accuracy of Random Forest')\n",
    "plt.text(-0.05, 0.65, round(all_dim_acc, 3), color='white')\n",
    "plt.text(0.95, 0.65, round(pca_acc, 3), color='white')\n",
    "plt.text(1.95, 0.65, round(rf_ae_acc, 3), color='white')\n",
    "plt.savefig('Random Forest/rf_test_acc.jpg', dpi=300, bbox_inches='tight')\n",
    "plt.show()"
   ]
  },
  {
   "cell_type": "markdown",
   "metadata": {},
   "source": [
    "## SVM"
   ]
  },
  {
   "cell_type": "code",
   "execution_count": 28,
   "metadata": {},
   "outputs": [
    {
     "name": "stderr",
     "output_type": "stream",
     "text": [
      "c:\\Users\\Asus\\AppData\\Local\\Programs\\Python\\Python37\\lib\\site-packages\\sklearn\\base.py:338: UserWarning: Trying to unpickle estimator SVC from version 1.3.1 when using version 1.0.2. This might lead to breaking code or invalid results. Use at your own risk. For more info please refer to:\n",
      "https://scikit-learn.org/stable/modules/model_persistence.html#security-maintainability-limitations\n",
      "  UserWarning,\n"
     ]
    },
    {
     "data": {
      "text/plain": [
       "{'Model': SVC(C=0.1, kernel='linear', probability=True),\n",
       " 'Best Parameters': {'C': 0.1, 'kernel': 'linear'},\n",
       " 'Training Set Accuracy': 0.9392549346677788,\n",
       " 'Test Set Accuracy': 0.927710843373494,\n",
       " 'AUC Score': 0.8600746268656717}"
      ]
     },
     "execution_count": 28,
     "metadata": {},
     "output_type": "execute_result"
    }
   ],
   "source": [
    "svm_all_dim = pickle.load(open('SVM/svm_all_dim.pkl', 'rb'))\n",
    "svm_all_dim"
   ]
  },
  {
   "cell_type": "code",
   "execution_count": 32,
   "metadata": {},
   "outputs": [
    {
     "data": {
      "text/plain": [
       "n_components      9.000000\n",
       "train_accuracy    0.936197\n",
       "test_accuracy     0.939759\n",
       "auc_score         0.891325\n",
       "Name: 7, dtype: float64"
      ]
     },
     "execution_count": 32,
     "metadata": {},
     "output_type": "execute_result"
    }
   ],
   "source": [
    "svm_pca = pd.read_csv('SVM/pca_svm_results.csv')\n",
    "\n",
    "svm_pca_dict = svm_pca.loc[svm_pca['auc_score'].idxmax()]\n",
    "svm_pca_dict"
   ]
  },
  {
   "cell_type": "code",
   "execution_count": 30,
   "metadata": {},
   "outputs": [
    {
     "data": {
      "text/plain": [
       "{'model': SVC(C=0.1, kernel='linear', probability=True),\n",
       " 'train_acc': 0.9027244926327495,\n",
       " 'test_acc': 0.9036144578313253,\n",
       " 'auc_score': 0.8213619402985075,\n",
       " 'confusion_matrix': array([[11,  5],\n",
       "        [ 3, 64]], dtype=int64),\n",
       " 'classification_report':               precision    recall  f1-score    support\n",
       " 0              0.785714  0.687500  0.733333  16.000000\n",
       " 1              0.927536  0.955224  0.941176  67.000000\n",
       " accuracy       0.903614  0.903614  0.903614   0.903614\n",
       " macro avg      0.856625  0.821362  0.837255  83.000000\n",
       " weighted avg   0.900197  0.903614  0.901110  83.000000}"
      ]
     },
     "execution_count": 30,
     "metadata": {},
     "output_type": "execute_result"
    }
   ],
   "source": [
    "svm_ae_dict = pickle.load(open('SVM/SVM_AE.pkl', 'rb'))\n",
    "svm_ae_dict"
   ]
  },
  {
   "cell_type": "code",
   "execution_count": 33,
   "metadata": {},
   "outputs": [
    {
     "data": {
      "image/png": "[encoded data removed]",
      "text/plain": [
       "<Figure size 360x360 with 1 Axes>"
      ]
     },
     "metadata": {
      "needs_background": "light"
     },
     "output_type": "display_data"
    }
   ],
   "source": [
    "all_dim_auc = svm_all_dim['AUC Score']\n",
    "pca_auc = svm_pca_dict['auc_score']\n",
    "svm_ae_auc = svm_ae_dict['auc_score']\n",
    "\n",
    "plt.figure(figsize=(5, 5))\n",
    "plt.bar(['All Dimensions', 'PCA', 'Autoencoder'], [all_dim_auc, pca_auc, svm_ae_auc])\n",
    "plt.xlabel('Dimension Reduction Method')\n",
    "plt.ylabel('AUC Score')\n",
    "plt.title('AUC Score of SVM')\n",
    "plt.text(-0.05, 0.65, round(all_dim_auc, 3), color='white')\n",
    "plt.text(0.95, 0.65, round(pca_auc, 3), color='white')\n",
    "plt.text(1.95, 0.65, round(svm_ae_auc, 3), color='white')\n",
    "plt.savefig('SVM/svm_auc_scores.jpg', dpi=300, bbox_inches='tight')\n",
    "plt.show()"
   ]
  },
  {
   "cell_type": "code",
   "execution_count": 34,
   "metadata": {},
   "outputs": [
    {
     "data": {
      "image/png": "[encoded data removed]",
      "text/plain": [
       "<Figure size 360x360 with 1 Axes>"
      ]
     },
     "metadata": {
      "needs_background": "light"
     },
     "output_type": "display_data"
    }
   ],
   "source": [
    "all_dim_acc = svm_all_dim['Test Set Accuracy']\n",
    "pca_acc = svm_pca_dict['test_accuracy']\n",
    "svm_ae_acc = svm_ae_dict['test_acc']\n",
    "\n",
    "plt.figure(figsize=(5, 5))\n",
    "plt.bar(['All Dimensions', 'PCA', 'Autoencoder'], [all_dim_acc, pca_acc, svm_ae_acc])\n",
    "plt.xlabel('Dimension Reduction Method')\n",
    "plt.ylabel('Test Set Accuracy')\n",
    "plt.title('Test Accuracy of SVM')\n",
    "plt.text(-0.05, 0.65, round(all_dim_acc, 3), color='white')\n",
    "plt.text(0.95, 0.65, round(pca_acc, 3), color='white')\n",
    "plt.text(1.95, 0.65, round(svm_ae_acc, 3), color='white')\n",
    "plt.savefig('SVM/svm_acc_scores.jpg', dpi=300, bbox_inches='tight')\n",
    "plt.show()"
   ]
  },
  {
   "cell_type": "markdown",
   "metadata": {},
   "source": [
    "## AdaBoost"
   ]
  },
  {
   "cell_type": "code",
   "execution_count": 35,
   "metadata": {},
   "outputs": [
    {
     "data": {
      "text/plain": [
       "{'Model': AdaBoostClassifier(n_estimators=200, random_state=42),\n",
       " 'Best Parameters': {'learning_rate': 1.0, 'n_estimators': 200},\n",
       " 'Training Set Accuracy': 0.9453433416736169,\n",
       " 'Test Set Accuracy': 0.927710843373494,\n",
       " 'AUC Score': 0.8838619402985075}"
      ]
     },
     "execution_count": 35,
     "metadata": {},
     "output_type": "execute_result"
    }
   ],
   "source": [
    "all_dim_dict = pickle.load(open('Adaboost/adaboost_all_dim.pkl', 'rb'))\n",
    "all_dim_dict"
   ]
  },
  {
   "cell_type": "code",
   "execution_count": 36,
   "metadata": {},
   "outputs": [
    {
     "data": {
      "text/plain": [
       "{'Model': AdaBoostClassifier(learning_rate=0.1, n_estimators=100, random_state=42),\n",
       " 'n_components': 11,\n",
       " 'x_train': array([[ -1.60164246,  80.26061605,  92.53210386, ..., -25.93685497,\n",
       "         -29.01502619, -17.94426104],\n",
       "        [ -1.44790999, -10.00248372,  76.51764749, ..., -11.75492592,\n",
       "          -5.45182645, -19.23885749],\n",
       "        [-36.65433714,   1.39282575, -81.05119127, ...,  -6.21478364,\n",
       "          -8.81749871, -11.88653957],\n",
       "        ...,\n",
       "        [118.13111884, -30.35089492,  15.40632602, ..., -20.1321586 ,\n",
       "          35.31445158, -11.45783272],\n",
       "        [-19.68740623,  -8.70935296,  56.1425256 , ..., -34.68590438,\n",
       "          24.02407216, -34.82947235],\n",
       "        [ 41.91168263, -21.76418395, -15.20395106, ..., -30.49528776,\n",
       "          -1.48308213, -10.19036445]]),\n",
       " 'x_test': array([[-2.27972020e+01,  2.01085187e+01, -4.20448762e+01,\n",
       "          1.58326911e+01, -1.38904966e+00, -1.55327479e+01,\n",
       "          2.61392186e+01, -7.65621129e+00,  1.81276461e+01,\n",
       "          1.82919775e+00, -1.67381088e+01],\n",
       "        [-6.06073140e+01,  9.35673039e+00, -3.35992056e+01,\n",
       "         -1.18887803e+01,  5.41494576e+00, -5.45443776e+00,\n",
       "         -2.70750805e+01, -3.18665955e+00,  2.03865402e+01,\n",
       "          2.00077051e+01,  1.92223013e+00],\n",
       "        [-5.85941662e+01,  4.55499916e+00, -2.91837470e+01,\n",
       "         -4.87787978e+01,  1.36135169e+01,  2.40281240e+01,\n",
       "          2.04734745e+00, -1.34869713e+01, -2.98134109e+01,\n",
       "         -1.84617445e+01, -8.17578368e+00],\n",
       "        [-2.98352612e+00, -3.64355536e+01, -1.64169394e+01,\n",
       "          1.48588848e+01,  7.88181709e+00, -4.72345316e+01,\n",
       "          1.69280943e+01,  1.80087082e+00, -1.29867310e+01,\n",
       "          2.59004637e+01, -2.34099340e+01],\n",
       "        [-5.95090201e+01,  2.86378373e+01, -1.57274027e+01,\n",
       "         -4.89500343e+01, -2.23299096e+00, -3.04653505e-01,\n",
       "          6.12028262e+00, -1.77389390e+01, -1.54342782e+01,\n",
       "         -4.37518224e+01,  2.39290433e+01],\n",
       "        [ 3.50399945e+00,  4.44369590e+01, -2.98430743e+01,\n",
       "          2.44966018e+01,  1.46054412e+01,  4.60213794e+01,\n",
       "          7.43870282e+00, -3.15382005e+01,  6.53575974e+00,\n",
       "         -3.04266673e+01, -1.18808169e+01],\n",
       "        [-1.41156595e+00,  1.55751137e+01, -5.11349640e+01,\n",
       "          5.83828117e+00,  3.88584911e+00,  2.61349371e+01,\n",
       "          2.19283426e+01,  7.48857177e+00,  3.51455153e+01,\n",
       "         -4.89688942e+01, -1.47150460e+01],\n",
       "        [ 8.68031803e+01, -3.65600204e+01, -9.93562839e+01,\n",
       "         -8.59943517e+00,  4.54113432e+00,  4.99003775e+00,\n",
       "         -2.10383947e+01,  1.81959412e+01,  7.51091565e+00,\n",
       "         -1.03271562e+01,  8.86577678e+00],\n",
       "        [ 4.05747932e+01, -7.66885161e+01,  5.92580471e+01,\n",
       "          5.66357565e+01, -2.87195959e+01, -9.45566984e+00,\n",
       "         -7.68125277e+00,  8.41670435e+00, -1.95773840e+01,\n",
       "          3.36523592e+01, -1.66904584e+01],\n",
       "        [-7.59378348e+01,  2.75062204e+01, -3.34144689e+01,\n",
       "         -4.85307673e+01, -1.88327914e+01, -3.65854159e+01,\n",
       "          3.73231292e+01, -1.30723617e+01, -2.28969537e+00,\n",
       "          9.23008041e+00,  1.70817626e+01],\n",
       "        [ 5.54432159e+01,  4.32702339e+01, -9.02901133e+01,\n",
       "         -5.12406592e+01, -1.43266285e+01,  7.63778457e+00,\n",
       "          1.60625821e+01,  1.25174553e+01, -2.76887635e+01,\n",
       "         -7.65953024e+00, -2.10149155e+01],\n",
       "        [-6.12379996e-01, -9.58988778e+01,  3.31026134e+01,\n",
       "          1.52822443e+01, -1.58358945e+01,  1.12155529e+01,\n",
       "          4.92260909e+00,  3.81967000e+00, -1.19683702e+01,\n",
       "          1.92328708e+01,  6.10766911e+00],\n",
       "        [-1.13292491e+01, -5.05208546e+01, -3.09789722e+01,\n",
       "         -9.81222208e+00,  2.07126332e+00, -3.02010456e+01,\n",
       "          3.01348561e+01,  9.83245717e+00,  4.74877833e+00,\n",
       "         -1.10346374e+01, -5.22588971e+00],\n",
       "        [-5.96868246e+01,  2.32306192e+01, -1.23159545e+01,\n",
       "          2.21068788e+01, -3.39861971e+01,  3.50984997e+01,\n",
       "          9.72648981e+00, -6.37588293e+00,  3.04541558e-01,\n",
       "         -2.13047277e+01,  5.32611321e+00],\n",
       "        [-5.27965172e+01,  1.89100805e+01, -5.27126562e+01,\n",
       "         -8.29767277e-01, -9.81814309e+00, -1.20576238e+01,\n",
       "         -1.80627107e+01, -2.21831760e+01,  2.00657689e+00,\n",
       "         -2.19536196e+01, -2.53479690e+00],\n",
       "        [ 1.14467590e+02,  1.90832238e+01, -5.51912045e+01,\n",
       "         -2.63211881e+01, -2.70732506e+01,  1.97753907e+01,\n",
       "         -8.35521458e+00, -7.85980799e+00, -1.29519787e+01,\n",
       "          2.39029064e+00, -1.04091034e+00],\n",
       "        [ 2.74534004e+01, -1.94805918e+01, -4.02814669e+01,\n",
       "          2.80416636e+01, -2.63677489e+01,  6.84309831e+00,\n",
       "          2.67920410e+01, -3.48942970e+01, -6.57298144e+00,\n",
       "         -7.03108975e+00, -3.88907215e+00],\n",
       "        [ 1.99359262e+01,  7.42440515e+01,  9.67205602e+00,\n",
       "         -5.03652827e-02,  1.85654913e+01,  1.57977172e+00,\n",
       "          5.68392670e+01, -1.46220026e+01, -3.89927040e+01,\n",
       "          2.63768541e+00, -9.53132637e+00],\n",
       "        [ 3.21110589e+01, -1.21664898e+01, -3.53104337e+01,\n",
       "          7.11798243e+01,  3.66223977e+01,  1.28822214e+01,\n",
       "          2.92837366e+01,  1.90533868e+01, -2.75656402e+01,\n",
       "          3.88799187e+00,  2.47559813e+00],\n",
       "        [ 2.41094097e+01, -1.18230398e+01,  9.46224432e+01,\n",
       "         -5.57349051e+01, -5.44822369e+00,  2.21926534e+01,\n",
       "          3.84648757e+01,  1.26322859e+01,  2.27033233e+01,\n",
       "         -1.70662222e+01,  1.62631142e+01],\n",
       "        [-2.46313607e+01,  3.93441457e+01, -5.10794106e+01,\n",
       "          5.14697668e+01,  6.43736040e-01, -1.77314775e+01,\n",
       "         -4.23397058e+00,  1.71784597e+01,  4.51378486e+00,\n",
       "         -5.71330729e+00,  1.27057540e+00],\n",
       "        [-3.79782157e+01, -6.89337122e+01,  7.07412944e+00,\n",
       "         -2.40741759e+01, -3.63417355e+01,  2.08287619e+00,\n",
       "          5.86853252e+00,  1.38235542e+01,  7.67756642e-01,\n",
       "         -8.08366042e+00,  1.38778588e+01],\n",
       "        [ 6.24346410e+01, -1.27561729e+01,  1.29391211e+02,\n",
       "          4.74441564e+01, -2.90785290e+01, -2.89207207e+00,\n",
       "          3.09687350e+00,  7.68218900e+00,  1.57686410e+01,\n",
       "         -1.13834677e+01, -3.18896823e+00],\n",
       "        [ 8.41898771e+01, -8.36374364e-01, -4.06547017e+01,\n",
       "         -1.62603106e+01, -3.21101966e+01,  2.83041964e+01,\n",
       "         -3.27611907e+00, -7.08595032e+00, -4.06343151e+00,\n",
       "          2.26878051e+01, -8.97803822e+00],\n",
       "        [-3.94103707e+01, -4.62228753e+01, -6.18410381e+00,\n",
       "          2.68470270e+01, -5.25752553e+00,  1.59469713e+01,\n",
       "         -3.01723316e+01,  9.67907257e+00, -7.35309515e+00,\n",
       "          9.20427415e+00, -2.30707003e+01],\n",
       "        [-6.81361131e+01,  1.39557806e+01, -2.59108797e+01,\n",
       "         -2.10074330e+01,  2.30526189e+01,  5.43386496e+01,\n",
       "         -8.40287118e+00,  4.59810847e+01,  1.88607052e+01,\n",
       "          9.14999854e-01, -2.00631336e+01],\n",
       "        [-1.11005188e+01, -5.75584390e+01, -1.29951211e+01,\n",
       "         -6.60902427e+00,  3.99856340e+01,  1.21854087e+01,\n",
       "         -1.69555352e+01, -3.37581913e+00,  1.04124284e+01,\n",
       "         -1.30471762e+01,  8.70428949e+00],\n",
       "        [ 8.59481943e+00,  1.07909249e+01,  4.02526465e-01,\n",
       "          1.66644135e+01, -1.40500656e+01, -4.46308420e+01,\n",
       "          1.82890269e+01, -2.53481475e+01,  2.16097434e+01,\n",
       "         -6.31300205e+00, -1.05796193e+01],\n",
       "        [-2.82976825e+01, -1.92236224e+01, -4.18039500e+01,\n",
       "         -1.08978324e+00,  2.03000390e+01,  1.74000203e+01,\n",
       "          6.19720494e+00, -4.00845280e+00, -1.93867143e+01,\n",
       "          5.40040784e+00, -1.77405802e+01],\n",
       "        [-8.02078745e+01,  3.66291808e+01, -4.20809845e+01,\n",
       "          2.50616208e+00, -5.16714180e+01,  1.97491690e+01,\n",
       "         -6.18774659e+00,  3.32231257e+01,  5.84500653e+00,\n",
       "          8.10936924e+00, -5.11509936e+00],\n",
       "        [-1.32588430e+01, -6.41581639e+01,  4.24731570e+01,\n",
       "         -1.78059888e+01, -5.43699829e+00,  1.15076165e+01,\n",
       "          6.17131137e+00,  5.16459681e-02,  2.21826760e+00,\n",
       "         -1.72058181e+00, -1.09474270e+01],\n",
       "        [-3.36237225e+01,  1.53073952e+01,  1.86392375e+01,\n",
       "         -1.14383533e+01,  3.91455125e+00,  3.13984173e+01,\n",
       "          3.70111360e+01, -9.74565977e+00, -2.52591721e+01,\n",
       "          3.39122662e+01, -4.73659302e+01],\n",
       "        [ 7.65944820e+01, -4.08106140e+01, -2.67593244e+01,\n",
       "         -4.52267139e+01, -3.51839349e+01,  2.70281520e+01,\n",
       "          1.52701796e+01,  1.69668978e+00,  5.79519525e+00,\n",
       "          1.96059514e+00, -8.08042278e+00],\n",
       "        [-8.74202318e+01,  4.62285769e+01, -2.45322671e+01,\n",
       "          2.64908846e+00, -4.93582500e+01,  6.35549707e+01,\n",
       "          9.06800869e+00,  8.11688067e+00,  1.66903462e+00,\n",
       "          1.03508711e+01, -1.75522241e+01],\n",
       "        [-8.02435453e+00, -2.35900563e+01, -2.63816112e+00,\n",
       "          4.77008254e+00,  3.95817834e+00,  9.03233756e+00,\n",
       "         -9.67682132e+00, -2.38429983e+01,  1.60383206e+01,\n",
       "          8.07573600e+00, -5.59312137e+00],\n",
       "        [-6.19326462e+01,  2.64172406e+01, -5.60094182e+01,\n",
       "         -3.28895517e+01,  1.32717253e+01,  3.25653542e+01,\n",
       "         -3.12445798e+01, -1.29440127e+01, -2.18269363e+01,\n",
       "         -2.69452686e+01,  1.48523860e+01],\n",
       "        [ 7.72080255e+01,  2.77500262e+01,  2.32163500e+01,\n",
       "          4.07252949e+01,  2.64460933e+01,  2.67769979e+01,\n",
       "          4.71770080e+01, -2.05140195e+01,  1.86701563e+01,\n",
       "         -5.27062877e+00,  2.07634684e+01],\n",
       "        [ 1.92610329e+01, -6.53008434e+00,  8.96497959e+01,\n",
       "          3.40882322e+00,  9.60160974e+00,  7.85713716e+00,\n",
       "         -8.74919688e+00,  1.85286008e+01, -6.03069663e+00,\n",
       "         -1.95369775e+01,  1.13271319e+01],\n",
       "        [-3.31870619e+01, -4.85592708e+01, -1.54736199e+01,\n",
       "          3.59390385e+00,  5.24646346e+00,  7.65988168e+00,\n",
       "         -2.16984491e+01, -2.25258599e+01, -2.42894669e-01,\n",
       "          5.98813818e+00, -2.49239948e+00],\n",
       "        [-3.85354246e+01,  8.42864436e+01,  2.20835005e+01,\n",
       "          2.49671987e+01,  1.90420762e+01, -4.87876112e+00,\n",
       "         -2.55225679e+01, -3.67057677e+00,  1.29855782e+01,\n",
       "         -2.27503824e+01, -1.32044242e+01],\n",
       "        [ 8.39835624e+01,  3.87652282e+01, -8.73373458e+01,\n",
       "         -2.03403259e+01, -7.01389207e+00,  2.95171435e+00,\n",
       "         -2.13207551e+01,  5.87775296e+00, -8.53047292e-01,\n",
       "          3.07001537e+00, -3.80908105e+00],\n",
       "        [ 4.46128800e+00, -7.08038671e+01,  3.87058421e+01,\n",
       "          1.42723124e+00,  1.70233469e+01,  7.16919659e+00,\n",
       "         -1.80833256e+01, -6.36448071e+00,  4.52389465e-01,\n",
       "          3.53067914e+00,  3.51338446e+00],\n",
       "        [ 2.85361085e+01, -5.38838972e-01, -2.88621998e+01,\n",
       "          6.26438778e+01, -2.48781922e+01, -8.04998300e+00,\n",
       "          2.22693935e+01, -8.08696438e-01, -2.73764035e+01,\n",
       "         -1.34743791e+01,  1.29155612e+00],\n",
       "        [ 1.23527540e+01, -1.04282241e+01,  9.09560421e+01,\n",
       "          5.70326981e+00, -9.09611529e+00,  1.61291925e+01,\n",
       "          1.62181215e+01, -8.85667319e+00,  3.85256445e+00,\n",
       "          2.89786882e+01, -2.49925881e+01],\n",
       "        [ 1.06410773e+02,  4.53988728e+01, -3.20077335e+01,\n",
       "         -3.68916029e+01,  1.53302537e+01,  8.12115744e+00,\n",
       "         -1.24974726e+01,  3.32319326e+00,  1.61371193e+01,\n",
       "          1.41021341e+01, -3.03848574e+00],\n",
       "        [ 1.27098629e+02,  6.94666442e+00,  1.92371627e+01,\n",
       "          2.64176631e+01, -5.69374441e+01,  9.36345085e+00,\n",
       "          1.28435930e+00,  8.69922498e+00,  6.59047641e+00,\n",
       "         -1.84120045e+01,  7.13788037e+00],\n",
       "        [ 1.86896910e+01, -3.93920252e+01,  3.03942719e+01,\n",
       "         -3.18250396e+01, -1.18853509e+01, -1.72105361e+01,\n",
       "          9.84774555e+00, -1.50848385e+01, -1.73482068e+00,\n",
       "          2.43224278e+01,  1.71100287e+01],\n",
       "        [ 7.95446506e+01, -6.72425577e-01, -3.01689352e+01,\n",
       "         -5.29730214e+01, -7.21090949e+00,  3.29326256e+00,\n",
       "          5.42966792e+00,  1.02678372e+00,  1.49986828e+01,\n",
       "          1.72155426e-01, -1.13983335e+01],\n",
       "        [-1.69997774e+01, -4.68821472e+01, -2.23882275e+01,\n",
       "         -4.92258345e-01,  1.77030989e+01, -4.63697426e+00,\n",
       "         -4.69447217e+01, -2.73158163e+01, -2.46891729e+01,\n",
       "          1.40602609e-01,  1.54692076e+01],\n",
       "        [-4.63669927e+01,  1.25813687e+01, -2.72764648e+01,\n",
       "          1.29329821e+01,  8.84187460e+00,  5.71763940e+00,\n",
       "         -8.18170454e+00, -1.52177039e+01,  1.14441765e+01,\n",
       "         -5.88058158e+00, -2.24307921e+00],\n",
       "        [-3.29285196e+01,  2.41996551e+01, -2.44308429e-01,\n",
       "         -1.14681250e+01, -2.89159652e+01, -1.04736709e+01,\n",
       "          2.00472873e+01, -3.24769651e+01,  1.23110084e+01,\n",
       "         -6.50217716e+00, -2.05348630e+00],\n",
       "        [-2.05405669e+01, -3.60600869e+01, -1.46786966e+01,\n",
       "         -2.64505331e+01,  1.07913107e+01, -3.42252725e+01,\n",
       "          1.32368189e+01,  2.00419471e+01, -5.43290074e+00,\n",
       "          1.62498179e+01, -2.02428830e+01],\n",
       "        [ 6.97165001e+00, -3.95043908e+01,  4.14055306e+01,\n",
       "          2.28255249e+01, -2.28415824e+01,  2.52066792e+00,\n",
       "         -1.33518090e+01, -3.00807724e+01, -1.29573630e+00,\n",
       "         -3.38493931e+01,  1.07754334e+01],\n",
       "        [-2.16515343e+01, -5.11088335e+01, -2.23588353e+01,\n",
       "          1.11215106e+01,  8.65224160e+00,  2.27457098e+01,\n",
       "          1.14579940e+01, -2.49087594e+01,  7.47971992e+00,\n",
       "          2.84717987e+00, -9.90681073e+00],\n",
       "        [-5.68175177e+01,  4.05213693e+01,  7.40732102e+00,\n",
       "         -2.59989950e+01,  4.62409198e+00, -5.82386857e+00,\n",
       "          2.69514955e+01,  3.66096102e+00,  4.19624109e+01,\n",
       "          2.37007740e+01, -1.52353127e+01],\n",
       "        [ 8.84861071e+00, -7.54675943e+01, -8.32088212e+00,\n",
       "         -4.85594226e+01,  2.95775313e+01,  1.87311317e+01,\n",
       "          4.85336207e+00,  2.68428111e+01,  1.48088448e+01,\n",
       "         -2.33086163e+01,  1.57793698e+01],\n",
       "        [ 9.44406608e+01, -3.88486424e+01, -4.69958249e+01,\n",
       "          3.63924699e+01, -2.69192889e+01,  6.74944437e+00,\n",
       "         -9.11334683e+00,  1.08139754e+01,  8.97632390e+00,\n",
       "          6.81351086e+00, -7.91144869e+00],\n",
       "        [ 5.25400627e+01, -5.49536870e+01,  2.51877888e+01,\n",
       "          2.65298146e+01, -7.06481093e+00,  2.28757855e+01,\n",
       "          3.01719989e+01,  1.29317895e+01,  2.40489085e+01,\n",
       "         -5.63180627e+00,  1.24289900e+00],\n",
       "        [ 1.49203029e+01,  3.62077908e+00, -2.12002708e+01,\n",
       "          2.69156881e+01,  3.08526163e+01, -1.79951623e+01,\n",
       "          3.27902969e+00, -1.30455502e+01, -4.01524615e+00,\n",
       "          1.52537744e+00,  6.27074390e+00],\n",
       "        [-4.17800268e+01,  8.28464856e+00, -1.21343916e+01,\n",
       "         -6.50194691e-01, -2.88743570e+01, -3.82749072e+01,\n",
       "         -6.01607654e-01,  1.33520423e+01, -7.43117248e-01,\n",
       "          9.88076171e+00,  6.92690195e+00],\n",
       "        [ 1.04934856e+01, -9.30078141e+01,  2.58420654e+01,\n",
       "         -2.34109204e+01, -1.34820091e+01,  8.55318016e+00,\n",
       "          6.85214026e+00,  1.04884737e+01,  7.86303867e+00,\n",
       "         -1.03461108e+01, -8.75929983e+00],\n",
       "        [ 3.31649454e+01, -5.79266440e+01, -1.52947215e+01,\n",
       "          5.13518050e+01, -4.62952288e+01, -2.27218658e+01,\n",
       "          3.37447210e+00,  7.82149297e-01, -3.23023318e+00,\n",
       "          8.70194575e+00, -6.88109783e+00],\n",
       "        [-3.30124836e+01,  1.22597181e+02, -2.33762125e+00,\n",
       "         -9.64064454e-01, -3.28328000e+00, -5.80274234e+00,\n",
       "          2.26927969e+01,  1.43425631e+01,  3.60464379e+00,\n",
       "          1.30306516e+01, -1.70203109e-01],\n",
       "        [-4.18564026e+01,  2.39129876e+01, -1.48215217e+01,\n",
       "         -1.19687749e+01,  1.26132470e+01, -2.20043122e+01,\n",
       "         -1.10123285e+01,  1.74614877e+01,  3.10431880e+01,\n",
       "          4.11284048e+00, -9.34267464e+00],\n",
       "        [ 1.64925983e+01, -6.48622924e+01,  3.38113380e+01,\n",
       "          6.14795579e+01, -1.59484845e+01,  1.75193904e+01,\n",
       "         -1.93303328e+01, -2.11101728e+01,  2.25712702e+00,\n",
       "          3.31548667e+01,  8.71989242e+00],\n",
       "        [-1.11522873e+01, -3.17828075e+01,  4.20610007e-01,\n",
       "         -2.17596211e+01, -3.16434587e+00, -3.83282041e+01,\n",
       "          2.65492743e+01,  1.78432184e+01,  2.78397519e+01,\n",
       "         -2.97885804e-01, -1.04994718e+01],\n",
       "        [ 2.75344379e+01,  8.81914512e+01,  3.97058572e+01,\n",
       "          1.92281495e+01,  3.98310329e+01, -1.61288069e+01,\n",
       "         -1.37551321e+01, -1.67213194e+01, -1.07010336e+01,\n",
       "         -2.01130644e+01,  5.30683391e+00],\n",
       "        [-3.47084212e+01, -6.88816302e-01, -3.32482842e+01,\n",
       "          6.83613121e+00, -8.06060082e+00, -1.12544156e+01,\n",
       "         -3.85418524e+01,  6.17814041e+00,  6.71850872e+00,\n",
       "          6.80457488e+00, -3.74648732e+00],\n",
       "        [-3.27308345e+01, -1.93594638e+01, -3.79181843e+01,\n",
       "          8.72447921e+00,  4.14636712e+00, -3.25582603e+01,\n",
       "         -7.53428277e+00, -2.76120587e+01,  3.11694321e+01,\n",
       "          3.29315042e+01,  1.36674962e+01],\n",
       "        [-3.22885619e+01,  1.77855346e+01, -1.56638338e+00,\n",
       "         -1.11796321e+01, -1.69069468e+01, -3.00818396e+01,\n",
       "          2.75600076e+01, -1.72604860e+01,  3.18042771e+01,\n",
       "          1.62537906e+01, -1.21607399e+01],\n",
       "        [-7.62488194e+00, -2.11007028e+01,  7.40064040e+01,\n",
       "         -4.87645914e+01, -2.39668412e+01,  3.91613308e+01,\n",
       "          4.37598634e+01,  3.59595130e+00,  1.49306174e+01,\n",
       "         -7.79997512e+00,  2.10758011e+01],\n",
       "        [-4.05080785e+01,  2.59008478e+01,  5.07619151e+01,\n",
       "         -3.66089035e+01, -2.67407463e+01,  8.24036914e+00,\n",
       "          3.47627857e+01,  6.65303467e-01,  1.57960266e+01,\n",
       "         -1.79880884e+01,  3.13847422e+01],\n",
       "        [-4.99246176e+01,  3.68935133e-01, -3.72772408e+01,\n",
       "         -2.69720258e+00, -6.39072124e-01, -1.76979559e+01,\n",
       "         -2.07353535e+01, -1.60758794e+01, -9.72650738e+00,\n",
       "         -2.02431843e+01, -4.04277560e+00],\n",
       "        [-3.13433118e+01, -5.15558918e+01,  1.14740506e+01,\n",
       "          1.11915657e+01,  5.40985087e+00, -1.58296832e+01,\n",
       "         -3.48135519e+01,  3.06807222e+01, -1.79480272e+01,\n",
       "          1.59334783e+01, -4.15745866e+00],\n",
       "        [ 1.34259519e+01,  1.47720587e+01,  3.49087923e+01,\n",
       "          8.22816606e+00, -3.26065524e+01, -3.87308709e+00,\n",
       "          1.24708754e+01,  3.09484086e+01,  8.75705478e+00,\n",
       "         -2.63429157e+01, -1.58151609e+01],\n",
       "        [ 9.51340154e+00, -3.87688559e+01,  5.30168002e+01,\n",
       "          2.28613213e+01, -5.51738873e+00, -5.88863575e+00,\n",
       "          1.37194040e+01, -3.19748913e+00, -1.72713670e+01,\n",
       "          7.92909402e-01, -1.94273794e+01],\n",
       "        [-3.05003369e+01,  4.03141825e+01,  3.05533268e+01,\n",
       "          2.90158167e+00,  5.60314404e+00,  2.26507511e+01,\n",
       "          1.98362261e+01, -5.23234576e+00,  8.03314056e+00,\n",
       "         -1.07366458e+01, -3.52371494e+01],\n",
       "        [ 1.12874593e+02,  6.31536098e+00, -5.99559052e+01,\n",
       "         -3.11147007e+01, -3.13521500e+01,  1.04579325e+00,\n",
       "         -3.01947739e+00,  8.86702393e-01, -1.28906947e+01,\n",
       "          2.11687765e+00, -9.33695531e+00],\n",
       "        [-4.99978843e+01,  1.80296026e+01, -1.37175005e+01,\n",
       "         -1.65755252e+01,  3.05333123e+01,  7.01364793e+00,\n",
       "         -3.59981752e+01,  4.20578886e+00,  5.42666808e+00,\n",
       "         -2.43831800e+01,  2.07605401e+01],\n",
       "        [-6.80361628e+00, -5.82843454e+01,  3.12621810e+01,\n",
       "         -1.82420522e+01, -9.03386314e+00, -3.08407813e+00,\n",
       "          9.51172840e+00, -9.81455372e+00, -8.06045429e-02,\n",
       "          1.49410782e+01, -1.89781891e+01],\n",
       "        [-7.04870969e+00, -1.94308289e+01,  1.92274808e+01,\n",
       "         -3.48829693e+01,  1.67059213e+01,  2.01151829e+01,\n",
       "         -1.00914696e+01, -2.18849455e+01,  1.58138852e+01,\n",
       "         -2.00350806e+01,  8.14433336e+00],\n",
       "        [-4.18029180e+01,  2.44226429e+00, -5.32529646e+00,\n",
       "         -3.58448956e-01, -1.15316921e+00,  6.05131690e+01,\n",
       "         -1.07535347e+01, -2.19474746e+01, -8.23529180e+00,\n",
       "         -1.92805378e+01,  6.72479158e+00],\n",
       "        [ 4.39448141e+01, -4.39370669e+01, -3.45128170e+01,\n",
       "          3.83809562e+01,  3.80905078e+01,  3.01801572e+01,\n",
       "          2.22972755e+01, -1.77205642e+01,  4.32059127e+00,\n",
       "          1.30994028e+01,  2.36794932e+01]]),\n",
       " 'predictions': array([1, 1, 1, 1, 1, 1, 1, 0, 1, 1, 0, 1, 1, 1, 1, 0, 1, 1, 0, 1, 1, 1,\n",
       "        1, 0, 1, 1, 1, 1, 1, 1, 1, 1, 0, 1, 1, 1, 0, 1, 1, 1, 0, 1, 1, 1,\n",
       "        0, 0, 1, 0, 1, 1, 1, 1, 1, 1, 1, 1, 0, 0, 1, 1, 1, 1, 1, 1, 1, 1,\n",
       "        1, 1, 1, 1, 1, 1, 1, 1, 1, 1, 1, 0, 1, 1, 1, 1, 0], dtype=int64),\n",
       " 'Test Accuracy': 0.9397590361445783,\n",
       " 'AUC_score': 0.8913246268656716}"
      ]
     },
     "execution_count": 36,
     "metadata": {},
     "output_type": "execute_result"
    }
   ],
   "source": [
    "adaboost_pca = pickle.load(open('Adaboost/adaboost_PCA.pkl', 'rb'))\n",
    "adaboost_pca"
   ]
  },
  {
   "cell_type": "code",
   "execution_count": 37,
   "metadata": {},
   "outputs": [
    {
     "data": {
      "text/plain": [
       "{'model': AdaBoostClassifier(learning_rate=0.1, n_estimators=100, random_state=42),\n",
       " 'train_acc': 0.9210175145954963,\n",
       " 'test_acc': 0.9156626506024096,\n",
       " 'auc_score': 0.8288246268656716,\n",
       " 'confusion_matrix': array([[11,  5],\n",
       "        [ 2, 65]], dtype=int64),\n",
       " 'classification_report':               precision    recall  f1-score    support\n",
       " 0              0.846154  0.687500  0.758621  16.000000\n",
       " 1              0.928571  0.970149  0.948905  67.000000\n",
       " accuracy       0.915663  0.915663  0.915663   0.915663\n",
       " macro avg      0.887363  0.828825  0.853763  83.000000\n",
       " weighted avg   0.912684  0.915663  0.912224  83.000000}"
      ]
     },
     "execution_count": 37,
     "metadata": {},
     "output_type": "execute_result"
    }
   ],
   "source": [
    "adaboost_ae = pickle.load(open('Adaboost/adaboost_AE.pkl', 'rb'))\n",
    "adaboost_ae"
   ]
  },
  {
   "cell_type": "code",
   "execution_count": 39,
   "metadata": {},
   "outputs": [
    {
     "data": {
      "image/png": "[encoded data removed]",
      "text/plain": [
       "<Figure size 360x360 with 1 Axes>"
      ]
     },
     "metadata": {
      "needs_background": "light"
     },
     "output_type": "display_data"
    }
   ],
   "source": [
    "all_dim_acc = all_dim_dict['Test Set Accuracy']\n",
    "pca_acc = adaboost_pca['Test Accuracy']\n",
    "ae_acc = adaboost_ae['test_acc']\n",
    "\n",
    "plt.figure(figsize=(5, 5))\n",
    "plt.bar(['All Dimensions', 'PCA', 'Autoencoder'], [all_dim_acc, pca_acc, ae_acc])\n",
    "plt.xlabel('Dimension Reduction Method')\n",
    "plt.ylabel('Test Set Accuracy')\n",
    "plt.title('Test Accuracy of Adaboost')\n",
    "plt.text(-0.05, 0.65, round(all_dim_acc, 3), color='white')\n",
    "plt.text(0.95, 0.65, round(pca_acc, 3), color='white')\n",
    "plt.text(1.95, 0.65, round(ae_acc, 3), color='white')\n",
    "plt.savefig('Adaboost/adaboost_acc_scores.jpg', dpi=300, bbox_inches='tight')\n",
    "plt.show()"
   ]
  },
  {
   "cell_type": "code",
   "execution_count": 40,
   "metadata": {},
   "outputs": [
    {
     "data": {
      "image/png": "[encoded data removed]",
      "text/plain": [
       "<Figure size 360x360 with 1 Axes>"
      ]
     },
     "metadata": {
      "needs_background": "light"
     },
     "output_type": "display_data"
    }
   ],
   "source": [
    "all_dim_auc = all_dim_dict['AUC Score']\n",
    "pca_auc = adaboost_pca['AUC_score']\n",
    "ae_auc = adaboost_ae['auc_score']\n",
    "\n",
    "plt.figure(figsize=(5, 5))\n",
    "plt.bar(['All Dimensions', 'PCA', 'Autoencoder'], [all_dim_auc, pca_auc, ae_auc])\n",
    "plt.xlabel('Dimension Reduction Method')\n",
    "plt.ylabel('AUC Score')\n",
    "plt.title('AUC Score of Adaboost')\n",
    "plt.text(-0.05, 0.65, round(all_dim_auc, 3), color='white')\n",
    "plt.text(0.95, 0.65, round(pca_auc, 3), color='white')\n",
    "plt.text(1.95, 0.65, round(ae_auc, 3), color='white')\n",
    "plt.savefig('Adaboost/adaboost_auc_scores.jpg', dpi=300, bbox_inches='tight')\n",
    "plt.show()"
   ]
  },
  {
   "cell_type": "markdown",
   "metadata": {},
   "source": [
    "## Deep Learning Model"
   ]
  },
  {
   "cell_type": "code",
   "execution_count": 41,
   "metadata": {},
   "outputs": [
    {
     "data": {
      "text/html": [
       "<div>\n",
       "<style scoped>\n",
       "    .dataframe tbody tr th:only-of-type {\n",
       "        vertical-align: middle;\n",
       "    }\n",
       "\n",
       "    .dataframe tbody tr th {\n",
       "        vertical-align: top;\n",
       "    }\n",
       "\n",
       "    .dataframe thead th {\n",
       "        text-align: right;\n",
       "    }\n",
       "</style>\n",
       "<table border=\"1\" class=\"dataframe\">\n",
       "  <thead>\n",
       "    <tr style=\"text-align: right;\">\n",
       "      <th></th>\n",
       "      <th>epochs</th>\n",
       "      <th>lr</th>\n",
       "      <th>batch_size</th>\n",
       "      <th>acc</th>\n",
       "      <th>auc</th>\n",
       "    </tr>\n",
       "  </thead>\n",
       "  <tbody>\n",
       "    <tr>\n",
       "      <th>0</th>\n",
       "      <td>5</td>\n",
       "      <td>0.001</td>\n",
       "      <td>16</td>\n",
       "      <td>0.903614</td>\n",
       "      <td>0.845149</td>\n",
       "    </tr>\n",
       "    <tr>\n",
       "      <th>1</th>\n",
       "      <td>5</td>\n",
       "      <td>0.001</td>\n",
       "      <td>32</td>\n",
       "      <td>0.915663</td>\n",
       "      <td>0.876399</td>\n",
       "    </tr>\n",
       "    <tr>\n",
       "      <th>2</th>\n",
       "      <td>5</td>\n",
       "      <td>0.001</td>\n",
       "      <td>64</td>\n",
       "      <td>0.927711</td>\n",
       "      <td>0.931437</td>\n",
       "    </tr>\n",
       "    <tr>\n",
       "      <th>3</th>\n",
       "      <td>5</td>\n",
       "      <td>0.001</td>\n",
       "      <td>128</td>\n",
       "      <td>0.903614</td>\n",
       "      <td>0.892724</td>\n",
       "    </tr>\n",
       "    <tr>\n",
       "      <th>4</th>\n",
       "      <td>5</td>\n",
       "      <td>0.010</td>\n",
       "      <td>16</td>\n",
       "      <td>0.903614</td>\n",
       "      <td>0.892724</td>\n",
       "    </tr>\n",
       "  </tbody>\n",
       "</table>\n",
       "</div>"
      ],
      "text/plain": [
       "   epochs     lr  batch_size       acc       auc\n",
       "0       5  0.001          16  0.903614  0.845149\n",
       "1       5  0.001          32  0.915663  0.876399\n",
       "2       5  0.001          64  0.927711  0.931437\n",
       "3       5  0.001         128  0.903614  0.892724\n",
       "4       5  0.010          16  0.903614  0.892724"
      ]
     },
     "execution_count": 41,
     "metadata": {},
     "output_type": "execute_result"
    }
   ],
   "source": [
    "dl_all_dim = pd.read_csv('DL model/all_dim_results.csv')\n",
    "dl_all_dim.head()"
   ]
  },
  {
   "cell_type": "code",
   "execution_count": 42,
   "metadata": {},
   "outputs": [
    {
     "data": {
      "text/html": [
       "<div>\n",
       "<style scoped>\n",
       "    .dataframe tbody tr th:only-of-type {\n",
       "        vertical-align: middle;\n",
       "    }\n",
       "\n",
       "    .dataframe tbody tr th {\n",
       "        vertical-align: top;\n",
       "    }\n",
       "\n",
       "    .dataframe thead th {\n",
       "        text-align: right;\n",
       "    }\n",
       "</style>\n",
       "<table border=\"1\" class=\"dataframe\">\n",
       "  <thead>\n",
       "    <tr style=\"text-align: right;\">\n",
       "      <th></th>\n",
       "      <th>n_components</th>\n",
       "      <th>train_accuracy</th>\n",
       "      <th>test_accuracy</th>\n",
       "      <th>auc_score</th>\n",
       "    </tr>\n",
       "  </thead>\n",
       "  <tbody>\n",
       "    <tr>\n",
       "      <th>0</th>\n",
       "      <td>5</td>\n",
       "      <td>0.981763</td>\n",
       "      <td>0.891566</td>\n",
       "      <td>0.837687</td>\n",
       "    </tr>\n",
       "    <tr>\n",
       "      <th>1</th>\n",
       "      <td>10</td>\n",
       "      <td>0.996960</td>\n",
       "      <td>0.891566</td>\n",
       "      <td>0.837687</td>\n",
       "    </tr>\n",
       "    <tr>\n",
       "      <th>2</th>\n",
       "      <td>20</td>\n",
       "      <td>0.996960</td>\n",
       "      <td>0.903614</td>\n",
       "      <td>0.868937</td>\n",
       "    </tr>\n",
       "    <tr>\n",
       "      <th>3</th>\n",
       "      <td>50</td>\n",
       "      <td>1.000000</td>\n",
       "      <td>0.903614</td>\n",
       "      <td>0.892724</td>\n",
       "    </tr>\n",
       "    <tr>\n",
       "      <th>4</th>\n",
       "      <td>100</td>\n",
       "      <td>1.000000</td>\n",
       "      <td>0.927711</td>\n",
       "      <td>0.931437</td>\n",
       "    </tr>\n",
       "  </tbody>\n",
       "</table>\n",
       "</div>"
      ],
      "text/plain": [
       "   n_components  train_accuracy  test_accuracy  auc_score\n",
       "0             5        0.981763       0.891566   0.837687\n",
       "1            10        0.996960       0.891566   0.837687\n",
       "2            20        0.996960       0.903614   0.868937\n",
       "3            50        1.000000       0.903614   0.892724\n",
       "4           100        1.000000       0.927711   0.931437"
      ]
     },
     "execution_count": 42,
     "metadata": {},
     "output_type": "execute_result"
    }
   ],
   "source": [
    "dl_pca = pd.read_csv('DL model/PCA_DL_results.csv')\n",
    "dl_pca.head()"
   ]
  },
  {
   "cell_type": "code",
   "execution_count": 43,
   "metadata": {},
   "outputs": [
    {
     "data": {
      "text/plain": [
       "epochs        10.000000\n",
       "lr             0.100000\n",
       "batch_size    16.000000\n",
       "acc            0.927711\n",
       "auc            0.955224\n",
       "Name: 20, dtype: float64"
      ]
     },
     "execution_count": 43,
     "metadata": {},
     "output_type": "execute_result"
    }
   ],
   "source": [
    "all_dim_best_auc = dl_all_dim.loc[dl_all_dim['auc'].idxmax()]\n",
    "all_dim_best_auc"
   ]
  },
  {
   "cell_type": "code",
   "execution_count": 44,
   "metadata": {},
   "outputs": [
    {
     "data": {
      "text/plain": [
       "n_components      300.000000\n",
       "train_accuracy      1.000000\n",
       "test_accuracy       0.963855\n",
       "auc_score           0.977612\n",
       "Name: 6, dtype: float64"
      ]
     },
     "execution_count": 44,
     "metadata": {},
     "output_type": "execute_result"
    }
   ],
   "source": [
    "pca_best_auc = dl_pca.loc[dl_pca['auc_score'].idxmax()]\n",
    "pca_best_auc"
   ]
  },
  {
   "cell_type": "code",
   "execution_count": 46,
   "metadata": {},
   "outputs": [
    {
     "data": {
      "text/plain": [
       "{'input_size': 64,\n",
       " 'learning_rate': 0.1,\n",
       " 'epochs': 100,\n",
       " 'batch_size': 16,\n",
       " 'test_accuracy': tensor(0.8916),\n",
       " 'test_auc': 0.8614738805970149}"
      ]
     },
     "execution_count": 46,
     "metadata": {},
     "output_type": "execute_result"
    }
   ],
   "source": [
    "dl_ae = pickle.load(open('DL model/dl_ae_dict.pkl', 'rb'))\n",
    "dl_ae"
   ]
  },
  {
   "cell_type": "code",
   "execution_count": 48,
   "metadata": {},
   "outputs": [
    {
     "data": {
      "image/png": "[encoded data removed]",
      "text/plain": [
       "<Figure size 360x360 with 1 Axes>"
      ]
     },
     "metadata": {
      "needs_background": "light"
     },
     "output_type": "display_data"
    }
   ],
   "source": [
    "all_dim_auc = all_dim_best_auc['auc']\n",
    "pca_auc = pca_best_auc['auc_score']\n",
    "ae_auc = dl_ae['test_auc']\n",
    "\n",
    "plt.figure(figsize=(5, 5))\n",
    "plt.bar(['All Dimensions', 'PCA', 'Autoencoder'], [all_dim_auc, pca_auc, ae_auc])\n",
    "plt.xlabel('Dimension Reduction Method')\n",
    "plt.ylabel('AUC Score')\n",
    "plt.title('AUC Score of Deep Learning Model')\n",
    "plt.text(-0.05, 0.65, round(all_dim_auc, 3), color='white')\n",
    "plt.text(0.95, 0.65, round(pca_auc, 3), color='white')\n",
    "plt.text(1.95, 0.65, round(ae_auc, 3), color='white')\n",
    "plt.savefig('DL model/dl_auc_scores.jpg', dpi=300, bbox_inches='tight')\n",
    "plt.show()"
   ]
  },
  {
   "cell_type": "code",
   "execution_count": 52,
   "metadata": {},
   "outputs": [
    {
     "data": {
      "image/png": "[encoded data removed]",
      "text/plain": [
       "<Figure size 360x360 with 1 Axes>"
      ]
     },
     "metadata": {
      "needs_background": "light"
     },
     "output_type": "display_data"
    }
   ],
   "source": [
    "all_dim_acc = all_dim_best_auc['acc']\n",
    "pca_acc = pca_best_auc['test_accuracy']\n",
    "ae_acc = dl_ae['test_accuracy'].item()\n",
    "\n",
    "plt.figure(figsize=(5, 5))\n",
    "plt.bar(['All Dimensions', 'PCA', 'Autoencoder'], [all_dim_acc, pca_acc, ae_acc])\n",
    "plt.xlabel('Dimension Reduction Method')\n",
    "plt.ylabel('Test Set Accuracy')\n",
    "plt.title('Test Accuracy of Deep Learning Model')\n",
    "plt.text(-0.05, 0.65, round(all_dim_acc, 3), color='white')\n",
    "plt.text(0.95, 0.65, round(pca_acc, 3), color='white')\n",
    "plt.text(1.95, 0.65, round(ae_acc, 3), color='white')\n",
    "plt.savefig('DL model/dl_acc_scores.jpg', dpi=300, bbox_inches='tight')\n",
    "plt.show()"
   ]
  },
  {
   "cell_type": "markdown",
   "metadata": {},
   "source": [
    "## Best Model"
   ]
  },
  {
   "cell_type": "code",
   "execution_count": 53,
   "metadata": {},
   "outputs": [],
   "source": [
    "rf_all_dim_dict = pickle.load(open('Random Forest/rf_all_dim.pkl', 'rb'))\n",
    "ada_all_dim_dict = pickle.load(open('Adaboost/adaboost_all_dim.pkl', 'rb'))"
   ]
  },
  {
   "cell_type": "code",
   "execution_count": 55,
   "metadata": {},
   "outputs": [
    {
     "data": {
      "image/png": "[encoded data removed]",
      "text/plain": [
       "<Figure size 360x360 with 1 Axes>"
      ]
     },
     "metadata": {
      "needs_background": "light"
     },
     "output_type": "display_data"
    }
   ],
   "source": [
    "rf_all_dim_auc = rf_all_dim_dict['AUC Score']\n",
    "ada_all_dim_auc = ada_all_dim_dict['AUC Score']\n",
    "svm_all_dim_auc = svm_all_dim['AUC Score']\n",
    "dl_all_dim_auc = all_dim_best_auc['auc']\n",
    "\n",
    "plt.figure(figsize=(5, 5))\n",
    "plt.bar(['Random Forest', 'Adaboost', 'SVM', 'Deep Learning'], [rf_all_dim_auc, ada_all_dim_auc, svm_all_dim_auc, dl_all_dim_auc])\n",
    "plt.xlabel('Machine Learning Model')\n",
    "plt.ylabel('AUC Score')\n",
    "plt.title('AUC Score of All Dimensions')\n",
    "plt.text(-0.05, 0.65, round(rf_all_dim_auc, 3), color='white')\n",
    "plt.text(0.95, 0.65, round(ada_all_dim_auc, 3), color='white')\n",
    "plt.text(1.95, 0.65, round(svm_all_dim_auc, 3), color='white')\n",
    "plt.text(2.95, 0.65, round(dl_all_dim_auc, 3), color='white')\n",
    "plt.savefig('Results/AUC Scores of All Dimensions.jpg', dpi=300, bbox_inches='tight')\n",
    "plt.show()"
   ]
  },
  {
   "cell_type": "code",
   "execution_count": 57,
   "metadata": {},
   "outputs": [
    {
     "data": {
      "image/png": "[encoded data removed]",
      "text/plain": [
       "<Figure size 360x360 with 1 Axes>"
      ]
     },
     "metadata": {
      "needs_background": "light"
     },
     "output_type": "display_data"
    }
   ],
   "source": [
    "rf_pca_auc = pca_dict['auc_score']\n",
    "ada_pca_auc = adaboost_pca['AUC_score']\n",
    "svm_pca_auc = svm_pca_dict['auc_score']\n",
    "dl_pca_auc = pca_best_auc['auc_score']\n",
    "\n",
    "plt.figure(figsize=(5, 5))\n",
    "plt.bar(['Random Forest', 'Adaboost', 'SVM', 'Deep Learning'], [rf_pca_auc, ada_pca_auc, svm_pca_auc, dl_pca_auc])\n",
    "plt.xlabel('Machine Learning Model')\n",
    "plt.ylabel('AUC Score')\n",
    "plt.title('AUC Score of PCA')\n",
    "plt.text(-0.05, 0.65, round(rf_pca_auc, 3), color='white')\n",
    "plt.text(0.95, 0.65, round(ada_pca_auc, 3), color='white')\n",
    "plt.text(1.95, 0.65, round(svm_pca_auc, 3), color='white')\n",
    "plt.text(2.95, 0.65, round(dl_pca_auc, 3), color='white')\n",
    "plt.savefig('Results/AUC Scores of PCA.jpg', dpi=300, bbox_inches='tight')\n",
    "plt.show()"
   ]
  },
  {
   "cell_type": "code",
   "execution_count": 58,
   "metadata": {},
   "outputs": [
    {
     "data": {
      "image/png": "[encoded data removed]",
      "text/plain": [
       "<Figure size 360x360 with 1 Axes>"
      ]
     },
     "metadata": {
      "needs_background": "light"
     },
     "output_type": "display_data"
    }
   ],
   "source": [
    "rf_ae_auc = rf_ae_dict['auc_score']\n",
    "ada_ae_auc = dl_ae['test_auc']\n",
    "svm_ae_auc = svm_ae_dict['auc_score']\n",
    "dl_ae_auc = dl_ae['test_auc']\n",
    "\n",
    "plt.figure(figsize=(5, 5))\n",
    "plt.bar(['Random Forest', 'Adaboost', 'SVM', 'Deep Learning'], [rf_ae_auc, ada_ae_auc, svm_ae_auc, dl_ae_auc])\n",
    "plt.xlabel('Machine Learning Model')\n",
    "plt.ylabel('AUC Score')\n",
    "plt.title('AUC Score of Autoencoder')\n",
    "plt.text(-0.05, 0.65, round(rf_ae_auc, 3), color='white')\n",
    "plt.text(0.95, 0.65, round(ada_ae_auc, 3), color='white')\n",
    "plt.text(1.95, 0.65, round(svm_ae_auc, 3), color='white')\n",
    "plt.text(2.95, 0.65, round(dl_ae_auc, 3), color='white')\n",
    "plt.savefig('Results/AUC Scores of Autoencoder.jpg', dpi=300, bbox_inches='tight')\n",
    "plt.show()"
   ]
  },
  {
   "cell_type": "code",
   "execution_count": null,
   "metadata": {},
   "outputs": [],
   "source": []
  }
 ],
 "metadata": {
  "kernelspec": {
   "display_name": "Python 3",
   "language": "python",
   "name": "python3"
  },
  "language_info": {
   "codemirror_mode": {
    "name": "ipython",
    "version": 3
   },
   "file_extension": ".py",
   "mimetype": "text/x-python",
   "name": "python",
   "nbconvert_exporter": "python",
   "pygments_lexer": "ipython3",
   "version": "3.7.4"
  }
 },
 "nbformat": 4,
 "nbformat_minor": 2
}
