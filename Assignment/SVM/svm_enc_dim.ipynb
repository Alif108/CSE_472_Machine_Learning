{
 "cells": [
  {
   "cell_type": "code",
   "execution_count": 1,
   "metadata": {},
   "outputs": [],
   "source": [
    "import numpy as np\n",
    "import torch\n",
    "import torch.nn as nn\n",
    "import torch.optim as optim\n",
    "import pandas as pd\n",
    "import pickle"
   ]
  },
  {
   "cell_type": "code",
   "execution_count": 2,
   "metadata": {},
   "outputs": [
    {
     "name": "stdout",
     "output_type": "stream",
     "text": [
      "torch.Size([329, 64])\n",
      "torch.Size([83, 64])\n",
      "(329,)\n",
      "(83,)\n"
     ]
    }
   ],
   "source": [
    "X_train = pickle.load(open('../Data/train_enc.pkl', 'rb'))\n",
    "X_test = pickle.load(open('../Data/test_enc.pkl', 'rb'))\n",
    "y_train = pickle.load(open('../Data/y_train.pkl', 'rb'))\n",
    "y_test = pickle.load(open('../Data/y_test.pkl', 'rb'))\n",
    "\n",
    "print(X_train.shape)\n",
    "print(X_test.shape)\n",
    "print(y_train.shape)\n",
    "print(y_test.shape)"
   ]
  },
  {
   "cell_type": "code",
   "execution_count": 3,
   "metadata": {},
   "outputs": [
    {
     "name": "stdout",
     "output_type": "stream",
     "text": [
      "Fitting 3 folds for each of 40 candidates, totalling 120 fits\n"
     ]
    },
    {
     "data": {
      "text/plain": [
       "GridSearchCV(cv=3, estimator=SVC(probability=True), n_jobs=-1,\n",
       "             param_grid=[{'C': [0.1, 1, 10, 100], 'kernel': ['linear']},\n",
       "                         {'C': [0.1, 1, 10, 100],\n",
       "                          'gamma': [0.1, 0.2, 0.3, 0.4, 0.5, 0.6, 0.7, 0.8,\n",
       "                                    0.9],\n",
       "                          'kernel': ['rbf']}],\n",
       "             verbose=2)"
      ]
     },
     "execution_count": 3,
     "metadata": {},
     "output_type": "execute_result"
    }
   ],
   "source": [
    "from sklearn.model_selection import GridSearchCV\n",
    "from sklearn.svm import SVC\n",
    "\n",
    "# Define the parameter grid\n",
    "parameters = [{'C': [0.1, 1, 10, 100], 'kernel': ['linear']},\n",
    "              {'C': [0.1, 1, 10, 100], 'kernel': ['rbf'], 'gamma': [0.1, 0.2, 0.3, 0.4, 0.5, 0.6, 0.7, 0.8, 0.9]}]\n",
    "\n",
    "# Create a GridSearchCV object\n",
    "search = GridSearchCV(SVC(probability=True), parameters, n_jobs=-1, verbose=2, cv=3)\n",
    "\n",
    "# Fit the grid search to the data\n",
    "search.fit(X_train, y_train)"
   ]
  },
  {
   "cell_type": "code",
   "execution_count": 4,
   "metadata": {},
   "outputs": [
    {
     "name": "stdout",
     "output_type": "stream",
     "text": [
      "Best Parameters: {'C': 0.1, 'gamma': 0.1, 'kernel': 'rbf'}\n"
     ]
    }
   ],
   "source": [
    "best_params = search.best_params_\n",
    "print(\"Best Parameters:\", best_params)"
   ]
  },
  {
   "cell_type": "code",
   "execution_count": 5,
   "metadata": {},
   "outputs": [
    {
     "data": {
      "text/plain": [
       "SVC(C=0.1, gamma=0.1, probability=True)"
      ]
     },
     "execution_count": 5,
     "metadata": {},
     "output_type": "execute_result"
    }
   ],
   "source": [
    "best_model = search.best_estimator_\n",
    "best_model"
   ]
  },
  {
   "cell_type": "code",
   "execution_count": 6,
   "metadata": {},
   "outputs": [
    {
     "data": {
      "text/plain": [
       "{'mean_fit_time': array([0.06219228, 0.07395665, 0.08893879, 0.06780473, 0.09945146,\n",
       "        0.10465916, 0.09472211, 0.11034266, 0.11046211, 0.10531648,\n",
       "        0.10928194, 0.10738548, 0.10947649, 0.11135793, 0.10615087,\n",
       "        0.111576  , 0.10939558, 0.11391854, 0.12589351, 0.11018499,\n",
       "        0.12142658, 0.12653597, 0.12847408, 0.12783305, 0.11059332,\n",
       "        0.1222713 , 0.1396203 , 0.12097295, 0.12683082, 0.12101022,\n",
       "        0.12873538, 0.12156161, 0.11269275, 0.13933476, 0.12921596,\n",
       "        0.12879825, 0.14594523, 0.13156192, 0.12373694, 0.09267815]),\n",
       " 'std_fit_time': array([2.59741840e-02, 4.97694141e-02, 6.84950598e-02, 4.61798945e-02,\n",
       "        1.12391596e-07, 7.36451553e-03, 7.36580861e-03, 7.36603356e-03,\n",
       "        7.44661759e-03, 7.36670716e-03, 6.63497883e-03, 7.36586469e-03,\n",
       "        1.03326090e-02, 7.36423455e-03, 7.36389737e-03, 4.27532012e-03,\n",
       "        7.36614645e-03, 7.36339166e-03, 9.56806516e-03, 5.44121493e-03,\n",
       "        6.40422952e-03, 1.47289188e-02, 1.74662722e-02, 9.37938267e-03,\n",
       "        7.84987388e-03, 7.36372879e-03, 6.95449255e-03, 7.36097556e-03,\n",
       "        1.56223280e-02, 7.36378498e-03, 9.51529769e-03, 7.36181875e-03,\n",
       "        1.40486098e-02, 6.50044517e-03, 1.17096143e-02, 1.86373364e-03,\n",
       "        7.51300811e-03, 6.48139466e-03, 1.48791942e-02, 8.01001329e-03]),\n",
       " 'mean_score_time': array([0.        , 0.0052069 , 0.        , 0.        , 0.01562134,\n",
       "        0.01248018, 0.02603229, 0.01562333, 0.01896818, 0.0156219 ,\n",
       "        0.01192236, 0.0156215 , 0.01562142, 0.02082864, 0.0191234 ,\n",
       "        0.02083079, 0.02498611, 0.03124396, 0.01717965, 0.0260342 ,\n",
       "        0.01599511, 0.02187626, 0.01755722, 0.02603722, 0.02758217,\n",
       "        0.01562119, 0.01252397, 0.0208261 , 0.0244925 , 0.01562174,\n",
       "        0.01795554, 0.01809978, 0.01677243, 0.02254287, 0.01562071,\n",
       "        0.01788926, 0.01439238, 0.02043462, 0.02082825, 0.00520531]),\n",
       " 'std_score_time': array([0.00000000e+00, 7.36367259e-03, 0.00000000e+00, 0.00000000e+00,\n",
       "        2.24783192e-07, 9.18037773e-03, 7.36749390e-03, 4.78027765e-06,\n",
       "        4.72764088e-03, 2.02304873e-06, 5.22503078e-03, 4.49566384e-07,\n",
       "        3.37174788e-07, 7.36395357e-03, 2.47643643e-03, 7.36934840e-03,\n",
       "        7.48710075e-03, 2.24783192e-07, 2.20754015e-03, 7.36631381e-03,\n",
       "        5.28802459e-04, 8.84533100e-03, 2.73847748e-03, 7.36136859e-03,\n",
       "        8.66351645e-03, 3.37174788e-07, 4.38046246e-03, 7.36507802e-03,\n",
       "        9.51947817e-03, 7.86741172e-07, 3.30043541e-03, 3.50459475e-03,\n",
       "        1.05289339e-02, 6.50042114e-03, 8.92080638e-07, 4.38997992e-03,\n",
       "        4.34618302e-04, 8.26727821e-03, 7.36693238e-03, 7.36142476e-03]),\n",
       " 'param_C': masked_array(data=[0.1, 1, 10, 100, 0.1, 0.1, 0.1, 0.1, 0.1, 0.1, 0.1,\n",
       "                    0.1, 0.1, 1, 1, 1, 1, 1, 1, 1, 1, 1, 10, 10, 10, 10,\n",
       "                    10, 10, 10, 10, 10, 100, 100, 100, 100, 100, 100, 100,\n",
       "                    100, 100],\n",
       "              mask=[False, False, False, False, False, False, False, False,\n",
       "                    False, False, False, False, False, False, False, False,\n",
       "                    False, False, False, False, False, False, False, False,\n",
       "                    False, False, False, False, False, False, False, False,\n",
       "                    False, False, False, False, False, False, False, False],\n",
       "        fill_value='?',\n",
       "             dtype=object),\n",
       " 'param_kernel': masked_array(data=['linear', 'linear', 'linear', 'linear', 'rbf', 'rbf',\n",
       "                    'rbf', 'rbf', 'rbf', 'rbf', 'rbf', 'rbf', 'rbf', 'rbf',\n",
       "                    'rbf', 'rbf', 'rbf', 'rbf', 'rbf', 'rbf', 'rbf', 'rbf',\n",
       "                    'rbf', 'rbf', 'rbf', 'rbf', 'rbf', 'rbf', 'rbf', 'rbf',\n",
       "                    'rbf', 'rbf', 'rbf', 'rbf', 'rbf', 'rbf', 'rbf', 'rbf',\n",
       "                    'rbf', 'rbf'],\n",
       "              mask=[False, False, False, False, False, False, False, False,\n",
       "                    False, False, False, False, False, False, False, False,\n",
       "                    False, False, False, False, False, False, False, False,\n",
       "                    False, False, False, False, False, False, False, False,\n",
       "                    False, False, False, False, False, False, False, False],\n",
       "        fill_value='?',\n",
       "             dtype=object),\n",
       " 'param_gamma': masked_array(data=[--, --, --, --, 0.1, 0.2, 0.3, 0.4, 0.5, 0.6, 0.7, 0.8,\n",
       "                    0.9, 0.1, 0.2, 0.3, 0.4, 0.5, 0.6, 0.7, 0.8, 0.9, 0.1,\n",
       "                    0.2, 0.3, 0.4, 0.5, 0.6, 0.7, 0.8, 0.9, 0.1, 0.2, 0.3,\n",
       "                    0.4, 0.5, 0.6, 0.7, 0.8, 0.9],\n",
       "              mask=[ True,  True,  True,  True, False, False, False, False,\n",
       "                    False, False, False, False, False, False, False, False,\n",
       "                    False, False, False, False, False, False, False, False,\n",
       "                    False, False, False, False, False, False, False, False,\n",
       "                    False, False, False, False, False, False, False, False],\n",
       "        fill_value='?',\n",
       "             dtype=object),\n",
       " 'params': [{'C': 0.1, 'kernel': 'linear'},\n",
       "  {'C': 1, 'kernel': 'linear'},\n",
       "  {'C': 10, 'kernel': 'linear'},\n",
       "  {'C': 100, 'kernel': 'linear'},\n",
       "  {'C': 0.1, 'gamma': 0.1, 'kernel': 'rbf'},\n",
       "  {'C': 0.1, 'gamma': 0.2, 'kernel': 'rbf'},\n",
       "  {'C': 0.1, 'gamma': 0.3, 'kernel': 'rbf'},\n",
       "  {'C': 0.1, 'gamma': 0.4, 'kernel': 'rbf'},\n",
       "  {'C': 0.1, 'gamma': 0.5, 'kernel': 'rbf'},\n",
       "  {'C': 0.1, 'gamma': 0.6, 'kernel': 'rbf'},\n",
       "  {'C': 0.1, 'gamma': 0.7, 'kernel': 'rbf'},\n",
       "  {'C': 0.1, 'gamma': 0.8, 'kernel': 'rbf'},\n",
       "  {'C': 0.1, 'gamma': 0.9, 'kernel': 'rbf'},\n",
       "  {'C': 1, 'gamma': 0.1, 'kernel': 'rbf'},\n",
       "  {'C': 1, 'gamma': 0.2, 'kernel': 'rbf'},\n",
       "  {'C': 1, 'gamma': 0.3, 'kernel': 'rbf'},\n",
       "  {'C': 1, 'gamma': 0.4, 'kernel': 'rbf'},\n",
       "  {'C': 1, 'gamma': 0.5, 'kernel': 'rbf'},\n",
       "  {'C': 1, 'gamma': 0.6, 'kernel': 'rbf'},\n",
       "  {'C': 1, 'gamma': 0.7, 'kernel': 'rbf'},\n",
       "  {'C': 1, 'gamma': 0.8, 'kernel': 'rbf'},\n",
       "  {'C': 1, 'gamma': 0.9, 'kernel': 'rbf'},\n",
       "  {'C': 10, 'gamma': 0.1, 'kernel': 'rbf'},\n",
       "  {'C': 10, 'gamma': 0.2, 'kernel': 'rbf'},\n",
       "  {'C': 10, 'gamma': 0.3, 'kernel': 'rbf'},\n",
       "  {'C': 10, 'gamma': 0.4, 'kernel': 'rbf'},\n",
       "  {'C': 10, 'gamma': 0.5, 'kernel': 'rbf'},\n",
       "  {'C': 10, 'gamma': 0.6, 'kernel': 'rbf'},\n",
       "  {'C': 10, 'gamma': 0.7, 'kernel': 'rbf'},\n",
       "  {'C': 10, 'gamma': 0.8, 'kernel': 'rbf'},\n",
       "  {'C': 10, 'gamma': 0.9, 'kernel': 'rbf'},\n",
       "  {'C': 100, 'gamma': 0.1, 'kernel': 'rbf'},\n",
       "  {'C': 100, 'gamma': 0.2, 'kernel': 'rbf'},\n",
       "  {'C': 100, 'gamma': 0.3, 'kernel': 'rbf'},\n",
       "  {'C': 100, 'gamma': 0.4, 'kernel': 'rbf'},\n",
       "  {'C': 100, 'gamma': 0.5, 'kernel': 'rbf'},\n",
       "  {'C': 100, 'gamma': 0.6, 'kernel': 'rbf'},\n",
       "  {'C': 100, 'gamma': 0.7, 'kernel': 'rbf'},\n",
       "  {'C': 100, 'gamma': 0.8, 'kernel': 'rbf'},\n",
       "  {'C': 100, 'gamma': 0.9, 'kernel': 'rbf'}],\n",
       " 'split0_test_score': array([0.83636364, 0.83636364, 0.83636364, 0.83636364, 0.80909091,\n",
       "        0.80909091, 0.80909091, 0.80909091, 0.80909091, 0.80909091,\n",
       "        0.80909091, 0.80909091, 0.80909091, 0.80909091, 0.80909091,\n",
       "        0.80909091, 0.80909091, 0.80909091, 0.80909091, 0.80909091,\n",
       "        0.80909091, 0.80909091, 0.80909091, 0.80909091, 0.80909091,\n",
       "        0.80909091, 0.80909091, 0.80909091, 0.80909091, 0.80909091,\n",
       "        0.80909091, 0.80909091, 0.80909091, 0.80909091, 0.80909091,\n",
       "        0.80909091, 0.80909091, 0.80909091, 0.80909091, 0.80909091]),\n",
       " 'split1_test_score': array([0.78181818, 0.80909091, 0.80909091, 0.80909091, 0.8       ,\n",
       "        0.8       , 0.8       , 0.8       , 0.8       , 0.8       ,\n",
       "        0.8       , 0.8       , 0.8       , 0.8       , 0.8       ,\n",
       "        0.8       , 0.8       , 0.8       , 0.8       , 0.8       ,\n",
       "        0.8       , 0.8       , 0.8       , 0.8       , 0.8       ,\n",
       "        0.8       , 0.8       , 0.8       , 0.8       , 0.8       ,\n",
       "        0.8       , 0.8       , 0.8       , 0.8       , 0.8       ,\n",
       "        0.8       , 0.8       , 0.8       , 0.8       , 0.8       ]),\n",
       " 'split2_test_score': array([0.76146789, 0.76146789, 0.76146789, 0.76146789, 0.80733945,\n",
       "        0.80733945, 0.80733945, 0.80733945, 0.80733945, 0.80733945,\n",
       "        0.80733945, 0.80733945, 0.80733945, 0.80733945, 0.80733945,\n",
       "        0.80733945, 0.80733945, 0.80733945, 0.80733945, 0.80733945,\n",
       "        0.80733945, 0.80733945, 0.80733945, 0.80733945, 0.80733945,\n",
       "        0.80733945, 0.80733945, 0.80733945, 0.80733945, 0.80733945,\n",
       "        0.80733945, 0.80733945, 0.80733945, 0.80733945, 0.80733945,\n",
       "        0.80733945, 0.80733945, 0.80733945, 0.80733945, 0.80733945]),\n",
       " 'mean_test_score': array([0.79321657, 0.80230748, 0.80230748, 0.80230748, 0.80547679,\n",
       "        0.80547679, 0.80547679, 0.80547679, 0.80547679, 0.80547679,\n",
       "        0.80547679, 0.80547679, 0.80547679, 0.80547679, 0.80547679,\n",
       "        0.80547679, 0.80547679, 0.80547679, 0.80547679, 0.80547679,\n",
       "        0.80547679, 0.80547679, 0.80547679, 0.80547679, 0.80547679,\n",
       "        0.80547679, 0.80547679, 0.80547679, 0.80547679, 0.80547679,\n",
       "        0.80547679, 0.80547679, 0.80547679, 0.80547679, 0.80547679,\n",
       "        0.80547679, 0.80547679, 0.80547679, 0.80547679, 0.80547679]),\n",
       " 'std_test_score': array([0.03162052, 0.03095001, 0.03095001, 0.03095001, 0.00393813,\n",
       "        0.00393813, 0.00393813, 0.00393813, 0.00393813, 0.00393813,\n",
       "        0.00393813, 0.00393813, 0.00393813, 0.00393813, 0.00393813,\n",
       "        0.00393813, 0.00393813, 0.00393813, 0.00393813, 0.00393813,\n",
       "        0.00393813, 0.00393813, 0.00393813, 0.00393813, 0.00393813,\n",
       "        0.00393813, 0.00393813, 0.00393813, 0.00393813, 0.00393813,\n",
       "        0.00393813, 0.00393813, 0.00393813, 0.00393813, 0.00393813,\n",
       "        0.00393813, 0.00393813, 0.00393813, 0.00393813, 0.00393813]),\n",
       " 'rank_test_score': array([40, 37, 37, 37,  1,  1,  1,  1,  1,  1,  1,  1,  1,  1,  1,  1,  1,\n",
       "         1,  1,  1,  1,  1,  1,  1,  1,  1,  1,  1,  1,  1,  1,  1,  1,  1,\n",
       "         1,  1,  1,  1,  1,  1])}"
      ]
     },
     "execution_count": 6,
     "metadata": {},
     "output_type": "execute_result"
    }
   ],
   "source": [
    "search.cv_results_"
   ]
  },
  {
   "cell_type": "code",
   "execution_count": 7,
   "metadata": {},
   "outputs": [
    {
     "name": "stdout",
     "output_type": "stream",
     "text": [
      "Train Accuracy: 0.8054767862107312\n"
     ]
    }
   ],
   "source": [
    "train_acc = search.best_score_     # this is train accuracy\n",
    "print(\"Train Accuracy:\", train_acc)    "
   ]
  },
  {
   "cell_type": "code",
   "execution_count": 8,
   "metadata": {},
   "outputs": [
    {
     "name": "stdout",
     "output_type": "stream",
     "text": [
      "Test Accuracy: 0.8072289156626506\n"
     ]
    }
   ],
   "source": [
    "from sklearn.metrics import accuracy_score\n",
    "\n",
    "y_pred_test = best_model.predict(X_test)\n",
    "test_accuracy = accuracy_score(y_test, y_pred_test)\n",
    "print(\"Test Accuracy:\", test_accuracy)"
   ]
  },
  {
   "cell_type": "code",
   "execution_count": 9,
   "metadata": {},
   "outputs": [
    {
     "name": "stdout",
     "output_type": "stream",
     "text": [
      "AUC Score: 0.5\n"
     ]
    }
   ],
   "source": [
    "from sklearn.metrics import roc_auc_score\n",
    "\n",
    "auc_score = roc_auc_score(y_test, y_pred_test)\n",
    "print(\"AUC Score:\", auc_score)"
   ]
  },
  {
   "cell_type": "code",
   "execution_count": 11,
   "metadata": {},
   "outputs": [
    {
     "data": {
      "image/png": "[encoded data removed]",
      "text/plain": [
       "<Figure size 576x432 with 1 Axes>"
      ]
     },
     "metadata": {
      "needs_background": "light"
     },
     "output_type": "display_data"
    }
   ],
   "source": [
    "from sklearn.metrics import roc_curve\n",
    "from matplotlib import pyplot as plt\n",
    "\n",
    "fpr, tpr, thresholds = roc_curve(y_test, y_pred_test)\n",
    "\n",
    "plt.figure(figsize=(8, 6))\n",
    "plt.plot(fpr, tpr, label='ROC Curve')\n",
    "plt.plot([0, 1], [0, 1], linestyle='--', label='Random')\n",
    "plt.xlabel('False Positive Rate')\n",
    "plt.ylabel('True Positive Rate')\n",
    "plt.title('Receiver Operating Characteristic (ROC) Curve')\n",
    "plt.legend()\n",
    "plt.show()"
   ]
  },
  {
   "cell_type": "code",
   "execution_count": 12,
   "metadata": {},
   "outputs": [
    {
     "data": {
      "text/plain": [
       "array([[ 0, 16],\n",
       "       [ 0, 67]], dtype=int64)"
      ]
     },
     "execution_count": 12,
     "metadata": {},
     "output_type": "execute_result"
    }
   ],
   "source": [
    "from sklearn.metrics import confusion_matrix\n",
    "\n",
    "confusion_matrix(y_test, y_pred_test)"
   ]
  },
  {
   "cell_type": "code",
   "execution_count": null,
   "metadata": {},
   "outputs": [],
   "source": []
  }
 ],
 "metadata": {
  "kernelspec": {
   "display_name": "Python 3",
   "language": "python",
   "name": "python3"
  },
  "language_info": {
   "codemirror_mode": {
    "name": "ipython",
    "version": 3
   },
   "file_extension": ".py",
   "mimetype": "text/x-python",
   "name": "python",
   "nbconvert_exporter": "python",
   "pygments_lexer": "ipython3",
   "version": "3.7.4"
  }
 },
 "nbformat": 4,
 "nbformat_minor": 2
}
