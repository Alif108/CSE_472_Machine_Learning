{
 "cells": [
  {
   "cell_type": "code",
   "execution_count": 3,
   "metadata": {},
   "outputs": [],
   "source": [
    "import pandas as pd\n",
    "import numpy as np\n",
    "import matplotlib.pyplot as plt\n",
    "import pickle"
   ]
  },
  {
   "cell_type": "markdown",
   "metadata": {},
   "source": [
    "## Load the Data"
   ]
  },
  {
   "cell_type": "code",
   "execution_count": 10,
   "metadata": {},
   "outputs": [
    {
     "name": "stdout",
     "output_type": "stream",
     "text": [
      "(329, 20530)\n",
      "(83, 20530)\n",
      "(329,)\n",
      "(83,)\n"
     ]
    }
   ],
   "source": [
    "X_train = pickle.load(open('../Data/X_train.pkl', 'rb'))\n",
    "X_test = pickle.load(open('../Data/X_test.pkl', 'rb'))\n",
    "y_train = pickle.load(open('../Data/y_train.pkl', 'rb'))\n",
    "y_test = pickle.load(open('../Data/y_test.pkl', 'rb'))\n",
    "\n",
    "print(X_train.shape)\n",
    "print(X_test.shape)\n",
    "print(y_train.shape)\n",
    "print(y_test.shape)"
   ]
  },
  {
   "cell_type": "markdown",
   "metadata": {},
   "source": [
    "## Standardize the Data"
   ]
  },
  {
   "cell_type": "code",
   "execution_count": 11,
   "metadata": {},
   "outputs": [
    {
     "name": "stdout",
     "output_type": "stream",
     "text": [
      "(329, 20530)\n",
      "(83, 20530)\n"
     ]
    }
   ],
   "source": [
    "# standardize the data\n",
    "from sklearn.preprocessing import StandardScaler\n",
    "\n",
    "scaler = StandardScaler()\n",
    "scaler.fit(X_train)\n",
    "X_train = scaler.transform(X_train)\n",
    "X_test = scaler.transform(X_test)\n",
    "\n",
    "print(X_train.shape)\n",
    "print(X_test.shape)"
   ]
  },
  {
   "cell_type": "markdown",
   "metadata": {},
   "source": [
    "# Keeping 99% of variance\n",
    "Let's first test how many components we need to keep 99% of variance."
   ]
  },
  {
   "cell_type": "code",
   "execution_count": 12,
   "metadata": {},
   "outputs": [
    {
     "name": "stdout",
     "output_type": "stream",
     "text": [
      "Number of components selected to explain 99% of variance: 308\n"
     ]
    }
   ],
   "source": [
    "from sklearn.decomposition import PCA\n",
    "import pandas as pd\n",
    "\n",
    "# Initialize PCA with n_components=0.99\n",
    "pca = PCA(n_components=0.99)\n",
    "\n",
    "reduced_X_train = pca.fit_transform(X_train)\n",
    "\n",
    "selected_components = pca.n_components_\n",
    "print(f\"Number of components selected to explain 99% of variance: {selected_components}\")"
   ]
  },
  {
   "cell_type": "code",
   "execution_count": 13,
   "metadata": {},
   "outputs": [
    {
     "data": {
      "text/plain": [
       "(329, 308)"
      ]
     },
     "execution_count": 13,
     "metadata": {},
     "output_type": "execute_result"
    }
   ],
   "source": [
    "reduced_X_train.shape"
   ]
  },
  {
   "cell_type": "code",
   "execution_count": 14,
   "metadata": {},
   "outputs": [
    {
     "data": {
      "text/plain": [
       "(83, 20530)"
      ]
     },
     "execution_count": 14,
     "metadata": {},
     "output_type": "execute_result"
    }
   ],
   "source": [
    "X_test.shape"
   ]
  },
  {
   "cell_type": "code",
   "execution_count": 15,
   "metadata": {},
   "outputs": [
    {
     "data": {
      "text/plain": [
       "(83, 308)"
      ]
     },
     "execution_count": 15,
     "metadata": {},
     "output_type": "execute_result"
    }
   ],
   "source": [
    "reduced_X_test = pca.transform(X_test)\n",
    "\n",
    "reduced_X_test.shape"
   ]
  },
  {
   "cell_type": "markdown",
   "metadata": {},
   "source": [
    "### Exhausive search for finding the best parameters for SVM model"
   ]
  },
  {
   "cell_type": "code",
   "execution_count": 17,
   "metadata": {},
   "outputs": [
    {
     "name": "stdout",
     "output_type": "stream",
     "text": [
      "Fitting 3 folds for each of 40 candidates, totalling 120 fits\n"
     ]
    },
    {
     "data": {
      "text/plain": [
       "GridSearchCV(cv=3, estimator=SVC(probability=True), n_jobs=-1,\n",
       "             param_grid=[{'C': [1, 10, 100, 1000], 'kernel': ['linear']},\n",
       "                         {'C': [1, 10, 100, 1000],\n",
       "                          'gamma': [0.1, 0.2, 0.3, 0.4, 0.5, 0.6, 0.7, 0.8,\n",
       "                                    0.9],\n",
       "                          'kernel': ['rbf']}],\n",
       "             verbose=2)"
      ]
     },
     "execution_count": 17,
     "metadata": {},
     "output_type": "execute_result"
    }
   ],
   "source": [
    "from sklearn.model_selection import GridSearchCV\n",
    "from sklearn.svm import SVC\n",
    "\n",
    "# Define the parameter grid\n",
    "parameters = [{'C': [1, 10, 100, 1000], 'kernel': ['linear']},\n",
    "              {'C': [1, 10, 100, 1000], 'kernel': ['rbf'], 'gamma': [0.1, 0.2, 0.3, 0.4, 0.5, 0.6, 0.7, 0.8, 0.9]}]\n",
    "\n",
    "# Create a GridSearchCV object\n",
    "search = GridSearchCV(SVC(probability=True), parameters, n_jobs=-1, verbose=2, cv=3)\n",
    "\n",
    "# Fit the grid search to the data\n",
    "search.fit(reduced_X_train, y_train)"
   ]
  },
  {
   "cell_type": "code",
   "execution_count": 18,
   "metadata": {},
   "outputs": [
    {
     "name": "stdout",
     "output_type": "stream",
     "text": [
      "Best Parameters: {'C': 1, 'kernel': 'linear'}\n"
     ]
    }
   ],
   "source": [
    "best_params = search.best_params_\n",
    "print(\"Best Parameters:\", best_params)"
   ]
  },
  {
   "cell_type": "code",
   "execution_count": 19,
   "metadata": {},
   "outputs": [
    {
     "data": {
      "text/plain": [
       "SVC(C=1, kernel='linear', probability=True)"
      ]
     },
     "execution_count": 19,
     "metadata": {},
     "output_type": "execute_result"
    }
   ],
   "source": [
    "best_model = search.best_estimator_\n",
    "best_model"
   ]
  },
  {
   "cell_type": "code",
   "execution_count": 20,
   "metadata": {},
   "outputs": [
    {
     "data": {
      "text/plain": [
       "{'mean_fit_time': array([0.03728541, 0.02792303, 0.02394032, 0.02194126, 0.10043915,\n",
       "        0.10757772, 0.120845  , 0.09933678, 0.08571259, 0.08772985,\n",
       "        0.10961405, 0.09816813, 0.08596508, 0.09243766, 0.11192671,\n",
       "        0.08648562, 0.09122785, 0.08591127, 0.08876268, 0.08297523,\n",
       "        0.07998816, 0.09255211, 0.09922902, 0.13907973, 0.13403845,\n",
       "        0.09978604, 0.13327901, 0.10762135, 0.09826724, 0.1098032 ,\n",
       "        0.1319135 , 0.09918857, 0.09942325, 0.08447989, 0.08357763,\n",
       "        0.08463709, 0.10062909, 0.08637071, 0.08014687, 0.08137767]),\n",
       " 'std_fit_time': array([0.00750736, 0.00293499, 0.00141361, 0.00162898, 0.01372878,\n",
       "        0.01509395, 0.01139653, 0.02899899, 0.0074652 , 0.01211357,\n",
       "        0.02057647, 0.02442788, 0.00648928, 0.00343601, 0.01234867,\n",
       "        0.00529427, 0.00678553, 0.00651127, 0.00991483, 0.01031684,\n",
       "        0.00550904, 0.00946656, 0.00068207, 0.01410673, 0.03167236,\n",
       "        0.00335861, 0.0199013 , 0.00563011, 0.01665374, 0.02901582,\n",
       "        0.02030902, 0.0125485 , 0.01640269, 0.00602505, 0.00895342,\n",
       "        0.00621444, 0.0065789 , 0.0104042 , 0.01010485, 0.00691348]),\n",
       " 'mean_score_time': array([0.00531793, 0.00332467, 0.00332046, 0.00698249, 0.01473053,\n",
       "        0.02668627, 0.02582916, 0.02196582, 0.01510151, 0.02726269,\n",
       "        0.01257213, 0.01253128, 0.02327649, 0.01280896, 0.01970879,\n",
       "        0.01804781, 0.01634343, 0.02488494, 0.02207867, 0.00934203,\n",
       "        0.01859776, 0.0190084 , 0.02249424, 0.02038884, 0.01997836,\n",
       "        0.02088634, 0.02402004, 0.01489178, 0.02022878, 0.0163339 ,\n",
       "        0.01561069, 0.01521993, 0.01736124, 0.00972621, 0.02082856,\n",
       "        0.0145305 , 0.01041889, 0.0191656 , 0.01562103, 0.012163  ]),\n",
       " 'std_score_time': array([1.69422065e-03, 1.24364537e-03, 1.23910097e-03, 4.95289750e-03,\n",
       "        6.15927122e-03, 1.11121613e-02, 1.09050678e-02, 3.88369080e-03,\n",
       "        1.39310076e-03, 1.63213079e-02, 6.94323191e-03, 3.16343742e-03,\n",
       "        9.07405224e-03, 2.15953513e-03, 4.72208650e-03, 3.68342486e-03,\n",
       "        2.69356234e-03, 6.51785297e-03, 1.07877481e-02, 8.60152493e-03,\n",
       "        1.30030715e-02, 3.01636166e-03, 1.02316910e-02, 6.25179190e-03,\n",
       "        2.14476442e-03, 3.82642797e-03, 5.43921077e-03, 3.96862205e-03,\n",
       "        5.14306757e-03, 2.75118014e-03, 6.74349576e-06, 5.56031896e-04,\n",
       "        9.10687850e-03, 6.92883360e-03, 7.36333541e-03, 1.54583578e-03,\n",
       "        7.36727099e-03, 3.22912443e-03, 2.24783192e-07, 4.79362805e-03]),\n",
       " 'param_C': masked_array(data=[1, 10, 100, 1000, 1, 1, 1, 1, 1, 1, 1, 1, 1, 10, 10,\n",
       "                    10, 10, 10, 10, 10, 10, 10, 100, 100, 100, 100, 100,\n",
       "                    100, 100, 100, 100, 1000, 1000, 1000, 1000, 1000, 1000,\n",
       "                    1000, 1000, 1000],\n",
       "              mask=[False, False, False, False, False, False, False, False,\n",
       "                    False, False, False, False, False, False, False, False,\n",
       "                    False, False, False, False, False, False, False, False,\n",
       "                    False, False, False, False, False, False, False, False,\n",
       "                    False, False, False, False, False, False, False, False],\n",
       "        fill_value='?',\n",
       "             dtype=object),\n",
       " 'param_kernel': masked_array(data=['linear', 'linear', 'linear', 'linear', 'rbf', 'rbf',\n",
       "                    'rbf', 'rbf', 'rbf', 'rbf', 'rbf', 'rbf', 'rbf', 'rbf',\n",
       "                    'rbf', 'rbf', 'rbf', 'rbf', 'rbf', 'rbf', 'rbf', 'rbf',\n",
       "                    'rbf', 'rbf', 'rbf', 'rbf', 'rbf', 'rbf', 'rbf', 'rbf',\n",
       "                    'rbf', 'rbf', 'rbf', 'rbf', 'rbf', 'rbf', 'rbf', 'rbf',\n",
       "                    'rbf', 'rbf'],\n",
       "              mask=[False, False, False, False, False, False, False, False,\n",
       "                    False, False, False, False, False, False, False, False,\n",
       "                    False, False, False, False, False, False, False, False,\n",
       "                    False, False, False, False, False, False, False, False,\n",
       "                    False, False, False, False, False, False, False, False],\n",
       "        fill_value='?',\n",
       "             dtype=object),\n",
       " 'param_gamma': masked_array(data=[--, --, --, --, 0.1, 0.2, 0.3, 0.4, 0.5, 0.6, 0.7, 0.8,\n",
       "                    0.9, 0.1, 0.2, 0.3, 0.4, 0.5, 0.6, 0.7, 0.8, 0.9, 0.1,\n",
       "                    0.2, 0.3, 0.4, 0.5, 0.6, 0.7, 0.8, 0.9, 0.1, 0.2, 0.3,\n",
       "                    0.4, 0.5, 0.6, 0.7, 0.8, 0.9],\n",
       "              mask=[ True,  True,  True,  True, False, False, False, False,\n",
       "                    False, False, False, False, False, False, False, False,\n",
       "                    False, False, False, False, False, False, False, False,\n",
       "                    False, False, False, False, False, False, False, False,\n",
       "                    False, False, False, False, False, False, False, False],\n",
       "        fill_value='?',\n",
       "             dtype=object),\n",
       " 'params': [{'C': 1, 'kernel': 'linear'},\n",
       "  {'C': 10, 'kernel': 'linear'},\n",
       "  {'C': 100, 'kernel': 'linear'},\n",
       "  {'C': 1000, 'kernel': 'linear'},\n",
       "  {'C': 1, 'gamma': 0.1, 'kernel': 'rbf'},\n",
       "  {'C': 1, 'gamma': 0.2, 'kernel': 'rbf'},\n",
       "  {'C': 1, 'gamma': 0.3, 'kernel': 'rbf'},\n",
       "  {'C': 1, 'gamma': 0.4, 'kernel': 'rbf'},\n",
       "  {'C': 1, 'gamma': 0.5, 'kernel': 'rbf'},\n",
       "  {'C': 1, 'gamma': 0.6, 'kernel': 'rbf'},\n",
       "  {'C': 1, 'gamma': 0.7, 'kernel': 'rbf'},\n",
       "  {'C': 1, 'gamma': 0.8, 'kernel': 'rbf'},\n",
       "  {'C': 1, 'gamma': 0.9, 'kernel': 'rbf'},\n",
       "  {'C': 10, 'gamma': 0.1, 'kernel': 'rbf'},\n",
       "  {'C': 10, 'gamma': 0.2, 'kernel': 'rbf'},\n",
       "  {'C': 10, 'gamma': 0.3, 'kernel': 'rbf'},\n",
       "  {'C': 10, 'gamma': 0.4, 'kernel': 'rbf'},\n",
       "  {'C': 10, 'gamma': 0.5, 'kernel': 'rbf'},\n",
       "  {'C': 10, 'gamma': 0.6, 'kernel': 'rbf'},\n",
       "  {'C': 10, 'gamma': 0.7, 'kernel': 'rbf'},\n",
       "  {'C': 10, 'gamma': 0.8, 'kernel': 'rbf'},\n",
       "  {'C': 10, 'gamma': 0.9, 'kernel': 'rbf'},\n",
       "  {'C': 100, 'gamma': 0.1, 'kernel': 'rbf'},\n",
       "  {'C': 100, 'gamma': 0.2, 'kernel': 'rbf'},\n",
       "  {'C': 100, 'gamma': 0.3, 'kernel': 'rbf'},\n",
       "  {'C': 100, 'gamma': 0.4, 'kernel': 'rbf'},\n",
       "  {'C': 100, 'gamma': 0.5, 'kernel': 'rbf'},\n",
       "  {'C': 100, 'gamma': 0.6, 'kernel': 'rbf'},\n",
       "  {'C': 100, 'gamma': 0.7, 'kernel': 'rbf'},\n",
       "  {'C': 100, 'gamma': 0.8, 'kernel': 'rbf'},\n",
       "  {'C': 100, 'gamma': 0.9, 'kernel': 'rbf'},\n",
       "  {'C': 1000, 'gamma': 0.1, 'kernel': 'rbf'},\n",
       "  {'C': 1000, 'gamma': 0.2, 'kernel': 'rbf'},\n",
       "  {'C': 1000, 'gamma': 0.3, 'kernel': 'rbf'},\n",
       "  {'C': 1000, 'gamma': 0.4, 'kernel': 'rbf'},\n",
       "  {'C': 1000, 'gamma': 0.5, 'kernel': 'rbf'},\n",
       "  {'C': 1000, 'gamma': 0.6, 'kernel': 'rbf'},\n",
       "  {'C': 1000, 'gamma': 0.7, 'kernel': 'rbf'},\n",
       "  {'C': 1000, 'gamma': 0.8, 'kernel': 'rbf'},\n",
       "  {'C': 1000, 'gamma': 0.9, 'kernel': 'rbf'}],\n",
       " 'split0_test_score': array([0.92727273, 0.92727273, 0.92727273, 0.92727273, 0.80909091,\n",
       "        0.80909091, 0.80909091, 0.80909091, 0.80909091, 0.80909091,\n",
       "        0.80909091, 0.80909091, 0.80909091, 0.80909091, 0.80909091,\n",
       "        0.80909091, 0.80909091, 0.80909091, 0.80909091, 0.80909091,\n",
       "        0.80909091, 0.80909091, 0.80909091, 0.80909091, 0.80909091,\n",
       "        0.80909091, 0.80909091, 0.80909091, 0.80909091, 0.80909091,\n",
       "        0.80909091, 0.80909091, 0.80909091, 0.80909091, 0.80909091,\n",
       "        0.80909091, 0.80909091, 0.80909091, 0.80909091, 0.80909091]),\n",
       " 'split1_test_score': array([0.93636364, 0.93636364, 0.93636364, 0.93636364, 0.8       ,\n",
       "        0.8       , 0.8       , 0.8       , 0.8       , 0.8       ,\n",
       "        0.8       , 0.8       , 0.8       , 0.8       , 0.8       ,\n",
       "        0.8       , 0.8       , 0.8       , 0.8       , 0.8       ,\n",
       "        0.8       , 0.8       , 0.8       , 0.8       , 0.8       ,\n",
       "        0.8       , 0.8       , 0.8       , 0.8       , 0.8       ,\n",
       "        0.8       , 0.8       , 0.8       , 0.8       , 0.8       ,\n",
       "        0.8       , 0.8       , 0.8       , 0.8       , 0.8       ]),\n",
       " 'split2_test_score': array([0.95412844, 0.95412844, 0.95412844, 0.95412844, 0.80733945,\n",
       "        0.80733945, 0.80733945, 0.80733945, 0.80733945, 0.80733945,\n",
       "        0.80733945, 0.80733945, 0.80733945, 0.80733945, 0.80733945,\n",
       "        0.80733945, 0.80733945, 0.80733945, 0.80733945, 0.80733945,\n",
       "        0.80733945, 0.80733945, 0.80733945, 0.80733945, 0.80733945,\n",
       "        0.80733945, 0.80733945, 0.80733945, 0.80733945, 0.80733945,\n",
       "        0.80733945, 0.80733945, 0.80733945, 0.80733945, 0.80733945,\n",
       "        0.80733945, 0.80733945, 0.80733945, 0.80733945, 0.80733945]),\n",
       " 'mean_test_score': array([0.93925493, 0.93925493, 0.93925493, 0.93925493, 0.80547679,\n",
       "        0.80547679, 0.80547679, 0.80547679, 0.80547679, 0.80547679,\n",
       "        0.80547679, 0.80547679, 0.80547679, 0.80547679, 0.80547679,\n",
       "        0.80547679, 0.80547679, 0.80547679, 0.80547679, 0.80547679,\n",
       "        0.80547679, 0.80547679, 0.80547679, 0.80547679, 0.80547679,\n",
       "        0.80547679, 0.80547679, 0.80547679, 0.80547679, 0.80547679,\n",
       "        0.80547679, 0.80547679, 0.80547679, 0.80547679, 0.80547679,\n",
       "        0.80547679, 0.80547679, 0.80547679, 0.80547679, 0.80547679]),\n",
       " 'std_test_score': array([0.01115279, 0.01115279, 0.01115279, 0.01115279, 0.00393813,\n",
       "        0.00393813, 0.00393813, 0.00393813, 0.00393813, 0.00393813,\n",
       "        0.00393813, 0.00393813, 0.00393813, 0.00393813, 0.00393813,\n",
       "        0.00393813, 0.00393813, 0.00393813, 0.00393813, 0.00393813,\n",
       "        0.00393813, 0.00393813, 0.00393813, 0.00393813, 0.00393813,\n",
       "        0.00393813, 0.00393813, 0.00393813, 0.00393813, 0.00393813,\n",
       "        0.00393813, 0.00393813, 0.00393813, 0.00393813, 0.00393813,\n",
       "        0.00393813, 0.00393813, 0.00393813, 0.00393813, 0.00393813]),\n",
       " 'rank_test_score': array([1, 1, 1, 1, 5, 5, 5, 5, 5, 5, 5, 5, 5, 5, 5, 5, 5, 5, 5, 5, 5, 5,\n",
       "        5, 5, 5, 5, 5, 5, 5, 5, 5, 5, 5, 5, 5, 5, 5, 5, 5, 5])}"
      ]
     },
     "execution_count": 20,
     "metadata": {},
     "output_type": "execute_result"
    }
   ],
   "source": [
    "search.cv_results_"
   ]
  },
  {
   "cell_type": "code",
   "execution_count": 21,
   "metadata": {},
   "outputs": [
    {
     "name": "stdout",
     "output_type": "stream",
     "text": [
      "Best Score: 0.9392549346677788\n"
     ]
    }
   ],
   "source": [
    "best_score = search.best_score_     # this is accuracy score\n",
    "print(\"Best Score:\", best_score)    "
   ]
  },
  {
   "cell_type": "code",
   "execution_count": 22,
   "metadata": {},
   "outputs": [
    {
     "name": "stdout",
     "output_type": "stream",
     "text": [
      "Test Set Accuracy: 0.9156626506024096\n"
     ]
    }
   ],
   "source": [
    "from sklearn.metrics import accuracy_score\n",
    "\n",
    "y_pred_test = best_model.predict(reduced_X_test)\n",
    "test_accuracy = accuracy_score(y_test, y_pred_test)\n",
    "print(\"Test Set Accuracy:\", test_accuracy)"
   ]
  },
  {
   "cell_type": "code",
   "execution_count": 23,
   "metadata": {},
   "outputs": [
    {
     "name": "stdout",
     "output_type": "stream",
     "text": [
      "AUC Score: 0.8526119402985075\n"
     ]
    }
   ],
   "source": [
    "from sklearn.metrics import roc_auc_score\n",
    "\n",
    "auc_score = roc_auc_score(y_test, y_pred_test)\n",
    "print(\"AUC Score:\", auc_score)"
   ]
  },
  {
   "cell_type": "code",
   "execution_count": 24,
   "metadata": {},
   "outputs": [
    {
     "data": {
      "image/png": "[encoded data removed]",
      "text/plain": [
       "<Figure size 576x432 with 1 Axes>"
      ]
     },
     "metadata": {
      "needs_background": "light"
     },
     "output_type": "display_data"
    }
   ],
   "source": [
    "from sklearn.metrics import roc_curve\n",
    "\n",
    "fpr, tpr, thresholds = roc_curve(y_test, y_pred_test)\n",
    "\n",
    "plt.figure(figsize=(8, 6))\n",
    "plt.plot(fpr, tpr, label='ROC Curve')\n",
    "plt.plot([0, 1], [0, 1], linestyle='--', label='Random')\n",
    "plt.xlabel('False Positive Rate')\n",
    "plt.ylabel('True Positive Rate')\n",
    "plt.title('Receiver Operating Characteristic (ROC) Curve')\n",
    "plt.legend()\n",
    "plt.show()"
   ]
  },
  {
   "cell_type": "code",
   "execution_count": 25,
   "metadata": {},
   "outputs": [
    {
     "data": {
      "image/png": "[encoded data removed]",
      "text/plain": [
       "<Figure size 432x288 with 1 Axes>"
      ]
     },
     "metadata": {
      "needs_background": "light"
     },
     "output_type": "display_data"
    }
   ],
   "source": [
    "# Scree plot\n",
    "explained_variance_ratio = pca.explained_variance_ratio_\n",
    "cumulative_variance_ratio = np.cumsum(explained_variance_ratio)\n",
    "\n",
    "plt.plot(range(1, len(cumulative_variance_ratio) + 1), cumulative_variance_ratio, marker='o')\n",
    "plt.xlabel('Number of Components')\n",
    "plt.ylabel('Cumulative Explained Variance')\n",
    "plt.title('Scree Plot')\n",
    "plt.show()"
   ]
  },
  {
   "cell_type": "markdown",
   "metadata": {},
   "source": [
    "# Experimenting with the number of components to keep\n",
    "Now let's experiment with the number of components to find how many components we need to keep to get the best accuracy."
   ]
  },
  {
   "cell_type": "markdown",
   "metadata": {},
   "source": [
    "### n_components = 50, 100, 150, ..., 300"
   ]
  },
  {
   "cell_type": "code",
   "execution_count": 23,
   "metadata": {},
   "outputs": [
    {
     "name": "stdout",
     "output_type": "stream",
     "text": [
      "n_components: 50, Test Set Accuracy: 0.891566265060241, AUC Score: 0.8138992537313432\n",
      "\n",
      "n_components: 100, Test Set Accuracy: 0.891566265060241, AUC Score: 0.8138992537313432\n",
      "\n",
      "n_components: 150, Test Set Accuracy: 0.9036144578313253, AUC Score: 0.8451492537313433\n",
      "\n",
      "n_components: 200, Test Set Accuracy: 0.9156626506024096, AUC Score: 0.8526119402985075\n",
      "\n",
      "n_components: 250, Test Set Accuracy: 0.9036144578313253, AUC Score: 0.8213619402985075\n",
      "\n"
     ]
    }
   ],
   "source": [
    "from sklearn.metrics import roc_auc_score\n",
    "\n",
    "test_accuracy_list = []\n",
    "auc_score_list = []\n",
    "\n",
    "for n_components in range(50, 300, 50):\n",
    "    pca = PCA(n_components=n_components)\n",
    "    reduced_X_train = pca.fit_transform(X_train)\n",
    "    reduced_X_test = pca.transform(X_test)\n",
    "\n",
    "    model = SVC(C=1, kernel='linear', probability=True)\n",
    "    model.fit(reduced_X_train, y_train)\n",
    "    y_pred_test = model.predict(reduced_X_test)\n",
    "\n",
    "    test_accuracy = accuracy_score(y_test, y_pred_test)\n",
    "    auc_score = roc_auc_score(y_test, y_pred_test)\n",
    "\n",
    "    test_accuracy_list.append(test_accuracy)\n",
    "    auc_score_list.append(auc_score)\n",
    "\n",
    "    print(f\"n_components: {n_components}, Test Set Accuracy: {test_accuracy}, AUC Score: {auc_score}\")\n",
    "    print()"
   ]
  },
  {
   "cell_type": "code",
   "execution_count": 26,
   "metadata": {},
   "outputs": [
    {
     "data": {
      "image/png": "[encoded data removed]",
      "text/plain": [
       "<Figure size 1152x432 with 2 Axes>"
      ]
     },
     "metadata": {
      "needs_background": "light"
     },
     "output_type": "display_data"
    }
   ],
   "source": [
    "# plot two subplots\n",
    "fig, ax = plt.subplots(1, 2, figsize=(16, 6))\n",
    "\n",
    "# plot test accuracy\n",
    "ax[0].plot(range(50, 300, 50), test_accuracy_list, marker='o')\n",
    "ax[0].set_xlabel('n_components')\n",
    "ax[0].set_ylabel('Test Set Accuracy')\n",
    "ax[0].set_title('Test Set Accuracy vs. n_components')\n",
    "\n",
    "# plot auc score\n",
    "ax[1].plot(range(50, 300, 50), auc_score_list, marker='o')\n",
    "ax[1].set_xlabel('n_components')\n",
    "ax[1].set_ylabel('AUC Score')\n",
    "ax[1].set_title('AUC Score vs. n_components')\n",
    "\n",
    "plt.show()"
   ]
  },
  {
   "cell_type": "markdown",
   "metadata": {},
   "source": [
    "Let's find on a more granular level.\n",
    "### n_components = 150 to 329\n",
    "\n",
    "[Note : PCA has to be applied within the dim of min(num_samples, num_features) and here 329 samples and 20530 features]"
   ]
  },
  {
   "cell_type": "code",
   "execution_count": 27,
   "metadata": {},
   "outputs": [
    {
     "name": "stdout",
     "output_type": "stream",
     "text": [
      "Fitting 3 folds for each of 40 candidates, totalling 120 fits\n",
      "n_components: 150, Train Set Accuracy: 0.8844314706700028, Test Set Accuracy: 0.9036144578313253, AUC Score: 0.8451492537313433\n",
      "\n",
      "Fitting 3 folds for each of 40 candidates, totalling 120 fits\n",
      "n_components: 151, Train Set Accuracy: 0.9088128996385878, Test Set Accuracy: 0.9036144578313253, AUC Score: 0.8451492537313433\n",
      "\n",
      "Fitting 3 folds for each of 40 candidates, totalling 120 fits\n",
      "n_components: 152, Train Set Accuracy: 0.9027800945232137, Test Set Accuracy: 0.9156626506024096, AUC Score: 0.8526119402985075\n",
      "\n",
      "Fitting 3 folds for each of 40 candidates, totalling 120 fits\n",
      "n_components: 153, Train Set Accuracy: 0.8905476786210732, Test Set Accuracy: 0.9036144578313253, AUC Score: 0.8451492537313433\n",
      "\n",
      "Fitting 3 folds for each of 40 candidates, totalling 120 fits\n",
      "n_components: 154, Train Set Accuracy: 0.9088128996385877, Test Set Accuracy: 0.9036144578313253, AUC Score: 0.8451492537313433\n",
      "\n",
      "Fitting 3 folds for each of 40 candidates, totalling 120 fits\n",
      "n_components: 155, Train Set Accuracy: 0.8997219905476787, Test Set Accuracy: 0.9036144578313253, AUC Score: 0.8451492537313433\n",
      "\n",
      "Fitting 3 folds for each of 40 candidates, totalling 120 fits\n",
      "n_components: 156, Train Set Accuracy: 0.8783152627189326, Test Set Accuracy: 0.9156626506024096, AUC Score: 0.8526119402985075\n",
      "\n",
      "Fitting 3 folds for each of 40 candidates, totalling 120 fits\n",
      "n_components: 157, Train Set Accuracy: 0.8935779816513761, Test Set Accuracy: 0.9036144578313253, AUC Score: 0.8451492537313433\n",
      "\n",
      "Fitting 3 folds for each of 40 candidates, totalling 120 fits\n",
      "n_components: 158, Train Set Accuracy: 0.8783708646093967, Test Set Accuracy: 0.9036144578313253, AUC Score: 0.8451492537313433\n",
      "\n",
      "Fitting 3 folds for each of 40 candidates, totalling 120 fits\n",
      "n_components: 159, Train Set Accuracy: 0.8905476786210732, Test Set Accuracy: 0.9036144578313253, AUC Score: 0.8451492537313433\n",
      "\n",
      "Fitting 3 folds for each of 40 candidates, totalling 120 fits\n",
      "n_components: 160, Train Set Accuracy: 0.8935779816513761, Test Set Accuracy: 0.9156626506024096, AUC Score: 0.8526119402985075\n",
      "\n",
      "Fitting 3 folds for each of 40 candidates, totalling 120 fits\n",
      "n_components: 161, Train Set Accuracy: 0.8996941896024465, Test Set Accuracy: 0.9156626506024096, AUC Score: 0.8526119402985075\n",
      "\n",
      "Fitting 3 folds for each of 40 candidates, totalling 120 fits\n",
      "n_components: 162, Train Set Accuracy: 0.8996385877119822, Test Set Accuracy: 0.9156626506024096, AUC Score: 0.8526119402985075\n",
      "\n",
      "Fitting 3 folds for each of 40 candidates, totalling 120 fits\n",
      "n_components: 163, Train Set Accuracy: 0.9027800945232137, Test Set Accuracy: 0.9156626506024096, AUC Score: 0.8526119402985075\n",
      "\n",
      "Fitting 3 folds for each of 40 candidates, totalling 120 fits\n",
      "n_components: 164, Train Set Accuracy: 0.9087850986933556, Test Set Accuracy: 0.9156626506024096, AUC Score: 0.8526119402985075\n",
      "\n",
      "Fitting 3 folds for each of 40 candidates, totalling 120 fits\n",
      "n_components: 165, Train Set Accuracy: 0.9118710036141229, Test Set Accuracy: 0.9036144578313253, AUC Score: 0.8451492537313433\n",
      "\n",
      "Fitting 3 folds for each of 40 candidates, totalling 120 fits\n",
      "n_components: 166, Train Set Accuracy: 0.8936057825966083, Test Set Accuracy: 0.9036144578313253, AUC Score: 0.8451492537313433\n",
      "\n",
      "Fitting 3 folds for each of 40 candidates, totalling 120 fits\n",
      "n_components: 167, Train Set Accuracy: 0.9026966916875173, Test Set Accuracy: 0.9036144578313253, AUC Score: 0.8451492537313433\n",
      "\n",
      "Fitting 3 folds for each of 40 candidates, totalling 120 fits\n",
      "n_components: 168, Train Set Accuracy: 0.8905476786210732, Test Set Accuracy: 0.9156626506024096, AUC Score: 0.8526119402985075\n",
      "\n",
      "Fitting 3 folds for each of 40 candidates, totalling 120 fits\n",
      "n_components: 169, Train Set Accuracy: 0.9057547956630526, Test Set Accuracy: 0.9036144578313253, AUC Score: 0.8451492537313433\n",
      "\n",
      "Fitting 3 folds for each of 40 candidates, totalling 120 fits\n",
      "n_components: 170, Train Set Accuracy: 0.9026966916875173, Test Set Accuracy: 0.9036144578313253, AUC Score: 0.8451492537313433\n",
      "\n",
      "Fitting 3 folds for each of 40 candidates, totalling 120 fits\n",
      "n_components: 171, Train Set Accuracy: 0.9027244926327495, Test Set Accuracy: 0.9156626506024096, AUC Score: 0.8526119402985075\n",
      "\n",
      "Fitting 3 folds for each of 40 candidates, totalling 120 fits\n",
      "n_components: 172, Train Set Accuracy: 0.8935779816513761, Test Set Accuracy: 0.9156626506024096, AUC Score: 0.8526119402985075\n",
      "\n",
      "Fitting 3 folds for each of 40 candidates, totalling 120 fits\n",
      "n_components: 173, Train Set Accuracy: 0.8996941896024465, Test Set Accuracy: 0.9036144578313253, AUC Score: 0.8451492537313433\n",
      "\n",
      "Fitting 3 folds for each of 40 candidates, totalling 120 fits\n",
      "n_components: 174, Train Set Accuracy: 0.8905754795663053, Test Set Accuracy: 0.9036144578313253, AUC Score: 0.8451492537313433\n",
      "\n",
      "Fitting 3 folds for each of 40 candidates, totalling 120 fits\n",
      "n_components: 175, Train Set Accuracy: 0.9027522935779816, Test Set Accuracy: 0.9156626506024096, AUC Score: 0.8763992537313433\n",
      "\n",
      "Fitting 3 folds for each of 40 candidates, totalling 120 fits\n",
      "n_components: 176, Train Set Accuracy: 0.9057825966082848, Test Set Accuracy: 0.9156626506024096, AUC Score: 0.8526119402985075\n",
      "\n",
      "Fitting 3 folds for each of 40 candidates, totalling 120 fits\n",
      "n_components: 177, Train Set Accuracy: 0.8966916875173756, Test Set Accuracy: 0.9036144578313253, AUC Score: 0.8451492537313433\n",
      "\n",
      "Fitting 3 folds for each of 40 candidates, totalling 120 fits\n",
      "n_components: 178, Train Set Accuracy: 0.9027244926327495, Test Set Accuracy: 0.9036144578313253, AUC Score: 0.8451492537313433\n",
      "\n",
      "Fitting 3 folds for each of 40 candidates, totalling 120 fits\n",
      "n_components: 179, Train Set Accuracy: 0.8996663886572144, Test Set Accuracy: 0.9036144578313253, AUC Score: 0.8451492537313433\n",
      "\n",
      "Fitting 3 folds for each of 40 candidates, totalling 120 fits\n",
      "n_components: 180, Train Set Accuracy: 0.8905476786210732, Test Set Accuracy: 0.9156626506024096, AUC Score: 0.8526119402985075\n",
      "\n",
      "Fitting 3 folds for each of 40 candidates, totalling 120 fits\n",
      "n_components: 181, Train Set Accuracy: 0.9118432026688907, Test Set Accuracy: 0.9036144578313253, AUC Score: 0.8451492537313433\n",
      "\n",
      "Fitting 3 folds for each of 40 candidates, totalling 120 fits\n",
      "n_components: 182, Train Set Accuracy: 0.9057825966082848, Test Set Accuracy: 0.9036144578313253, AUC Score: 0.8451492537313433\n",
      "\n",
      "Fitting 3 folds for each of 40 candidates, totalling 120 fits\n",
      "n_components: 183, Train Set Accuracy: 0.9149013066444258, Test Set Accuracy: 0.9036144578313253, AUC Score: 0.8451492537313433\n",
      "\n",
      "Fitting 3 folds for each of 40 candidates, totalling 120 fits\n",
      "n_components: 184, Train Set Accuracy: 0.9027522935779816, Test Set Accuracy: 0.9156626506024096, AUC Score: 0.8526119402985075\n",
      "\n",
      "Fitting 3 folds for each of 40 candidates, totalling 120 fits\n",
      "n_components: 185, Train Set Accuracy: 0.9026966916875173, Test Set Accuracy: 0.9156626506024096, AUC Score: 0.8526119402985075\n",
      "\n",
      "Fitting 3 folds for each of 40 candidates, totalling 120 fits\n",
      "n_components: 186, Train Set Accuracy: 0.8996663886572144, Test Set Accuracy: 0.9156626506024096, AUC Score: 0.8526119402985075\n",
      "\n",
      "Fitting 3 folds for each of 40 candidates, totalling 120 fits\n",
      "n_components: 187, Train Set Accuracy: 0.9027244926327495, Test Set Accuracy: 0.9156626506024096, AUC Score: 0.8526119402985075\n",
      "\n",
      "Fitting 3 folds for each of 40 candidates, totalling 120 fits\n",
      "n_components: 188, Train Set Accuracy: 0.911898804559355, Test Set Accuracy: 0.9036144578313253, AUC Score: 0.8451492537313433\n",
      "\n",
      "Fitting 3 folds for each of 40 candidates, totalling 120 fits\n",
      "n_components: 189, Train Set Accuracy: 0.8997219905476787, Test Set Accuracy: 0.9036144578313253, AUC Score: 0.8451492537313433\n",
      "\n",
      "Fitting 3 folds for each of 40 candidates, totalling 120 fits\n",
      "n_components: 190, Train Set Accuracy: 0.9179316096747291, Test Set Accuracy: 0.9156626506024096, AUC Score: 0.8526119402985075\n",
      "\n",
      "Fitting 3 folds for each of 40 candidates, totalling 120 fits\n",
      "n_components: 191, Train Set Accuracy: 0.9027522935779816, Test Set Accuracy: 0.9156626506024096, AUC Score: 0.8526119402985075\n",
      "\n",
      "Fitting 3 folds for each of 40 candidates, totalling 120 fits\n",
      "n_components: 192, Train Set Accuracy: 0.8996663886572144, Test Set Accuracy: 0.9156626506024096, AUC Score: 0.8526119402985075\n",
      "\n",
      "Fitting 3 folds for each of 40 candidates, totalling 120 fits\n",
      "n_components: 193, Train Set Accuracy: 0.8966360856269112, Test Set Accuracy: 0.9156626506024096, AUC Score: 0.8526119402985075\n",
      "\n",
      "Fitting 3 folds for each of 40 candidates, totalling 120 fits\n",
      "n_components: 194, Train Set Accuracy: 0.9057825966082848, Test Set Accuracy: 0.9156626506024096, AUC Score: 0.8526119402985075\n",
      "\n",
      "Fitting 3 folds for each of 40 candidates, totalling 120 fits\n",
      "n_components: 195, Train Set Accuracy: 0.8997219905476787, Test Set Accuracy: 0.9156626506024096, AUC Score: 0.8526119402985075\n",
      "\n",
      "Fitting 3 folds for each of 40 candidates, totalling 120 fits\n",
      "n_components: 196, Train Set Accuracy: 0.9149013066444258, Test Set Accuracy: 0.9036144578313253, AUC Score: 0.8451492537313433\n",
      "\n",
      "Fitting 3 folds for each of 40 candidates, totalling 120 fits\n",
      "n_components: 197, Train Set Accuracy: 0.9088128996385877, Test Set Accuracy: 0.9156626506024096, AUC Score: 0.8526119402985075\n",
      "\n",
      "Fitting 3 folds for each of 40 candidates, totalling 120 fits\n",
      "n_components: 198, Train Set Accuracy: 0.9057547956630526, Test Set Accuracy: 0.9156626506024096, AUC Score: 0.8526119402985075\n",
      "\n",
      "Fitting 3 folds for each of 40 candidates, totalling 120 fits\n",
      "n_components: 199, Train Set Accuracy: 0.8996941896024465, Test Set Accuracy: 0.9156626506024096, AUC Score: 0.8526119402985075\n",
      "\n",
      "Fitting 3 folds for each of 40 candidates, totalling 120 fits\n",
      "n_components: 200, Train Set Accuracy: 0.9209897136502642, Test Set Accuracy: 0.9156626506024096, AUC Score: 0.8526119402985075\n",
      "\n",
      "Fitting 3 folds for each of 40 candidates, totalling 120 fits\n",
      "n_components: 201, Train Set Accuracy: 0.920961912705032, Test Set Accuracy: 0.9156626506024096, AUC Score: 0.8526119402985075\n",
      "\n",
      "Fitting 3 folds for each of 40 candidates, totalling 120 fits\n",
      "n_components: 202, Train Set Accuracy: 0.9088128996385877, Test Set Accuracy: 0.9036144578313253, AUC Score: 0.8451492537313433\n",
      "\n",
      "Fitting 3 folds for each of 40 candidates, totalling 120 fits\n",
      "n_components: 203, Train Set Accuracy: 0.9058103975535169, Test Set Accuracy: 0.9156626506024096, AUC Score: 0.8526119402985075\n",
      "\n",
      "Fitting 3 folds for each of 40 candidates, totalling 120 fits\n",
      "n_components: 204, Train Set Accuracy: 0.9088128996385877, Test Set Accuracy: 0.9156626506024096, AUC Score: 0.8526119402985075\n",
      "\n",
      "Fitting 3 folds for each of 40 candidates, totalling 120 fits\n",
      "n_components: 205, Train Set Accuracy: 0.9057547956630526, Test Set Accuracy: 0.9036144578313253, AUC Score: 0.8451492537313433\n",
      "\n",
      "Fitting 3 folds for each of 40 candidates, totalling 120 fits\n",
      "n_components: 206, Train Set Accuracy: 0.8996941896024465, Test Set Accuracy: 0.9156626506024096, AUC Score: 0.8526119402985075\n",
      "\n",
      "Fitting 3 folds for each of 40 candidates, totalling 120 fits\n",
      "n_components: 207, Train Set Accuracy: 0.9057825966082848, Test Set Accuracy: 0.9036144578313253, AUC Score: 0.8451492537313433\n",
      "\n",
      "Fitting 3 folds for each of 40 candidates, totalling 120 fits\n",
      "n_components: 208, Train Set Accuracy: 0.9240756185710314, Test Set Accuracy: 0.9156626506024096, AUC Score: 0.8526119402985075\n",
      "\n",
      "Fitting 3 folds for each of 40 candidates, totalling 120 fits\n",
      "n_components: 209, Train Set Accuracy: 0.9209897136502642, Test Set Accuracy: 0.9156626506024096, AUC Score: 0.8526119402985075\n",
      "\n",
      "Fitting 3 folds for each of 40 candidates, totalling 120 fits\n",
      "n_components: 210, Train Set Accuracy: 0.9179038087294967, Test Set Accuracy: 0.9156626506024096, AUC Score: 0.8526119402985075\n",
      "\n",
      "Fitting 3 folds for each of 40 candidates, totalling 120 fits\n",
      "n_components: 211, Train Set Accuracy: 0.9087850986933556, Test Set Accuracy: 0.9156626506024096, AUC Score: 0.8526119402985075\n",
      "\n",
      "Fitting 3 folds for each of 40 candidates, totalling 120 fits\n",
      "n_components: 212, Train Set Accuracy: 0.917959410619961, Test Set Accuracy: 0.9036144578313253, AUC Score: 0.8451492537313433\n",
      "\n",
      "Fitting 3 folds for each of 40 candidates, totalling 120 fits\n",
      "n_components: 213, Train Set Accuracy: 0.920961912705032, Test Set Accuracy: 0.9156626506024096, AUC Score: 0.8526119402985075\n",
      "\n",
      "Fitting 3 folds for each of 40 candidates, totalling 120 fits\n",
      "n_components: 214, Train Set Accuracy: 0.914929107589658, Test Set Accuracy: 0.9156626506024096, AUC Score: 0.8526119402985075\n",
      "\n",
      "Fitting 3 folds for each of 40 candidates, totalling 120 fits\n",
      "n_components: 215, Train Set Accuracy: 0.9239644147901029, Test Set Accuracy: 0.9036144578313253, AUC Score: 0.8451492537313433\n",
      "\n",
      "Fitting 3 folds for each of 40 candidates, totalling 120 fits\n",
      "n_components: 216, Train Set Accuracy: 0.9148457047539617, Test Set Accuracy: 0.9156626506024096, AUC Score: 0.8526119402985075\n",
      "\n",
      "Fitting 3 folds for each of 40 candidates, totalling 120 fits\n",
      "n_components: 217, Train Set Accuracy: 0.9270503197108702, Test Set Accuracy: 0.9036144578313253, AUC Score: 0.8213619402985075\n",
      "\n",
      "Fitting 3 folds for each of 40 candidates, totalling 120 fits\n",
      "n_components: 218, Train Set Accuracy: 0.920961912705032, Test Set Accuracy: 0.9156626506024096, AUC Score: 0.8526119402985075\n",
      "\n",
      "Fitting 3 folds for each of 40 candidates, totalling 120 fits\n",
      "n_components: 219, Train Set Accuracy: 0.9179038087294967, Test Set Accuracy: 0.9156626506024096, AUC Score: 0.8526119402985075\n",
      "\n",
      "Fitting 3 folds for each of 40 candidates, totalling 120 fits\n",
      "n_components: 220, Train Set Accuracy: 0.914929107589658, Test Set Accuracy: 0.9156626506024096, AUC Score: 0.8526119402985075\n",
      "\n",
      "Fitting 3 folds for each of 40 candidates, totalling 120 fits\n",
      "n_components: 221, Train Set Accuracy: 0.9240200166805671, Test Set Accuracy: 0.9156626506024096, AUC Score: 0.8526119402985075\n",
      "\n",
      "Fitting 3 folds for each of 40 candidates, totalling 120 fits\n",
      "n_components: 222, Train Set Accuracy: 0.920961912705032, Test Set Accuracy: 0.9156626506024096, AUC Score: 0.8526119402985075\n",
      "\n",
      "Fitting 3 folds for each of 40 candidates, totalling 120 fits\n",
      "n_components: 223, Train Set Accuracy: 0.9149291075896581, Test Set Accuracy: 0.9156626506024096, AUC Score: 0.8526119402985075\n",
      "\n",
      "Fitting 3 folds for each of 40 candidates, totalling 120 fits\n",
      "n_components: 224, Train Set Accuracy: 0.9087850986933556, Test Set Accuracy: 0.9156626506024096, AUC Score: 0.8526119402985075\n",
      "\n",
      "Fitting 3 folds for each of 40 candidates, totalling 120 fits\n",
      "n_components: 225, Train Set Accuracy: 0.9270503197108702, Test Set Accuracy: 0.9036144578313253, AUC Score: 0.8213619402985075\n",
      "\n",
      "Fitting 3 folds for each of 40 candidates, totalling 120 fits\n",
      "n_components: 226, Train Set Accuracy: 0.9148735056991938, Test Set Accuracy: 0.9156626506024096, AUC Score: 0.8526119402985075\n",
      "\n",
      "Fitting 3 folds for each of 40 candidates, totalling 120 fits\n",
      "n_components: 227, Train Set Accuracy: 0.9240478176257994, Test Set Accuracy: 0.9036144578313253, AUC Score: 0.8213619402985075\n",
      "\n",
      "Fitting 3 folds for each of 40 candidates, totalling 120 fits\n",
      "n_components: 228, Train Set Accuracy: 0.9271059216013344, Test Set Accuracy: 0.9156626506024096, AUC Score: 0.8526119402985075\n",
      "\n",
      "Fitting 3 folds for each of 40 candidates, totalling 120 fits\n",
      "n_components: 229, Train Set Accuracy: 0.9209897136502642, Test Set Accuracy: 0.9156626506024096, AUC Score: 0.8526119402985075\n",
      "\n",
      "Fitting 3 folds for each of 40 candidates, totalling 120 fits\n",
      "n_components: 230, Train Set Accuracy: 0.9240756185710314, Test Set Accuracy: 0.9156626506024096, AUC Score: 0.8526119402985075\n",
      "\n",
      "Fitting 3 folds for each of 40 candidates, totalling 120 fits\n",
      "n_components: 231, Train Set Accuracy: 0.9240200166805671, Test Set Accuracy: 0.9156626506024096, AUC Score: 0.8526119402985075\n",
      "\n",
      "Fitting 3 folds for each of 40 candidates, totalling 120 fits\n",
      "n_components: 232, Train Set Accuracy: 0.9148457047539617, Test Set Accuracy: 0.9036144578313253, AUC Score: 0.8213619402985075\n",
      "\n",
      "Fitting 3 folds for each of 40 candidates, totalling 120 fits\n",
      "n_components: 233, Train Set Accuracy: 0.9209897136502642, Test Set Accuracy: 0.9156626506024096, AUC Score: 0.8526119402985075\n",
      "\n",
      "Fitting 3 folds for each of 40 candidates, totalling 120 fits\n",
      "n_components: 234, Train Set Accuracy: 0.9118432026688907, Test Set Accuracy: 0.9156626506024096, AUC Score: 0.8526119402985075\n",
      "\n",
      "Fitting 3 folds for each of 40 candidates, totalling 120 fits\n",
      "n_components: 235, Train Set Accuracy: 0.9179872115651934, Test Set Accuracy: 0.9036144578313253, AUC Score: 0.8213619402985075\n",
      "\n",
      "Fitting 3 folds for each of 40 candidates, totalling 120 fits\n",
      "n_components: 236, Train Set Accuracy: 0.9240478176257994, Test Set Accuracy: 0.9156626506024096, AUC Score: 0.8526119402985075\n",
      "\n",
      "Fitting 3 folds for each of 40 candidates, totalling 120 fits\n",
      "n_components: 237, Train Set Accuracy: 0.920961912705032, Test Set Accuracy: 0.9036144578313253, AUC Score: 0.8213619402985075\n",
      "\n",
      "Fitting 3 folds for each of 40 candidates, totalling 120 fits\n",
      "n_components: 238, Train Set Accuracy: 0.9270781206561023, Test Set Accuracy: 0.9156626506024096, AUC Score: 0.8526119402985075\n",
      "\n",
      "Fitting 3 folds for each of 40 candidates, totalling 120 fits\n",
      "n_components: 239, Train Set Accuracy: 0.9270225187656381, Test Set Accuracy: 0.9036144578313253, AUC Score: 0.8213619402985075\n",
      "\n",
      "Fitting 3 folds for each of 40 candidates, totalling 120 fits\n",
      "n_components: 240, Train Set Accuracy: 0.9209897136502642, Test Set Accuracy: 0.9156626506024096, AUC Score: 0.8526119402985075\n",
      "\n",
      "Fitting 3 folds for each of 40 candidates, totalling 120 fits\n",
      "n_components: 241, Train Set Accuracy: 0.9270225187656381, Test Set Accuracy: 0.9156626506024096, AUC Score: 0.8526119402985075\n",
      "\n",
      "Fitting 3 folds for each of 40 candidates, totalling 120 fits\n",
      "n_components: 242, Train Set Accuracy: 0.9240200166805671, Test Set Accuracy: 0.927710843373494, AUC Score: 0.8600746268656717\n",
      "\n",
      "Fitting 3 folds for each of 40 candidates, totalling 120 fits\n",
      "n_components: 243, Train Set Accuracy: 0.9209897136502642, Test Set Accuracy: 0.9156626506024096, AUC Score: 0.8526119402985075\n",
      "\n",
      "Fitting 3 folds for each of 40 candidates, totalling 120 fits\n",
      "n_components: 244, Train Set Accuracy: 0.9240478176257994, Test Set Accuracy: 0.9156626506024096, AUC Score: 0.8526119402985075\n",
      "\n",
      "Fitting 3 folds for each of 40 candidates, totalling 120 fits\n",
      "n_components: 245, Train Set Accuracy: 0.9331387267167085, Test Set Accuracy: 0.9156626506024096, AUC Score: 0.8526119402985075\n",
      "\n",
      "Fitting 3 folds for each of 40 candidates, totalling 120 fits\n",
      "n_components: 246, Train Set Accuracy: 0.920961912705032, Test Set Accuracy: 0.9156626506024096, AUC Score: 0.8526119402985075\n",
      "\n",
      "Fitting 3 folds for each of 40 candidates, totalling 120 fits\n",
      "n_components: 247, Train Set Accuracy: 0.9361968306922436, Test Set Accuracy: 0.9156626506024096, AUC Score: 0.8526119402985075\n",
      "\n",
      "Fitting 3 folds for each of 40 candidates, totalling 120 fits\n",
      "n_components: 248, Train Set Accuracy: 0.9240478176257994, Test Set Accuracy: 0.9036144578313253, AUC Score: 0.8213619402985075\n",
      "\n",
      "Fitting 3 folds for each of 40 candidates, totalling 120 fits\n",
      "n_components: 249, Train Set Accuracy: 0.9271059216013344, Test Set Accuracy: 0.9156626506024096, AUC Score: 0.8526119402985075\n",
      "\n",
      "Fitting 3 folds for each of 40 candidates, totalling 120 fits\n",
      "n_components: 250, Train Set Accuracy: 0.9240200166805671, Test Set Accuracy: 0.9156626506024096, AUC Score: 0.8526119402985075\n",
      "\n",
      "Fitting 3 folds for each of 40 candidates, totalling 120 fits\n",
      "n_components: 251, Train Set Accuracy: 0.9331665276619404, Test Set Accuracy: 0.9036144578313253, AUC Score: 0.8213619402985075\n",
      "\n",
      "Fitting 3 folds for each of 40 candidates, totalling 120 fits\n",
      "n_components: 252, Train Set Accuracy: 0.9210175145954963, Test Set Accuracy: 0.9156626506024096, AUC Score: 0.8526119402985075\n",
      "\n",
      "Fitting 3 folds for each of 40 candidates, totalling 120 fits\n",
      "n_components: 253, Train Set Accuracy: 0.9331665276619404, Test Set Accuracy: 0.9156626506024096, AUC Score: 0.8526119402985075\n",
      "\n",
      "Fitting 3 folds for each of 40 candidates, totalling 120 fits\n",
      "n_components: 254, Train Set Accuracy: 0.9301362246316375, Test Set Accuracy: 0.9156626506024096, AUC Score: 0.8526119402985075\n",
      "\n",
      "Fitting 3 folds for each of 40 candidates, totalling 120 fits\n",
      "n_components: 255, Train Set Accuracy: 0.9301084236864053, Test Set Accuracy: 0.9156626506024096, AUC Score: 0.8526119402985075\n",
      "\n",
      "Fitting 3 folds for each of 40 candidates, totalling 120 fits\n",
      "n_components: 256, Train Set Accuracy: 0.9240478176257994, Test Set Accuracy: 0.9156626506024096, AUC Score: 0.8526119402985075\n",
      "\n",
      "Fitting 3 folds for each of 40 candidates, totalling 120 fits\n",
      "n_components: 257, Train Set Accuracy: 0.9270781206561023, Test Set Accuracy: 0.9156626506024096, AUC Score: 0.8526119402985075\n",
      "\n",
      "Fitting 3 folds for each of 40 candidates, totalling 120 fits\n",
      "n_components: 258, Train Set Accuracy: 0.9240478176257994, Test Set Accuracy: 0.9156626506024096, AUC Score: 0.8526119402985075\n",
      "\n",
      "Fitting 3 folds for each of 40 candidates, totalling 120 fits\n",
      "n_components: 259, Train Set Accuracy: 0.9270503197108702, Test Set Accuracy: 0.9156626506024096, AUC Score: 0.8526119402985075\n",
      "\n",
      "Fitting 3 folds for each of 40 candidates, totalling 120 fits\n",
      "n_components: 260, Train Set Accuracy: 0.9270781206561023, Test Set Accuracy: 0.9156626506024096, AUC Score: 0.8526119402985075\n",
      "\n",
      "Fitting 3 folds for each of 40 candidates, totalling 120 fits\n",
      "n_components: 261, Train Set Accuracy: 0.9270781206561023, Test Set Accuracy: 0.9156626506024096, AUC Score: 0.8526119402985075\n",
      "\n",
      "Fitting 3 folds for each of 40 candidates, totalling 120 fits\n",
      "n_components: 262, Train Set Accuracy: 0.9361968306922436, Test Set Accuracy: 0.9156626506024096, AUC Score: 0.8526119402985075\n",
      "\n",
      "Fitting 3 folds for each of 40 candidates, totalling 120 fits\n",
      "n_components: 263, Train Set Accuracy: 0.9270781206561023, Test Set Accuracy: 0.9156626506024096, AUC Score: 0.8526119402985075\n",
      "\n",
      "Fitting 3 folds for each of 40 candidates, totalling 120 fits\n",
      "n_components: 264, Train Set Accuracy: 0.9301084236864053, Test Set Accuracy: 0.9036144578313253, AUC Score: 0.8213619402985075\n",
      "\n",
      "Fitting 3 folds for each of 40 candidates, totalling 120 fits\n",
      "n_components: 265, Train Set Accuracy: 0.9301084236864053, Test Set Accuracy: 0.9036144578313253, AUC Score: 0.8213619402985075\n",
      "\n",
      "Fitting 3 folds for each of 40 candidates, totalling 120 fits\n",
      "n_components: 266, Train Set Accuracy: 0.9301084236864053, Test Set Accuracy: 0.9036144578313253, AUC Score: 0.8213619402985075\n",
      "\n",
      "Fitting 3 folds for each of 40 candidates, totalling 120 fits\n",
      "n_components: 267, Train Set Accuracy: 0.9331665276619404, Test Set Accuracy: 0.9036144578313253, AUC Score: 0.8213619402985075\n",
      "\n",
      "Fitting 3 folds for each of 40 candidates, totalling 120 fits\n",
      "n_components: 268, Train Set Accuracy: 0.9301084236864053, Test Set Accuracy: 0.9036144578313253, AUC Score: 0.8213619402985075\n",
      "\n",
      "Fitting 3 folds for each of 40 candidates, totalling 120 fits\n",
      "n_components: 269, Train Set Accuracy: 0.9301084236864053, Test Set Accuracy: 0.9036144578313253, AUC Score: 0.8213619402985075\n",
      "\n",
      "Fitting 3 folds for each of 40 candidates, totalling 120 fits\n",
      "n_components: 270, Train Set Accuracy: 0.9301084236864053, Test Set Accuracy: 0.9036144578313253, AUC Score: 0.8213619402985075\n",
      "\n",
      "Fitting 3 folds for each of 40 candidates, totalling 120 fits\n",
      "n_components: 271, Train Set Accuracy: 0.9301084236864053, Test Set Accuracy: 0.9036144578313253, AUC Score: 0.8213619402985075\n",
      "\n",
      "Fitting 3 folds for each of 40 candidates, totalling 120 fits\n",
      "n_components: 272, Train Set Accuracy: 0.9301084236864053, Test Set Accuracy: 0.9036144578313253, AUC Score: 0.8213619402985075\n",
      "\n",
      "Fitting 3 folds for each of 40 candidates, totalling 120 fits\n",
      "n_components: 273, Train Set Accuracy: 0.9301084236864053, Test Set Accuracy: 0.9036144578313253, AUC Score: 0.8213619402985075\n",
      "\n",
      "Fitting 3 folds for each of 40 candidates, totalling 120 fits\n",
      "n_components: 274, Train Set Accuracy: 0.9301084236864053, Test Set Accuracy: 0.9036144578313253, AUC Score: 0.8213619402985075\n",
      "\n",
      "Fitting 3 folds for each of 40 candidates, totalling 120 fits\n",
      "n_components: 275, Train Set Accuracy: 0.9301084236864053, Test Set Accuracy: 0.9036144578313253, AUC Score: 0.8213619402985075\n",
      "\n",
      "Fitting 3 folds for each of 40 candidates, totalling 120 fits\n",
      "n_components: 276, Train Set Accuracy: 0.9301084236864053, Test Set Accuracy: 0.9036144578313253, AUC Score: 0.8213619402985075\n",
      "\n",
      "Fitting 3 folds for each of 40 candidates, totalling 120 fits\n",
      "n_components: 277, Train Set Accuracy: 0.9301084236864053, Test Set Accuracy: 0.9036144578313253, AUC Score: 0.8213619402985075\n",
      "\n",
      "Fitting 3 folds for each of 40 candidates, totalling 120 fits\n",
      "n_components: 278, Train Set Accuracy: 0.9331665276619404, Test Set Accuracy: 0.9156626506024096, AUC Score: 0.8526119402985075\n",
      "\n",
      "Fitting 3 folds for each of 40 candidates, totalling 120 fits\n",
      "n_components: 279, Train Set Accuracy: 0.9331665276619404, Test Set Accuracy: 0.9156626506024096, AUC Score: 0.8526119402985075\n",
      "\n",
      "Fitting 3 folds for each of 40 candidates, totalling 120 fits\n",
      "n_components: 280, Train Set Accuracy: 0.9362246316374757, Test Set Accuracy: 0.9156626506024096, AUC Score: 0.8526119402985075\n",
      "\n",
      "Fitting 3 folds for each of 40 candidates, totalling 120 fits\n",
      "n_components: 281, Train Set Accuracy: 0.9362246316374757, Test Set Accuracy: 0.9156626506024096, AUC Score: 0.8526119402985075\n",
      "\n",
      "Fitting 3 folds for each of 40 candidates, totalling 120 fits\n",
      "n_components: 282, Train Set Accuracy: 0.9362246316374757, Test Set Accuracy: 0.9156626506024096, AUC Score: 0.8526119402985075\n",
      "\n",
      "Fitting 3 folds for each of 40 candidates, totalling 120 fits\n",
      "n_components: 283, Train Set Accuracy: 0.9362246316374757, Test Set Accuracy: 0.9156626506024096, AUC Score: 0.8526119402985075\n",
      "\n",
      "Fitting 3 folds for each of 40 candidates, totalling 120 fits\n",
      "n_components: 284, Train Set Accuracy: 0.9362246316374757, Test Set Accuracy: 0.9156626506024096, AUC Score: 0.8526119402985075\n",
      "\n",
      "Fitting 3 folds for each of 40 candidates, totalling 120 fits\n",
      "n_components: 285, Train Set Accuracy: 0.9362246316374757, Test Set Accuracy: 0.9156626506024096, AUC Score: 0.8526119402985075\n",
      "\n",
      "Fitting 3 folds for each of 40 candidates, totalling 120 fits\n",
      "n_components: 286, Train Set Accuracy: 0.9362246316374757, Test Set Accuracy: 0.9156626506024096, AUC Score: 0.8526119402985075\n",
      "\n",
      "Fitting 3 folds for each of 40 candidates, totalling 120 fits\n",
      "n_components: 287, Train Set Accuracy: 0.9362246316374757, Test Set Accuracy: 0.9156626506024096, AUC Score: 0.8526119402985075\n",
      "\n",
      "Fitting 3 folds for each of 40 candidates, totalling 120 fits\n",
      "n_components: 288, Train Set Accuracy: 0.9362246316374757, Test Set Accuracy: 0.9156626506024096, AUC Score: 0.8526119402985075\n",
      "\n",
      "Fitting 3 folds for each of 40 candidates, totalling 120 fits\n",
      "n_components: 289, Train Set Accuracy: 0.9392549346677788, Test Set Accuracy: 0.9156626506024096, AUC Score: 0.8526119402985075\n",
      "\n",
      "Fitting 3 folds for each of 40 candidates, totalling 120 fits\n",
      "n_components: 290, Train Set Accuracy: 0.9392549346677788, Test Set Accuracy: 0.9156626506024096, AUC Score: 0.8526119402985075\n",
      "\n",
      "Fitting 3 folds for each of 40 candidates, totalling 120 fits\n",
      "n_components: 291, Train Set Accuracy: 0.9392549346677788, Test Set Accuracy: 0.9156626506024096, AUC Score: 0.8526119402985075\n",
      "\n",
      "Fitting 3 folds for each of 40 candidates, totalling 120 fits\n",
      "n_components: 292, Train Set Accuracy: 0.9392549346677788, Test Set Accuracy: 0.9156626506024096, AUC Score: 0.8526119402985075\n",
      "\n",
      "Fitting 3 folds for each of 40 candidates, totalling 120 fits\n",
      "n_components: 293, Train Set Accuracy: 0.9392549346677788, Test Set Accuracy: 0.9156626506024096, AUC Score: 0.8526119402985075\n",
      "\n",
      "Fitting 3 folds for each of 40 candidates, totalling 120 fits\n",
      "n_components: 294, Train Set Accuracy: 0.9422852376980817, Test Set Accuracy: 0.9156626506024096, AUC Score: 0.8526119402985075\n",
      "\n",
      "Fitting 3 folds for each of 40 candidates, totalling 120 fits\n",
      "n_components: 295, Train Set Accuracy: 0.9392549346677788, Test Set Accuracy: 0.9156626506024096, AUC Score: 0.8526119402985075\n",
      "\n",
      "Fitting 3 folds for each of 40 candidates, totalling 120 fits\n",
      "n_components: 296, Train Set Accuracy: 0.9422852376980817, Test Set Accuracy: 0.9156626506024096, AUC Score: 0.8526119402985075\n",
      "\n",
      "Fitting 3 folds for each of 40 candidates, totalling 120 fits\n",
      "n_components: 297, Train Set Accuracy: 0.9422852376980817, Test Set Accuracy: 0.9156626506024096, AUC Score: 0.8526119402985075\n",
      "\n",
      "Fitting 3 folds for each of 40 candidates, totalling 120 fits\n",
      "n_components: 298, Train Set Accuracy: 0.9422852376980817, Test Set Accuracy: 0.9156626506024096, AUC Score: 0.8526119402985075\n",
      "\n",
      "Fitting 3 folds for each of 40 candidates, totalling 120 fits\n",
      "n_components: 299, Train Set Accuracy: 0.9422852376980817, Test Set Accuracy: 0.9156626506024096, AUC Score: 0.8526119402985075\n",
      "\n",
      "Fitting 3 folds for each of 40 candidates, totalling 120 fits\n",
      "n_components: 300, Train Set Accuracy: 0.9422852376980817, Test Set Accuracy: 0.9156626506024096, AUC Score: 0.8526119402985075\n",
      "\n",
      "Fitting 3 folds for each of 40 candidates, totalling 120 fits\n",
      "n_components: 301, Train Set Accuracy: 0.9422852376980817, Test Set Accuracy: 0.9156626506024096, AUC Score: 0.8526119402985075\n",
      "\n",
      "Fitting 3 folds for each of 40 candidates, totalling 120 fits\n",
      "n_components: 302, Train Set Accuracy: 0.9422852376980817, Test Set Accuracy: 0.9156626506024096, AUC Score: 0.8526119402985075\n",
      "\n",
      "Fitting 3 folds for each of 40 candidates, totalling 120 fits\n",
      "n_components: 303, Train Set Accuracy: 0.9392549346677788, Test Set Accuracy: 0.9156626506024096, AUC Score: 0.8526119402985075\n",
      "\n",
      "Fitting 3 folds for each of 40 candidates, totalling 120 fits\n",
      "n_components: 304, Train Set Accuracy: 0.9392549346677788, Test Set Accuracy: 0.9156626506024096, AUC Score: 0.8526119402985075\n",
      "\n",
      "Fitting 3 folds for each of 40 candidates, totalling 120 fits\n",
      "n_components: 305, Train Set Accuracy: 0.9392549346677788, Test Set Accuracy: 0.9156626506024096, AUC Score: 0.8526119402985075\n",
      "\n",
      "Fitting 3 folds for each of 40 candidates, totalling 120 fits\n",
      "n_components: 306, Train Set Accuracy: 0.9392549346677788, Test Set Accuracy: 0.9156626506024096, AUC Score: 0.8526119402985075\n",
      "\n",
      "Fitting 3 folds for each of 40 candidates, totalling 120 fits\n",
      "n_components: 307, Train Set Accuracy: 0.9392549346677788, Test Set Accuracy: 0.9156626506024096, AUC Score: 0.8526119402985075\n",
      "\n",
      "Fitting 3 folds for each of 40 candidates, totalling 120 fits\n",
      "n_components: 308, Train Set Accuracy: 0.9392549346677788, Test Set Accuracy: 0.9156626506024096, AUC Score: 0.8526119402985075\n",
      "\n",
      "Fitting 3 folds for each of 40 candidates, totalling 120 fits\n",
      "n_components: 309, Train Set Accuracy: 0.9392549346677788, Test Set Accuracy: 0.927710843373494, AUC Score: 0.8600746268656717\n",
      "\n",
      "Fitting 3 folds for each of 40 candidates, totalling 120 fits\n",
      "n_components: 310, Train Set Accuracy: 0.9392549346677788, Test Set Accuracy: 0.927710843373494, AUC Score: 0.8600746268656717\n",
      "\n",
      "Fitting 3 folds for each of 40 candidates, totalling 120 fits\n",
      "n_components: 311, Train Set Accuracy: 0.9392549346677788, Test Set Accuracy: 0.927710843373494, AUC Score: 0.8600746268656717\n",
      "\n",
      "Fitting 3 folds for each of 40 candidates, totalling 120 fits\n",
      "n_components: 312, Train Set Accuracy: 0.9392549346677788, Test Set Accuracy: 0.927710843373494, AUC Score: 0.8600746268656717\n",
      "\n",
      "Fitting 3 folds for each of 40 candidates, totalling 120 fits\n",
      "n_components: 313, Train Set Accuracy: 0.9392549346677788, Test Set Accuracy: 0.927710843373494, AUC Score: 0.8600746268656717\n",
      "\n",
      "Fitting 3 folds for each of 40 candidates, totalling 120 fits\n",
      "n_components: 314, Train Set Accuracy: 0.9392549346677788, Test Set Accuracy: 0.927710843373494, AUC Score: 0.8600746268656717\n",
      "\n",
      "Fitting 3 folds for each of 40 candidates, totalling 120 fits\n",
      "n_components: 315, Train Set Accuracy: 0.9392549346677788, Test Set Accuracy: 0.927710843373494, AUC Score: 0.8600746268656717\n",
      "\n",
      "Fitting 3 folds for each of 40 candidates, totalling 120 fits\n",
      "n_components: 316, Train Set Accuracy: 0.9392549346677788, Test Set Accuracy: 0.927710843373494, AUC Score: 0.8600746268656717\n",
      "\n",
      "Fitting 3 folds for each of 40 candidates, totalling 120 fits\n",
      "n_components: 317, Train Set Accuracy: 0.9392549346677788, Test Set Accuracy: 0.927710843373494, AUC Score: 0.8600746268656717\n",
      "\n",
      "Fitting 3 folds for each of 40 candidates, totalling 120 fits\n",
      "n_components: 318, Train Set Accuracy: 0.9392549346677788, Test Set Accuracy: 0.927710843373494, AUC Score: 0.8600746268656717\n",
      "\n",
      "Fitting 3 folds for each of 40 candidates, totalling 120 fits\n",
      "n_components: 319, Train Set Accuracy: 0.9392549346677788, Test Set Accuracy: 0.927710843373494, AUC Score: 0.8600746268656717\n",
      "\n",
      "Fitting 3 folds for each of 40 candidates, totalling 120 fits\n",
      "n_components: 320, Train Set Accuracy: 0.9392549346677788, Test Set Accuracy: 0.927710843373494, AUC Score: 0.8600746268656717\n",
      "\n",
      "Fitting 3 folds for each of 40 candidates, totalling 120 fits\n",
      "n_components: 321, Train Set Accuracy: 0.9392549346677788, Test Set Accuracy: 0.927710843373494, AUC Score: 0.8600746268656717\n",
      "\n",
      "Fitting 3 folds for each of 40 candidates, totalling 120 fits\n",
      "n_components: 322, Train Set Accuracy: 0.9392549346677788, Test Set Accuracy: 0.927710843373494, AUC Score: 0.8600746268656717\n",
      "\n",
      "Fitting 3 folds for each of 40 candidates, totalling 120 fits\n",
      "n_components: 323, Train Set Accuracy: 0.9392549346677788, Test Set Accuracy: 0.927710843373494, AUC Score: 0.8600746268656717\n",
      "\n",
      "Fitting 3 folds for each of 40 candidates, totalling 120 fits\n",
      "n_components: 324, Train Set Accuracy: 0.9392549346677788, Test Set Accuracy: 0.927710843373494, AUC Score: 0.8600746268656717\n",
      "\n",
      "Fitting 3 folds for each of 40 candidates, totalling 120 fits\n",
      "n_components: 325, Train Set Accuracy: 0.9392549346677788, Test Set Accuracy: 0.927710843373494, AUC Score: 0.8600746268656717\n",
      "\n",
      "Fitting 3 folds for each of 40 candidates, totalling 120 fits\n",
      "n_components: 326, Train Set Accuracy: 0.9392549346677788, Test Set Accuracy: 0.927710843373494, AUC Score: 0.8600746268656717\n",
      "\n",
      "Fitting 3 folds for each of 40 candidates, totalling 120 fits\n",
      "n_components: 327, Train Set Accuracy: 0.9392549346677788, Test Set Accuracy: 0.927710843373494, AUC Score: 0.8600746268656717\n",
      "\n",
      "Fitting 3 folds for each of 40 candidates, totalling 120 fits\n",
      "n_components: 328, Train Set Accuracy: 0.9392549346677788, Test Set Accuracy: 0.927710843373494, AUC Score: 0.8600746268656717\n",
      "\n"
     ]
    }
   ],
   "source": [
    "from sklearn.metrics import roc_auc_score\n",
    "\n",
    "train_accuracy_list = []\n",
    "test_accuracy_list = []\n",
    "auc_score_list = []\n",
    "max_acc = -999\n",
    "optimal_model = None\n",
    "optimal_n_components = None\n",
    "optimal_x_train = None\n",
    "optimal_x_test = None\n",
    "optimal_predictions = None\n",
    "\n",
    "parameters = [{'C': [1, 10, 100, 1000], 'kernel': ['linear']},\n",
    "                {'C': [1, 10, 100, 1000], 'kernel': ['rbf'], 'gamma': [0.1, 0.2, 0.3, 0.4, 0.5, 0.6, 0.7, 0.8, 0.9]}]\n",
    "\n",
    "for n_components in range(150, X_train.shape[0]):\n",
    "    pca = PCA(n_components=n_components)\n",
    "    reduced_X_train = pca.fit_transform(X_train)\n",
    "    reduced_X_test = pca.transform(X_test)\n",
    "\n",
    "    search = GridSearchCV(SVC(probability=True), parameters, n_jobs=-1, verbose=2, cv=3)\n",
    "    search.fit(reduced_X_train, y_train)\n",
    "    model = search.best_estimator_\n",
    "\n",
    "    train_accuracy = search.best_score_\n",
    "    test_accuracy = search.score(reduced_X_test, y_test)\n",
    "    y_pred_test = model.predict(reduced_X_test)\n",
    "    auc_score = roc_auc_score(y_test, y_pred_test)\n",
    "\n",
    "    train_accuracy_list.append(train_accuracy)\n",
    "    test_accuracy_list.append(test_accuracy)\n",
    "    auc_score_list.append(auc_score)\n",
    "\n",
    "    # for saving the best model\n",
    "    if test_accuracy > max_acc:\n",
    "        max_acc = test_accuracy\n",
    "        optimal_model = model\n",
    "        optimal_n_components = n_components\n",
    "        optimal_x_train = reduced_X_train\n",
    "        optimal_x_test = reduced_X_test\n",
    "        optimal_predictions = y_pred_test\n",
    "\n",
    "    print(f\"n_components: {n_components}, Train Set Accuracy: {train_accuracy}, Test Set Accuracy: {test_accuracy}, AUC Score: {auc_score}\")\n",
    "    print()"
   ]
  },
  {
   "cell_type": "code",
   "execution_count": 28,
   "metadata": {},
   "outputs": [
    {
     "data": {
      "image/png": "[encoded data removed]",
      "text/plain": [
       "<Figure size 1152x432 with 2 Axes>"
      ]
     },
     "metadata": {
      "needs_background": "light"
     },
     "output_type": "display_data"
    }
   ],
   "source": [
    "fig, ax = plt.subplots(1, 2, figsize=(16, 6))\n",
    "\n",
    "ax[0].plot(range(150, X_train.shape[0]), test_accuracy_list, marker='o')\n",
    "ax[0].set_xlabel('n_components')\n",
    "ax[0].set_ylabel('Test Set Accuracy')\n",
    "ax[0].set_title('Test Set Accuracy vs. n_components')\n",
    "\n",
    "ax[1].plot(range(150, X_train.shape[0]), auc_score_list, marker='o')\n",
    "ax[1].set_xlabel('n_components')\n",
    "ax[1].set_ylabel('AUC Score')\n",
    "ax[1].set_title('AUC Score vs. n_components')\n",
    "\n",
    "plt.show()"
   ]
  },
  {
   "cell_type": "code",
   "execution_count": 29,
   "metadata": {},
   "outputs": [
    {
     "name": "stdout",
     "output_type": "stream",
     "text": [
      "Best Test Set Accuracy: 0.927710843373494\n",
      "Best n_components: 242\n",
      "auc score: 0.8600746268656717\n"
     ]
    }
   ],
   "source": [
    "print(\"Best Test Set Accuracy:\", max_acc)\n",
    "print(\"Best n_components:\", optimal_n_components)\n",
    "print(\"auc score:\", auc_score_list[optimal_n_components - 150])"
   ]
  },
  {
   "cell_type": "code",
   "execution_count": 30,
   "metadata": {},
   "outputs": [
    {
     "data": {
      "image/png": "[encoded data removed]",
      "text/plain": [
       "<Figure size 576x432 with 1 Axes>"
      ]
     },
     "metadata": {
      "needs_background": "light"
     },
     "output_type": "display_data"
    }
   ],
   "source": [
    "fpr, tpr, thresholds = roc_curve(y_test, optimal_predictions)\n",
    "\n",
    "plt.figure(figsize=(8, 6))\n",
    "plt.plot(fpr, tpr, label='ROC Curve')\n",
    "plt.plot([0, 1], [0, 1], linestyle='--', label='Random')\n",
    "plt.xlabel('False Positive Rate')\n",
    "plt.ylabel('True Positive Rate')\n",
    "plt.title('Receiver Operating Characteristic (ROC) Curve')\n",
    "plt.legend()\n",
    "plt.show()"
   ]
  },
  {
   "cell_type": "code",
   "execution_count": 31,
   "metadata": {},
   "outputs": [
    {
     "data": {
      "text/plain": [
       "array([[12,  4],\n",
       "       [ 2, 65]], dtype=int64)"
      ]
     },
     "execution_count": 31,
     "metadata": {},
     "output_type": "execute_result"
    }
   ],
   "source": [
    "from sklearn.metrics import confusion_matrix\n",
    "\n",
    "confusion_matrix(y_test, optimal_predictions)"
   ]
  },
  {
   "cell_type": "code",
   "execution_count": 33,
   "metadata": {},
   "outputs": [],
   "source": [
    "import pickle\n",
    "\n",
    "dict = {\n",
    "    'Model': optimal_model,\n",
    "    'n_components': optimal_n_components,\n",
    "    'x_train': optimal_x_train,\n",
    "    'x_test': optimal_x_test,\n",
    "    'predictions': optimal_predictions,\n",
    "    'Test Accuracy': max_acc,\n",
    "    'AUC_score': auc_score_list[optimal_n_components - 150]\n",
    "}\n",
    "\n",
    "\n",
    "with open('SVM_PCA.pkl', 'wb') as file:\n",
    "    pickle.dump(dict, file)"
   ]
  },
  {
   "cell_type": "markdown",
   "metadata": {},
   "source": [
    "## Load to verify"
   ]
  },
  {
   "cell_type": "code",
   "execution_count": 34,
   "metadata": {},
   "outputs": [
    {
     "name": "stdout",
     "output_type": "stream",
     "text": [
      "Test Accuracy:  0.927710843373494\n",
      "AUC Score:  0.8600746268656717\n"
     ]
    }
   ],
   "source": [
    "dct = pickle.load(open('SVM_PCA.pkl', 'rb'))\n",
    "X_test = dct['x_test']\n",
    "y_test = pickle.load(open('../Data/y_test.pkl', 'rb'))\n",
    "\n",
    "from sklearn.metrics import accuracy_score, roc_auc_score\n",
    "\n",
    "y_pred_test = dct['Model'].predict(X_test)\n",
    "acc_score = accuracy_score(y_test, y_pred_test)\n",
    "auc_score = roc_auc_score(y_test, y_pred_test)\n",
    "\n",
    "print(\"Test Accuracy: \", acc_score)\n",
    "print(\"AUC Score: \", auc_score)"
   ]
  },
  {
   "cell_type": "code",
   "execution_count": null,
   "metadata": {},
   "outputs": [],
   "source": []
  }
 ],
 "metadata": {
  "kernelspec": {
   "display_name": "Python 3",
   "language": "python",
   "name": "python3"
  },
  "language_info": {
   "codemirror_mode": {
    "name": "ipython",
    "version": 3
   },
   "file_extension": ".py",
   "mimetype": "text/x-python",
   "name": "python",
   "nbconvert_exporter": "python",
   "pygments_lexer": "ipython3",
   "version": "3.7.4"
  }
 },
 "nbformat": 4,
 "nbformat_minor": 2
}
