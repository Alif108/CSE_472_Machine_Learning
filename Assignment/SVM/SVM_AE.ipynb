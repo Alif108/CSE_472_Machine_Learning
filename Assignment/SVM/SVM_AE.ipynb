{
 "cells": [
  {
   "cell_type": "code",
   "execution_count": 1,
   "metadata": {},
   "outputs": [],
   "source": [
    "import numpy as np\n",
    "import torch\n",
    "import torch.nn as nn\n",
    "import torch.optim as optim\n",
    "import pandas as pd\n",
    "import pickle"
   ]
  },
  {
   "cell_type": "markdown",
   "metadata": {},
   "source": [
    "## Load dataset"
   ]
  },
  {
   "cell_type": "code",
   "execution_count": 2,
   "metadata": {},
   "outputs": [
    {
     "name": "stdout",
     "output_type": "stream",
     "text": [
      "torch.Size([329, 64])\n",
      "torch.Size([83, 64])\n",
      "(329,)\n",
      "(83,)\n"
     ]
    }
   ],
   "source": [
    "X_train = pickle.load(open('../Data/train_enc.pkl', 'rb'))\n",
    "X_test = pickle.load(open('../Data/test_enc.pkl', 'rb'))\n",
    "y_train = pickle.load(open('../Data/y_train.pkl', 'rb'))\n",
    "y_test = pickle.load(open('../Data/y_test.pkl', 'rb'))\n",
    "\n",
    "print(X_train.shape)\n",
    "print(X_test.shape)\n",
    "print(y_train.shape)\n",
    "print(y_test.shape)"
   ]
  },
  {
   "cell_type": "markdown",
   "metadata": {},
   "source": [
    "## Exhausitive search"
   ]
  },
  {
   "cell_type": "code",
   "execution_count": 3,
   "metadata": {},
   "outputs": [
    {
     "name": "stdout",
     "output_type": "stream",
     "text": [
      "Fitting 3 folds for each of 40 candidates, totalling 120 fits\n"
     ]
    },
    {
     "data": {
      "text/plain": [
       "GridSearchCV(cv=3, estimator=SVC(probability=True), n_jobs=-1,\n",
       "             param_grid=[{'C': [0.1, 1, 10, 100], 'kernel': ['linear']},\n",
       "                         {'C': [0.1, 1, 10, 100],\n",
       "                          'gamma': [0.1, 0.2, 0.3, 0.4, 0.5, 0.6, 0.7, 0.8,\n",
       "                                    0.9],\n",
       "                          'kernel': ['rbf']}],\n",
       "             verbose=2)"
      ]
     },
     "execution_count": 3,
     "metadata": {},
     "output_type": "execute_result"
    }
   ],
   "source": [
    "from sklearn.model_selection import GridSearchCV\n",
    "from sklearn.svm import SVC\n",
    "\n",
    "# Define the parameter grid\n",
    "parameters = [{'C': [0.1, 1, 10, 100], 'kernel': ['linear']},\n",
    "              {'C': [0.1, 1, 10, 100], 'kernel': ['rbf'], 'gamma': [0.1, 0.2, 0.3, 0.4, 0.5, 0.6, 0.7, 0.8, 0.9]}]\n",
    "\n",
    "# Create a GridSearchCV object\n",
    "search = GridSearchCV(SVC(probability=True), parameters, n_jobs=-1, verbose=2, cv=3)\n",
    "\n",
    "# Fit the grid search to the data\n",
    "search.fit(X_train, y_train)"
   ]
  },
  {
   "cell_type": "code",
   "execution_count": 4,
   "metadata": {},
   "outputs": [
    {
     "name": "stdout",
     "output_type": "stream",
     "text": [
      "Best Parameters: {'C': 0.1, 'kernel': 'linear'}\n"
     ]
    }
   ],
   "source": [
    "best_params = search.best_params_\n",
    "print(\"Best Parameters:\", best_params)"
   ]
  },
  {
   "cell_type": "code",
   "execution_count": 5,
   "metadata": {},
   "outputs": [
    {
     "data": {
      "text/plain": [
       "SVC(C=0.1, kernel='linear', probability=True)"
      ]
     },
     "execution_count": 5,
     "metadata": {},
     "output_type": "execute_result"
    }
   ],
   "source": [
    "best_model = search.best_estimator_\n",
    "best_model"
   ]
  },
  {
   "cell_type": "code",
   "execution_count": 6,
   "metadata": {},
   "outputs": [
    {
     "data": {
      "text/plain": [
       "{'mean_fit_time': array([0.03105434, 0.02122625, 0.03062367, 0.02556109, 0.05839268,\n",
       "        0.05313118, 0.06073038, 0.05488714, 0.04571406, 0.05235664,\n",
       "        0.05385264, 0.05789121, 0.041164  , 0.05285033, 0.05569768,\n",
       "        0.04728238, 0.04384367, 0.05208405, 0.04739579, 0.04473058,\n",
       "        0.04573917, 0.05653628, 0.05185254, 0.04442239, 0.04865328,\n",
       "        0.03930569, 0.05117528, 0.05724367, 0.04455225, 0.05675443,\n",
       "        0.06664769, 0.06087176, 0.05358426, 0.0556612 , 0.06222804,\n",
       "        0.04852692, 0.04873188, 0.05726854, 0.05310671, 0.045633  ]),\n",
       " 'std_fit_time': array([0.00481888, 0.00502015, 0.01281557, 0.00471684, 0.00201517,\n",
       "        0.00554843, 0.00627349, 0.00322461, 0.0002906 , 0.00461453,\n",
       "        0.00922313, 0.00611292, 0.00336134, 0.00980076, 0.0062964 ,\n",
       "        0.00419957, 0.00471432, 0.01830202, 0.00474488, 0.00497186,\n",
       "        0.00771767, 0.00240376, 0.01103556, 0.00743398, 0.00153982,\n",
       "        0.00344896, 0.00747726, 0.00979467, 0.00320612, 0.00900181,\n",
       "        0.00302497, 0.0067709 , 0.00873416, 0.0029523 , 0.00478051,\n",
       "        0.00491171, 0.00868571, 0.00449038, 0.00543034, 0.01415988]),\n",
       " 'mean_score_time': array([0.00319266, 0.00672452, 0.00074728, 0.00354767, 0.00312511,\n",
       "        0.00286547, 0.0052588 , 0.01173329, 0.01167329, 0.00685565,\n",
       "        0.01346962, 0.01225344, 0.01319695, 0.00810337, 0.008178  ,\n",
       "        0.00719794, 0.02016171, 0.02065253, 0.00837429, 0.01044663,\n",
       "        0.01019764, 0.00264732, 0.00679278, 0.01128793, 0.00511591,\n",
       "        0.01596848, 0.01143463, 0.01530886, 0.01061821, 0.01120885,\n",
       "        0.01056441, 0.01190241, 0.00994722, 0.00746655, 0.00154098,\n",
       "        0.01903613, 0.00903447, 0.01168935, 0.00897042, 0.00531729]),\n",
       " 'std_score_time': array([0.00155345, 0.00632185, 0.00053829, 0.00328148, 0.00158483,\n",
       "        0.00405239, 0.00510223, 0.0027723 , 0.00046705, 0.00417859,\n",
       "        0.00489218, 0.00882677, 0.        , 0.00735563, 0.00138692,\n",
       "        0.00631564, 0.00244542, 0.01127981, 0.0028915 , 0.00202148,\n",
       "        0.00221859, 0.00374388, 0.00701855, 0.00799311, 0.00447653,\n",
       "        0.00600287, 0.00337508, 0.00673274, 0.006047  , 0.00349033,\n",
       "        0.01099021, 0.00988281, 0.00297387, 0.00244418, 0.00108964,\n",
       "        0.00363694, 0.00783367, 0.00588021, 0.00126981, 0.00446444]),\n",
       " 'param_C': masked_array(data=[0.1, 1, 10, 100, 0.1, 0.1, 0.1, 0.1, 0.1, 0.1, 0.1,\n",
       "                    0.1, 0.1, 1, 1, 1, 1, 1, 1, 1, 1, 1, 10, 10, 10, 10,\n",
       "                    10, 10, 10, 10, 10, 100, 100, 100, 100, 100, 100, 100,\n",
       "                    100, 100],\n",
       "              mask=[False, False, False, False, False, False, False, False,\n",
       "                    False, False, False, False, False, False, False, False,\n",
       "                    False, False, False, False, False, False, False, False,\n",
       "                    False, False, False, False, False, False, False, False,\n",
       "                    False, False, False, False, False, False, False, False],\n",
       "        fill_value='?',\n",
       "             dtype=object),\n",
       " 'param_kernel': masked_array(data=['linear', 'linear', 'linear', 'linear', 'rbf', 'rbf',\n",
       "                    'rbf', 'rbf', 'rbf', 'rbf', 'rbf', 'rbf', 'rbf', 'rbf',\n",
       "                    'rbf', 'rbf', 'rbf', 'rbf', 'rbf', 'rbf', 'rbf', 'rbf',\n",
       "                    'rbf', 'rbf', 'rbf', 'rbf', 'rbf', 'rbf', 'rbf', 'rbf',\n",
       "                    'rbf', 'rbf', 'rbf', 'rbf', 'rbf', 'rbf', 'rbf', 'rbf',\n",
       "                    'rbf', 'rbf'],\n",
       "              mask=[False, False, False, False, False, False, False, False,\n",
       "                    False, False, False, False, False, False, False, False,\n",
       "                    False, False, False, False, False, False, False, False,\n",
       "                    False, False, False, False, False, False, False, False,\n",
       "                    False, False, False, False, False, False, False, False],\n",
       "        fill_value='?',\n",
       "             dtype=object),\n",
       " 'param_gamma': masked_array(data=[--, --, --, --, 0.1, 0.2, 0.3, 0.4, 0.5, 0.6, 0.7, 0.8,\n",
       "                    0.9, 0.1, 0.2, 0.3, 0.4, 0.5, 0.6, 0.7, 0.8, 0.9, 0.1,\n",
       "                    0.2, 0.3, 0.4, 0.5, 0.6, 0.7, 0.8, 0.9, 0.1, 0.2, 0.3,\n",
       "                    0.4, 0.5, 0.6, 0.7, 0.8, 0.9],\n",
       "              mask=[ True,  True,  True,  True, False, False, False, False,\n",
       "                    False, False, False, False, False, False, False, False,\n",
       "                    False, False, False, False, False, False, False, False,\n",
       "                    False, False, False, False, False, False, False, False,\n",
       "                    False, False, False, False, False, False, False, False],\n",
       "        fill_value='?',\n",
       "             dtype=object),\n",
       " 'params': [{'C': 0.1, 'kernel': 'linear'},\n",
       "  {'C': 1, 'kernel': 'linear'},\n",
       "  {'C': 10, 'kernel': 'linear'},\n",
       "  {'C': 100, 'kernel': 'linear'},\n",
       "  {'C': 0.1, 'gamma': 0.1, 'kernel': 'rbf'},\n",
       "  {'C': 0.1, 'gamma': 0.2, 'kernel': 'rbf'},\n",
       "  {'C': 0.1, 'gamma': 0.3, 'kernel': 'rbf'},\n",
       "  {'C': 0.1, 'gamma': 0.4, 'kernel': 'rbf'},\n",
       "  {'C': 0.1, 'gamma': 0.5, 'kernel': 'rbf'},\n",
       "  {'C': 0.1, 'gamma': 0.6, 'kernel': 'rbf'},\n",
       "  {'C': 0.1, 'gamma': 0.7, 'kernel': 'rbf'},\n",
       "  {'C': 0.1, 'gamma': 0.8, 'kernel': 'rbf'},\n",
       "  {'C': 0.1, 'gamma': 0.9, 'kernel': 'rbf'},\n",
       "  {'C': 1, 'gamma': 0.1, 'kernel': 'rbf'},\n",
       "  {'C': 1, 'gamma': 0.2, 'kernel': 'rbf'},\n",
       "  {'C': 1, 'gamma': 0.3, 'kernel': 'rbf'},\n",
       "  {'C': 1, 'gamma': 0.4, 'kernel': 'rbf'},\n",
       "  {'C': 1, 'gamma': 0.5, 'kernel': 'rbf'},\n",
       "  {'C': 1, 'gamma': 0.6, 'kernel': 'rbf'},\n",
       "  {'C': 1, 'gamma': 0.7, 'kernel': 'rbf'},\n",
       "  {'C': 1, 'gamma': 0.8, 'kernel': 'rbf'},\n",
       "  {'C': 1, 'gamma': 0.9, 'kernel': 'rbf'},\n",
       "  {'C': 10, 'gamma': 0.1, 'kernel': 'rbf'},\n",
       "  {'C': 10, 'gamma': 0.2, 'kernel': 'rbf'},\n",
       "  {'C': 10, 'gamma': 0.3, 'kernel': 'rbf'},\n",
       "  {'C': 10, 'gamma': 0.4, 'kernel': 'rbf'},\n",
       "  {'C': 10, 'gamma': 0.5, 'kernel': 'rbf'},\n",
       "  {'C': 10, 'gamma': 0.6, 'kernel': 'rbf'},\n",
       "  {'C': 10, 'gamma': 0.7, 'kernel': 'rbf'},\n",
       "  {'C': 10, 'gamma': 0.8, 'kernel': 'rbf'},\n",
       "  {'C': 10, 'gamma': 0.9, 'kernel': 'rbf'},\n",
       "  {'C': 100, 'gamma': 0.1, 'kernel': 'rbf'},\n",
       "  {'C': 100, 'gamma': 0.2, 'kernel': 'rbf'},\n",
       "  {'C': 100, 'gamma': 0.3, 'kernel': 'rbf'},\n",
       "  {'C': 100, 'gamma': 0.4, 'kernel': 'rbf'},\n",
       "  {'C': 100, 'gamma': 0.5, 'kernel': 'rbf'},\n",
       "  {'C': 100, 'gamma': 0.6, 'kernel': 'rbf'},\n",
       "  {'C': 100, 'gamma': 0.7, 'kernel': 'rbf'},\n",
       "  {'C': 100, 'gamma': 0.8, 'kernel': 'rbf'},\n",
       "  {'C': 100, 'gamma': 0.9, 'kernel': 'rbf'}],\n",
       " 'split0_test_score': array([0.90909091, 0.87272727, 0.87272727, 0.87272727, 0.80909091,\n",
       "        0.80909091, 0.80909091, 0.80909091, 0.80909091, 0.80909091,\n",
       "        0.80909091, 0.80909091, 0.80909091, 0.80909091, 0.80909091,\n",
       "        0.80909091, 0.80909091, 0.80909091, 0.80909091, 0.80909091,\n",
       "        0.80909091, 0.80909091, 0.80909091, 0.80909091, 0.80909091,\n",
       "        0.80909091, 0.80909091, 0.80909091, 0.80909091, 0.80909091,\n",
       "        0.80909091, 0.80909091, 0.80909091, 0.80909091, 0.80909091,\n",
       "        0.80909091, 0.80909091, 0.80909091, 0.80909091, 0.80909091]),\n",
       " 'split1_test_score': array([0.9       , 0.88181818, 0.88181818, 0.88181818, 0.8       ,\n",
       "        0.8       , 0.8       , 0.8       , 0.8       , 0.8       ,\n",
       "        0.8       , 0.8       , 0.8       , 0.8       , 0.8       ,\n",
       "        0.8       , 0.8       , 0.8       , 0.8       , 0.8       ,\n",
       "        0.8       , 0.8       , 0.8       , 0.8       , 0.8       ,\n",
       "        0.8       , 0.8       , 0.8       , 0.8       , 0.8       ,\n",
       "        0.8       , 0.8       , 0.8       , 0.8       , 0.8       ,\n",
       "        0.8       , 0.8       , 0.8       , 0.8       , 0.8       ]),\n",
       " 'split2_test_score': array([0.89908257, 0.85321101, 0.85321101, 0.85321101, 0.80733945,\n",
       "        0.80733945, 0.80733945, 0.80733945, 0.80733945, 0.80733945,\n",
       "        0.80733945, 0.80733945, 0.80733945, 0.80733945, 0.80733945,\n",
       "        0.80733945, 0.80733945, 0.80733945, 0.80733945, 0.80733945,\n",
       "        0.80733945, 0.80733945, 0.80733945, 0.80733945, 0.80733945,\n",
       "        0.80733945, 0.80733945, 0.80733945, 0.80733945, 0.80733945,\n",
       "        0.80733945, 0.80733945, 0.80733945, 0.80733945, 0.80733945,\n",
       "        0.80733945, 0.80733945, 0.80733945, 0.80733945, 0.80733945]),\n",
       " 'mean_test_score': array([0.90272449, 0.86925215, 0.86925215, 0.86925215, 0.80547679,\n",
       "        0.80547679, 0.80547679, 0.80547679, 0.80547679, 0.80547679,\n",
       "        0.80547679, 0.80547679, 0.80547679, 0.80547679, 0.80547679,\n",
       "        0.80547679, 0.80547679, 0.80547679, 0.80547679, 0.80547679,\n",
       "        0.80547679, 0.80547679, 0.80547679, 0.80547679, 0.80547679,\n",
       "        0.80547679, 0.80547679, 0.80547679, 0.80547679, 0.80547679,\n",
       "        0.80547679, 0.80547679, 0.80547679, 0.80547679, 0.80547679,\n",
       "        0.80547679, 0.80547679, 0.80547679, 0.80547679, 0.80547679]),\n",
       " 'std_test_score': array([0.00451729, 0.01193454, 0.01193454, 0.01193454, 0.00393813,\n",
       "        0.00393813, 0.00393813, 0.00393813, 0.00393813, 0.00393813,\n",
       "        0.00393813, 0.00393813, 0.00393813, 0.00393813, 0.00393813,\n",
       "        0.00393813, 0.00393813, 0.00393813, 0.00393813, 0.00393813,\n",
       "        0.00393813, 0.00393813, 0.00393813, 0.00393813, 0.00393813,\n",
       "        0.00393813, 0.00393813, 0.00393813, 0.00393813, 0.00393813,\n",
       "        0.00393813, 0.00393813, 0.00393813, 0.00393813, 0.00393813,\n",
       "        0.00393813, 0.00393813, 0.00393813, 0.00393813, 0.00393813]),\n",
       " 'rank_test_score': array([1, 2, 2, 2, 5, 5, 5, 5, 5, 5, 5, 5, 5, 5, 5, 5, 5, 5, 5, 5, 5, 5,\n",
       "        5, 5, 5, 5, 5, 5, 5, 5, 5, 5, 5, 5, 5, 5, 5, 5, 5, 5])}"
      ]
     },
     "execution_count": 6,
     "metadata": {},
     "output_type": "execute_result"
    }
   ],
   "source": [
    "search.cv_results_"
   ]
  },
  {
   "cell_type": "markdown",
   "metadata": {},
   "source": [
    "## Evaluate"
   ]
  },
  {
   "cell_type": "code",
   "execution_count": 7,
   "metadata": {},
   "outputs": [
    {
     "name": "stdout",
     "output_type": "stream",
     "text": [
      "Train Accuracy: 0.9027244926327495\n"
     ]
    }
   ],
   "source": [
    "train_acc = search.best_score_     # this is train accuracy\n",
    "print(\"Train Accuracy:\", train_acc)    "
   ]
  },
  {
   "cell_type": "code",
   "execution_count": 8,
   "metadata": {},
   "outputs": [
    {
     "name": "stdout",
     "output_type": "stream",
     "text": [
      "Test Accuracy: 0.9036144578313253\n"
     ]
    }
   ],
   "source": [
    "from sklearn.metrics import accuracy_score\n",
    "\n",
    "y_pred_test = best_model.predict(X_test)\n",
    "test_accuracy = accuracy_score(y_test, y_pred_test)\n",
    "print(\"Test Accuracy:\", test_accuracy)"
   ]
  },
  {
   "cell_type": "code",
   "execution_count": 9,
   "metadata": {},
   "outputs": [
    {
     "name": "stdout",
     "output_type": "stream",
     "text": [
      "AUC Score: 0.8213619402985075\n"
     ]
    }
   ],
   "source": [
    "from sklearn.metrics import roc_auc_score\n",
    "\n",
    "auc_score = roc_auc_score(y_test, y_pred_test)\n",
    "print(\"AUC Score:\", auc_score)"
   ]
  },
  {
   "cell_type": "code",
   "execution_count": 10,
   "metadata": {},
   "outputs": [
    {
     "data": {
      "image/png": "[encoded data removed]",
      "text/plain": [
       "<Figure size 576x432 with 1 Axes>"
      ]
     },
     "metadata": {
      "needs_background": "light"
     },
     "output_type": "display_data"
    }
   ],
   "source": [
    "from sklearn.metrics import roc_curve\n",
    "from matplotlib import pyplot as plt\n",
    "\n",
    "fpr, tpr, thresholds = roc_curve(y_test, y_pred_test)\n",
    "\n",
    "plt.figure(figsize=(8, 6))\n",
    "plt.plot(fpr, tpr, label='ROC Curve')\n",
    "plt.plot([0, 1], [0, 1], linestyle='--', label='Random')\n",
    "plt.xlabel('False Positive Rate')\n",
    "plt.ylabel('True Positive Rate')\n",
    "plt.title('Receiver Operating Characteristic (ROC) Curve')\n",
    "plt.legend()\n",
    "plt.show()"
   ]
  },
  {
   "cell_type": "code",
   "execution_count": 11,
   "metadata": {},
   "outputs": [
    {
     "data": {
      "image/png": "[encoded data removed]",
      "text/plain": [
       "<Figure size 576x432 with 1 Axes>"
      ]
     },
     "metadata": {
      "needs_background": "light"
     },
     "output_type": "display_data"
    },
    {
     "data": {
      "text/html": [
       "<div>\n",
       "<style scoped>\n",
       "    .dataframe tbody tr th:only-of-type {\n",
       "        vertical-align: middle;\n",
       "    }\n",
       "\n",
       "    .dataframe tbody tr th {\n",
       "        vertical-align: top;\n",
       "    }\n",
       "\n",
       "    .dataframe thead th {\n",
       "        text-align: right;\n",
       "    }\n",
       "</style>\n",
       "<table border=\"1\" class=\"dataframe\">\n",
       "  <thead>\n",
       "    <tr style=\"text-align: right;\">\n",
       "      <th></th>\n",
       "      <th>precision</th>\n",
       "      <th>recall</th>\n",
       "      <th>f1-score</th>\n",
       "      <th>support</th>\n",
       "    </tr>\n",
       "  </thead>\n",
       "  <tbody>\n",
       "    <tr>\n",
       "      <th>0</th>\n",
       "      <td>0.785714</td>\n",
       "      <td>0.687500</td>\n",
       "      <td>0.733333</td>\n",
       "      <td>16.000000</td>\n",
       "    </tr>\n",
       "    <tr>\n",
       "      <th>1</th>\n",
       "      <td>0.927536</td>\n",
       "      <td>0.955224</td>\n",
       "      <td>0.941176</td>\n",
       "      <td>67.000000</td>\n",
       "    </tr>\n",
       "    <tr>\n",
       "      <th>accuracy</th>\n",
       "      <td>0.903614</td>\n",
       "      <td>0.903614</td>\n",
       "      <td>0.903614</td>\n",
       "      <td>0.903614</td>\n",
       "    </tr>\n",
       "    <tr>\n",
       "      <th>macro avg</th>\n",
       "      <td>0.856625</td>\n",
       "      <td>0.821362</td>\n",
       "      <td>0.837255</td>\n",
       "      <td>83.000000</td>\n",
       "    </tr>\n",
       "    <tr>\n",
       "      <th>weighted avg</th>\n",
       "      <td>0.900197</td>\n",
       "      <td>0.903614</td>\n",
       "      <td>0.901110</td>\n",
       "      <td>83.000000</td>\n",
       "    </tr>\n",
       "  </tbody>\n",
       "</table>\n",
       "</div>"
      ],
      "text/plain": [
       "              precision    recall  f1-score    support\n",
       "0              0.785714  0.687500  0.733333  16.000000\n",
       "1              0.927536  0.955224  0.941176  67.000000\n",
       "accuracy       0.903614  0.903614  0.903614   0.903614\n",
       "macro avg      0.856625  0.821362  0.837255  83.000000\n",
       "weighted avg   0.900197  0.903614  0.901110  83.000000"
      ]
     },
     "execution_count": 11,
     "metadata": {},
     "output_type": "execute_result"
    }
   ],
   "source": [
    "from sklearn.metrics import confusion_matrix, classification_report\n",
    "import seaborn as sns\n",
    "\n",
    "# plot confusion matrix\n",
    "cm = confusion_matrix(y_test, y_pred_test)\n",
    "plt.figure(figsize=(8, 6))\n",
    "plt.title(\"Confusion Matrix\")\n",
    "sns.heatmap(cm, annot=True, cmap='Blues', fmt='g', cbar=False)\n",
    "plt.xlabel('Predicted Label')\n",
    "plt.ylabel('True Label')\n",
    "plt.show()\n",
    "\n",
    "# print classification report as a df\n",
    "cr = classification_report(y_test, y_pred_test, output_dict=True)\n",
    "cr_df = pd.DataFrame(cr).transpose()\n",
    "cr_df"
   ]
  },
  {
   "cell_type": "code",
   "execution_count": 12,
   "metadata": {},
   "outputs": [],
   "source": [
    "svm_ae_dict = {\n",
    "    'model': best_model,\n",
    "    'train_acc': train_acc,\n",
    "    'test_acc': test_accuracy,\n",
    "    'auc_score': auc_score,\n",
    "    'confusion_matrix': cm,\n",
    "    'classification_report': cr_df\n",
    "}\n",
    "\n",
    "pickle.dump(svm_ae_dict, open('SVM_AE.pkl', 'wb'))"
   ]
  }
 ],
 "metadata": {
  "kernelspec": {
   "display_name": "Python 3",
   "language": "python",
   "name": "python3"
  },
  "language_info": {
   "codemirror_mode": {
    "name": "ipython",
    "version": 3
   },
   "file_extension": ".py",
   "mimetype": "text/x-python",
   "name": "python",
   "nbconvert_exporter": "python",
   "pygments_lexer": "ipython3",
   "version": "3.7.4"
  }
 },
 "nbformat": 4,
 "nbformat_minor": 2
}
