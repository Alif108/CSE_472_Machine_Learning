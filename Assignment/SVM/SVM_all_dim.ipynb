{
 "cells": [
  {
   "cell_type": "code",
   "execution_count": 1,
   "metadata": {},
   "outputs": [],
   "source": [
    "import pandas as pd\n",
    "import numpy as np\n",
    "import matplotlib.pyplot as plt"
   ]
  },
  {
   "cell_type": "markdown",
   "metadata": {},
   "source": [
    "## Load Dataset"
   ]
  },
  {
   "cell_type": "code",
   "execution_count": 2,
   "metadata": {},
   "outputs": [
    {
     "data": {
      "text/html": [
       "<div>\n",
       "<style scoped>\n",
       "    .dataframe tbody tr th:only-of-type {\n",
       "        vertical-align: middle;\n",
       "    }\n",
       "\n",
       "    .dataframe tbody tr th {\n",
       "        vertical-align: top;\n",
       "    }\n",
       "\n",
       "    .dataframe thead th {\n",
       "        text-align: right;\n",
       "    }\n",
       "</style>\n",
       "<table border=\"1\" class=\"dataframe\">\n",
       "  <thead>\n",
       "    <tr style=\"text-align: right;\">\n",
       "      <th></th>\n",
       "      <th>Unnamed: 0</th>\n",
       "      <th>ARHGEF10L</th>\n",
       "      <th>HIF3A</th>\n",
       "      <th>RNF17</th>\n",
       "      <th>RNF10</th>\n",
       "      <th>RNF11</th>\n",
       "      <th>RNF13</th>\n",
       "      <th>GTF2IP1</th>\n",
       "      <th>REM1</th>\n",
       "      <th>MTVR2</th>\n",
       "      <th>...</th>\n",
       "      <th>NPY5R</th>\n",
       "      <th>GNGT2</th>\n",
       "      <th>GNGT1</th>\n",
       "      <th>TULP3</th>\n",
       "      <th>PTRF</th>\n",
       "      <th>BCL6B</th>\n",
       "      <th>GSTK1</th>\n",
       "      <th>SELP</th>\n",
       "      <th>SELS</th>\n",
       "      <th>label</th>\n",
       "    </tr>\n",
       "  </thead>\n",
       "  <tbody>\n",
       "    <tr>\n",
       "      <th>0</th>\n",
       "      <td>TCGA-A8-A06X-01</td>\n",
       "      <td>9.6417</td>\n",
       "      <td>0.5819</td>\n",
       "      <td>0.0000</td>\n",
       "      <td>12.0036</td>\n",
       "      <td>11.2545</td>\n",
       "      <td>10.1480</td>\n",
       "      <td>12.6622</td>\n",
       "      <td>4.2765</td>\n",
       "      <td>1.8007</td>\n",
       "      <td>...</td>\n",
       "      <td>0.5819</td>\n",
       "      <td>3.5764</td>\n",
       "      <td>0.0000</td>\n",
       "      <td>9.3024</td>\n",
       "      <td>11.3338</td>\n",
       "      <td>7.7186</td>\n",
       "      <td>10.6898</td>\n",
       "      <td>7.0992</td>\n",
       "      <td>11.1740</td>\n",
       "      <td>1</td>\n",
       "    </tr>\n",
       "    <tr>\n",
       "      <th>1</th>\n",
       "      <td>TCGA-A8-A096-01</td>\n",
       "      <td>9.7665</td>\n",
       "      <td>0.2738</td>\n",
       "      <td>0.8765</td>\n",
       "      <td>11.8118</td>\n",
       "      <td>10.8554</td>\n",
       "      <td>10.4282</td>\n",
       "      <td>12.4810</td>\n",
       "      <td>4.3232</td>\n",
       "      <td>0.0000</td>\n",
       "      <td>...</td>\n",
       "      <td>9.5174</td>\n",
       "      <td>5.3021</td>\n",
       "      <td>0.0000</td>\n",
       "      <td>9.1369</td>\n",
       "      <td>12.7711</td>\n",
       "      <td>8.7307</td>\n",
       "      <td>10.5158</td>\n",
       "      <td>5.9003</td>\n",
       "      <td>9.8729</td>\n",
       "      <td>1</td>\n",
       "    </tr>\n",
       "    <tr>\n",
       "      <th>2</th>\n",
       "      <td>TCGA-BH-A0C7-01</td>\n",
       "      <td>10.0931</td>\n",
       "      <td>3.6090</td>\n",
       "      <td>0.0000</td>\n",
       "      <td>11.3820</td>\n",
       "      <td>10.7663</td>\n",
       "      <td>10.3366</td>\n",
       "      <td>12.7240</td>\n",
       "      <td>2.2163</td>\n",
       "      <td>0.3340</td>\n",
       "      <td>...</td>\n",
       "      <td>1.2032</td>\n",
       "      <td>3.8365</td>\n",
       "      <td>0.0000</td>\n",
       "      <td>9.5725</td>\n",
       "      <td>11.8181</td>\n",
       "      <td>7.9077</td>\n",
       "      <td>10.7539</td>\n",
       "      <td>6.5823</td>\n",
       "      <td>9.7063</td>\n",
       "      <td>1</td>\n",
       "    </tr>\n",
       "    <tr>\n",
       "      <th>3</th>\n",
       "      <td>TCGA-AR-A0TV-01</td>\n",
       "      <td>9.6694</td>\n",
       "      <td>0.4330</td>\n",
       "      <td>0.0000</td>\n",
       "      <td>11.9378</td>\n",
       "      <td>11.2889</td>\n",
       "      <td>10.6282</td>\n",
       "      <td>11.7596</td>\n",
       "      <td>3.5666</td>\n",
       "      <td>0.0000</td>\n",
       "      <td>...</td>\n",
       "      <td>4.2628</td>\n",
       "      <td>4.6919</td>\n",
       "      <td>2.0530</td>\n",
       "      <td>9.1760</td>\n",
       "      <td>10.3455</td>\n",
       "      <td>8.0183</td>\n",
       "      <td>10.6109</td>\n",
       "      <td>7.2024</td>\n",
       "      <td>10.4880</td>\n",
       "      <td>1</td>\n",
       "    </tr>\n",
       "    <tr>\n",
       "      <th>4</th>\n",
       "      <td>TCGA-GM-A3XG-01</td>\n",
       "      <td>10.2287</td>\n",
       "      <td>5.3420</td>\n",
       "      <td>0.0000</td>\n",
       "      <td>11.8971</td>\n",
       "      <td>11.3988</td>\n",
       "      <td>10.3007</td>\n",
       "      <td>12.7280</td>\n",
       "      <td>4.5791</td>\n",
       "      <td>0.0000</td>\n",
       "      <td>...</td>\n",
       "      <td>2.0437</td>\n",
       "      <td>4.1135</td>\n",
       "      <td>0.4297</td>\n",
       "      <td>8.9456</td>\n",
       "      <td>13.6688</td>\n",
       "      <td>6.9724</td>\n",
       "      <td>12.2322</td>\n",
       "      <td>7.7879</td>\n",
       "      <td>10.1317</td>\n",
       "      <td>1</td>\n",
       "    </tr>\n",
       "  </tbody>\n",
       "</table>\n",
       "<p>5 rows × 20532 columns</p>\n",
       "</div>"
      ],
      "text/plain": [
       "        Unnamed: 0  ARHGEF10L   HIF3A   RNF17    RNF10    RNF11    RNF13  \\\n",
       "0  TCGA-A8-A06X-01     9.6417  0.5819  0.0000  12.0036  11.2545  10.1480   \n",
       "1  TCGA-A8-A096-01     9.7665  0.2738  0.8765  11.8118  10.8554  10.4282   \n",
       "2  TCGA-BH-A0C7-01    10.0931  3.6090  0.0000  11.3820  10.7663  10.3366   \n",
       "3  TCGA-AR-A0TV-01     9.6694  0.4330  0.0000  11.9378  11.2889  10.6282   \n",
       "4  TCGA-GM-A3XG-01    10.2287  5.3420  0.0000  11.8971  11.3988  10.3007   \n",
       "\n",
       "   GTF2IP1    REM1   MTVR2  ...   NPY5R   GNGT2   GNGT1   TULP3     PTRF  \\\n",
       "0  12.6622  4.2765  1.8007  ...  0.5819  3.5764  0.0000  9.3024  11.3338   \n",
       "1  12.4810  4.3232  0.0000  ...  9.5174  5.3021  0.0000  9.1369  12.7711   \n",
       "2  12.7240  2.2163  0.3340  ...  1.2032  3.8365  0.0000  9.5725  11.8181   \n",
       "3  11.7596  3.5666  0.0000  ...  4.2628  4.6919  2.0530  9.1760  10.3455   \n",
       "4  12.7280  4.5791  0.0000  ...  2.0437  4.1135  0.4297  8.9456  13.6688   \n",
       "\n",
       "    BCL6B    GSTK1    SELP     SELS  label  \n",
       "0  7.7186  10.6898  7.0992  11.1740      1  \n",
       "1  8.7307  10.5158  5.9003   9.8729      1  \n",
       "2  7.9077  10.7539  6.5823   9.7063      1  \n",
       "3  8.0183  10.6109  7.2024  10.4880      1  \n",
       "4  6.9724  12.2322  7.7879  10.1317      1  \n",
       "\n",
       "[5 rows x 20532 columns]"
      ]
     },
     "execution_count": 2,
     "metadata": {},
     "output_type": "execute_result"
    }
   ],
   "source": [
    "df = pd.read_csv('../Data/merged.csv')\n",
    "df.head()"
   ]
  },
  {
   "cell_type": "code",
   "execution_count": 3,
   "metadata": {},
   "outputs": [
    {
     "data": {
      "text/plain": [
       "Unnamed: 0    0\n",
       "ARHGEF10L     0\n",
       "HIF3A         0\n",
       "RNF17         0\n",
       "RNF10         0\n",
       "             ..\n",
       "BCL6B         0\n",
       "GSTK1         0\n",
       "SELP          0\n",
       "SELS          0\n",
       "label         0\n",
       "Length: 20532, dtype: int64"
      ]
     },
     "execution_count": 3,
     "metadata": {},
     "output_type": "execute_result"
    }
   ],
   "source": [
    "# check for missing values\n",
    "df.isnull().sum()"
   ]
  },
  {
   "cell_type": "markdown",
   "metadata": {},
   "source": [
    "## Standardize the data"
   ]
  },
  {
   "cell_type": "code",
   "execution_count": 4,
   "metadata": {},
   "outputs": [
    {
     "data": {
      "text/html": [
       "<div>\n",
       "<style scoped>\n",
       "    .dataframe tbody tr th:only-of-type {\n",
       "        vertical-align: middle;\n",
       "    }\n",
       "\n",
       "    .dataframe tbody tr th {\n",
       "        vertical-align: top;\n",
       "    }\n",
       "\n",
       "    .dataframe thead th {\n",
       "        text-align: right;\n",
       "    }\n",
       "</style>\n",
       "<table border=\"1\" class=\"dataframe\">\n",
       "  <thead>\n",
       "    <tr style=\"text-align: right;\">\n",
       "      <th></th>\n",
       "      <th>Unnamed: 0</th>\n",
       "      <th>ARHGEF10L</th>\n",
       "      <th>HIF3A</th>\n",
       "      <th>RNF17</th>\n",
       "      <th>RNF10</th>\n",
       "      <th>RNF11</th>\n",
       "      <th>RNF13</th>\n",
       "      <th>GTF2IP1</th>\n",
       "      <th>REM1</th>\n",
       "      <th>MTVR2</th>\n",
       "      <th>...</th>\n",
       "      <th>NPY5R</th>\n",
       "      <th>GNGT2</th>\n",
       "      <th>GNGT1</th>\n",
       "      <th>TULP3</th>\n",
       "      <th>PTRF</th>\n",
       "      <th>BCL6B</th>\n",
       "      <th>GSTK1</th>\n",
       "      <th>SELP</th>\n",
       "      <th>SELS</th>\n",
       "      <th>label</th>\n",
       "    </tr>\n",
       "  </thead>\n",
       "  <tbody>\n",
       "    <tr>\n",
       "      <th>0</th>\n",
       "      <td>TCGA-A8-A06X-01</td>\n",
       "      <td>-0.058777</td>\n",
       "      <td>-1.149160</td>\n",
       "      <td>-0.333486</td>\n",
       "      <td>0.412170</td>\n",
       "      <td>0.444640</td>\n",
       "      <td>-0.432646</td>\n",
       "      <td>0.181457</td>\n",
       "      <td>0.108418</td>\n",
       "      <td>3.363095</td>\n",
       "      <td>...</td>\n",
       "      <td>-0.786584</td>\n",
       "      <td>-0.809907</td>\n",
       "      <td>-0.528660</td>\n",
       "      <td>0.036956</td>\n",
       "      <td>-0.730643</td>\n",
       "      <td>-0.278269</td>\n",
       "      <td>-0.621638</td>\n",
       "      <td>0.446248</td>\n",
       "      <td>2.105537</td>\n",
       "      <td>1</td>\n",
       "    </tr>\n",
       "    <tr>\n",
       "      <th>1</th>\n",
       "      <td>TCGA-A8-A096-01</td>\n",
       "      <td>0.121701</td>\n",
       "      <td>-1.313885</td>\n",
       "      <td>0.895909</td>\n",
       "      <td>-0.143454</td>\n",
       "      <td>-0.367258</td>\n",
       "      <td>0.143828</td>\n",
       "      <td>-0.169245</td>\n",
       "      <td>0.145486</td>\n",
       "      <td>-0.663510</td>\n",
       "      <td>...</td>\n",
       "      <td>2.535428</td>\n",
       "      <td>1.225401</td>\n",
       "      <td>-0.528660</td>\n",
       "      <td>-0.285920</td>\n",
       "      <td>0.733620</td>\n",
       "      <td>0.883545</td>\n",
       "      <td>-0.881372</td>\n",
       "      <td>-0.130536</td>\n",
       "      <td>-0.494433</td>\n",
       "      <td>1</td>\n",
       "    </tr>\n",
       "    <tr>\n",
       "      <th>2</th>\n",
       "      <td>TCGA-BH-A0C7-01</td>\n",
       "      <td>0.594009</td>\n",
       "      <td>0.469273</td>\n",
       "      <td>-0.333486</td>\n",
       "      <td>-1.388537</td>\n",
       "      <td>-0.548516</td>\n",
       "      <td>-0.044627</td>\n",
       "      <td>0.301068</td>\n",
       "      <td>-1.526825</td>\n",
       "      <td>0.083358</td>\n",
       "      <td>...</td>\n",
       "      <td>-0.555599</td>\n",
       "      <td>-0.503142</td>\n",
       "      <td>-0.528660</td>\n",
       "      <td>0.563896</td>\n",
       "      <td>-0.237258</td>\n",
       "      <td>-0.061197</td>\n",
       "      <td>-0.525955</td>\n",
       "      <td>0.197571</td>\n",
       "      <td>-0.827347</td>\n",
       "      <td>1</td>\n",
       "    </tr>\n",
       "    <tr>\n",
       "      <th>3</th>\n",
       "      <td>TCGA-AR-A0TV-01</td>\n",
       "      <td>-0.018719</td>\n",
       "      <td>-1.228769</td>\n",
       "      <td>-0.333486</td>\n",
       "      <td>0.221554</td>\n",
       "      <td>0.514621</td>\n",
       "      <td>0.555301</td>\n",
       "      <td>-1.565476</td>\n",
       "      <td>-0.455051</td>\n",
       "      <td>-0.663510</td>\n",
       "      <td>...</td>\n",
       "      <td>0.581889</td>\n",
       "      <td>0.505725</td>\n",
       "      <td>1.225393</td>\n",
       "      <td>-0.209639</td>\n",
       "      <td>-1.737483</td>\n",
       "      <td>0.065764</td>\n",
       "      <td>-0.739414</td>\n",
       "      <td>0.495897</td>\n",
       "      <td>0.734713</td>\n",
       "      <td>1</td>\n",
       "    </tr>\n",
       "    <tr>\n",
       "      <th>4</th>\n",
       "      <td>TCGA-GM-A3XG-01</td>\n",
       "      <td>0.790105</td>\n",
       "      <td>1.395817</td>\n",
       "      <td>-0.333486</td>\n",
       "      <td>0.103651</td>\n",
       "      <td>0.738193</td>\n",
       "      <td>-0.118486</td>\n",
       "      <td>0.308810</td>\n",
       "      <td>0.348601</td>\n",
       "      <td>-0.663510</td>\n",
       "      <td>...</td>\n",
       "      <td>-0.243121</td>\n",
       "      <td>-0.176445</td>\n",
       "      <td>-0.161531</td>\n",
       "      <td>-0.659129</td>\n",
       "      <td>1.648160</td>\n",
       "      <td>-1.134850</td>\n",
       "      <td>1.680733</td>\n",
       "      <td>0.777578</td>\n",
       "      <td>0.022724</td>\n",
       "      <td>1</td>\n",
       "    </tr>\n",
       "  </tbody>\n",
       "</table>\n",
       "<p>5 rows × 20532 columns</p>\n",
       "</div>"
      ],
      "text/plain": [
       "        Unnamed: 0  ARHGEF10L     HIF3A     RNF17     RNF10     RNF11  \\\n",
       "0  TCGA-A8-A06X-01  -0.058777 -1.149160 -0.333486  0.412170  0.444640   \n",
       "1  TCGA-A8-A096-01   0.121701 -1.313885  0.895909 -0.143454 -0.367258   \n",
       "2  TCGA-BH-A0C7-01   0.594009  0.469273 -0.333486 -1.388537 -0.548516   \n",
       "3  TCGA-AR-A0TV-01  -0.018719 -1.228769 -0.333486  0.221554  0.514621   \n",
       "4  TCGA-GM-A3XG-01   0.790105  1.395817 -0.333486  0.103651  0.738193   \n",
       "\n",
       "      RNF13   GTF2IP1      REM1     MTVR2  ...     NPY5R     GNGT2     GNGT1  \\\n",
       "0 -0.432646  0.181457  0.108418  3.363095  ... -0.786584 -0.809907 -0.528660   \n",
       "1  0.143828 -0.169245  0.145486 -0.663510  ...  2.535428  1.225401 -0.528660   \n",
       "2 -0.044627  0.301068 -1.526825  0.083358  ... -0.555599 -0.503142 -0.528660   \n",
       "3  0.555301 -1.565476 -0.455051 -0.663510  ...  0.581889  0.505725  1.225393   \n",
       "4 -0.118486  0.308810  0.348601 -0.663510  ... -0.243121 -0.176445 -0.161531   \n",
       "\n",
       "      TULP3      PTRF     BCL6B     GSTK1      SELP      SELS  label  \n",
       "0  0.036956 -0.730643 -0.278269 -0.621638  0.446248  2.105537      1  \n",
       "1 -0.285920  0.733620  0.883545 -0.881372 -0.130536 -0.494433      1  \n",
       "2  0.563896 -0.237258 -0.061197 -0.525955  0.197571 -0.827347      1  \n",
       "3 -0.209639 -1.737483  0.065764 -0.739414  0.495897  0.734713      1  \n",
       "4 -0.659129  1.648160 -1.134850  1.680733  0.777578  0.022724      1  \n",
       "\n",
       "[5 rows x 20532 columns]"
      ]
     },
     "execution_count": 4,
     "metadata": {},
     "output_type": "execute_result"
    }
   ],
   "source": [
    "# standardize the data except label\n",
    "from sklearn.preprocessing import StandardScaler\n",
    "\n",
    "scaler = StandardScaler()\n",
    "df.iloc[:, 1:-1] = scaler.fit_transform(df.iloc[:, 1:-1])\n",
    "df.head()"
   ]
  },
  {
   "cell_type": "markdown",
   "metadata": {},
   "source": [
    "## Seperate features and labels"
   ]
  },
  {
   "cell_type": "code",
   "execution_count": 5,
   "metadata": {},
   "outputs": [
    {
     "name": "stdout",
     "output_type": "stream",
     "text": [
      "(412, 20530)\n",
      "(412,)\n"
     ]
    }
   ],
   "source": [
    "X = df.iloc[:, 1:-1].values\n",
    "y = df.iloc[:, -1].values\n",
    "\n",
    "print(X.shape)\n",
    "print(y.shape)"
   ]
  },
  {
   "cell_type": "markdown",
   "metadata": {},
   "source": [
    "## Train test split"
   ]
  },
  {
   "cell_type": "code",
   "execution_count": 6,
   "metadata": {},
   "outputs": [
    {
     "name": "stdout",
     "output_type": "stream",
     "text": [
      "(329, 20530)\n",
      "(83, 20530)\n",
      "(329,)\n",
      "(83,)\n"
     ]
    }
   ],
   "source": [
    "# split the data into train and test\n",
    "from sklearn.model_selection import train_test_split\n",
    "\n",
    "X_train, X_test, y_train, y_test = train_test_split(X, y, test_size=0.2, stratify=y, random_state=42)\n",
    "\n",
    "print(X_train.shape)\n",
    "print(X_test.shape)\n",
    "print(y_train.shape)\n",
    "print(y_test.shape)"
   ]
  },
  {
   "cell_type": "markdown",
   "metadata": {},
   "source": [
    "## Grid search for finding best parameters"
   ]
  },
  {
   "cell_type": "code",
   "execution_count": 7,
   "metadata": {},
   "outputs": [
    {
     "name": "stdout",
     "output_type": "stream",
     "text": [
      "Fitting 5 folds for each of 40 candidates, totalling 200 fits\n"
     ]
    },
    {
     "data": {
      "text/plain": [
       "GridSearchCV(estimator=SVC(probability=True), n_jobs=-1,\n",
       "             param_grid=[{'C': [1, 10, 100, 1000], 'kernel': ['linear']},\n",
       "                         {'C': [1, 10, 100, 1000],\n",
       "                          'gamma': [0.1, 0.2, 0.3, 0.4, 0.5, 0.6, 0.7, 0.8,\n",
       "                                    0.9],\n",
       "                          'kernel': ['rbf']}],\n",
       "             verbose=2)"
      ]
     },
     "execution_count": 7,
     "metadata": {},
     "output_type": "execute_result"
    }
   ],
   "source": [
    "from sklearn.model_selection import GridSearchCV\n",
    "from sklearn.svm import SVC\n",
    "\n",
    "# Define the parameter grid\n",
    "parameters = [{'C': [1, 10, 100, 1000], 'kernel': ['linear']},\n",
    "              {'C': [1, 10, 100, 1000], 'kernel': ['rbf'], 'gamma': [0.1, 0.2, 0.3, 0.4, 0.5, 0.6, 0.7, 0.8, 0.9]}]\n",
    "\n",
    "# Create a GridSearchCV object\n",
    "search = GridSearchCV(SVC(probability=True), parameters, n_jobs=-1, verbose=2)\n",
    "\n",
    "# Fit the grid search to the data\n",
    "search.fit(X_train, y_train)"
   ]
  },
  {
   "cell_type": "code",
   "execution_count": 8,
   "metadata": {},
   "outputs": [
    {
     "name": "stdout",
     "output_type": "stream",
     "text": [
      "Best Parameters: {'C': 1, 'kernel': 'linear'}\n"
     ]
    }
   ],
   "source": [
    "best_params = search.best_params_\n",
    "print(\"Best Parameters:\", best_params)"
   ]
  },
  {
   "cell_type": "markdown",
   "metadata": {},
   "source": [
    "## Picking the best model"
   ]
  },
  {
   "cell_type": "code",
   "execution_count": 9,
   "metadata": {},
   "outputs": [
    {
     "data": {
      "text/plain": [
       "SVC(C=1, kernel='linear', probability=True)"
      ]
     },
     "execution_count": 9,
     "metadata": {},
     "output_type": "execute_result"
    }
   ],
   "source": [
    "best_model = search.best_estimator_\n",
    "best_model"
   ]
  },
  {
   "cell_type": "markdown",
   "metadata": {},
   "source": [
    "## Quick check on all the models"
   ]
  },
  {
   "cell_type": "code",
   "execution_count": 10,
   "metadata": {},
   "outputs": [
    {
     "data": {
      "text/plain": [
       "{'mean_fit_time': array([16.15889826, 14.48498654, 15.59637041, 13.79011827, 34.70225506,\n",
       "        34.75768394, 33.54400177, 32.29973745, 36.58961825, 34.21482162,\n",
       "        31.93121161, 34.29552317, 32.71017308, 34.59387436, 32.94646916,\n",
       "        32.52998996, 32.94589157, 33.49108391, 36.9112371 , 35.51486201,\n",
       "        37.86233778, 31.41406131, 37.48963981, 33.53584523, 33.64278955,\n",
       "        33.29614344, 35.01282706, 35.30638905, 32.83690438, 33.50668731,\n",
       "        33.92349353, 37.0889864 , 30.27378068, 37.90372343, 31.41562634,\n",
       "        33.92261662, 32.5865922 , 32.46415339, 33.40936995, 23.98224583]),\n",
       " 'std_fit_time': array([2.46945488, 1.94415691, 3.0843986 , 3.01355808, 4.21169444,\n",
       "        6.54385941, 5.53769498, 5.16972067, 4.78335914, 5.4631208 ,\n",
       "        4.81344818, 4.41190604, 3.53793979, 3.15895619, 2.49188693,\n",
       "        2.96895598, 2.64621997, 3.53388349, 4.39116041, 4.96613453,\n",
       "        3.53435235, 1.95807669, 3.50274656, 5.23571603, 5.30259124,\n",
       "        2.90836925, 4.30195164, 3.05574665, 2.9479107 , 2.85821222,\n",
       "        3.52929106, 2.2107067 , 4.31694407, 2.97649152, 1.78576578,\n",
       "        2.22948211, 2.25078324, 1.21693462, 1.84653318, 7.02282501]),\n",
       " 'mean_score_time': array([0.71409144, 0.67359138, 0.75338097, 0.67063756, 2.46083221,\n",
       "        2.4652019 , 2.73151851, 2.43213124, 2.56202731, 2.87496758,\n",
       "        2.65955396, 2.33515429, 2.50709395, 2.61274714, 2.49185314,\n",
       "        2.57992883, 2.42532372, 2.52275634, 2.64961581, 2.96121655,\n",
       "        2.61170983, 2.70510707, 2.83635192, 2.93116298, 2.31165056,\n",
       "        2.70509539, 2.79156976, 2.6855793 , 2.71110044, 2.64498773,\n",
       "        2.28396559, 2.51656251, 2.52477145, 2.86572695, 2.51659203,\n",
       "        2.58261075, 2.70340381, 2.29747987, 2.39591603, 1.08975625]),\n",
       " 'std_score_time': array([0.17068192, 0.1608861 , 0.15293327, 0.13510712, 0.50096682,\n",
       "        0.54764232, 0.4690352 , 0.47399712, 0.45837596, 0.3122534 ,\n",
       "        0.50250095, 0.28972656, 0.35585778, 0.21492297, 0.24611451,\n",
       "        0.20877968, 0.23904098, 0.37590499, 0.41107815, 0.8640996 ,\n",
       "        0.78746996, 0.52709334, 0.72002546, 0.63601886, 0.44826641,\n",
       "        0.392693  , 0.44421381, 0.42202007, 0.60238798, 0.4505676 ,\n",
       "        0.55606677, 0.50801586, 0.60482858, 0.27644176, 0.26154607,\n",
       "        0.30285124, 0.29351053, 0.1207707 , 0.3670011 , 0.56874647]),\n",
       " 'param_C': masked_array(data=[1, 10, 100, 1000, 1, 1, 1, 1, 1, 1, 1, 1, 1, 10, 10,\n",
       "                    10, 10, 10, 10, 10, 10, 10, 100, 100, 100, 100, 100,\n",
       "                    100, 100, 100, 100, 1000, 1000, 1000, 1000, 1000, 1000,\n",
       "                    1000, 1000, 1000],\n",
       "              mask=[False, False, False, False, False, False, False, False,\n",
       "                    False, False, False, False, False, False, False, False,\n",
       "                    False, False, False, False, False, False, False, False,\n",
       "                    False, False, False, False, False, False, False, False,\n",
       "                    False, False, False, False, False, False, False, False],\n",
       "        fill_value='?',\n",
       "             dtype=object),\n",
       " 'param_kernel': masked_array(data=['linear', 'linear', 'linear', 'linear', 'rbf', 'rbf',\n",
       "                    'rbf', 'rbf', 'rbf', 'rbf', 'rbf', 'rbf', 'rbf', 'rbf',\n",
       "                    'rbf', 'rbf', 'rbf', 'rbf', 'rbf', 'rbf', 'rbf', 'rbf',\n",
       "                    'rbf', 'rbf', 'rbf', 'rbf', 'rbf', 'rbf', 'rbf', 'rbf',\n",
       "                    'rbf', 'rbf', 'rbf', 'rbf', 'rbf', 'rbf', 'rbf', 'rbf',\n",
       "                    'rbf', 'rbf'],\n",
       "              mask=[False, False, False, False, False, False, False, False,\n",
       "                    False, False, False, False, False, False, False, False,\n",
       "                    False, False, False, False, False, False, False, False,\n",
       "                    False, False, False, False, False, False, False, False,\n",
       "                    False, False, False, False, False, False, False, False],\n",
       "        fill_value='?',\n",
       "             dtype=object),\n",
       " 'param_gamma': masked_array(data=[--, --, --, --, 0.1, 0.2, 0.3, 0.4, 0.5, 0.6, 0.7, 0.8,\n",
       "                    0.9, 0.1, 0.2, 0.3, 0.4, 0.5, 0.6, 0.7, 0.8, 0.9, 0.1,\n",
       "                    0.2, 0.3, 0.4, 0.5, 0.6, 0.7, 0.8, 0.9, 0.1, 0.2, 0.3,\n",
       "                    0.4, 0.5, 0.6, 0.7, 0.8, 0.9],\n",
       "              mask=[ True,  True,  True,  True, False, False, False, False,\n",
       "                    False, False, False, False, False, False, False, False,\n",
       "                    False, False, False, False, False, False, False, False,\n",
       "                    False, False, False, False, False, False, False, False,\n",
       "                    False, False, False, False, False, False, False, False],\n",
       "        fill_value='?',\n",
       "             dtype=object),\n",
       " 'params': [{'C': 1, 'kernel': 'linear'},\n",
       "  {'C': 10, 'kernel': 'linear'},\n",
       "  {'C': 100, 'kernel': 'linear'},\n",
       "  {'C': 1000, 'kernel': 'linear'},\n",
       "  {'C': 1, 'gamma': 0.1, 'kernel': 'rbf'},\n",
       "  {'C': 1, 'gamma': 0.2, 'kernel': 'rbf'},\n",
       "  {'C': 1, 'gamma': 0.3, 'kernel': 'rbf'},\n",
       "  {'C': 1, 'gamma': 0.4, 'kernel': 'rbf'},\n",
       "  {'C': 1, 'gamma': 0.5, 'kernel': 'rbf'},\n",
       "  {'C': 1, 'gamma': 0.6, 'kernel': 'rbf'},\n",
       "  {'C': 1, 'gamma': 0.7, 'kernel': 'rbf'},\n",
       "  {'C': 1, 'gamma': 0.8, 'kernel': 'rbf'},\n",
       "  {'C': 1, 'gamma': 0.9, 'kernel': 'rbf'},\n",
       "  {'C': 10, 'gamma': 0.1, 'kernel': 'rbf'},\n",
       "  {'C': 10, 'gamma': 0.2, 'kernel': 'rbf'},\n",
       "  {'C': 10, 'gamma': 0.3, 'kernel': 'rbf'},\n",
       "  {'C': 10, 'gamma': 0.4, 'kernel': 'rbf'},\n",
       "  {'C': 10, 'gamma': 0.5, 'kernel': 'rbf'},\n",
       "  {'C': 10, 'gamma': 0.6, 'kernel': 'rbf'},\n",
       "  {'C': 10, 'gamma': 0.7, 'kernel': 'rbf'},\n",
       "  {'C': 10, 'gamma': 0.8, 'kernel': 'rbf'},\n",
       "  {'C': 10, 'gamma': 0.9, 'kernel': 'rbf'},\n",
       "  {'C': 100, 'gamma': 0.1, 'kernel': 'rbf'},\n",
       "  {'C': 100, 'gamma': 0.2, 'kernel': 'rbf'},\n",
       "  {'C': 100, 'gamma': 0.3, 'kernel': 'rbf'},\n",
       "  {'C': 100, 'gamma': 0.4, 'kernel': 'rbf'},\n",
       "  {'C': 100, 'gamma': 0.5, 'kernel': 'rbf'},\n",
       "  {'C': 100, 'gamma': 0.6, 'kernel': 'rbf'},\n",
       "  {'C': 100, 'gamma': 0.7, 'kernel': 'rbf'},\n",
       "  {'C': 100, 'gamma': 0.8, 'kernel': 'rbf'},\n",
       "  {'C': 100, 'gamma': 0.9, 'kernel': 'rbf'},\n",
       "  {'C': 1000, 'gamma': 0.1, 'kernel': 'rbf'},\n",
       "  {'C': 1000, 'gamma': 0.2, 'kernel': 'rbf'},\n",
       "  {'C': 1000, 'gamma': 0.3, 'kernel': 'rbf'},\n",
       "  {'C': 1000, 'gamma': 0.4, 'kernel': 'rbf'},\n",
       "  {'C': 1000, 'gamma': 0.5, 'kernel': 'rbf'},\n",
       "  {'C': 1000, 'gamma': 0.6, 'kernel': 'rbf'},\n",
       "  {'C': 1000, 'gamma': 0.7, 'kernel': 'rbf'},\n",
       "  {'C': 1000, 'gamma': 0.8, 'kernel': 'rbf'},\n",
       "  {'C': 1000, 'gamma': 0.9, 'kernel': 'rbf'}],\n",
       " 'split0_test_score': array([0.90909091, 0.90909091, 0.90909091, 0.90909091, 0.8030303 ,\n",
       "        0.8030303 , 0.8030303 , 0.8030303 , 0.8030303 , 0.8030303 ,\n",
       "        0.8030303 , 0.8030303 , 0.8030303 , 0.8030303 , 0.8030303 ,\n",
       "        0.8030303 , 0.8030303 , 0.8030303 , 0.8030303 , 0.8030303 ,\n",
       "        0.8030303 , 0.8030303 , 0.8030303 , 0.8030303 , 0.8030303 ,\n",
       "        0.8030303 , 0.8030303 , 0.8030303 , 0.8030303 , 0.8030303 ,\n",
       "        0.8030303 , 0.8030303 , 0.8030303 , 0.8030303 , 0.8030303 ,\n",
       "        0.8030303 , 0.8030303 , 0.8030303 , 0.8030303 , 0.8030303 ]),\n",
       " 'split1_test_score': array([0.96969697, 0.96969697, 0.96969697, 0.96969697, 0.8030303 ,\n",
       "        0.8030303 , 0.8030303 , 0.8030303 , 0.8030303 , 0.8030303 ,\n",
       "        0.8030303 , 0.8030303 , 0.8030303 , 0.8030303 , 0.8030303 ,\n",
       "        0.8030303 , 0.8030303 , 0.8030303 , 0.8030303 , 0.8030303 ,\n",
       "        0.8030303 , 0.8030303 , 0.8030303 , 0.8030303 , 0.8030303 ,\n",
       "        0.8030303 , 0.8030303 , 0.8030303 , 0.8030303 , 0.8030303 ,\n",
       "        0.8030303 , 0.8030303 , 0.8030303 , 0.8030303 , 0.8030303 ,\n",
       "        0.8030303 , 0.8030303 , 0.8030303 , 0.8030303 , 0.8030303 ]),\n",
       " 'split2_test_score': array([0.90909091, 0.90909091, 0.90909091, 0.90909091, 0.8030303 ,\n",
       "        0.8030303 , 0.8030303 , 0.8030303 , 0.8030303 , 0.8030303 ,\n",
       "        0.8030303 , 0.8030303 , 0.8030303 , 0.8030303 , 0.8030303 ,\n",
       "        0.8030303 , 0.8030303 , 0.8030303 , 0.8030303 , 0.8030303 ,\n",
       "        0.8030303 , 0.8030303 , 0.8030303 , 0.8030303 , 0.8030303 ,\n",
       "        0.8030303 , 0.8030303 , 0.8030303 , 0.8030303 , 0.8030303 ,\n",
       "        0.8030303 , 0.8030303 , 0.8030303 , 0.8030303 , 0.8030303 ,\n",
       "        0.8030303 , 0.8030303 , 0.8030303 , 0.8030303 , 0.8030303 ]),\n",
       " 'split3_test_score': array([0.90909091, 0.90909091, 0.90909091, 0.90909091, 0.8030303 ,\n",
       "        0.8030303 , 0.8030303 , 0.8030303 , 0.8030303 , 0.8030303 ,\n",
       "        0.8030303 , 0.8030303 , 0.8030303 , 0.8030303 , 0.8030303 ,\n",
       "        0.8030303 , 0.8030303 , 0.8030303 , 0.8030303 , 0.8030303 ,\n",
       "        0.8030303 , 0.8030303 , 0.8030303 , 0.8030303 , 0.8030303 ,\n",
       "        0.8030303 , 0.8030303 , 0.8030303 , 0.8030303 , 0.8030303 ,\n",
       "        0.8030303 , 0.8030303 , 0.8030303 , 0.8030303 , 0.8030303 ,\n",
       "        0.8030303 , 0.8030303 , 0.8030303 , 0.8030303 , 0.8030303 ]),\n",
       " 'split4_test_score': array([0.95384615, 0.95384615, 0.95384615, 0.95384615, 0.81538462,\n",
       "        0.81538462, 0.81538462, 0.81538462, 0.81538462, 0.81538462,\n",
       "        0.81538462, 0.81538462, 0.81538462, 0.81538462, 0.81538462,\n",
       "        0.81538462, 0.81538462, 0.81538462, 0.81538462, 0.81538462,\n",
       "        0.81538462, 0.81538462, 0.81538462, 0.81538462, 0.81538462,\n",
       "        0.81538462, 0.81538462, 0.81538462, 0.81538462, 0.81538462,\n",
       "        0.81538462, 0.81538462, 0.81538462, 0.81538462, 0.81538462,\n",
       "        0.81538462, 0.81538462, 0.81538462, 0.81538462, 0.81538462]),\n",
       " 'mean_test_score': array([0.93016317, 0.93016317, 0.93016317, 0.93016317, 0.80550117,\n",
       "        0.80550117, 0.80550117, 0.80550117, 0.80550117, 0.80550117,\n",
       "        0.80550117, 0.80550117, 0.80550117, 0.80550117, 0.80550117,\n",
       "        0.80550117, 0.80550117, 0.80550117, 0.80550117, 0.80550117,\n",
       "        0.80550117, 0.80550117, 0.80550117, 0.80550117, 0.80550117,\n",
       "        0.80550117, 0.80550117, 0.80550117, 0.80550117, 0.80550117,\n",
       "        0.80550117, 0.80550117, 0.80550117, 0.80550117, 0.80550117,\n",
       "        0.80550117, 0.80550117, 0.80550117, 0.80550117, 0.80550117]),\n",
       " 'std_test_score': array([0.0262904 , 0.0262904 , 0.0262904 , 0.0262904 , 0.00494172,\n",
       "        0.00494172, 0.00494172, 0.00494172, 0.00494172, 0.00494172,\n",
       "        0.00494172, 0.00494172, 0.00494172, 0.00494172, 0.00494172,\n",
       "        0.00494172, 0.00494172, 0.00494172, 0.00494172, 0.00494172,\n",
       "        0.00494172, 0.00494172, 0.00494172, 0.00494172, 0.00494172,\n",
       "        0.00494172, 0.00494172, 0.00494172, 0.00494172, 0.00494172,\n",
       "        0.00494172, 0.00494172, 0.00494172, 0.00494172, 0.00494172,\n",
       "        0.00494172, 0.00494172, 0.00494172, 0.00494172, 0.00494172]),\n",
       " 'rank_test_score': array([1, 1, 1, 1, 5, 5, 5, 5, 5, 5, 5, 5, 5, 5, 5, 5, 5, 5, 5, 5, 5, 5,\n",
       "        5, 5, 5, 5, 5, 5, 5, 5, 5, 5, 5, 5, 5, 5, 5, 5, 5, 5])}"
      ]
     },
     "execution_count": 10,
     "metadata": {},
     "output_type": "execute_result"
    }
   ],
   "source": [
    "search.cv_results_"
   ]
  },
  {
   "cell_type": "markdown",
   "metadata": {},
   "source": [
    "## Evaluating the best model"
   ]
  },
  {
   "cell_type": "code",
   "execution_count": 11,
   "metadata": {},
   "outputs": [
    {
     "name": "stdout",
     "output_type": "stream",
     "text": [
      "Best Score: 0.9301631701631703\n"
     ]
    }
   ],
   "source": [
    "best_score = search.best_score_     # this is accuracy score\n",
    "print(\"Best Score:\", best_score)    "
   ]
  },
  {
   "cell_type": "markdown",
   "metadata": {},
   "source": [
    "### Test accuracy"
   ]
  },
  {
   "cell_type": "code",
   "execution_count": 12,
   "metadata": {},
   "outputs": [
    {
     "name": "stdout",
     "output_type": "stream",
     "text": [
      "Test Set Accuracy: 0.927710843373494\n"
     ]
    }
   ],
   "source": [
    "from sklearn.metrics import accuracy_score\n",
    "\n",
    "y_pred_test = best_model.predict(X_test)\n",
    "test_accuracy = accuracy_score(y_test, y_pred_test)\n",
    "print(\"Test Set Accuracy:\", test_accuracy)"
   ]
  },
  {
   "cell_type": "markdown",
   "metadata": {},
   "source": [
    "### AUC score"
   ]
  },
  {
   "cell_type": "code",
   "execution_count": 13,
   "metadata": {},
   "outputs": [
    {
     "name": "stdout",
     "output_type": "stream",
     "text": [
      "AUC Score: 0.8600746268656717\n"
     ]
    }
   ],
   "source": [
    "from sklearn.metrics import roc_auc_score\n",
    "\n",
    "auc_score = roc_auc_score(y_test, y_pred_test)\n",
    "print(\"AUC Score:\", auc_score)"
   ]
  },
  {
   "cell_type": "markdown",
   "metadata": {},
   "source": [
    "### ROC curve"
   ]
  },
  {
   "cell_type": "code",
   "execution_count": 14,
   "metadata": {},
   "outputs": [
    {
     "data": {
      "image/png": "[encoded data removed]",
      "text/plain": [
       "<Figure size 576x432 with 1 Axes>"
      ]
     },
     "metadata": {
      "needs_background": "light"
     },
     "output_type": "display_data"
    }
   ],
   "source": [
    "from sklearn.metrics import roc_curve\n",
    "\n",
    "fpr, tpr, thresholds = roc_curve(y_test, y_pred_test)\n",
    "\n",
    "plt.figure(figsize=(8, 6))\n",
    "plt.plot(fpr, tpr, label='ROC Curve')\n",
    "plt.plot([0, 1], [0, 1], linestyle='--', label='Random')\n",
    "plt.xlabel('False Positive Rate')\n",
    "plt.ylabel('True Positive Rate')\n",
    "plt.title('Receiver Operating Characteristic (ROC) Curve')\n",
    "plt.legend()\n",
    "plt.show()"
   ]
  },
  {
   "cell_type": "markdown",
   "metadata": {},
   "source": [
    "## Confusion matrix"
   ]
  },
  {
   "cell_type": "code",
   "execution_count": 5,
   "metadata": {},
   "outputs": [
    {
     "data": {
      "text/plain": [
       "array([[12,  4],\n",
       "       [ 2, 65]], dtype=int64)"
      ]
     },
     "execution_count": 5,
     "metadata": {},
     "output_type": "execute_result"
    }
   ],
   "source": [
    "from sklearn.metrics import confusion_matrix\n",
    "\n",
    "confusion_matrix(y_test, y_pred_test)"
   ]
  },
  {
   "cell_type": "markdown",
   "metadata": {},
   "source": [
    "## Saving the model"
   ]
  },
  {
   "cell_type": "code",
   "execution_count": 18,
   "metadata": {},
   "outputs": [],
   "source": [
    "dict = {\n",
    "    'Model': best_model,\n",
    "    'Best Parameters': best_params,\n",
    "    'Training Set Accuracy': best_score,\n",
    "    'Test Set Accuracy': test_accuracy,\n",
    "    'AUC Score': auc_score\n",
    "}\n",
    "\n",
    "# save the dictionary to a pickle file\n",
    "import pickle\n",
    "\n",
    "with open('svm_all_dim.pkl', 'wb') as f:\n",
    "    pickle.dump(dict, f)"
   ]
  },
  {
   "cell_type": "code",
   "execution_count": 19,
   "metadata": {},
   "outputs": [],
   "source": [
    "# save all the data\n",
    "\n",
    "with open('../Data/X_train.pkl', 'wb') as f:\n",
    "    pickle.dump(X_train, f)\n",
    "\n",
    "with open('../Data/X_test.pkl', 'wb') as f:\n",
    "    pickle.dump(X_test, f)\n",
    "\n",
    "with open('../Data/y_train.pkl', 'wb') as f:\n",
    "    pickle.dump(y_train, f)\n",
    "\n",
    "with open('../Data/y_test.pkl', 'wb') as f:\n",
    "    pickle.dump(y_test, f)"
   ]
  },
  {
   "cell_type": "code",
   "execution_count": 1,
   "metadata": {},
   "outputs": [
    {
     "name": "stdout",
     "output_type": "stream",
     "text": [
      "{'Model': SVC(C=1, kernel='linear', probability=True), 'Best Parameters': {'C': 1, 'kernel': 'linear'}, 'Training Set Accuracy': 0.9301631701631703, 'Test Set Accuracy': 0.927710843373494, 'AUC Score': 0.8600746268656717}\n"
     ]
    }
   ],
   "source": [
    "import pickle\n",
    "\n",
    "with open('svm_all_dim.pkl', 'rb') as f:\n",
    "    dict = pickle.load(f)\n",
    "\n",
    "print(dict)"
   ]
  }
 ],
 "metadata": {
  "kernelspec": {
   "display_name": "Python 3",
   "language": "python",
   "name": "python3"
  },
  "language_info": {
   "codemirror_mode": {
    "name": "ipython",
    "version": 3
   },
   "file_extension": ".py",
   "mimetype": "text/x-python",
   "name": "python",
   "nbconvert_exporter": "python",
   "pygments_lexer": "ipython3",
   "version": "3.7.4"
  }
 },
 "nbformat": 4,
 "nbformat_minor": 2
}
