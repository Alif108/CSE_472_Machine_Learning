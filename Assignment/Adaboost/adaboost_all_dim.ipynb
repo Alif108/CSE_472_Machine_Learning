{
 "cells": [
  {
   "cell_type": "code",
   "execution_count": 1,
   "metadata": {},
   "outputs": [],
   "source": [
    "import pandas as pd\n",
    "import numpy as np\n",
    "import matplotlib.pyplot as plt\n",
    "import pickle"
   ]
  },
  {
   "cell_type": "code",
   "execution_count": 2,
   "metadata": {},
   "outputs": [
    {
     "name": "stdout",
     "output_type": "stream",
     "text": [
      "(329, 20530)\n",
      "(83, 20530)\n",
      "(329,)\n",
      "(83,)\n"
     ]
    }
   ],
   "source": [
    "X_train = pickle.load(open('../Data/X_train.pkl', 'rb'))\n",
    "X_test = pickle.load(open('../Data/X_test.pkl', 'rb'))\n",
    "y_train = pickle.load(open('../Data/y_train.pkl', 'rb'))\n",
    "y_test = pickle.load(open('../Data/y_test.pkl', 'rb'))\n",
    "\n",
    "print(X_train.shape)\n",
    "print(X_test.shape)\n",
    "print(y_train.shape)\n",
    "print(y_test.shape)"
   ]
  },
  {
   "cell_type": "code",
   "execution_count": 5,
   "metadata": {},
   "outputs": [
    {
     "name": "stdout",
     "output_type": "stream",
     "text": [
      "Fitting 3 folds for each of 12 candidates, totalling 36 fits\n"
     ]
    },
    {
     "data": {
      "text/plain": [
       "GridSearchCV(cv=3, estimator=AdaBoostClassifier(random_state=42), n_jobs=-1,\n",
       "             param_grid={'learning_rate': [0.1, 0.5, 1.0],\n",
       "                         'n_estimators': [100, 200, 300, 500]},\n",
       "             verbose=2)"
      ]
     },
     "execution_count": 5,
     "metadata": {},
     "output_type": "execute_result"
    }
   ],
   "source": [
    "from sklearn.ensemble import AdaBoostClassifier\n",
    "from sklearn.model_selection import GridSearchCV\n",
    "\n",
    "param_grid = {\n",
    "    'n_estimators': [100, 200, 300, 500],\n",
    "    'learning_rate': [0.1, 0.5, 1.0]\n",
    "}\n",
    "\n",
    "ada = AdaBoostClassifier(random_state=42)\n",
    "\n",
    "grid_search = GridSearchCV(estimator=ada, param_grid=param_grid, cv=3, n_jobs=-1, verbose=2)\n",
    "\n",
    "grid_search.fit(X_train, y_train)"
   ]
  },
  {
   "cell_type": "code",
   "execution_count": 6,
   "metadata": {},
   "outputs": [
    {
     "name": "stdout",
     "output_type": "stream",
     "text": [
      "Best parameters:  {'learning_rate': 1.0, 'n_estimators': 200}\n",
      "Train accuracy:  0.9453433416736169\n",
      "Test accuracy:  0.927710843373494\n"
     ]
    }
   ],
   "source": [
    "print(\"Best parameters: \", grid_search.best_params_)\n",
    "print(\"Train accuracy: \", grid_search.best_score_)\n",
    "print(\"Test accuracy: \", grid_search.score(X_test, y_test))"
   ]
  },
  {
   "cell_type": "code",
   "execution_count": 7,
   "metadata": {},
   "outputs": [
    {
     "data": {
      "text/plain": [
       "AdaBoostClassifier(n_estimators=200, random_state=42)"
      ]
     },
     "execution_count": 7,
     "metadata": {},
     "output_type": "execute_result"
    }
   ],
   "source": [
    "best_model = grid_search.best_estimator_\n",
    "best_model"
   ]
  },
  {
   "cell_type": "code",
   "execution_count": 8,
   "metadata": {},
   "outputs": [
    {
     "data": {
      "text/plain": [
       "{'mean_fit_time': array([112.28133599, 226.20367352, 345.17779001, 579.73640426,\n",
       "        118.77217309, 234.33077089, 344.38011845, 580.17036144,\n",
       "        114.52028362, 233.86250575, 336.56276091, 384.27455632]),\n",
       " 'std_fit_time': array([ 0.75209211,  1.55703464,  4.74155064,  2.24912395,  2.32952189,\n",
       "         2.50238714,  2.40806005,  4.77646632,  2.11714147,  4.33862807,\n",
       "        20.10197774, 31.40091754]),\n",
       " 'mean_score_time': array([ 1.95578098,  5.38269687,  6.74633853, 10.23244842,  2.24116381,\n",
       "         5.15139246,  6.46629723, 10.45200364,  2.22610005,  4.43413178,\n",
       "         5.04363664,  5.36016488]),\n",
       " 'std_score_time': array([0.01883722, 0.3278498 , 0.33363815, 0.18009726, 0.08448084,\n",
       "        0.61836316, 0.12950585, 0.2499949 , 0.23579889, 0.35426054,\n",
       "        0.83351372, 0.35776172]),\n",
       " 'param_learning_rate': masked_array(data=[0.1, 0.1, 0.1, 0.1, 0.5, 0.5, 0.5, 0.5, 1.0, 1.0, 1.0,\n",
       "                    1.0],\n",
       "              mask=[False, False, False, False, False, False, False, False,\n",
       "                    False, False, False, False],\n",
       "        fill_value='?',\n",
       "             dtype=object),\n",
       " 'param_n_estimators': masked_array(data=[100, 200, 300, 500, 100, 200, 300, 500, 100, 200, 300,\n",
       "                    500],\n",
       "              mask=[False, False, False, False, False, False, False, False,\n",
       "                    False, False, False, False],\n",
       "        fill_value='?',\n",
       "             dtype=object),\n",
       " 'params': [{'learning_rate': 0.1, 'n_estimators': 100},\n",
       "  {'learning_rate': 0.1, 'n_estimators': 200},\n",
       "  {'learning_rate': 0.1, 'n_estimators': 300},\n",
       "  {'learning_rate': 0.1, 'n_estimators': 500},\n",
       "  {'learning_rate': 0.5, 'n_estimators': 100},\n",
       "  {'learning_rate': 0.5, 'n_estimators': 200},\n",
       "  {'learning_rate': 0.5, 'n_estimators': 300},\n",
       "  {'learning_rate': 0.5, 'n_estimators': 500},\n",
       "  {'learning_rate': 1.0, 'n_estimators': 100},\n",
       "  {'learning_rate': 1.0, 'n_estimators': 200},\n",
       "  {'learning_rate': 1.0, 'n_estimators': 300},\n",
       "  {'learning_rate': 1.0, 'n_estimators': 500}],\n",
       " 'split0_test_score': array([0.92727273, 0.93636364, 0.93636364, 0.93636364, 0.93636364,\n",
       "        0.93636364, 0.93636364, 0.92727273, 0.93636364, 0.93636364,\n",
       "        0.93636364, 0.93636364]),\n",
       " 'split1_test_score': array([0.92727273, 0.94545455, 0.94545455, 0.94545455, 0.94545455,\n",
       "        0.93636364, 0.92727273, 0.93636364, 0.95454545, 0.93636364,\n",
       "        0.92727273, 0.93636364]),\n",
       " 'split2_test_score': array([0.95412844, 0.94495413, 0.94495413, 0.93577982, 0.91743119,\n",
       "        0.9266055 , 0.95412844, 0.95412844, 0.93577982, 0.96330275,\n",
       "        0.94495413, 0.94495413]),\n",
       " 'mean_test_score': array([0.93622463, 0.94225744, 0.94225744, 0.93919933, 0.93308312,\n",
       "        0.93311093, 0.93925493, 0.93925493, 0.94222964, 0.94534334,\n",
       "        0.93619683, 0.93922713]),\n",
       " 'std_test_score': array([0.0126599 , 0.00417255, 0.00417255, 0.00442952, 0.01167329,\n",
       "        0.00460003, 0.01115279, 0.01115279, 0.00871186, 0.01269922,\n",
       "        0.00721937, 0.0040496 ]),\n",
       " 'rank_test_score': array([ 9,  2,  2,  8, 12, 11,  5,  5,  4,  1, 10,  7])}"
      ]
     },
     "execution_count": 8,
     "metadata": {},
     "output_type": "execute_result"
    }
   ],
   "source": [
    "grid_search.cv_results_"
   ]
  },
  {
   "cell_type": "code",
   "execution_count": 9,
   "metadata": {},
   "outputs": [
    {
     "name": "stdout",
     "output_type": "stream",
     "text": [
      "Test Set Accuracy: 0.927710843373494\n"
     ]
    }
   ],
   "source": [
    "from sklearn.metrics import accuracy_score\n",
    "\n",
    "y_pred_test = best_model.predict(X_test)\n",
    "test_accuracy = accuracy_score(y_test, y_pred_test)\n",
    "print(\"Test Set Accuracy:\", test_accuracy)"
   ]
  },
  {
   "cell_type": "code",
   "execution_count": 10,
   "metadata": {},
   "outputs": [
    {
     "name": "stdout",
     "output_type": "stream",
     "text": [
      "AUC Score: 0.8838619402985075\n"
     ]
    }
   ],
   "source": [
    "from sklearn.metrics import roc_auc_score\n",
    "\n",
    "auc_score = roc_auc_score(y_test, y_pred_test)\n",
    "print(\"AUC Score:\", auc_score)"
   ]
  },
  {
   "cell_type": "code",
   "execution_count": 11,
   "metadata": {},
   "outputs": [
    {
     "data": {
      "image/png": "[encoded data removed]",
      "text/plain": [
       "<Figure size 576x432 with 1 Axes>"
      ]
     },
     "metadata": {
      "needs_background": "light"
     },
     "output_type": "display_data"
    }
   ],
   "source": [
    "from sklearn.metrics import roc_curve\n",
    "\n",
    "fpr, tpr, thresholds = roc_curve(y_test, y_pred_test)\n",
    "\n",
    "plt.figure(figsize=(8, 6))\n",
    "plt.plot(fpr, tpr, label='ROC Curve')\n",
    "plt.plot([0, 1], [0, 1], linestyle='--', label='Random')\n",
    "plt.xlabel('False Positive Rate')\n",
    "plt.ylabel('True Positive Rate')\n",
    "plt.title('Receiver Operating Characteristic (ROC) Curve')\n",
    "plt.legend()\n",
    "plt.show()"
   ]
  },
  {
   "cell_type": "code",
   "execution_count": 12,
   "metadata": {},
   "outputs": [
    {
     "name": "stdout",
     "output_type": "stream",
     "text": [
      "[[13  3]\n",
      " [ 3 64]]\n",
      "              precision    recall  f1-score   support\n",
      "\n",
      "           0       0.81      0.81      0.81        16\n",
      "           1       0.96      0.96      0.96        67\n",
      "\n",
      "    accuracy                           0.93        83\n",
      "   macro avg       0.88      0.88      0.88        83\n",
      "weighted avg       0.93      0.93      0.93        83\n",
      "\n"
     ]
    }
   ],
   "source": [
    "from sklearn.metrics import confusion_matrix, classification_report\n",
    "\n",
    "print(confusion_matrix(y_test, y_pred_test))\n",
    "print(classification_report(y_test, y_pred_test))"
   ]
  },
  {
   "cell_type": "code",
   "execution_count": 13,
   "metadata": {},
   "outputs": [],
   "source": [
    "dict = {\n",
    "    'Model': grid_search.best_estimator_,\n",
    "    'Best Parameters': grid_search.best_params_,\n",
    "    'Training Set Accuracy': grid_search.best_score_,\n",
    "    'Test Set Accuracy': test_accuracy,\n",
    "    'AUC Score': auc_score\n",
    "}\n",
    "\n",
    "# save the dictionary to a pickle file\n",
    "import pickle\n",
    "\n",
    "with open('adaboost_all_dim.pkl', 'wb') as f:\n",
    "    pickle.dump(dict, f)"
   ]
  },
  {
   "cell_type": "code",
   "execution_count": 14,
   "metadata": {},
   "outputs": [
    {
     "data": {
      "text/plain": [
       "{'Model': AdaBoostClassifier(n_estimators=200, random_state=42),\n",
       " 'Best Parameters': {'learning_rate': 1.0, 'n_estimators': 200},\n",
       " 'Training Set Accuracy': 0.9453433416736169,\n",
       " 'Test Set Accuracy': 0.927710843373494,\n",
       " 'AUC Score': 0.8838619402985075}"
      ]
     },
     "execution_count": 14,
     "metadata": {},
     "output_type": "execute_result"
    }
   ],
   "source": [
    "import pickle\n",
    "\n",
    "dct = pickle.load(open('adaboost_all_dim.pkl', 'rb'))\n",
    "dct"
   ]
  },
  {
   "cell_type": "code",
   "execution_count": null,
   "metadata": {},
   "outputs": [],
   "source": []
  }
 ],
 "metadata": {
  "kernelspec": {
   "display_name": "Python 3",
   "language": "python",
   "name": "python3"
  },
  "language_info": {
   "codemirror_mode": {
    "name": "ipython",
    "version": 3
   },
   "file_extension": ".py",
   "mimetype": "text/x-python",
   "name": "python",
   "nbconvert_exporter": "python",
   "pygments_lexer": "ipython3",
   "version": "3.7.4"
  }
 },
 "nbformat": 4,
 "nbformat_minor": 2
}
