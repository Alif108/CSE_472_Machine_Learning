{
 "cells": [
  {
   "cell_type": "code",
   "execution_count": 1,
   "metadata": {},
   "outputs": [],
   "source": [
    "import numpy as np\n",
    "import torch\n",
    "import torch.nn as nn\n",
    "import torch.optim as optim\n",
    "import pandas as pd\n",
    "import pickle"
   ]
  },
  {
   "cell_type": "markdown",
   "metadata": {},
   "source": [
    "## Load Dataset"
   ]
  },
  {
   "cell_type": "code",
   "execution_count": 2,
   "metadata": {},
   "outputs": [
    {
     "name": "stdout",
     "output_type": "stream",
     "text": [
      "(329, 20530)\n",
      "(329,)\n",
      "(83, 20530)\n",
      "(83,)\n"
     ]
    }
   ],
   "source": [
    "X_train = pickle.load(open('../Data/X_train.pkl', 'rb'))\n",
    "y_train = pickle.load(open('../Data/y_train.pkl', 'rb'))\n",
    "X_test = pickle.load(open('../Data/X_test.pkl', 'rb'))\n",
    "y_test = pickle.load(open('../Data/y_test.pkl', 'rb'))\n",
    "\n",
    "print(X_train.shape)\n",
    "print(y_train.shape)\n",
    "print(X_test.shape)\n",
    "print(y_test.shape)"
   ]
  },
  {
   "cell_type": "markdown",
   "metadata": {},
   "source": [
    "## Standardize Data"
   ]
  },
  {
   "cell_type": "code",
   "execution_count": 3,
   "metadata": {},
   "outputs": [
    {
     "name": "stdout",
     "output_type": "stream",
     "text": [
      "[[-0.48855657  0.12112708 -0.33372349 ...  0.04735987  0.50779996\n",
      "  -0.02217494]\n",
      " [ 0.83092164  1.17948768 -0.33372349 ...  0.18754437  0.77965228\n",
      "  -0.17205193]\n",
      " [-1.861054   -0.69352094 -0.33372349 ... -0.35346398 -2.00005787\n",
      "   3.63814136]\n",
      " ...\n",
      " [ 1.50287947  0.88173571  0.1048791  ... -0.33180584  0.91213697\n",
      "  -0.14253948]\n",
      " [-0.06583194  0.60359346 -0.33372349 ...  0.20030191  0.44110666\n",
      "  -1.31512921]\n",
      " [-0.87784052 -0.01478846 -0.33372349 ...  0.12805867  1.46177518\n",
      "  -0.6430939 ]]\n"
     ]
    }
   ],
   "source": [
    "# standardize the data\n",
    "from sklearn.preprocessing import StandardScaler\n",
    "\n",
    "scaler = StandardScaler()\n",
    "scaler.fit(X_train)\n",
    "X_train = scaler.transform(X_train)\n",
    "X_test = scaler.transform(X_test)\n",
    "\n",
    "print(X_train)"
   ]
  },
  {
   "cell_type": "code",
   "execution_count": 4,
   "metadata": {},
   "outputs": [
    {
     "data": {
      "text/plain": [
       "device(type='cpu')"
      ]
     },
     "execution_count": 4,
     "metadata": {},
     "output_type": "execute_result"
    }
   ],
   "source": [
    "device = torch.device('cuda:0' if torch.cuda.is_available() else 'cpu')\n",
    "device"
   ]
  },
  {
   "cell_type": "code",
   "execution_count": 5,
   "metadata": {},
   "outputs": [
    {
     "data": {
      "text/plain": [
       "(torch.Size([329, 20530]),\n",
       " torch.Size([83, 20530]),\n",
       " torch.Size([329]),\n",
       " torch.Size([83]))"
      ]
     },
     "execution_count": 5,
     "metadata": {},
     "output_type": "execute_result"
    }
   ],
   "source": [
    "X_train = torch.tensor(X_train, dtype=torch.float32)\n",
    "X_test = torch.tensor(X_test, dtype=torch.float32)\n",
    "y_train = torch.tensor(y_train, dtype=torch.float32)\n",
    "y_test = torch.tensor(y_test, dtype=torch.float32)\n",
    "\n",
    "X_train.shape, X_test.shape, y_train.shape, y_test.shape"
   ]
  },
  {
   "cell_type": "markdown",
   "metadata": {},
   "source": [
    "# Define the model"
   ]
  },
  {
   "cell_type": "code",
   "execution_count": 38,
   "metadata": {},
   "outputs": [],
   "source": [
    "from tqdm import tqdm\n",
    "\n",
    "class DLModel(nn.Module):\n",
    "    def __init__(self, input_size):\n",
    "        super(DLModel, self).__init__()\n",
    "        self.layers = nn.Sequential(\n",
    "            nn.Linear(input_size, 1024),\n",
    "            nn.ReLU(),\n",
    "            nn.Linear(1024, 256),\n",
    "            nn.ReLU(),\n",
    "            nn.Linear(256, 64),\n",
    "            nn.ReLU(),\n",
    "            nn.Linear(64, 1),\n",
    "            nn.Sigmoid()\n",
    "        )\n",
    "\n",
    "    def forward(self, x):\n",
    "        return self.layers(x)\n",
    "    \n",
    "    def fit(self, X, y, epochs, batch_size, lr):\n",
    "        criterion = nn.BCELoss()\n",
    "        optimizer = optim.Adam(self.parameters(), lr=0.001)\n",
    "        \n",
    "        for epoch in tqdm(range(epochs)):\n",
    "        # for epoch in range(epochs):\n",
    "            for i in range(0, X.shape[0], batch_size):\n",
    "\n",
    "                X_batch = X[i:i+batch_size]\n",
    "                y_batch = y[i:i+batch_size]\n",
    "\n",
    "                y_pred = self(X_batch)\n",
    "                loss = criterion(y_pred, y_batch.view(-1, 1))\n",
    "\n",
    "                optimizer.zero_grad()\n",
    "                loss.backward()\n",
    "                optimizer.step()\n",
    "\n",
    "            # print('Epoch: {}, Loss: {}'.format(epoch, loss.item()))\n",
    "\n",
    "    def predict(self, X):\n",
    "        y_pred = self(X)\n",
    "        return y_pred"
   ]
  },
  {
   "cell_type": "code",
   "execution_count": 39,
   "metadata": {},
   "outputs": [],
   "source": [
    "# model parameters\n",
    "input_size = 20530\n",
    "learning_rate = 0.01\n",
    "epochs = 50\n",
    "batch_size = 64"
   ]
  },
  {
   "cell_type": "code",
   "execution_count": 40,
   "metadata": {},
   "outputs": [
    {
     "name": "stderr",
     "output_type": "stream",
     "text": [
      "100%|██████████| 50/50 [00:22<00:00,  2.23it/s]\n"
     ]
    }
   ],
   "source": [
    "model = DLModel(input_size)\n",
    "model.to(device)\n",
    "model.fit(X_train, y_train, epochs, batch_size, learning_rate)"
   ]
  },
  {
   "cell_type": "code",
   "execution_count": 41,
   "metadata": {},
   "outputs": [
    {
     "name": "stdout",
     "output_type": "stream",
     "text": [
      "Test accuracy: 0.9036\n",
      "Test AUC: 0.8927\n"
     ]
    }
   ],
   "source": [
    "from sklearn.metrics import roc_auc_score\n",
    "\n",
    "# test accuracy\n",
    "with torch.no_grad():\n",
    "    y_pred = model.predict(X_test)\n",
    "    y_pred = y_pred.round()\n",
    "    acc = y_pred.eq(y_test.view_as(y_pred)).sum() / float(len(y_test))\n",
    "    print(f'Test accuracy: {acc:.4f}')\n",
    "\n",
    "# test auc\n",
    "with torch.no_grad():\n",
    "    y_pred = model.predict(X_test)\n",
    "    y_pred = y_pred.round()\n",
    "    auc = roc_auc_score(y_test, y_pred)\n",
    "    print(f'Test AUC: {auc:.4f}')"
   ]
  },
  {
   "cell_type": "markdown",
   "metadata": {},
   "source": [
    "## Exhaustive search for components of PCA"
   ]
  },
  {
   "cell_type": "code",
   "execution_count": 59,
   "metadata": {},
   "outputs": [
    {
     "name": "stdout",
     "output_type": "stream",
     "text": [
      "Starting n_components: 5\n"
     ]
    },
    {
     "name": "stderr",
     "output_type": "stream",
     "text": [
      "100%|██████████| 10/10 [00:00<00:00, 22.59it/s]\n"
     ]
    },
    {
     "name": "stdout",
     "output_type": "stream",
     "text": [
      "Train accuracy: 0.9818\n",
      "Test accuracy: 0.8916\n",
      "Test AUC: 0.8377\n",
      "\n",
      "Starting n_components: 10\n"
     ]
    },
    {
     "name": "stderr",
     "output_type": "stream",
     "text": [
      "100%|██████████| 10/10 [00:00<00:00, 21.20it/s]\n"
     ]
    },
    {
     "name": "stdout",
     "output_type": "stream",
     "text": [
      "Train accuracy: 0.9970\n",
      "Test accuracy: 0.8916\n",
      "Test AUC: 0.8377\n",
      "\n",
      "Starting n_components: 20\n"
     ]
    },
    {
     "name": "stderr",
     "output_type": "stream",
     "text": [
      "100%|██████████| 10/10 [00:00<00:00, 22.15it/s]\n"
     ]
    },
    {
     "name": "stdout",
     "output_type": "stream",
     "text": [
      "Train accuracy: 0.9970\n",
      "Test accuracy: 0.9036\n",
      "Test AUC: 0.8689\n",
      "\n",
      "Starting n_components: 50\n"
     ]
    },
    {
     "name": "stderr",
     "output_type": "stream",
     "text": [
      "100%|██████████| 10/10 [00:00<00:00, 20.61it/s]\n"
     ]
    },
    {
     "name": "stdout",
     "output_type": "stream",
     "text": [
      "Train accuracy: 1.0000\n",
      "Test accuracy: 0.9036\n",
      "Test AUC: 0.8927\n",
      "\n",
      "Starting n_components: 100\n"
     ]
    },
    {
     "name": "stderr",
     "output_type": "stream",
     "text": [
      "100%|██████████| 10/10 [00:00<00:00, 20.84it/s]\n"
     ]
    },
    {
     "name": "stdout",
     "output_type": "stream",
     "text": [
      "Train accuracy: 1.0000\n",
      "Test accuracy: 0.9277\n",
      "Test AUC: 0.9314\n",
      "\n",
      "Starting n_components: 200\n"
     ]
    },
    {
     "name": "stderr",
     "output_type": "stream",
     "text": [
      "100%|██████████| 10/10 [00:00<00:00, 19.19it/s]\n"
     ]
    },
    {
     "name": "stdout",
     "output_type": "stream",
     "text": [
      "Train accuracy: 1.0000\n",
      "Test accuracy: 0.9277\n",
      "Test AUC: 0.9552\n",
      "\n",
      "Starting n_components: 300\n"
     ]
    },
    {
     "name": "stderr",
     "output_type": "stream",
     "text": [
      "100%|██████████| 10/10 [00:00<00:00, 17.13it/s]"
     ]
    },
    {
     "name": "stdout",
     "output_type": "stream",
     "text": [
      "Train accuracy: 1.0000\n",
      "Test accuracy: 0.9639\n",
      "Test AUC: 0.9776\n",
      "\n"
     ]
    },
    {
     "name": "stderr",
     "output_type": "stream",
     "text": [
      "\n"
     ]
    }
   ],
   "source": [
    "from sklearn.metrics import roc_auc_score\n",
    "from sklearn.decomposition import PCA\n",
    "\n",
    "# model parameters\n",
    "input_size = 20530\n",
    "epochs = 10\n",
    "lr = 0.1\n",
    "batch_size = 16\n",
    "components = [5, 10, 20, 50, 100, 200, 300]\n",
    "\n",
    "# lists to store results\n",
    "train_accuracy_list = []\n",
    "test_accuracy_list = []\n",
    "auc_score_list = []\n",
    "max_auc = -999\n",
    "optimal_model = None\n",
    "optimal_n_components = None\n",
    "optimal_x_train = None\n",
    "optimal_x_test = None\n",
    "optimal_predictions = None\n",
    "\n",
    "# dataframe to store results\n",
    "df = pd.DataFrame(columns=['n_components', 'train_accuracy', 'test_accuracy', 'auc_score'])\n",
    "\n",
    "for n_components in components:\n",
    "\n",
    "    print(f'Starting n_components: {n_components}')\n",
    "\n",
    "    pca = PCA(n_components=n_components)\n",
    "    reduced_X_train = pca.fit_transform(X_train)\n",
    "    reduced_X_test = pca.transform(X_test)\n",
    "    reduced_X_train = torch.tensor(reduced_X_train, dtype=torch.float32)\n",
    "    reduced_X_test = torch.tensor(reduced_X_test, dtype=torch.float32)\n",
    "    \n",
    "    model = DLModel(input_size=n_components)\n",
    "    model.to(device)\n",
    "    model.fit(reduced_X_train, y_train, epochs, batch_size, lr)\n",
    "\n",
    "    # train accuracy\n",
    "    with torch.no_grad():\n",
    "        y_pred = model.predict(reduced_X_train)\n",
    "        y_pred = y_pred.round()\n",
    "        train_acc = y_pred.eq(y_train.view_as(y_pred)).sum() / float(len(y_train))\n",
    "        train_acc = train_acc.item()\n",
    "        print(f'Train accuracy: {train_acc:.4f}')\n",
    "\n",
    "    # test accuracy\n",
    "    with torch.no_grad():\n",
    "        y_pred = model.predict(reduced_X_test)\n",
    "        y_pred = y_pred.round()\n",
    "        test_acc = y_pred.eq(y_test.view_as(y_pred)).sum() / float(len(y_test))\n",
    "        test_acc = test_acc.item()\n",
    "        print(f'Test accuracy: {test_acc:.4f}')\n",
    "\n",
    "    # test auc\n",
    "    with torch.no_grad():\n",
    "        y_pred = model.predict(reduced_X_test)\n",
    "        y_pred = y_pred.round()\n",
    "        test_auc = roc_auc_score(y_test, y_pred)\n",
    "        print(f'Test AUC: {test_auc:.4f}')\n",
    "\n",
    "    train_accuracy_list.append(train_acc)\n",
    "    test_accuracy_list.append(test_acc)\n",
    "    auc_score_list.append(test_auc)\n",
    "\n",
    "    if test_auc > max_auc:\n",
    "        max_auc = test_auc\n",
    "        optimal_model = model\n",
    "        optimal_n_components = n_components\n",
    "        optimal_x_train = reduced_X_train\n",
    "        optimal_x_test = reduced_X_test\n",
    "        optimal_predictions = y_pred\n",
    "\n",
    "    df = pd.concat([df, pd.DataFrame([[n_components, train_acc, test_acc, test_auc]], columns=['n_components', 'train_accuracy', 'test_accuracy', 'auc_score'])])\n",
    "    print()"
   ]
  },
  {
   "cell_type": "code",
   "execution_count": 60,
   "metadata": {},
   "outputs": [
    {
     "data": {
      "text/html": [
       "<div>\n",
       "<style scoped>\n",
       "    .dataframe tbody tr th:only-of-type {\n",
       "        vertical-align: middle;\n",
       "    }\n",
       "\n",
       "    .dataframe tbody tr th {\n",
       "        vertical-align: top;\n",
       "    }\n",
       "\n",
       "    .dataframe thead th {\n",
       "        text-align: right;\n",
       "    }\n",
       "</style>\n",
       "<table border=\"1\" class=\"dataframe\">\n",
       "  <thead>\n",
       "    <tr style=\"text-align: right;\">\n",
       "      <th></th>\n",
       "      <th>n_components</th>\n",
       "      <th>train_accuracy</th>\n",
       "      <th>test_accuracy</th>\n",
       "      <th>auc_score</th>\n",
       "    </tr>\n",
       "  </thead>\n",
       "  <tbody>\n",
       "    <tr>\n",
       "      <th>0</th>\n",
       "      <td>300</td>\n",
       "      <td>1.00000</td>\n",
       "      <td>0.963855</td>\n",
       "      <td>0.977612</td>\n",
       "    </tr>\n",
       "    <tr>\n",
       "      <th>0</th>\n",
       "      <td>200</td>\n",
       "      <td>1.00000</td>\n",
       "      <td>0.927711</td>\n",
       "      <td>0.955224</td>\n",
       "    </tr>\n",
       "    <tr>\n",
       "      <th>0</th>\n",
       "      <td>100</td>\n",
       "      <td>1.00000</td>\n",
       "      <td>0.927711</td>\n",
       "      <td>0.931437</td>\n",
       "    </tr>\n",
       "    <tr>\n",
       "      <th>0</th>\n",
       "      <td>50</td>\n",
       "      <td>1.00000</td>\n",
       "      <td>0.903614</td>\n",
       "      <td>0.892724</td>\n",
       "    </tr>\n",
       "    <tr>\n",
       "      <th>0</th>\n",
       "      <td>20</td>\n",
       "      <td>0.99696</td>\n",
       "      <td>0.903614</td>\n",
       "      <td>0.868937</td>\n",
       "    </tr>\n",
       "  </tbody>\n",
       "</table>\n",
       "</div>"
      ],
      "text/plain": [
       "  n_components  train_accuracy  test_accuracy  auc_score\n",
       "0          300         1.00000       0.963855   0.977612\n",
       "0          200         1.00000       0.927711   0.955224\n",
       "0          100         1.00000       0.927711   0.931437\n",
       "0           50         1.00000       0.903614   0.892724\n",
       "0           20         0.99696       0.903614   0.868937"
      ]
     },
     "execution_count": 60,
     "metadata": {},
     "output_type": "execute_result"
    }
   ],
   "source": [
    "# extract the rows of best 5 auc\n",
    "best_5_auc = df.nlargest(5, 'auc_score')\n",
    "best_5_auc"
   ]
  },
  {
   "cell_type": "code",
   "execution_count": 65,
   "metadata": {},
   "outputs": [],
   "source": [
    "df.to_csv('PCA_DL_results.csv', index=False)"
   ]
  },
  {
   "cell_type": "code",
   "execution_count": 62,
   "metadata": {},
   "outputs": [
    {
     "data": {
      "image/png": "[encoded data removed]",
      "text/plain": [
       "<Figure size 640x480 with 1 Axes>"
      ]
     },
     "metadata": {},
     "output_type": "display_data"
    }
   ],
   "source": [
    "# plot auc vs n_components\n",
    "import matplotlib.pyplot as plt\n",
    "\n",
    "plt.plot(components, auc_score_list)\n",
    "plt.xlabel('n_components')\n",
    "plt.ylabel('AUC')\n",
    "plt.title('AUC vs n_components')\n",
    "plt.show()"
   ]
  },
  {
   "cell_type": "markdown",
   "metadata": {},
   "source": [
    "### Let's try on a more granular level in the range of 250 to 329"
   ]
  },
  {
   "cell_type": "code",
   "execution_count": 63,
   "metadata": {},
   "outputs": [
    {
     "name": "stdout",
     "output_type": "stream",
     "text": [
      "Starting n_components: 250\n"
     ]
    },
    {
     "name": "stderr",
     "output_type": "stream",
     "text": [
      "100%|██████████| 10/10 [00:00<00:00, 16.50it/s]\n"
     ]
    },
    {
     "name": "stdout",
     "output_type": "stream",
     "text": [
      "Train accuracy: 1.0000\n",
      "Test accuracy: 0.9277\n",
      "Test AUC: 0.9076\n",
      "\n",
      "Starting n_components: 251\n"
     ]
    },
    {
     "name": "stderr",
     "output_type": "stream",
     "text": [
      "100%|██████████| 10/10 [00:00<00:00, 17.33it/s]\n"
     ]
    },
    {
     "name": "stdout",
     "output_type": "stream",
     "text": [
      "Train accuracy: 1.0000\n",
      "Test accuracy: 0.9277\n",
      "Test AUC: 0.9076\n",
      "\n",
      "Starting n_components: 252\n"
     ]
    },
    {
     "name": "stderr",
     "output_type": "stream",
     "text": [
      "100%|██████████| 10/10 [00:00<00:00, 17.38it/s]\n"
     ]
    },
    {
     "name": "stdout",
     "output_type": "stream",
     "text": [
      "Train accuracy: 1.0000\n",
      "Test accuracy: 0.9639\n",
      "Test AUC: 0.9776\n",
      "\n",
      "Starting n_components: 253\n"
     ]
    },
    {
     "name": "stderr",
     "output_type": "stream",
     "text": [
      "100%|██████████| 10/10 [00:00<00:00, 17.88it/s]\n"
     ]
    },
    {
     "name": "stdout",
     "output_type": "stream",
     "text": [
      "Train accuracy: 1.0000\n",
      "Test accuracy: 0.9398\n",
      "Test AUC: 0.9151\n",
      "\n",
      "Starting n_components: 254\n"
     ]
    },
    {
     "name": "stderr",
     "output_type": "stream",
     "text": [
      "100%|██████████| 10/10 [00:00<00:00, 17.54it/s]\n"
     ]
    },
    {
     "name": "stdout",
     "output_type": "stream",
     "text": [
      "Train accuracy: 1.0000\n",
      "Test accuracy: 0.9518\n",
      "Test AUC: 0.9701\n",
      "\n",
      "Starting n_components: 255\n"
     ]
    },
    {
     "name": "stderr",
     "output_type": "stream",
     "text": [
      "100%|██████████| 10/10 [00:00<00:00, 16.16it/s]\n"
     ]
    },
    {
     "name": "stdout",
     "output_type": "stream",
     "text": [
      "Train accuracy: 1.0000\n",
      "Test accuracy: 0.9277\n",
      "Test AUC: 0.9314\n",
      "\n",
      "Starting n_components: 256\n"
     ]
    },
    {
     "name": "stderr",
     "output_type": "stream",
     "text": [
      "100%|██████████| 10/10 [00:00<00:00, 18.98it/s]\n"
     ]
    },
    {
     "name": "stdout",
     "output_type": "stream",
     "text": [
      "Train accuracy: 1.0000\n",
      "Test accuracy: 0.9277\n",
      "Test AUC: 0.9076\n",
      "\n",
      "Starting n_components: 257\n"
     ]
    },
    {
     "name": "stderr",
     "output_type": "stream",
     "text": [
      "100%|██████████| 10/10 [00:00<00:00, 20.39it/s]\n"
     ]
    },
    {
     "name": "stdout",
     "output_type": "stream",
     "text": [
      "Train accuracy: 1.0000\n",
      "Test accuracy: 0.9398\n",
      "Test AUC: 0.9389\n",
      "\n",
      "Starting n_components: 258\n"
     ]
    },
    {
     "name": "stderr",
     "output_type": "stream",
     "text": [
      "100%|██████████| 10/10 [00:00<00:00, 15.84it/s]\n"
     ]
    },
    {
     "name": "stdout",
     "output_type": "stream",
     "text": [
      "Train accuracy: 1.0000\n",
      "Test accuracy: 0.9398\n",
      "Test AUC: 0.9151\n",
      "\n",
      "Starting n_components: 259\n"
     ]
    },
    {
     "name": "stderr",
     "output_type": "stream",
     "text": [
      "100%|██████████| 10/10 [00:00<00:00, 18.10it/s]\n"
     ]
    },
    {
     "name": "stdout",
     "output_type": "stream",
     "text": [
      "Train accuracy: 1.0000\n",
      "Test accuracy: 0.9639\n",
      "Test AUC: 0.9776\n",
      "\n",
      "Starting n_components: 260\n"
     ]
    },
    {
     "name": "stderr",
     "output_type": "stream",
     "text": [
      "100%|██████████| 10/10 [00:00<00:00, 16.94it/s]\n"
     ]
    },
    {
     "name": "stdout",
     "output_type": "stream",
     "text": [
      "Train accuracy: 1.0000\n",
      "Test accuracy: 0.9157\n",
      "Test AUC: 0.9002\n",
      "\n",
      "Starting n_components: 261\n"
     ]
    },
    {
     "name": "stderr",
     "output_type": "stream",
     "text": [
      "100%|██████████| 10/10 [00:00<00:00, 18.66it/s]\n"
     ]
    },
    {
     "name": "stdout",
     "output_type": "stream",
     "text": [
      "Train accuracy: 1.0000\n",
      "Test accuracy: 0.9518\n",
      "Test AUC: 0.9701\n",
      "\n",
      "Starting n_components: 262\n"
     ]
    },
    {
     "name": "stderr",
     "output_type": "stream",
     "text": [
      "100%|██████████| 10/10 [00:00<00:00, 18.52it/s]\n"
     ]
    },
    {
     "name": "stdout",
     "output_type": "stream",
     "text": [
      "Train accuracy: 1.0000\n",
      "Test accuracy: 0.9398\n",
      "Test AUC: 0.9389\n",
      "\n",
      "Starting n_components: 263\n"
     ]
    },
    {
     "name": "stderr",
     "output_type": "stream",
     "text": [
      "100%|██████████| 10/10 [00:00<00:00, 17.42it/s]\n"
     ]
    },
    {
     "name": "stdout",
     "output_type": "stream",
     "text": [
      "Train accuracy: 1.0000\n",
      "Test accuracy: 0.9157\n",
      "Test AUC: 0.9002\n",
      "\n",
      "Starting n_components: 264\n"
     ]
    },
    {
     "name": "stderr",
     "output_type": "stream",
     "text": [
      "100%|██████████| 10/10 [00:00<00:00, 18.26it/s]\n"
     ]
    },
    {
     "name": "stdout",
     "output_type": "stream",
     "text": [
      "Train accuracy: 1.0000\n",
      "Test accuracy: 0.9277\n",
      "Test AUC: 0.9314\n",
      "\n",
      "Starting n_components: 265\n"
     ]
    },
    {
     "name": "stderr",
     "output_type": "stream",
     "text": [
      "100%|██████████| 10/10 [00:00<00:00, 17.34it/s]\n"
     ]
    },
    {
     "name": "stdout",
     "output_type": "stream",
     "text": [
      "Train accuracy: 1.0000\n",
      "Test accuracy: 0.9157\n",
      "Test AUC: 0.9240\n",
      "\n",
      "Starting n_components: 266\n"
     ]
    },
    {
     "name": "stderr",
     "output_type": "stream",
     "text": [
      "100%|██████████| 10/10 [00:00<00:00, 17.58it/s]\n"
     ]
    },
    {
     "name": "stdout",
     "output_type": "stream",
     "text": [
      "Train accuracy: 1.0000\n",
      "Test accuracy: 0.9277\n",
      "Test AUC: 0.9076\n",
      "\n",
      "Starting n_components: 267\n"
     ]
    },
    {
     "name": "stderr",
     "output_type": "stream",
     "text": [
      "100%|██████████| 10/10 [00:00<00:00, 16.80it/s]\n"
     ]
    },
    {
     "name": "stdout",
     "output_type": "stream",
     "text": [
      "Train accuracy: 1.0000\n",
      "Test accuracy: 0.9398\n",
      "Test AUC: 0.9389\n",
      "\n",
      "Starting n_components: 268\n"
     ]
    },
    {
     "name": "stderr",
     "output_type": "stream",
     "text": [
      "100%|██████████| 10/10 [00:00<00:00, 16.78it/s]\n"
     ]
    },
    {
     "name": "stdout",
     "output_type": "stream",
     "text": [
      "Train accuracy: 1.0000\n",
      "Test accuracy: 0.9277\n",
      "Test AUC: 0.9314\n",
      "\n",
      "Starting n_components: 269\n"
     ]
    },
    {
     "name": "stderr",
     "output_type": "stream",
     "text": [
      "100%|██████████| 10/10 [00:00<00:00, 16.88it/s]\n"
     ]
    },
    {
     "name": "stdout",
     "output_type": "stream",
     "text": [
      "Train accuracy: 1.0000\n",
      "Test accuracy: 0.9398\n",
      "Test AUC: 0.9389\n",
      "\n",
      "Starting n_components: 270\n"
     ]
    },
    {
     "name": "stderr",
     "output_type": "stream",
     "text": [
      "100%|██████████| 10/10 [00:00<00:00, 16.91it/s]\n"
     ]
    },
    {
     "name": "stdout",
     "output_type": "stream",
     "text": [
      "Train accuracy: 1.0000\n",
      "Test accuracy: 0.9277\n",
      "Test AUC: 0.9076\n",
      "\n",
      "Starting n_components: 271\n"
     ]
    },
    {
     "name": "stderr",
     "output_type": "stream",
     "text": [
      "100%|██████████| 10/10 [00:00<00:00, 16.64it/s]\n"
     ]
    },
    {
     "name": "stdout",
     "output_type": "stream",
     "text": [
      "Train accuracy: 1.0000\n",
      "Test accuracy: 0.9398\n",
      "Test AUC: 0.9627\n",
      "\n",
      "Starting n_components: 272\n"
     ]
    },
    {
     "name": "stderr",
     "output_type": "stream",
     "text": [
      "100%|██████████| 10/10 [00:00<00:00, 16.76it/s]\n"
     ]
    },
    {
     "name": "stdout",
     "output_type": "stream",
     "text": [
      "Train accuracy: 1.0000\n",
      "Test accuracy: 0.9277\n",
      "Test AUC: 0.9314\n",
      "\n",
      "Starting n_components: 273\n"
     ]
    },
    {
     "name": "stderr",
     "output_type": "stream",
     "text": [
      "100%|██████████| 10/10 [00:00<00:00, 16.52it/s]\n"
     ]
    },
    {
     "name": "stdout",
     "output_type": "stream",
     "text": [
      "Train accuracy: 1.0000\n",
      "Test accuracy: 0.9518\n",
      "Test AUC: 0.9701\n",
      "\n",
      "Starting n_components: 274\n"
     ]
    },
    {
     "name": "stderr",
     "output_type": "stream",
     "text": [
      "100%|██████████| 10/10 [00:00<00:00, 16.23it/s]\n"
     ]
    },
    {
     "name": "stdout",
     "output_type": "stream",
     "text": [
      "Train accuracy: 1.0000\n",
      "Test accuracy: 0.9036\n",
      "Test AUC: 0.8927\n",
      "\n",
      "Starting n_components: 275\n"
     ]
    },
    {
     "name": "stderr",
     "output_type": "stream",
     "text": [
      "100%|██████████| 10/10 [00:00<00:00, 15.73it/s]\n"
     ]
    },
    {
     "name": "stdout",
     "output_type": "stream",
     "text": [
      "Train accuracy: 1.0000\n",
      "Test accuracy: 0.9398\n",
      "Test AUC: 0.9389\n",
      "\n",
      "Starting n_components: 276\n"
     ]
    },
    {
     "name": "stderr",
     "output_type": "stream",
     "text": [
      "100%|██████████| 10/10 [00:00<00:00, 15.10it/s]\n"
     ]
    },
    {
     "name": "stdout",
     "output_type": "stream",
     "text": [
      "Train accuracy: 1.0000\n",
      "Test accuracy: 0.9398\n",
      "Test AUC: 0.9389\n",
      "\n",
      "Starting n_components: 277\n"
     ]
    },
    {
     "name": "stderr",
     "output_type": "stream",
     "text": [
      "100%|██████████| 10/10 [00:00<00:00, 15.44it/s]\n"
     ]
    },
    {
     "name": "stdout",
     "output_type": "stream",
     "text": [
      "Train accuracy: 1.0000\n",
      "Test accuracy: 0.9277\n",
      "Test AUC: 0.9314\n",
      "\n",
      "Starting n_components: 278\n"
     ]
    },
    {
     "name": "stderr",
     "output_type": "stream",
     "text": [
      "100%|██████████| 10/10 [00:00<00:00, 15.68it/s]\n"
     ]
    },
    {
     "name": "stdout",
     "output_type": "stream",
     "text": [
      "Train accuracy: 1.0000\n",
      "Test accuracy: 0.9277\n",
      "Test AUC: 0.9314\n",
      "\n",
      "Starting n_components: 279\n"
     ]
    },
    {
     "name": "stderr",
     "output_type": "stream",
     "text": [
      "100%|██████████| 10/10 [00:00<00:00, 14.22it/s]\n"
     ]
    },
    {
     "name": "stdout",
     "output_type": "stream",
     "text": [
      "Train accuracy: 1.0000\n",
      "Test accuracy: 0.9277\n",
      "Test AUC: 0.8839\n",
      "\n",
      "Starting n_components: 280\n"
     ]
    },
    {
     "name": "stderr",
     "output_type": "stream",
     "text": [
      "100%|██████████| 10/10 [00:00<00:00, 13.69it/s]\n"
     ]
    },
    {
     "name": "stdout",
     "output_type": "stream",
     "text": [
      "Train accuracy: 1.0000\n",
      "Test accuracy: 0.9277\n",
      "Test AUC: 0.9076\n",
      "\n",
      "Starting n_components: 281\n"
     ]
    },
    {
     "name": "stderr",
     "output_type": "stream",
     "text": [
      "100%|██████████| 10/10 [00:00<00:00, 12.25it/s]\n"
     ]
    },
    {
     "name": "stdout",
     "output_type": "stream",
     "text": [
      "Train accuracy: 1.0000\n",
      "Test accuracy: 0.9398\n",
      "Test AUC: 0.9389\n",
      "\n",
      "Starting n_components: 282\n"
     ]
    },
    {
     "name": "stderr",
     "output_type": "stream",
     "text": [
      "100%|██████████| 10/10 [00:00<00:00, 11.63it/s]\n"
     ]
    },
    {
     "name": "stdout",
     "output_type": "stream",
     "text": [
      "Train accuracy: 1.0000\n",
      "Test accuracy: 0.9398\n",
      "Test AUC: 0.9389\n",
      "\n",
      "Starting n_components: 283\n"
     ]
    },
    {
     "name": "stderr",
     "output_type": "stream",
     "text": [
      "100%|██████████| 10/10 [00:00<00:00, 12.41it/s]\n"
     ]
    },
    {
     "name": "stdout",
     "output_type": "stream",
     "text": [
      "Train accuracy: 1.0000\n",
      "Test accuracy: 0.9518\n",
      "Test AUC: 0.9701\n",
      "\n",
      "Starting n_components: 284\n"
     ]
    },
    {
     "name": "stderr",
     "output_type": "stream",
     "text": [
      "100%|██████████| 10/10 [00:00<00:00, 17.23it/s]\n"
     ]
    },
    {
     "name": "stdout",
     "output_type": "stream",
     "text": [
      "Train accuracy: 1.0000\n",
      "Test accuracy: 0.9277\n",
      "Test AUC: 0.9314\n",
      "\n",
      "Starting n_components: 285\n"
     ]
    },
    {
     "name": "stderr",
     "output_type": "stream",
     "text": [
      "100%|██████████| 10/10 [00:00<00:00, 13.79it/s]\n"
     ]
    },
    {
     "name": "stdout",
     "output_type": "stream",
     "text": [
      "Train accuracy: 1.0000\n",
      "Test accuracy: 0.9518\n",
      "Test AUC: 0.9464\n",
      "\n",
      "Starting n_components: 286\n"
     ]
    },
    {
     "name": "stderr",
     "output_type": "stream",
     "text": [
      "100%|██████████| 10/10 [00:00<00:00, 16.85it/s]\n"
     ]
    },
    {
     "name": "stdout",
     "output_type": "stream",
     "text": [
      "Train accuracy: 1.0000\n",
      "Test accuracy: 0.9518\n",
      "Test AUC: 0.9464\n",
      "\n",
      "Starting n_components: 287\n"
     ]
    },
    {
     "name": "stderr",
     "output_type": "stream",
     "text": [
      "100%|██████████| 10/10 [00:00<00:00, 17.21it/s]\n"
     ]
    },
    {
     "name": "stdout",
     "output_type": "stream",
     "text": [
      "Train accuracy: 1.0000\n",
      "Test accuracy: 0.9518\n",
      "Test AUC: 0.9464\n",
      "\n",
      "Starting n_components: 288\n"
     ]
    },
    {
     "name": "stderr",
     "output_type": "stream",
     "text": [
      "100%|██████████| 10/10 [00:00<00:00, 15.71it/s]\n"
     ]
    },
    {
     "name": "stdout",
     "output_type": "stream",
     "text": [
      "Train accuracy: 1.0000\n",
      "Test accuracy: 0.9277\n",
      "Test AUC: 0.9314\n",
      "\n",
      "Starting n_components: 289\n"
     ]
    },
    {
     "name": "stderr",
     "output_type": "stream",
     "text": [
      "100%|██████████| 10/10 [00:00<00:00, 16.06it/s]\n"
     ]
    },
    {
     "name": "stdout",
     "output_type": "stream",
     "text": [
      "Train accuracy: 1.0000\n",
      "Test accuracy: 0.9398\n",
      "Test AUC: 0.9389\n",
      "\n",
      "Starting n_components: 290\n"
     ]
    },
    {
     "name": "stderr",
     "output_type": "stream",
     "text": [
      "100%|██████████| 10/10 [00:00<00:00, 16.21it/s]\n"
     ]
    },
    {
     "name": "stdout",
     "output_type": "stream",
     "text": [
      "Train accuracy: 1.0000\n",
      "Test accuracy: 0.9518\n",
      "Test AUC: 0.9701\n",
      "\n",
      "Starting n_components: 291\n"
     ]
    },
    {
     "name": "stderr",
     "output_type": "stream",
     "text": [
      "100%|██████████| 10/10 [00:00<00:00, 15.51it/s]\n"
     ]
    },
    {
     "name": "stdout",
     "output_type": "stream",
     "text": [
      "Train accuracy: 1.0000\n",
      "Test accuracy: 0.9518\n",
      "Test AUC: 0.9464\n",
      "\n",
      "Starting n_components: 292\n"
     ]
    },
    {
     "name": "stderr",
     "output_type": "stream",
     "text": [
      "100%|██████████| 10/10 [00:00<00:00, 16.47it/s]\n"
     ]
    },
    {
     "name": "stdout",
     "output_type": "stream",
     "text": [
      "Train accuracy: 1.0000\n",
      "Test accuracy: 0.9398\n",
      "Test AUC: 0.9389\n",
      "\n",
      "Starting n_components: 293\n"
     ]
    },
    {
     "name": "stderr",
     "output_type": "stream",
     "text": [
      "100%|██████████| 10/10 [00:00<00:00, 16.69it/s]\n"
     ]
    },
    {
     "name": "stdout",
     "output_type": "stream",
     "text": [
      "Train accuracy: 1.0000\n",
      "Test accuracy: 0.9398\n",
      "Test AUC: 0.9389\n",
      "\n",
      "Starting n_components: 294\n"
     ]
    },
    {
     "name": "stderr",
     "output_type": "stream",
     "text": [
      "100%|██████████| 10/10 [00:00<00:00, 16.98it/s]\n"
     ]
    },
    {
     "name": "stdout",
     "output_type": "stream",
     "text": [
      "Train accuracy: 1.0000\n",
      "Test accuracy: 0.9277\n",
      "Test AUC: 0.9314\n",
      "\n",
      "Starting n_components: 295\n"
     ]
    },
    {
     "name": "stderr",
     "output_type": "stream",
     "text": [
      "100%|██████████| 10/10 [00:00<00:00, 16.28it/s]\n"
     ]
    },
    {
     "name": "stdout",
     "output_type": "stream",
     "text": [
      "Train accuracy: 1.0000\n",
      "Test accuracy: 0.9398\n",
      "Test AUC: 0.9627\n",
      "\n",
      "Starting n_components: 296\n"
     ]
    },
    {
     "name": "stderr",
     "output_type": "stream",
     "text": [
      "100%|██████████| 10/10 [00:00<00:00, 16.55it/s]\n"
     ]
    },
    {
     "name": "stdout",
     "output_type": "stream",
     "text": [
      "Train accuracy: 1.0000\n",
      "Test accuracy: 0.9518\n",
      "Test AUC: 0.9701\n",
      "\n",
      "Starting n_components: 297\n"
     ]
    },
    {
     "name": "stderr",
     "output_type": "stream",
     "text": [
      "100%|██████████| 10/10 [00:00<00:00, 16.04it/s]\n"
     ]
    },
    {
     "name": "stdout",
     "output_type": "stream",
     "text": [
      "Train accuracy: 1.0000\n",
      "Test accuracy: 0.9398\n",
      "Test AUC: 0.9389\n",
      "\n",
      "Starting n_components: 298\n"
     ]
    },
    {
     "name": "stderr",
     "output_type": "stream",
     "text": [
      "100%|██████████| 10/10 [00:00<00:00, 16.26it/s]\n"
     ]
    },
    {
     "name": "stdout",
     "output_type": "stream",
     "text": [
      "Train accuracy: 1.0000\n",
      "Test accuracy: 0.9398\n",
      "Test AUC: 0.9389\n",
      "\n",
      "Starting n_components: 299\n"
     ]
    },
    {
     "name": "stderr",
     "output_type": "stream",
     "text": [
      "100%|██████████| 10/10 [00:00<00:00, 15.13it/s]\n"
     ]
    },
    {
     "name": "stdout",
     "output_type": "stream",
     "text": [
      "Train accuracy: 1.0000\n",
      "Test accuracy: 0.9518\n",
      "Test AUC: 0.9464\n",
      "\n",
      "Starting n_components: 300\n"
     ]
    },
    {
     "name": "stderr",
     "output_type": "stream",
     "text": [
      "100%|██████████| 10/10 [00:00<00:00, 16.45it/s]\n"
     ]
    },
    {
     "name": "stdout",
     "output_type": "stream",
     "text": [
      "Train accuracy: 1.0000\n",
      "Test accuracy: 0.9518\n",
      "Test AUC: 0.9464\n",
      "\n",
      "Starting n_components: 301\n"
     ]
    },
    {
     "name": "stderr",
     "output_type": "stream",
     "text": [
      "100%|██████████| 10/10 [00:00<00:00, 16.74it/s]\n"
     ]
    },
    {
     "name": "stdout",
     "output_type": "stream",
     "text": [
      "Train accuracy: 1.0000\n",
      "Test accuracy: 0.9518\n",
      "Test AUC: 0.9464\n",
      "\n",
      "Starting n_components: 302\n"
     ]
    },
    {
     "name": "stderr",
     "output_type": "stream",
     "text": [
      "100%|██████████| 10/10 [00:00<00:00, 15.43it/s]\n"
     ]
    },
    {
     "name": "stdout",
     "output_type": "stream",
     "text": [
      "Train accuracy: 1.0000\n",
      "Test accuracy: 0.9518\n",
      "Test AUC: 0.9701\n",
      "\n",
      "Starting n_components: 303\n"
     ]
    },
    {
     "name": "stderr",
     "output_type": "stream",
     "text": [
      "100%|██████████| 10/10 [00:00<00:00, 14.72it/s]\n"
     ]
    },
    {
     "name": "stdout",
     "output_type": "stream",
     "text": [
      "Train accuracy: 1.0000\n",
      "Test accuracy: 0.9518\n",
      "Test AUC: 0.9464\n",
      "\n",
      "Starting n_components: 304\n"
     ]
    },
    {
     "name": "stderr",
     "output_type": "stream",
     "text": [
      "100%|██████████| 10/10 [00:00<00:00, 14.90it/s]\n"
     ]
    },
    {
     "name": "stdout",
     "output_type": "stream",
     "text": [
      "Train accuracy: 1.0000\n",
      "Test accuracy: 0.9518\n",
      "Test AUC: 0.9701\n",
      "\n",
      "Starting n_components: 305\n"
     ]
    },
    {
     "name": "stderr",
     "output_type": "stream",
     "text": [
      "100%|██████████| 10/10 [00:00<00:00, 15.12it/s]\n"
     ]
    },
    {
     "name": "stdout",
     "output_type": "stream",
     "text": [
      "Train accuracy: 1.0000\n",
      "Test accuracy: 0.9398\n",
      "Test AUC: 0.9389\n",
      "\n",
      "Starting n_components: 306\n"
     ]
    },
    {
     "name": "stderr",
     "output_type": "stream",
     "text": [
      "100%|██████████| 10/10 [00:00<00:00, 14.68it/s]\n"
     ]
    },
    {
     "name": "stdout",
     "output_type": "stream",
     "text": [
      "Train accuracy: 1.0000\n",
      "Test accuracy: 0.9398\n",
      "Test AUC: 0.9389\n",
      "\n",
      "Starting n_components: 307\n"
     ]
    },
    {
     "name": "stderr",
     "output_type": "stream",
     "text": [
      "100%|██████████| 10/10 [00:00<00:00, 15.35it/s]\n"
     ]
    },
    {
     "name": "stdout",
     "output_type": "stream",
     "text": [
      "Train accuracy: 1.0000\n",
      "Test accuracy: 0.9518\n",
      "Test AUC: 0.9464\n",
      "\n",
      "Starting n_components: 308\n"
     ]
    },
    {
     "name": "stderr",
     "output_type": "stream",
     "text": [
      "100%|██████████| 10/10 [00:00<00:00, 14.59it/s]\n"
     ]
    },
    {
     "name": "stdout",
     "output_type": "stream",
     "text": [
      "Train accuracy: 1.0000\n",
      "Test accuracy: 0.9398\n",
      "Test AUC: 0.9389\n",
      "\n",
      "Starting n_components: 309\n"
     ]
    },
    {
     "name": "stderr",
     "output_type": "stream",
     "text": [
      "100%|██████████| 10/10 [00:00<00:00, 15.34it/s]\n"
     ]
    },
    {
     "name": "stdout",
     "output_type": "stream",
     "text": [
      "Train accuracy: 1.0000\n",
      "Test accuracy: 0.9518\n",
      "Test AUC: 0.9464\n",
      "\n",
      "Starting n_components: 310\n"
     ]
    },
    {
     "name": "stderr",
     "output_type": "stream",
     "text": [
      "100%|██████████| 10/10 [00:00<00:00, 14.10it/s]\n"
     ]
    },
    {
     "name": "stdout",
     "output_type": "stream",
     "text": [
      "Train accuracy: 1.0000\n",
      "Test accuracy: 0.9398\n",
      "Test AUC: 0.9389\n",
      "\n",
      "Starting n_components: 311\n"
     ]
    },
    {
     "name": "stderr",
     "output_type": "stream",
     "text": [
      "100%|██████████| 10/10 [00:00<00:00, 15.00it/s]\n"
     ]
    },
    {
     "name": "stdout",
     "output_type": "stream",
     "text": [
      "Train accuracy: 1.0000\n",
      "Test accuracy: 0.9639\n",
      "Test AUC: 0.9776\n",
      "\n",
      "Starting n_components: 312\n"
     ]
    },
    {
     "name": "stderr",
     "output_type": "stream",
     "text": [
      "100%|██████████| 10/10 [00:00<00:00, 14.29it/s]\n"
     ]
    },
    {
     "name": "stdout",
     "output_type": "stream",
     "text": [
      "Train accuracy: 1.0000\n",
      "Test accuracy: 0.9277\n",
      "Test AUC: 0.9076\n",
      "\n",
      "Starting n_components: 313\n"
     ]
    },
    {
     "name": "stderr",
     "output_type": "stream",
     "text": [
      "100%|██████████| 10/10 [00:00<00:00, 14.52it/s]\n"
     ]
    },
    {
     "name": "stdout",
     "output_type": "stream",
     "text": [
      "Train accuracy: 1.0000\n",
      "Test accuracy: 0.9398\n",
      "Test AUC: 0.9389\n",
      "\n",
      "Starting n_components: 314\n"
     ]
    },
    {
     "name": "stderr",
     "output_type": "stream",
     "text": [
      "100%|██████████| 10/10 [00:00<00:00, 14.01it/s]\n"
     ]
    },
    {
     "name": "stdout",
     "output_type": "stream",
     "text": [
      "Train accuracy: 1.0000\n",
      "Test accuracy: 0.9518\n",
      "Test AUC: 0.9464\n",
      "\n",
      "Starting n_components: 315\n"
     ]
    },
    {
     "name": "stderr",
     "output_type": "stream",
     "text": [
      "100%|██████████| 10/10 [00:00<00:00, 13.95it/s]\n"
     ]
    },
    {
     "name": "stdout",
     "output_type": "stream",
     "text": [
      "Train accuracy: 1.0000\n",
      "Test accuracy: 0.9398\n",
      "Test AUC: 0.9389\n",
      "\n",
      "Starting n_components: 316\n"
     ]
    },
    {
     "name": "stderr",
     "output_type": "stream",
     "text": [
      "100%|██████████| 10/10 [00:00<00:00, 15.17it/s]\n"
     ]
    },
    {
     "name": "stdout",
     "output_type": "stream",
     "text": [
      "Train accuracy: 1.0000\n",
      "Test accuracy: 0.9277\n",
      "Test AUC: 0.9552\n",
      "\n",
      "Starting n_components: 317\n"
     ]
    },
    {
     "name": "stderr",
     "output_type": "stream",
     "text": [
      "100%|██████████| 10/10 [00:00<00:00, 14.82it/s]\n"
     ]
    },
    {
     "name": "stdout",
     "output_type": "stream",
     "text": [
      "Train accuracy: 1.0000\n",
      "Test accuracy: 0.9277\n",
      "Test AUC: 0.9314\n",
      "\n",
      "Starting n_components: 318\n"
     ]
    },
    {
     "name": "stderr",
     "output_type": "stream",
     "text": [
      "100%|██████████| 10/10 [00:00<00:00, 14.48it/s]\n"
     ]
    },
    {
     "name": "stdout",
     "output_type": "stream",
     "text": [
      "Train accuracy: 1.0000\n",
      "Test accuracy: 0.9398\n",
      "Test AUC: 0.9389\n",
      "\n",
      "Starting n_components: 319\n"
     ]
    },
    {
     "name": "stderr",
     "output_type": "stream",
     "text": [
      "100%|██████████| 10/10 [00:00<00:00, 14.78it/s]\n"
     ]
    },
    {
     "name": "stdout",
     "output_type": "stream",
     "text": [
      "Train accuracy: 1.0000\n",
      "Test accuracy: 0.9518\n",
      "Test AUC: 0.9464\n",
      "\n",
      "Starting n_components: 320\n"
     ]
    },
    {
     "name": "stderr",
     "output_type": "stream",
     "text": [
      "100%|██████████| 10/10 [00:00<00:00, 14.49it/s]\n"
     ]
    },
    {
     "name": "stdout",
     "output_type": "stream",
     "text": [
      "Train accuracy: 1.0000\n",
      "Test accuracy: 0.9518\n",
      "Test AUC: 0.9701\n",
      "\n",
      "Starting n_components: 321\n"
     ]
    },
    {
     "name": "stderr",
     "output_type": "stream",
     "text": [
      "100%|██████████| 10/10 [00:00<00:00, 12.85it/s]\n"
     ]
    },
    {
     "name": "stdout",
     "output_type": "stream",
     "text": [
      "Train accuracy: 1.0000\n",
      "Test accuracy: 0.9518\n",
      "Test AUC: 0.9701\n",
      "\n",
      "Starting n_components: 322\n"
     ]
    },
    {
     "name": "stderr",
     "output_type": "stream",
     "text": [
      "100%|██████████| 10/10 [00:00<00:00, 14.62it/s]\n"
     ]
    },
    {
     "name": "stdout",
     "output_type": "stream",
     "text": [
      "Train accuracy: 1.0000\n",
      "Test accuracy: 0.9398\n",
      "Test AUC: 0.9389\n",
      "\n",
      "Starting n_components: 323\n"
     ]
    },
    {
     "name": "stderr",
     "output_type": "stream",
     "text": [
      "100%|██████████| 10/10 [00:00<00:00, 13.47it/s]\n"
     ]
    },
    {
     "name": "stdout",
     "output_type": "stream",
     "text": [
      "Train accuracy: 1.0000\n",
      "Test accuracy: 0.9518\n",
      "Test AUC: 0.9464\n",
      "\n",
      "Starting n_components: 324\n"
     ]
    },
    {
     "name": "stderr",
     "output_type": "stream",
     "text": [
      "100%|██████████| 10/10 [00:00<00:00, 13.30it/s]\n"
     ]
    },
    {
     "name": "stdout",
     "output_type": "stream",
     "text": [
      "Train accuracy: 1.0000\n",
      "Test accuracy: 0.9518\n",
      "Test AUC: 0.9464\n",
      "\n",
      "Starting n_components: 325\n"
     ]
    },
    {
     "name": "stderr",
     "output_type": "stream",
     "text": [
      "100%|██████████| 10/10 [00:00<00:00, 15.39it/s]\n"
     ]
    },
    {
     "name": "stdout",
     "output_type": "stream",
     "text": [
      "Train accuracy: 1.0000\n",
      "Test accuracy: 0.9518\n",
      "Test AUC: 0.9701\n",
      "\n",
      "Starting n_components: 326\n"
     ]
    },
    {
     "name": "stderr",
     "output_type": "stream",
     "text": [
      "100%|██████████| 10/10 [00:00<00:00, 14.10it/s]\n"
     ]
    },
    {
     "name": "stdout",
     "output_type": "stream",
     "text": [
      "Train accuracy: 1.0000\n",
      "Test accuracy: 0.9518\n",
      "Test AUC: 0.9464\n",
      "\n",
      "Starting n_components: 327\n"
     ]
    },
    {
     "name": "stderr",
     "output_type": "stream",
     "text": [
      "100%|██████████| 10/10 [00:00<00:00, 14.96it/s]\n"
     ]
    },
    {
     "name": "stdout",
     "output_type": "stream",
     "text": [
      "Train accuracy: 1.0000\n",
      "Test accuracy: 0.9518\n",
      "Test AUC: 0.9701\n",
      "\n",
      "Starting n_components: 328\n"
     ]
    },
    {
     "name": "stderr",
     "output_type": "stream",
     "text": [
      "100%|██████████| 10/10 [00:00<00:00, 15.55it/s]"
     ]
    },
    {
     "name": "stdout",
     "output_type": "stream",
     "text": [
      "Train accuracy: 1.0000\n",
      "Test accuracy: 0.9639\n",
      "Test AUC: 0.9776\n",
      "\n"
     ]
    },
    {
     "name": "stderr",
     "output_type": "stream",
     "text": [
      "\n"
     ]
    }
   ],
   "source": [
    "from sklearn.metrics import roc_auc_score\n",
    "from sklearn.decomposition import PCA\n",
    "\n",
    "# model parameters\n",
    "input_size = 20530\n",
    "epochs = 10\n",
    "lr = 0.1\n",
    "batch_size = 16\n",
    "components = np.arange(250, X_train.shape[0])\n",
    "\n",
    "# lists to store results\n",
    "train_accuracy_list = []\n",
    "test_accuracy_list = []\n",
    "auc_score_list = []\n",
    "max_auc = -999\n",
    "optimal_model = None\n",
    "optimal_n_components = None\n",
    "optimal_x_train = None\n",
    "optimal_x_test = None\n",
    "optimal_predictions = None\n",
    "\n",
    "for n_components in components:\n",
    "\n",
    "    print(f'Starting n_components: {n_components}')\n",
    "\n",
    "    pca = PCA(n_components=n_components)\n",
    "    reduced_X_train = pca.fit_transform(X_train)\n",
    "    reduced_X_test = pca.transform(X_test)\n",
    "    reduced_X_train = torch.tensor(reduced_X_train, dtype=torch.float32)\n",
    "    reduced_X_test = torch.tensor(reduced_X_test, dtype=torch.float32)\n",
    "    \n",
    "    model = DLModel(input_size=n_components)\n",
    "    model.to(device)\n",
    "    model.fit(reduced_X_train, y_train, epochs, batch_size, lr)\n",
    "\n",
    "    # train accuracy\n",
    "    with torch.no_grad():\n",
    "        y_pred = model.predict(reduced_X_train)\n",
    "        y_pred = y_pred.round()\n",
    "        train_acc = y_pred.eq(y_train.view_as(y_pred)).sum() / float(len(y_train))\n",
    "        train_acc = train_acc.item()\n",
    "        print(f'Train accuracy: {train_acc:.4f}')\n",
    "\n",
    "    # test accuracy\n",
    "    with torch.no_grad():\n",
    "        y_pred = model.predict(reduced_X_test)\n",
    "        y_pred = y_pred.round()\n",
    "        test_acc = y_pred.eq(y_test.view_as(y_pred)).sum() / float(len(y_test))\n",
    "        test_acc = test_acc.item()\n",
    "        print(f'Test accuracy: {test_acc:.4f}')\n",
    "\n",
    "    # test auc\n",
    "    with torch.no_grad():\n",
    "        y_pred = model.predict(reduced_X_test)\n",
    "        y_pred = y_pred.round()\n",
    "        test_auc = roc_auc_score(y_test, y_pred)\n",
    "        print(f'Test AUC: {test_auc:.4f}')\n",
    "\n",
    "    train_accuracy_list.append(train_acc)\n",
    "    test_accuracy_list.append(test_acc)\n",
    "    auc_score_list.append(test_auc)\n",
    "\n",
    "    if test_auc > max_auc:\n",
    "        max_auc = test_auc\n",
    "        optimal_model = model\n",
    "        optimal_n_components = n_components\n",
    "        optimal_x_train = reduced_X_train\n",
    "        optimal_x_test = reduced_X_test\n",
    "        optimal_predictions = y_pred\n",
    "\n",
    "    df = pd.concat([df, pd.DataFrame([[n_components, train_acc, test_acc, test_auc]], columns=['n_components', 'train_accuracy', 'test_accuracy', 'auc_score'])])\n",
    "    print()"
   ]
  },
  {
   "cell_type": "code",
   "execution_count": 64,
   "metadata": {},
   "outputs": [
    {
     "data": {
      "text/html": [
       "<div>\n",
       "<style scoped>\n",
       "    .dataframe tbody tr th:only-of-type {\n",
       "        vertical-align: middle;\n",
       "    }\n",
       "\n",
       "    .dataframe tbody tr th {\n",
       "        vertical-align: top;\n",
       "    }\n",
       "\n",
       "    .dataframe thead th {\n",
       "        text-align: right;\n",
       "    }\n",
       "</style>\n",
       "<table border=\"1\" class=\"dataframe\">\n",
       "  <thead>\n",
       "    <tr style=\"text-align: right;\">\n",
       "      <th></th>\n",
       "      <th>n_components</th>\n",
       "      <th>train_accuracy</th>\n",
       "      <th>test_accuracy</th>\n",
       "      <th>auc_score</th>\n",
       "    </tr>\n",
       "  </thead>\n",
       "  <tbody>\n",
       "    <tr>\n",
       "      <th>0</th>\n",
       "      <td>300</td>\n",
       "      <td>1.0</td>\n",
       "      <td>0.963855</td>\n",
       "      <td>0.977612</td>\n",
       "    </tr>\n",
       "    <tr>\n",
       "      <th>0</th>\n",
       "      <td>252</td>\n",
       "      <td>1.0</td>\n",
       "      <td>0.963855</td>\n",
       "      <td>0.977612</td>\n",
       "    </tr>\n",
       "    <tr>\n",
       "      <th>0</th>\n",
       "      <td>259</td>\n",
       "      <td>1.0</td>\n",
       "      <td>0.963855</td>\n",
       "      <td>0.977612</td>\n",
       "    </tr>\n",
       "    <tr>\n",
       "      <th>0</th>\n",
       "      <td>311</td>\n",
       "      <td>1.0</td>\n",
       "      <td>0.963855</td>\n",
       "      <td>0.977612</td>\n",
       "    </tr>\n",
       "    <tr>\n",
       "      <th>0</th>\n",
       "      <td>328</td>\n",
       "      <td>1.0</td>\n",
       "      <td>0.963855</td>\n",
       "      <td>0.977612</td>\n",
       "    </tr>\n",
       "  </tbody>\n",
       "</table>\n",
       "</div>"
      ],
      "text/plain": [
       "  n_components  train_accuracy  test_accuracy  auc_score\n",
       "0          300             1.0       0.963855   0.977612\n",
       "0          252             1.0       0.963855   0.977612\n",
       "0          259             1.0       0.963855   0.977612\n",
       "0          311             1.0       0.963855   0.977612\n",
       "0          328             1.0       0.963855   0.977612"
      ]
     },
     "execution_count": 64,
     "metadata": {},
     "output_type": "execute_result"
    }
   ],
   "source": [
    "# extract the rows of best 5 auc\n",
    "best_5_auc = df.nlargest(5, 'auc_score')\n",
    "best_5_auc"
   ]
  },
  {
   "cell_type": "code",
   "execution_count": 66,
   "metadata": {},
   "outputs": [
    {
     "data": {
      "image/png": "[encoded data removed]",
      "text/plain": [
       "<Figure size 640x480 with 1 Axes>"
      ]
     },
     "metadata": {},
     "output_type": "display_data"
    }
   ],
   "source": [
    "# plot auc vs n_components\n",
    "import matplotlib.pyplot as plt\n",
    "\n",
    "plt.plot(components, auc_score_list)\n",
    "plt.xlabel('n_components')\n",
    "plt.ylabel('AUC')\n",
    "plt.title('AUC vs n_components')\n",
    "plt.show()"
   ]
  },
  {
   "cell_type": "code",
   "execution_count": 68,
   "metadata": {},
   "outputs": [
    {
     "data": {
      "image/png": "[encoded data removed]",
      "text/plain": [
       "<Figure size 800x600 with 1 Axes>"
      ]
     },
     "metadata": {},
     "output_type": "display_data"
    },
    {
     "data": {
      "text/html": [
       "<div>\n",
       "<style scoped>\n",
       "    .dataframe tbody tr th:only-of-type {\n",
       "        vertical-align: middle;\n",
       "    }\n",
       "\n",
       "    .dataframe tbody tr th {\n",
       "        vertical-align: top;\n",
       "    }\n",
       "\n",
       "    .dataframe thead th {\n",
       "        text-align: right;\n",
       "    }\n",
       "</style>\n",
       "<table border=\"1\" class=\"dataframe\">\n",
       "  <thead>\n",
       "    <tr style=\"text-align: right;\">\n",
       "      <th></th>\n",
       "      <th>precision</th>\n",
       "      <th>recall</th>\n",
       "      <th>f1-score</th>\n",
       "      <th>support</th>\n",
       "    </tr>\n",
       "  </thead>\n",
       "  <tbody>\n",
       "    <tr>\n",
       "      <th>0.0</th>\n",
       "      <td>0.842105</td>\n",
       "      <td>1.000000</td>\n",
       "      <td>0.914286</td>\n",
       "      <td>16.000000</td>\n",
       "    </tr>\n",
       "    <tr>\n",
       "      <th>1.0</th>\n",
       "      <td>1.000000</td>\n",
       "      <td>0.955224</td>\n",
       "      <td>0.977099</td>\n",
       "      <td>67.000000</td>\n",
       "    </tr>\n",
       "    <tr>\n",
       "      <th>accuracy</th>\n",
       "      <td>0.963855</td>\n",
       "      <td>0.963855</td>\n",
       "      <td>0.963855</td>\n",
       "      <td>0.963855</td>\n",
       "    </tr>\n",
       "    <tr>\n",
       "      <th>macro avg</th>\n",
       "      <td>0.921053</td>\n",
       "      <td>0.977612</td>\n",
       "      <td>0.945692</td>\n",
       "      <td>83.000000</td>\n",
       "    </tr>\n",
       "    <tr>\n",
       "      <th>weighted avg</th>\n",
       "      <td>0.969562</td>\n",
       "      <td>0.963855</td>\n",
       "      <td>0.964991</td>\n",
       "      <td>83.000000</td>\n",
       "    </tr>\n",
       "  </tbody>\n",
       "</table>\n",
       "</div>"
      ],
      "text/plain": [
       "              precision    recall  f1-score    support\n",
       "0.0            0.842105  1.000000  0.914286  16.000000\n",
       "1.0            1.000000  0.955224  0.977099  67.000000\n",
       "accuracy       0.963855  0.963855  0.963855   0.963855\n",
       "macro avg      0.921053  0.977612  0.945692  83.000000\n",
       "weighted avg   0.969562  0.963855  0.964991  83.000000"
      ]
     },
     "execution_count": 68,
     "metadata": {},
     "output_type": "execute_result"
    }
   ],
   "source": [
    "from sklearn.metrics import confusion_matrix, classification_report\n",
    "import seaborn as sns\n",
    "\n",
    "# plot confusion matrix\n",
    "cm = confusion_matrix(y_test, optimal_predictions)\n",
    "plt.figure(figsize=(8, 6))\n",
    "plt.title(\"Confusion Matrix\")\n",
    "sns.heatmap(cm, annot=True, cmap='Blues', fmt='g', cbar=False)\n",
    "plt.xlabel('Predicted Label')\n",
    "plt.ylabel('True Label')\n",
    "plt.show()\n",
    "\n",
    "# print classification report as a df\n",
    "cr = classification_report(y_test, optimal_predictions, output_dict=True)\n",
    "cr_df = pd.DataFrame(cr).transpose()\n",
    "cr_df"
   ]
  },
  {
   "cell_type": "code",
   "execution_count": null,
   "metadata": {},
   "outputs": [],
   "source": []
  }
 ],
 "metadata": {
  "kernelspec": {
   "display_name": "Python 3",
   "language": "python",
   "name": "python3"
  },
  "language_info": {
   "codemirror_mode": {
    "name": "ipython",
    "version": 3
   },
   "file_extension": ".py",
   "mimetype": "text/x-python",
   "name": "python",
   "nbconvert_exporter": "python",
   "pygments_lexer": "ipython3",
   "version": "3.11.6"
  },
  "orig_nbformat": 4
 },
 "nbformat": 4,
 "nbformat_minor": 2
}
