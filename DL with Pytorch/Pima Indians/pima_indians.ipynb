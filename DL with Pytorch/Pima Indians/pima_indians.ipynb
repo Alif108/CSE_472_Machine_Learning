{
 "cells": [
  {
   "cell_type": "code",
   "execution_count": 2,
   "metadata": {},
   "outputs": [],
   "source": [
    "import numpy as np\n",
    "import torch\n",
    "import torch.nn as nn\n",
    "import torch.optim as optim\n",
    "import pandas as pd"
   ]
  },
  {
   "cell_type": "code",
   "execution_count": 4,
   "metadata": {},
   "outputs": [
    {
     "data": {
      "text/html": [
       "<div>\n",
       "<style scoped>\n",
       "    .dataframe tbody tr th:only-of-type {\n",
       "        vertical-align: middle;\n",
       "    }\n",
       "\n",
       "    .dataframe tbody tr th {\n",
       "        vertical-align: top;\n",
       "    }\n",
       "\n",
       "    .dataframe thead th {\n",
       "        text-align: right;\n",
       "    }\n",
       "</style>\n",
       "<table border=\"1\" class=\"dataframe\">\n",
       "  <thead>\n",
       "    <tr style=\"text-align: right;\">\n",
       "      <th></th>\n",
       "      <th>6</th>\n",
       "      <th>148</th>\n",
       "      <th>72</th>\n",
       "      <th>35</th>\n",
       "      <th>0</th>\n",
       "      <th>33.6</th>\n",
       "      <th>0.627</th>\n",
       "      <th>50</th>\n",
       "      <th>1</th>\n",
       "    </tr>\n",
       "  </thead>\n",
       "  <tbody>\n",
       "    <tr>\n",
       "      <th>0</th>\n",
       "      <td>1</td>\n",
       "      <td>85</td>\n",
       "      <td>66</td>\n",
       "      <td>29</td>\n",
       "      <td>0</td>\n",
       "      <td>26.6</td>\n",
       "      <td>0.351</td>\n",
       "      <td>31</td>\n",
       "      <td>0</td>\n",
       "    </tr>\n",
       "    <tr>\n",
       "      <th>1</th>\n",
       "      <td>8</td>\n",
       "      <td>183</td>\n",
       "      <td>64</td>\n",
       "      <td>0</td>\n",
       "      <td>0</td>\n",
       "      <td>23.3</td>\n",
       "      <td>0.672</td>\n",
       "      <td>32</td>\n",
       "      <td>1</td>\n",
       "    </tr>\n",
       "    <tr>\n",
       "      <th>2</th>\n",
       "      <td>1</td>\n",
       "      <td>89</td>\n",
       "      <td>66</td>\n",
       "      <td>23</td>\n",
       "      <td>94</td>\n",
       "      <td>28.1</td>\n",
       "      <td>0.167</td>\n",
       "      <td>21</td>\n",
       "      <td>0</td>\n",
       "    </tr>\n",
       "    <tr>\n",
       "      <th>3</th>\n",
       "      <td>0</td>\n",
       "      <td>137</td>\n",
       "      <td>40</td>\n",
       "      <td>35</td>\n",
       "      <td>168</td>\n",
       "      <td>43.1</td>\n",
       "      <td>2.288</td>\n",
       "      <td>33</td>\n",
       "      <td>1</td>\n",
       "    </tr>\n",
       "    <tr>\n",
       "      <th>4</th>\n",
       "      <td>5</td>\n",
       "      <td>116</td>\n",
       "      <td>74</td>\n",
       "      <td>0</td>\n",
       "      <td>0</td>\n",
       "      <td>25.6</td>\n",
       "      <td>0.201</td>\n",
       "      <td>30</td>\n",
       "      <td>0</td>\n",
       "    </tr>\n",
       "  </tbody>\n",
       "</table>\n",
       "</div>"
      ],
      "text/plain": [
       "   6  148  72  35    0  33.6  0.627  50  1\n",
       "0  1   85  66  29    0  26.6  0.351  31  0\n",
       "1  8  183  64   0    0  23.3  0.672  32  1\n",
       "2  1   89  66  23   94  28.1  0.167  21  0\n",
       "3  0  137  40  35  168  43.1  2.288  33  1\n",
       "4  5  116  74   0    0  25.6  0.201  30  0"
      ]
     },
     "execution_count": 4,
     "metadata": {},
     "output_type": "execute_result"
    }
   ],
   "source": [
    "df = pd.read_csv('dataset/pima_indians_diabetes.csv')\n",
    "df.head()"
   ]
  },
  {
   "cell_type": "code",
   "execution_count": 5,
   "metadata": {},
   "outputs": [
    {
     "data": {
      "text/plain": [
       "767"
      ]
     },
     "execution_count": 5,
     "metadata": {},
     "output_type": "execute_result"
    }
   ],
   "source": [
    "len(df)"
   ]
  },
  {
   "cell_type": "code",
   "execution_count": 6,
   "metadata": {},
   "outputs": [
    {
     "data": {
      "text/plain": [
       "6        0\n",
       "148      0\n",
       "72       0\n",
       "35       0\n",
       "0        0\n",
       "33.6     0\n",
       "0.627    0\n",
       "50       0\n",
       "1        0\n",
       "dtype: int64"
      ]
     },
     "execution_count": 6,
     "metadata": {},
     "output_type": "execute_result"
    }
   ],
   "source": [
    "df.isnull().sum()"
   ]
  },
  {
   "cell_type": "code",
   "execution_count": 7,
   "metadata": {},
   "outputs": [
    {
     "data": {
      "text/html": [
       "<div>\n",
       "<style scoped>\n",
       "    .dataframe tbody tr th:only-of-type {\n",
       "        vertical-align: middle;\n",
       "    }\n",
       "\n",
       "    .dataframe tbody tr th {\n",
       "        vertical-align: top;\n",
       "    }\n",
       "\n",
       "    .dataframe thead th {\n",
       "        text-align: right;\n",
       "    }\n",
       "</style>\n",
       "<table border=\"1\" class=\"dataframe\">\n",
       "  <thead>\n",
       "    <tr style=\"text-align: right;\">\n",
       "      <th></th>\n",
       "      <th>pregnant</th>\n",
       "      <th>glucose</th>\n",
       "      <th>bp</th>\n",
       "      <th>skin</th>\n",
       "      <th>insulin</th>\n",
       "      <th>bmi</th>\n",
       "      <th>pedigree</th>\n",
       "      <th>age</th>\n",
       "      <th>label</th>\n",
       "    </tr>\n",
       "  </thead>\n",
       "  <tbody>\n",
       "    <tr>\n",
       "      <th>0</th>\n",
       "      <td>1</td>\n",
       "      <td>85</td>\n",
       "      <td>66</td>\n",
       "      <td>29</td>\n",
       "      <td>0</td>\n",
       "      <td>26.6</td>\n",
       "      <td>0.351</td>\n",
       "      <td>31</td>\n",
       "      <td>0</td>\n",
       "    </tr>\n",
       "    <tr>\n",
       "      <th>1</th>\n",
       "      <td>8</td>\n",
       "      <td>183</td>\n",
       "      <td>64</td>\n",
       "      <td>0</td>\n",
       "      <td>0</td>\n",
       "      <td>23.3</td>\n",
       "      <td>0.672</td>\n",
       "      <td>32</td>\n",
       "      <td>1</td>\n",
       "    </tr>\n",
       "    <tr>\n",
       "      <th>2</th>\n",
       "      <td>1</td>\n",
       "      <td>89</td>\n",
       "      <td>66</td>\n",
       "      <td>23</td>\n",
       "      <td>94</td>\n",
       "      <td>28.1</td>\n",
       "      <td>0.167</td>\n",
       "      <td>21</td>\n",
       "      <td>0</td>\n",
       "    </tr>\n",
       "    <tr>\n",
       "      <th>3</th>\n",
       "      <td>0</td>\n",
       "      <td>137</td>\n",
       "      <td>40</td>\n",
       "      <td>35</td>\n",
       "      <td>168</td>\n",
       "      <td>43.1</td>\n",
       "      <td>2.288</td>\n",
       "      <td>33</td>\n",
       "      <td>1</td>\n",
       "    </tr>\n",
       "    <tr>\n",
       "      <th>4</th>\n",
       "      <td>5</td>\n",
       "      <td>116</td>\n",
       "      <td>74</td>\n",
       "      <td>0</td>\n",
       "      <td>0</td>\n",
       "      <td>25.6</td>\n",
       "      <td>0.201</td>\n",
       "      <td>30</td>\n",
       "      <td>0</td>\n",
       "    </tr>\n",
       "  </tbody>\n",
       "</table>\n",
       "</div>"
      ],
      "text/plain": [
       "   pregnant  glucose  bp  skin  insulin   bmi  pedigree  age  label\n",
       "0         1       85  66    29        0  26.6     0.351   31      0\n",
       "1         8      183  64     0        0  23.3     0.672   32      1\n",
       "2         1       89  66    23       94  28.1     0.167   21      0\n",
       "3         0      137  40    35      168  43.1     2.288   33      1\n",
       "4         5      116  74     0        0  25.6     0.201   30      0"
      ]
     },
     "execution_count": 7,
     "metadata": {},
     "output_type": "execute_result"
    }
   ],
   "source": [
    "df.columns = ['pregnant', 'glucose', 'bp', 'skin', 'insulin', 'bmi', 'pedigree', 'age', 'label']\n",
    "df.head()"
   ]
  },
  {
   "cell_type": "code",
   "execution_count": 8,
   "metadata": {},
   "outputs": [
    {
     "data": {
      "text/plain": [
       "((767, 8), (767,))"
      ]
     },
     "execution_count": 8,
     "metadata": {},
     "output_type": "execute_result"
    }
   ],
   "source": [
    "X = df.iloc[:, :-1].values\n",
    "y = df.iloc[:, -1].values\n",
    "X.shape, y.shape"
   ]
  },
  {
   "cell_type": "code",
   "execution_count": 10,
   "metadata": {},
   "outputs": [
    {
     "data": {
      "text/plain": [
       "((613, 8), (154, 8), (613,), (154,))"
      ]
     },
     "execution_count": 10,
     "metadata": {},
     "output_type": "execute_result"
    }
   ],
   "source": [
    "# train test split\n",
    "from sklearn.model_selection import train_test_split\n",
    "\n",
    "X_train, X_test, y_train, y_test = train_test_split(X, y, test_size=0.2)\n",
    "X_train.shape, X_test.shape, y_train.shape, y_test.shape"
   ]
  },
  {
   "cell_type": "code",
   "execution_count": 11,
   "metadata": {},
   "outputs": [],
   "source": [
    "# scaling\n",
    "from sklearn.preprocessing import StandardScaler\n",
    "\n",
    "scaler = StandardScaler()\n",
    "X_train = scaler.fit_transform(X_train)\n",
    "X_test = scaler.transform(X_test)"
   ]
  },
  {
   "cell_type": "markdown",
   "metadata": {},
   "source": [
    "Data should be converted to PyTorch tensors first. One reason is that PyTorch usually operates in a 32-bit floating point while NumPy, by default, uses a 64-bit floating point. Mix-and-match is not allowed in most operations. Converting to PyTorch tensors can avoid the implicit conversion that may cause problems."
   ]
  },
  {
   "cell_type": "code",
   "execution_count": 12,
   "metadata": {},
   "outputs": [
    {
     "data": {
      "text/plain": [
       "(torch.Size([613, 8]),\n",
       " torch.Size([154, 8]),\n",
       " torch.Size([613]),\n",
       " torch.Size([154]))"
      ]
     },
     "execution_count": 12,
     "metadata": {},
     "output_type": "execute_result"
    }
   ],
   "source": [
    "X_train = torch.tensor(X_train, dtype=torch.float32)\n",
    "X_test = torch.tensor(X_test, dtype=torch.float32)\n",
    "y_train = torch.tensor(y_train, dtype=torch.float32)\n",
    "y_test = torch.tensor(y_test, dtype=torch.float32)\n",
    "\n",
    "X_train.shape, X_test.shape, y_train.shape, y_test.shape"
   ]
  },
  {
   "cell_type": "code",
   "execution_count": 14,
   "metadata": {},
   "outputs": [
    {
     "data": {
      "text/plain": [
       "device(type='cpu')"
      ]
     },
     "execution_count": 14,
     "metadata": {},
     "output_type": "execute_result"
    }
   ],
   "source": [
    "device = torch.device('cuda:0' if torch.cuda.is_available() else 'cpu')\n",
    "device"
   ]
  },
  {
   "cell_type": "code",
   "execution_count": 26,
   "metadata": {},
   "outputs": [],
   "source": [
    "class PrimaClassifier(nn.Module):\n",
    "    def __init__(self, input_size, hidden_size, output_size):\n",
    "        super(PrimaClassifier, self).__init__()\n",
    "        self.layers = nn.Sequential(\n",
    "            nn.Linear(input_size, hidden_size),\n",
    "            nn.ReLU(),\n",
    "            nn.Linear(hidden_size, hidden_size),\n",
    "            nn.ReLU(),\n",
    "            nn.Linear(hidden_size, output_size),\n",
    "            nn.Sigmoid()\n",
    "        )\n",
    "        \n",
    "    def forward(self, x):\n",
    "        return self.layers(x)"
   ]
  },
  {
   "cell_type": "code",
   "execution_count": 44,
   "metadata": {},
   "outputs": [],
   "source": [
    "# model parameters\n",
    "input_size = 8\n",
    "hidden_size = 16\n",
    "output_size = 1\n",
    "learning_rate = 0.01\n",
    "epochs = 100\n",
    "batch_size = 16"
   ]
  },
  {
   "cell_type": "code",
   "execution_count": 45,
   "metadata": {},
   "outputs": [
    {
     "data": {
      "text/plain": [
       "PrimaClassifier(\n",
       "  (layers): Sequential(\n",
       "    (0): Linear(in_features=8, out_features=16, bias=True)\n",
       "    (1): ReLU()\n",
       "    (2): Linear(in_features=16, out_features=16, bias=True)\n",
       "    (3): ReLU()\n",
       "    (4): Linear(in_features=16, out_features=1, bias=True)\n",
       "    (5): Sigmoid()\n",
       "  )\n",
       ")"
      ]
     },
     "execution_count": 45,
     "metadata": {},
     "output_type": "execute_result"
    }
   ],
   "source": [
    "# initialize model\n",
    "model = PrimaClassifier(input_size, hidden_size, output_size).to(device)\n",
    "model"
   ]
  },
  {
   "cell_type": "code",
   "execution_count": 46,
   "metadata": {},
   "outputs": [],
   "source": [
    "# loss function and optimizer\n",
    "loss_fn = nn.BCELoss()\n",
    "optimizer = optim.Adam(model.parameters(), lr=learning_rate)"
   ]
  },
  {
   "cell_type": "code",
   "execution_count": 47,
   "metadata": {},
   "outputs": [
    {
     "name": "stdout",
     "output_type": "stream",
     "text": [
      "Epoch: 1, Loss: 0.3377\n",
      "Epoch: 11, Loss: 0.2569\n",
      "Epoch: 21, Loss: 0.2559\n",
      "Epoch: 31, Loss: 0.2376\n",
      "Epoch: 41, Loss: 0.2065\n",
      "Epoch: 51, Loss: 0.1894\n",
      "Epoch: 61, Loss: 0.1800\n",
      "Epoch: 71, Loss: 0.1792\n",
      "Epoch: 81, Loss: 0.1429\n",
      "Epoch: 91, Loss: 0.1424\n"
     ]
    }
   ],
   "source": [
    "# train\n",
    "for epoch in range(epochs):\n",
    "    for i in range(0, len(X_train), batch_size):\n",
    "        X_batch = X_train[i:i+batch_size].to(device)\n",
    "        y_batch = y_train[i:i+batch_size].to(device)\n",
    "        \n",
    "        y_pred = model(X_batch)\n",
    "        loss = loss_fn(y_pred, y_batch.view(-1, 1))\n",
    "        \n",
    "        # backpropagation\n",
    "        # optimizer.zero_grad() : it is important to set the gradients to zero before starting to do backpropragation because PyTorch accumulates the gradients on subsequent backward passes.\n",
    "        # loss.backward() : computes dloss/dx for every parameter x which has requires_grad=True. These are accumulated into x.grad for every parameter x.\n",
    "        # optimizer.step() : causes the optimizer to take a step based on the gradients of the parameters.\n",
    "        optimizer.zero_grad()\n",
    "        loss.backward()\n",
    "        optimizer.step()\n",
    "        \n",
    "    if epoch % 10 == 0:\n",
    "        print(f'Epoch: {epoch+1}, Loss: {loss.item():.4f}')"
   ]
  },
  {
   "cell_type": "code",
   "execution_count": 48,
   "metadata": {},
   "outputs": [
    {
     "name": "stdout",
     "output_type": "stream",
     "text": [
      "Train accuracy: 0.9233\n"
     ]
    }
   ],
   "source": [
    "# train accuracy\n",
    "with torch.no_grad():\n",
    "    y_pred = model(X_train)\n",
    "    y_pred = y_pred.round()\n",
    "    acc = y_pred.eq(y_train.view_as(y_pred)).sum() / float(len(y_train))\n",
    "    print(f'Train accuracy: {acc:.4f}')"
   ]
  },
  {
   "cell_type": "code",
   "execution_count": 49,
   "metadata": {},
   "outputs": [
    {
     "name": "stdout",
     "output_type": "stream",
     "text": [
      "Test accuracy: 0.7143\n"
     ]
    }
   ],
   "source": [
    "# test accuracy\n",
    "with torch.no_grad():\n",
    "    y_pred = model(X_test)\n",
    "    y_pred = y_pred.round()\n",
    "    acc = y_pred.eq(y_test.view_as(y_pred)).sum() / float(len(y_test))\n",
    "    print(f'Test accuracy: {acc:.4f}')"
   ]
  },
  {
   "cell_type": "code",
   "execution_count": 50,
   "metadata": {},
   "outputs": [
    {
     "name": "stdout",
     "output_type": "stream",
     "text": [
      "Data: 1 -> Predicted: 0, Truth: 1\n",
      "Data: 2 -> Predicted: 0, Truth: 1\n",
      "Data: 3 -> Predicted: 1, Truth: 0\n",
      "Data: 4 -> Predicted: 1, Truth: 1\n",
      "Data: 5 -> Predicted: 0, Truth: 0\n",
      "Data: 6 -> Predicted: 1, Truth: 0\n",
      "Data: 7 -> Predicted: 1, Truth: 0\n",
      "Data: 8 -> Predicted: 0, Truth: 1\n",
      "Data: 9 -> Predicted: 0, Truth: 0\n",
      "Data: 10 -> Predicted: 0, Truth: 0\n",
      "Data: 11 -> Predicted: 0, Truth: 0\n",
      "Data: 12 -> Predicted: 0, Truth: 1\n",
      "Data: 13 -> Predicted: 0, Truth: 1\n",
      "Data: 14 -> Predicted: 0, Truth: 0\n",
      "Data: 15 -> Predicted: 0, Truth: 0\n",
      "Data: 16 -> Predicted: 0, Truth: 0\n",
      "Data: 17 -> Predicted: 1, Truth: 0\n",
      "Data: 18 -> Predicted: 1, Truth: 0\n",
      "Data: 19 -> Predicted: 0, Truth: 0\n",
      "Data: 20 -> Predicted: 0, Truth: 0\n",
      "Data: 21 -> Predicted: 1, Truth: 1\n",
      "Data: 22 -> Predicted: 1, Truth: 0\n",
      "Data: 23 -> Predicted: 1, Truth: 0\n",
      "Data: 24 -> Predicted: 0, Truth: 0\n",
      "Data: 25 -> Predicted: 0, Truth: 0\n",
      "Data: 26 -> Predicted: 0, Truth: 1\n",
      "Data: 27 -> Predicted: 1, Truth: 0\n",
      "Data: 28 -> Predicted: 0, Truth: 0\n",
      "Data: 29 -> Predicted: 0, Truth: 0\n",
      "Data: 30 -> Predicted: 0, Truth: 1\n",
      "Data: 31 -> Predicted: 0, Truth: 0\n",
      "Data: 32 -> Predicted: 0, Truth: 0\n",
      "Data: 33 -> Predicted: 0, Truth: 0\n",
      "Data: 34 -> Predicted: 0, Truth: 0\n",
      "Data: 35 -> Predicted: 0, Truth: 1\n",
      "Data: 36 -> Predicted: 1, Truth: 1\n",
      "Data: 37 -> Predicted: 1, Truth: 0\n",
      "Data: 38 -> Predicted: 1, Truth: 0\n",
      "Data: 39 -> Predicted: 0, Truth: 0\n",
      "Data: 40 -> Predicted: 0, Truth: 0\n",
      "Data: 41 -> Predicted: 1, Truth: 1\n",
      "Data: 42 -> Predicted: 0, Truth: 0\n",
      "Data: 43 -> Predicted: 0, Truth: 0\n",
      "Data: 44 -> Predicted: 1, Truth: 0\n",
      "Data: 45 -> Predicted: 0, Truth: 0\n",
      "Data: 46 -> Predicted: 1, Truth: 0\n",
      "Data: 47 -> Predicted: 0, Truth: 1\n",
      "Data: 48 -> Predicted: 0, Truth: 0\n",
      "Data: 49 -> Predicted: 0, Truth: 0\n",
      "Data: 50 -> Predicted: 1, Truth: 0\n",
      "Data: 51 -> Predicted: 0, Truth: 0\n",
      "Data: 52 -> Predicted: 0, Truth: 1\n",
      "Data: 53 -> Predicted: 0, Truth: 0\n",
      "Data: 54 -> Predicted: 0, Truth: 0\n",
      "Data: 55 -> Predicted: 0, Truth: 0\n",
      "Data: 56 -> Predicted: 0, Truth: 0\n",
      "Data: 57 -> Predicted: 0, Truth: 0\n",
      "Data: 58 -> Predicted: 1, Truth: 1\n",
      "Data: 59 -> Predicted: 1, Truth: 1\n",
      "Data: 60 -> Predicted: 0, Truth: 0\n",
      "Data: 61 -> Predicted: 0, Truth: 0\n",
      "Data: 62 -> Predicted: 0, Truth: 0\n",
      "Data: 63 -> Predicted: 0, Truth: 0\n",
      "Data: 64 -> Predicted: 0, Truth: 1\n",
      "Data: 65 -> Predicted: 1, Truth: 0\n",
      "Data: 66 -> Predicted: 1, Truth: 1\n",
      "Data: 67 -> Predicted: 0, Truth: 0\n",
      "Data: 68 -> Predicted: 1, Truth: 1\n",
      "Data: 69 -> Predicted: 0, Truth: 0\n",
      "Data: 70 -> Predicted: 1, Truth: 0\n",
      "Data: 71 -> Predicted: 0, Truth: 0\n",
      "Data: 72 -> Predicted: 0, Truth: 1\n",
      "Data: 73 -> Predicted: 0, Truth: 1\n",
      "Data: 74 -> Predicted: 0, Truth: 0\n",
      "Data: 75 -> Predicted: 0, Truth: 0\n",
      "Data: 76 -> Predicted: 0, Truth: 0\n",
      "Data: 77 -> Predicted: 0, Truth: 0\n",
      "Data: 78 -> Predicted: 1, Truth: 1\n",
      "Data: 79 -> Predicted: 0, Truth: 1\n",
      "Data: 80 -> Predicted: 0, Truth: 0\n",
      "Data: 81 -> Predicted: 0, Truth: 0\n",
      "Data: 82 -> Predicted: 0, Truth: 0\n",
      "Data: 83 -> Predicted: 1, Truth: 1\n",
      "Data: 84 -> Predicted: 0, Truth: 0\n",
      "Data: 85 -> Predicted: 1, Truth: 1\n",
      "Data: 86 -> Predicted: 0, Truth: 0\n",
      "Data: 87 -> Predicted: 0, Truth: 0\n",
      "Data: 88 -> Predicted: 0, Truth: 0\n",
      "Data: 89 -> Predicted: 0, Truth: 1\n",
      "Data: 90 -> Predicted: 0, Truth: 0\n",
      "Data: 91 -> Predicted: 0, Truth: 0\n",
      "Data: 92 -> Predicted: 0, Truth: 0\n",
      "Data: 93 -> Predicted: 1, Truth: 0\n",
      "Data: 94 -> Predicted: 0, Truth: 0\n",
      "Data: 95 -> Predicted: 1, Truth: 0\n",
      "Data: 96 -> Predicted: 0, Truth: 1\n",
      "Data: 97 -> Predicted: 1, Truth: 1\n",
      "Data: 98 -> Predicted: 0, Truth: 0\n",
      "Data: 99 -> Predicted: 0, Truth: 0\n",
      "Data: 100 -> Predicted: 0, Truth: 0\n",
      "Data: 101 -> Predicted: 1, Truth: 1\n",
      "Data: 102 -> Predicted: 0, Truth: 0\n",
      "Data: 103 -> Predicted: 0, Truth: 0\n",
      "Data: 104 -> Predicted: 0, Truth: 1\n",
      "Data: 105 -> Predicted: 1, Truth: 1\n",
      "Data: 106 -> Predicted: 0, Truth: 0\n",
      "Data: 107 -> Predicted: 0, Truth: 0\n",
      "Data: 108 -> Predicted: 0, Truth: 0\n",
      "Data: 109 -> Predicted: 0, Truth: 0\n",
      "Data: 110 -> Predicted: 0, Truth: 0\n",
      "Data: 111 -> Predicted: 0, Truth: 1\n",
      "Data: 112 -> Predicted: 1, Truth: 1\n",
      "Data: 113 -> Predicted: 1, Truth: 1\n",
      "Data: 114 -> Predicted: 0, Truth: 1\n",
      "Data: 115 -> Predicted: 0, Truth: 0\n",
      "Data: 116 -> Predicted: 1, Truth: 1\n",
      "Data: 117 -> Predicted: 0, Truth: 0\n",
      "Data: 118 -> Predicted: 0, Truth: 1\n",
      "Data: 119 -> Predicted: 1, Truth: 0\n",
      "Data: 120 -> Predicted: 1, Truth: 0\n",
      "Data: 121 -> Predicted: 1, Truth: 1\n",
      "Data: 122 -> Predicted: 0, Truth: 0\n",
      "Data: 123 -> Predicted: 1, Truth: 1\n",
      "Data: 124 -> Predicted: 0, Truth: 0\n",
      "Data: 125 -> Predicted: 0, Truth: 0\n",
      "Data: 126 -> Predicted: 0, Truth: 0\n",
      "Data: 127 -> Predicted: 0, Truth: 0\n",
      "Data: 128 -> Predicted: 0, Truth: 0\n",
      "Data: 129 -> Predicted: 0, Truth: 0\n",
      "Data: 130 -> Predicted: 0, Truth: 0\n",
      "Data: 131 -> Predicted: 1, Truth: 1\n",
      "Data: 132 -> Predicted: 1, Truth: 0\n",
      "Data: 133 -> Predicted: 0, Truth: 1\n",
      "Data: 134 -> Predicted: 0, Truth: 0\n",
      "Data: 135 -> Predicted: 0, Truth: 0\n",
      "Data: 136 -> Predicted: 1, Truth: 0\n",
      "Data: 137 -> Predicted: 0, Truth: 1\n",
      "Data: 138 -> Predicted: 0, Truth: 0\n",
      "Data: 139 -> Predicted: 0, Truth: 0\n",
      "Data: 140 -> Predicted: 1, Truth: 1\n",
      "Data: 141 -> Predicted: 0, Truth: 0\n",
      "Data: 142 -> Predicted: 0, Truth: 0\n",
      "Data: 143 -> Predicted: 0, Truth: 0\n",
      "Data: 144 -> Predicted: 0, Truth: 0\n",
      "Data: 145 -> Predicted: 0, Truth: 0\n",
      "Data: 146 -> Predicted: 0, Truth: 0\n",
      "Data: 147 -> Predicted: 0, Truth: 0\n",
      "Data: 148 -> Predicted: 1, Truth: 1\n",
      "Data: 149 -> Predicted: 1, Truth: 1\n",
      "Data: 150 -> Predicted: 0, Truth: 0\n",
      "Data: 151 -> Predicted: 1, Truth: 1\n",
      "Data: 152 -> Predicted: 1, Truth: 0\n",
      "Data: 153 -> Predicted: 0, Truth: 0\n",
      "Data: 154 -> Predicted: 0, Truth: 0\n"
     ]
    }
   ],
   "source": [
    "# make predictions on the test set\n",
    "with torch.no_grad():\n",
    "    y_pred = model(X_test)\n",
    "    y_pred = y_pred.round()\n",
    "\n",
    "    for i in range(len(y_test)):\n",
    "        print(f'Data: {i+1} -> Predicted: {int(y_pred[i])}, Truth: {int(y_test[i])}')"
   ]
  }
 ],
 "metadata": {
  "kernelspec": {
   "display_name": "Python 3",
   "language": "python",
   "name": "python3"
  },
  "language_info": {
   "codemirror_mode": {
    "name": "ipython",
    "version": 3
   },
   "file_extension": ".py",
   "mimetype": "text/x-python",
   "name": "python",
   "nbconvert_exporter": "python",
   "pygments_lexer": "ipython3",
   "version": "3.7.4"
  }
 },
 "nbformat": 4,
 "nbformat_minor": 2
}
