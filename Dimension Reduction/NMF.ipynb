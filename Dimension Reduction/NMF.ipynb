{
 "cells": [
  {
   "cell_type": "code",
   "execution_count": 1,
   "metadata": {},
   "outputs": [],
   "source": [
    "import pandas as pd\n",
    "import numpy as np\n",
    "import matplotlib.pyplot as plt"
   ]
  },
  {
   "cell_type": "markdown",
   "metadata": {},
   "source": [
    "# NMF (Non Negative Matrix Factorization)\n",
    "\n",
    "NMF is a matrix factorization method that decomposes a matrix $X$ into two matrices $W$ and $H$ such that $X \\approx WH$.\n",
    "\n",
    "The objective function is defined as follows:\n",
    "\n",
    "$$\n",
    "\\begin{align}\n",
    "\\min_{W, H} \\frac{1}{2} || X - WH ||_F^2\n",
    "\\end{align}\n",
    "$$\n",
    "\n",
    "where $|| \\cdot ||_F$ is the Frobenius norm.\n",
    "\n",
    "The update rules are as follows:\n",
    "\n",
    "$$\n",
    "\\begin{align}\n",
    "H &\\leftarrow H \\odot \\frac{W^T X}{W^T W H} \\\\\n",
    "W &\\leftarrow W \\odot \\frac{X H^T}{W H H^T}\n",
    "\\end{align}\n",
    "$$\n",
    "\n",
    "where $\\odot$ is the element-wise multiplication.\n",
    "\n",
    "The algorithm is as follows:\n",
    "\n",
    "1. Initialize $W$ and $H$ randomly.\n",
    "2. Update $W$ and $H$ alternatively until convergence.\n",
    "\n",
    "The following is an implementation of NMF."
   ]
  },
  {
   "cell_type": "code",
   "execution_count": 6,
   "metadata": {},
   "outputs": [
    {
     "name": "stdout",
     "output_type": "stream",
     "text": [
      "[[4.90313365e-03 3.53521124e-01 5.20894562e-01 9.10457235e-02\n",
      "  2.33128951e-01]\n",
      " [6.70467164e-01 4.66837055e-01 4.19501399e-01 4.44875229e-01\n",
      "  7.16902043e-04]\n",
      " [1.24721698e+00 6.69361363e-02 7.74130762e-01 6.56852181e-01\n",
      "  5.44059957e-01]\n",
      " [2.53889244e+00 7.47458694e-02 8.32263537e-02 1.09379294e+00\n",
      "  5.64960272e-01]\n",
      " [2.57541083e+00 0.00000000e+00 5.98491582e-01 1.67737164e+00\n",
      "  0.00000000e+00]\n",
      " [3.26505767e+00 8.36185122e-03 1.16206174e+00 7.47212031e-01\n",
      "  7.05874717e-03]]\n",
      "[[1.23989819 0.05877358]\n",
      " [0.7656124  1.37500708]\n",
      " [1.2735181  0.5598317 ]\n",
      " [0.62271312 0.18701769]\n",
      " [0.0136448  0.87940005]]\n"
     ]
    }
   ],
   "source": [
    "from sklearn.decomposition import NMF\n",
    "\n",
    "X = np.array([[1, 1], [2, 1], [3, 1.2], [4, 1], [5, 0.8], [6, 1]])  # 6x2\n",
    "\n",
    "# parameters\n",
    "# n_components : W will be (6xn_components), H will be (n_components, 2)\n",
    "# init : random or nndsvd\n",
    "# random_state : seed\n",
    "model = NMF(n_components=5, init='random', random_state=0)\n",
    "W = model.fit_transform(X)\n",
    "H = model.components_\n",
    "\n",
    "print(W)\n",
    "print(H)"
   ]
  },
  {
   "cell_type": "code",
   "execution_count": 7,
   "metadata": {},
   "outputs": [
    {
     "name": "stdout",
     "output_type": "stream",
     "text": [
      "[[0.99998456 1.00003629]\n",
      " [2.00000931 0.99999018]\n",
      " [2.99999281 1.20001335]\n",
      " [4.00001275 0.99997337]\n",
      " [4.99995842 0.80011885]\n",
      " [6.00004274 0.99990507]]\n"
     ]
    }
   ],
   "source": [
    "print(np.dot(W, H))"
   ]
  },
  {
   "cell_type": "code",
   "execution_count": null,
   "metadata": {},
   "outputs": [],
   "source": []
  }
 ],
 "metadata": {
  "kernelspec": {
   "display_name": "Python 3",
   "language": "python",
   "name": "python3"
  },
  "language_info": {
   "codemirror_mode": {
    "name": "ipython",
    "version": 3
   },
   "file_extension": ".py",
   "mimetype": "text/x-python",
   "name": "python",
   "nbconvert_exporter": "python",
   "pygments_lexer": "ipython3",
   "version": "3.7.4"
  }
 },
 "nbformat": 4,
 "nbformat_minor": 2
}
